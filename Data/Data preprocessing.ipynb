{
 "cells": [
  {
   "cell_type": "markdown",
   "metadata": {},
   "source": [
    "Dataset Visulization"
   ]
  },
  {
   "cell_type": "code",
   "execution_count": null,
   "metadata": {},
   "outputs": [],
   "source": [
    "# 저장된 디렉토리 설정 (새로 분석 안 할시에 밑에 코드 클릭하지 말고 base_dir에 기존 폴더 넣기)\n",
    "current_time = \"20250209_043454\"\n",
    "base_dir = \"results_20250209_154244\"\n"
   ]
  },
  {
   "cell_type": "markdown",
   "metadata": {},
   "source": [
    "1. 범주형, 수치형 변수 데이터 분석"
   ]
  },
  {
   "cell_type": "code",
   "execution_count": 1,
   "metadata": {},
   "outputs": [
    {
     "name": "stdout",
     "output_type": "stream",
     "text": [
      "✅ 범주형 변수 개수: 48\n",
      "✅ 수치형 변수 개수: 20\n"
     ]
    },
    {
     "name": "stderr",
     "output_type": "stream",
     "text": [
      "c:\\Users\\PC\\anaconda3\\envs\\LGAimers6\\Lib\\site-packages\\seaborn\\utils.py:61: UserWarning: Glyph 8722 (\\N{MINUS SIGN}) missing from font(s) NanumGothic.\n",
      "  fig.canvas.draw()\n",
      "C:\\Users\\PC\\AppData\\Local\\Temp\\ipykernel_19364\\3288157541.py:38: UserWarning: Glyph 8722 (\\N{MINUS SIGN}) missing from font(s) NanumGothic.\n",
      "  plt.savefig(heatmap_path)\n"
     ]
    },
    {
     "name": "stdout",
     "output_type": "stream",
     "text": [
      "✅ 히트맵 저장 완료: results_20250209_185118\\heatmap.png\n",
      "\n",
      "✅ 결측치 정보:\n",
      "                       컬럼  결측치 개수  결측 비율 (%)\n",
      "3   임신 시도 또는 마지막 임신 경과 연수  246981  96.344855\n",
      "5                특정 시술 유형       2   0.000780\n",
      "8             단일 배아 이식 여부    6291   2.454057\n",
      "9        착상 전 유전 검사 사용 여부  253633  98.939735\n",
      "10       착상 전 유전 진단 사용 여부    6291   2.454057\n",
      "28            배아 생성 주요 이유    6291   2.454057\n",
      "39              총 생성 배아 수    6291   2.454057\n",
      "40             미세주입된 난자 수    6291   2.454057\n",
      "41        미세주입에서 생성된 배아 수    6291   2.454057\n",
      "42               이식된 배아 수    6291   2.454057\n",
      "43           미세주입 배아 이식 수    6291   2.454057\n",
      "44               저장된 배아 수    6291   2.454057\n",
      "45        미세주입 후 저장된 배아 수    6291   2.454057\n",
      "46               해동된 배아 수    6291   2.454057\n",
      "47                해동 난자 수    6291   2.454057\n",
      "48            수집된 신선 난자 수    6291   2.454057\n",
      "49            저장된 신선 난자 수    6291   2.454057\n",
      "50               혼합된 난자 수    6291   2.454057\n",
      "51       파트너 정자와 혼합된 난자 수    6291   2.454057\n",
      "52       기증자 정자와 혼합된 난자 수    6291   2.454057\n",
      "57            동결 배아 사용 여부    6291   2.454057\n",
      "58            신선 배아 사용 여부    6291   2.454057\n",
      "59            기증 배아 사용 여부    6291   2.454057\n",
      "60                 대리모 여부    6291   2.454057\n",
      "61              PGD 시술 여부  254172  99.149994\n",
      "62              PGS 시술 여부  254422  99.247516\n",
      "63              난자 채취 경과일   57488  22.425503\n",
      "64              난자 해동 경과일  254915  99.439831\n",
      "65              난자 혼합 경과일   53735  20.961494\n",
      "66              배아 이식 경과일   43566  16.994667\n",
      "67              배아 해동 경과일  215982  84.252451\n"
     ]
    },
    {
     "name": "stderr",
     "output_type": "stream",
     "text": [
      "C:\\Users\\PC\\AppData\\Local\\Temp\\ipykernel_19364\\3288157541.py:98: UserWarning: Glyph 8722 (\\N{MINUS SIGN}) missing from font(s) NanumGothic.\n",
      "  plt.savefig(plot_path)\n"
     ]
    },
    {
     "name": "stdout",
     "output_type": "stream",
     "text": [
      "✅ 분석 결과가 저장되었습니다: results_20250209_185118\n",
      "✅ Boxplot 저장 폴더: results_20250209_185118\\boxplots\n",
      "✅ 범주형 변수 그래프 저장 폴더: results_20250209_185118\\category_plots\n"
     ]
    }
   ],
   "source": [
    "import pandas as pd\n",
    "import matplotlib.pyplot as plt\n",
    "import seaborn as sns\n",
    "import os\n",
    "from datetime import datetime\n",
    "import numpy as np\n",
    "\n",
    "plt.rcParams['font.family'] = 'NanumGothic'\n",
    "\n",
    "# 데이터 로드conda env export > myconda.yaml\n",
    "file_path = 'train.csv'\n",
    "spec_file_path = '데이터 명세_수정.xlsx'\n",
    "\n",
    "df = pd.read_csv(file_path)\n",
    "spec_df = pd.read_excel(spec_file_path)\n",
    "\n",
    "# 범주형 & 수치형 변수 리스트 추출\n",
    "categorical_columns = spec_df[spec_df[\"범주형 여부\"] == 1][\"컬럼명\"].tolist()\n",
    "numerical_columns = spec_df[spec_df[\"범주형 여부\"] == 0][\"컬럼명\"].tolist()\n",
    "\n",
    "print(f\"✅ 범주형 변수 개수: {len(categorical_columns)}\")\n",
    "print(f\"✅ 수치형 변수 개수: {len(numerical_columns)}\")\n",
    "\n",
    "# 저장할 폴더 생성\n",
    "current_time = datetime.now().strftime(\"%Y%m%d_%H%M%S\")\n",
    "base_dir = f\"results_{current_time}\"\n",
    "boxplot_dir = os.path.join(base_dir, \"boxplots\")  # Boxplot 저장 폴더\n",
    "category_plot_dir = os.path.join(base_dir, \"category_plots\")  # 범주형 변수 그래프 저장 폴더\n",
    "os.makedirs(boxplot_dir, exist_ok=True)\n",
    "os.makedirs(category_plot_dir, exist_ok=True)\n",
    "\n",
    "# 🔹 히트맵 (Heatmap) 추가 🔹\n",
    "plt.figure(figsize=(12, 8))\n",
    "correlation_matrix = df[numerical_columns].corr()  # 수치형 변수 간 상관관계 계산\n",
    "sns.heatmap(correlation_matrix, annot=True, fmt=\".2f\", cmap=\"coolwarm\", linewidths=0.5)\n",
    "plt.title(\"Feature Correlation Heatmap\")\n",
    "heatmap_path = os.path.join(base_dir, \"heatmap.png\")\n",
    "plt.savefig(heatmap_path)\n",
    "plt.close()\n",
    "\n",
    "print(f\"✅ 히트맵 저장 완료: {heatmap_path}\")\n",
    "# 🔹 결측치 탐색 🔹\n",
    "missing_values = df.isnull().sum().reset_index()\n",
    "missing_values.columns = [\"컬럼\", \"결측치 개수\"]\n",
    "missing_values[\"결측 비율 (%)\"] = (missing_values[\"결측치 개수\"] / len(df)) * 100\n",
    "missing_values = missing_values[missing_values[\"결측치 개수\"] > 0]  # 결측치가 있는 변수만 저장\n",
    "\n",
    "if not missing_values.empty:\n",
    "    print(\"\\n✅ 결측치 정보:\")\n",
    "    print(missing_values)\n",
    "\n",
    "# 🔹 범주형 변수 분석 🔹\n",
    "categorical_data = {}\n",
    "\n",
    "for col in categorical_columns:\n",
    "    cat_counts = df[col].value_counts(dropna=True).reset_index()\n",
    "    cat_counts.columns = [col, \"Count\"]\n",
    "    categorical_data[col] = cat_counts\n",
    "\n",
    "    # 시각화 (barplot)\n",
    "    plt.figure(figsize=(8, 4))\n",
    "    sns.countplot(x=df[col], hue=df['임신 성공 여부'], hue_order=df['임신 성공 여부'].unique(), dodge=True)\n",
    "    plt.title(f\"{col} 분포 및 임신 성공 여부\")\n",
    "    plt.xlabel(col)\n",
    "    plt.ylabel(\"Count\")\n",
    "    plt.xticks(rotation=45)\n",
    "\n",
    "    # 그래프 저장 (category_plots 폴더)\n",
    "    plot_path = os.path.join(category_plot_dir, f\"{col}_category_analysis.png\")\n",
    "    plt.savefig(plot_path)\n",
    "    plt.close()  # 메모리 절약\n",
    "\n",
    "# 🔹 수치형 변수 분석 (이상치 포함) 🔹\n",
    "num_analysis = df[numerical_columns].describe()\n",
    "\n",
    "# 이상치 탐색 (IQR 방법)\n",
    "outlier_counts = {}\n",
    "\n",
    "for col in numerical_columns:\n",
    "    Q1 = df[col].quantile(0.25)\n",
    "    Q3 = df[col].quantile(0.75)\n",
    "    IQR = Q3 - Q1\n",
    "    lower_bound = Q1 - 1.5 * IQR\n",
    "    upper_bound = Q3 + 1.5 * IQR\n",
    "\n",
    "    # 이상치 개수 계산\n",
    "    outliers = df[(df[col] < lower_bound) | (df[col] > upper_bound)]\n",
    "    outlier_counts[col] = len(outliers)\n",
    "\n",
    "    # 이상치 분포 시각화 (Boxplot)\n",
    "    plt.figure(figsize=(6, 4))\n",
    "    sns.boxplot(x=df[col])\n",
    "    plt.title(f\"{col} - Boxplot (Outlier Detection)\")\n",
    "    plt.xlabel(col)\n",
    "\n",
    "    # 그래프 저장 (boxplots 폴더)\n",
    "    plot_path = os.path.join(boxplot_dir, f\"{col}_boxplot.png\")\n",
    "    plt.savefig(plot_path)\n",
    "    plt.close()  # 메모리 절약\n",
    "\n",
    "# 이상치 개수 DataFrame 생성\n",
    "outlier_df = pd.DataFrame(list(outlier_counts.items()), columns=[\"Feature\", \"Outlier Count\"])\n",
    "\n",
    "# 🔹 데이터 저장 🔹\n",
    "output_file = os.path.join(base_dir, \"feature_analysis.xlsx\")\n",
    "\n",
    "with pd.ExcelWriter(output_file) as writer:\n",
    "    if not missing_values.empty:\n",
    "        missing_values.to_excel(writer, sheet_name=\"Missing Values\", index=False)\n",
    "    num_analysis.to_excel(writer, sheet_name=\"Numerical Summary\")\n",
    "    outlier_df.to_excel(writer, sheet_name=\"Outlier Count\", index=False)\n",
    "\n",
    "    # 범주형 변수별 빈도수 데이터를 개별 시트로 저장\n",
    "    for col, cat_df in categorical_data.items():\n",
    "        cat_df.to_excel(writer, sheet_name=f\"{col}_Counts\", index=False)\n",
    "\n",
    "print(f\"✅ 분석 결과가 저장되었습니다: {base_dir}\")\n",
    "print(f\"✅ Boxplot 저장 폴더: {boxplot_dir}\")\n",
    "print(f\"✅ 범주형 변수 그래프 저장 폴더: {category_plot_dir}\")\n"
   ]
  },
  {
   "cell_type": "markdown",
   "metadata": {},
   "source": [
    "2. Feature selection dataset 생성"
   ]
  },
  {
   "cell_type": "code",
   "execution_count": 2,
   "metadata": {},
   "outputs": [
    {
     "name": "stdout",
     "output_type": "stream",
     "text": [
      "✅ '배란 유도 유형' 컬럼 제외됨\n",
      "✅ 제거할 컬럼 (결측치 25% 이상): ['임신 시도 또는 마지막 임신 경과 연수', '착상 전 유전 검사 사용 여부', 'PGD 시술 여부', 'PGS 시술 여부', '난자 해동 경과일', '배아 해동 경과일', '배란 유도 유형']\n",
      "✅ Feature Selection 완료: results_20250209_185118\\selected_features.csv\n",
      "✅ 최종 사용된 컬럼 개수: 62\n",
      "✅ 최종 컬럼 목록: ['ID', '시술 시기 코드', '시술 당시 나이', '시술 유형', '특정 시술 유형', '배란 자극 여부', '단일 배아 이식 여부', '착상 전 유전 진단 사용 여부', '남성 주 불임 원인', '남성 부 불임 원인', '여성 주 불임 원인', '여성 부 불임 원인', '부부 주 불임 원인', '부부 부 불임 원인', '불명확 불임 원인', '불임 원인 - 난관 질환', '불임 원인 - 남성 요인', '불임 원인 - 배란 장애', '불임 원인 - 여성 요인', '불임 원인 - 자궁경부 문제', '불임 원인 - 자궁내막증', '불임 원인 - 정자 농도', '불임 원인 - 정자 면역학적 요인', '불임 원인 - 정자 운동성', '불임 원인 - 정자 형태', '배아 생성 주요 이유', '총 시술 횟수', '클리닉 내 총 시술 횟수', 'IVF 시술 횟수', 'DI 시술 횟수', '총 임신 횟수', 'IVF 임신 횟수', 'DI 임신 횟수', '총 출산 횟수', 'IVF 출산 횟수', 'DI 출산 횟수', '총 생성 배아 수', '미세주입된 난자 수', '미세주입에서 생성된 배아 수', '이식된 배아 수', '미세주입 배아 이식 수', '저장된 배아 수', '미세주입 후 저장된 배아 수', '해동된 배아 수', '해동 난자 수', '수집된 신선 난자 수', '저장된 신선 난자 수', '혼합된 난자 수', '파트너 정자와 혼합된 난자 수', '기증자 정자와 혼합된 난자 수', '난자 출처', '정자 출처', '난자 기증자 나이', '정자 기증자 나이', '동결 배아 사용 여부', '신선 배아 사용 여부', '기증 배아 사용 여부', '대리모 여부', '난자 채취 경과일', '난자 혼합 경과일', '배아 이식 경과일', '임신 성공 여부']\n"
     ]
    }
   ],
   "source": [
    "import pandas as pd\n",
    "\n",
    "# 🔹 Feature Selection: 결측치 25% 이상 컬럼 제거 및 \"특정 시술 유형\" 제외 🔹\n",
    "\n",
    "# 결측치 25% 이상 컬럼 제거\n",
    "missing_threshold = 25.0  # 25% 이상 결측치 제거 기준\n",
    "missing_values = df.isnull().sum() / len(df) * 100  # 결측치 비율 계산\n",
    "drop_cols = missing_values[missing_values > missing_threshold].index.tolist()\n",
    "\n",
    "# \"특정 시술 유형\" 컬럼 제외\n",
    "if \"배란 유도 유형\" in df.columns:\n",
    "    drop_cols.append(\"배란 유도 유형\")\n",
    "    print(\"✅ '배란 유도 유형' 컬럼 제외됨\")\n",
    "\n",
    "print(f\"✅ 제거할 컬럼 (결측치 25% 이상): {drop_cols}\")\n",
    "\n",
    "# 데이터셋에서 해당 컬럼 제거\n",
    "df_selected = df.drop(columns=drop_cols)\n",
    "\n",
    "# Feature Selection 후 데이터셋 저장 (UTF-8-SIG 인코딩 적용)\n",
    "sf_file_name = \"selected_features\"\n",
    "selected_output_file = os.path.join(base_dir, sf_file_name + \".csv\")\n",
    "df_selected.to_csv(selected_output_file, index=False, encoding=\"utf-8-sig\")\n",
    "\n",
    "\n",
    "print(f\"✅ Feature Selection 완료: {selected_output_file}\")\n",
    "print(f\"✅ 최종 사용된 컬럼 개수: {len(df_selected.columns)}\")\n",
    "print(f\"✅ 최종 컬럼 목록: {df_selected.columns.tolist()}\")\n"
   ]
  },
  {
   "cell_type": "markdown",
   "metadata": {},
   "source": [
    "3. Feature selection with 불임 이유 컬럼"
   ]
  },
  {
   "cell_type": "code",
   "execution_count": null,
   "metadata": {},
   "outputs": [],
   "source": [
    "import pandas as pd\n",
    "import os\n",
    "\n",
    "# 🔹 불임 원인 카테고리 통합 🔹\n",
    "infertility_cols = [col for col in df.columns if \"불임 원인\" in col]  # 불임 원인 관련 컬럼 찾기\n",
    "df_selected[\"불임 원인 존재\"] = df[infertility_cols].max(axis=1)  # 하나라도 1이면 1\n",
    "\n",
    "df_selected = df_selected.drop(columns=infertility_cols)  # 기존 불임 원인 컬럼 제거\n",
    "\n",
    "# 🔹 Feature Selection 후 데이터셋 저장 🔹\n",
    "sfwi_file_name = sf_file_name + \"_with_infertility\"\n",
    "selected_output_file = os.path.join(base_dir, sfwi_file_name + \".csv\")\n",
    "df_selected.to_csv(selected_output_file, index=False, encoding=\"utf-8-sig\")\n",
    "\n",
    "print(f\"✅ Feature Selection 완료: {selected_output_file}\")\n",
    "print(f\"✅ 최종 사용된 컬럼 개수: {len(df_selected.columns)}\")\n",
    "print(f\"✅ 최종 컬럼 목록: {df_selected.columns.tolist()}\") "
   ]
  },
  {
   "cell_type": "markdown",
   "metadata": {},
   "source": [
    "4. 결측치 & 이상치 제거한 데이터셋"
   ]
  },
  {
   "cell_type": "code",
   "execution_count": null,
   "metadata": {},
   "outputs": [
    {
     "name": "stdout",
     "output_type": "stream",
     "text": [
      "✅ 이상치 제거 후 데이터 크기: (118064, 45)\n",
      "✅ 결측치 & 이상치 제거 후 데이터 저장 완료: results_20250209_185118\\selected_features_with_infertility_cleaned.csv\n",
      "✅ 최종 행 개수: 118064\n"
     ]
    }
   ],
   "source": [
    "import pandas as pd\n",
    "import os\n",
    "\n",
    "# 🔹 결측치 제거 (DI 예외 처리) 🔹\n",
    "df_di = df_selected[df_selected[\"시술 유형\"] == \"DI\"]  # \"DI\"인 데이터 따로 저장\n",
    "df_non_di = df_selected[df_selected[\"시술 유형\"] != \"DI\"]  # \"DI\"가 아닌 데이터\n",
    "\n",
    "# \"DI\"가 아닌 행들 중에서 결측치가 있는 경우 제거\n",
    "df_non_di_cleaned = df_non_di.dropna(subset=df_non_di.columns.difference([\"특정 시술 유형\"]))\n",
    "\n",
    "# 🔹 아웃라이어 제거 (IQR 기반, DI 제외) 🔹\n",
    "numerical_columns = df_non_di_cleaned.select_dtypes(include=['int64', 'float64']).columns.tolist()\n",
    "\n",
    "for col in numerical_columns:\n",
    "    Q1 = df_non_di_cleaned[col].quantile(0.25)\n",
    "    Q3 = df_non_di_cleaned[col].quantile(0.75)\n",
    "    IQR = Q3 - Q1\n",
    "    lower_bound = Q1 - 1.5 * IQR\n",
    "    upper_bound = Q3 + 1.5 * IQR\n",
    "\n",
    "    # 이상치 제거 (DI 제외)\n",
    "    df_non_di_cleaned = df_non_di_cleaned[(df_non_di_cleaned[col] >= lower_bound) & (df_non_di_cleaned[col] <= upper_bound)]\n",
    "\n",
    "# 🔹 DI 데이터와 정리된 데이터 합치기 🔹\n",
    "df_selected_cleaned = pd.concat([df_di, df_non_di_cleaned], ignore_index=True)\n",
    "\n",
    "print(f\"✅ 이상치 제거 후 데이터 크기: {df_selected_cleaned.shape}\")\n",
    "\n",
    "# 새로운 데이터셋 저장\n",
    "cl_file_name = sfwi_file_name + \"_cleaned\"\n",
    "cleaned_output_file = os.path.join(base_dir, cl_file_name + \".csv\")\n",
    "df_selected_cleaned.to_csv(cleaned_output_file, index=False, encoding=\"utf-8-sig\")\n",
    "\n",
    "print(f\"✅ 결측치 & 이상치 제거 후 데이터 저장 완료: {cleaned_output_file}\")\n",
    "print(f\"✅ 최종 행 개수: {len(df_selected_cleaned)}\")\n"
   ]
  },
  {
   "cell_type": "markdown",
   "metadata": {},
   "source": [
    "5. 라벨 인코딩 및 클래스 맵핑"
   ]
  },
  {
   "cell_type": "code",
   "execution_count": null,
   "metadata": {},
   "outputs": [
    {
     "name": "stdout",
     "output_type": "stream",
     "text": [
      "✅ 범주형 변수 변환 완료: results_20250209_185118\\selected_features_with_infertility_cleaned_encoded.csv\n",
      "✅ 클래스 매핑 정보 저장 완료: results_20250209_185118\\selected_features_with_infertility_cleaned_encoding_mapping.xlsx\n",
      "✅ 변환된 컬럼 목록: ['ID', '시술 시기 코드', '시술 당시 나이', '시술 유형', '특정 시술 유형', '배아 생성 주요 이유', '총 시술 횟수', '클리닉 내 총 시술 횟수', 'IVF 시술 횟수', 'DI 시술 횟수', '총 임신 횟수', 'IVF 임신 횟수', 'DI 임신 횟수', '총 출산 횟수', 'IVF 출산 횟수', 'DI 출산 횟수', '난자 출처', '정자 출처', '난자 기증자 나이', '정자 기증자 나이']\n"
     ]
    }
   ],
   "source": [
    "from sklearn.preprocessing import LabelEncoder\n",
    "import pandas as pd\n",
    "import os\n",
    "\n",
    "set_file_name = cl_file_name\n",
    "\n",
    "# 🔹 데이터 로드 🔹\n",
    "file_path = os.path.join(base_dir, set_file_name + \".csv\")\n",
    "df = pd.read_csv(file_path)\n",
    "\n",
    "# 🔹 수치형 & 범주형 변수 분류 🔹\n",
    "categorical_columns = df.select_dtypes(include=['object']).columns.tolist()\n",
    "numerical_columns = df.select_dtypes(include=['int64', 'float64']).columns.tolist()\n",
    "\n",
    "# 🔹 Label Encoding 적용 & 클래스 매핑 정보 저장 🔹\n",
    "label_encoders = {}\n",
    "encoding_info = {}  # 클래스 매핑 정보를 저장할 딕셔너리\n",
    "\n",
    "for col in categorical_columns:\n",
    "    if col == \"ID\":\n",
    "        continue\n",
    "    \n",
    "    le = LabelEncoder()\n",
    "    df[col] = le.fit_transform(df[col])\n",
    "    label_encoders[col] = le  # 인코더 저장 (추후 변환할 때 사용)\n",
    "    \n",
    "    # 클래스 매핑 정보 저장\n",
    "    encoding_info[col] = {idx: label for idx, label in enumerate(le.classes_)}\n",
    "\n",
    "# 🔹 변환된 데이터 저장 🔹\n",
    "encoded_output_file = os.path.join(base_dir, set_file_name + \"_encoded.csv\")\n",
    "df.to_csv(encoded_output_file, index=False, encoding=\"utf-8-sig\")\n",
    "\n",
    "# 🔹 클래스 매핑 정보 저장 🔹\n",
    "encoding_info_df = pd.DataFrame.from_dict(encoding_info, orient=\"index\").transpose()\n",
    "mapping_output_file = os.path.join(base_dir, set_file_name + \"_encoding_mapping.xlsx\")\n",
    "\n",
    "with pd.ExcelWriter(mapping_output_file) as writer:\n",
    "    encoding_info_df.to_excel(writer, sheet_name=\"Encoding Mapping\", index=True)\n",
    "\n",
    "print(f\"✅ 범주형 변수 변환 완료: {encoded_output_file}\")\n",
    "print(f\"✅ 클래스 매핑 정보 저장 완료: {mapping_output_file}\")\n",
    "print(f\"✅ 변환된 컬럼 목록: {categorical_columns}\")"
   ]
  }
 ],
 "metadata": {
  "kernelspec": {
   "display_name": "LGAimers6",
   "language": "python",
   "name": "python3"
  },
  "language_info": {
   "codemirror_mode": {
    "name": "ipython",
    "version": 3
   },
   "file_extension": ".py",
   "mimetype": "text/x-python",
   "name": "python",
   "nbconvert_exporter": "python",
   "pygments_lexer": "ipython3",
   "version": "3.13.2"
  }
 },
 "nbformat": 4,
 "nbformat_minor": 2
}
