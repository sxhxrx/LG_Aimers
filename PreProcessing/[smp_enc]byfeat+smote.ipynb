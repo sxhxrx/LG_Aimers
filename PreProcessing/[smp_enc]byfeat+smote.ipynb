{
 "cells": [
  {
   "cell_type": "markdown",
   "metadata": {},
   "source": [
    "### Import"
   ]
  },
  {
   "cell_type": "code",
   "execution_count": 1,
   "metadata": {},
   "outputs": [],
   "source": [
    "import pandas as pd\n",
    "import numpy as np\n",
    "\n",
    "from sklearn.preprocessing import OrdinalEncoder, OneHotEncoder, MultiLabelBinarizer\n",
    "from sklearn.ensemble import RandomForestClassifier"
   ]
  },
  {
   "cell_type": "markdown",
   "metadata": {},
   "source": [
    "### Data Load"
   ]
  },
  {
   "cell_type": "code",
   "execution_count": 2,
   "metadata": {},
   "outputs": [],
   "source": [
    "train = pd.read_csv('selected_features_cleaned.csv').drop(columns=['ID'])\n",
    "test = pd.read_csv('test.csv').drop(columns=['ID'])\n",
    "\n",
    "missing_cols = set(test.columns) - set(train.columns)\n",
    "test = test.drop(columns=missing_cols)"
   ]
  },
  {
   "cell_type": "code",
   "execution_count": 3,
   "metadata": {},
   "outputs": [],
   "source": [
    "X = train.drop('임신 성공 여부', axis=1)\n",
    "y = train['임신 성공 여부']"
   ]
  },
  {
   "cell_type": "markdown",
   "metadata": {},
   "source": [
    "### Encoding"
   ]
  },
  {
   "cell_type": "code",
   "execution_count": 4,
   "metadata": {},
   "outputs": [],
   "source": [
    "# ordinal 인코딩 필요 컬럼\n",
    "ordinal_columns = [\n",
    "    \"시술 시기 코드\", \"시술 당시 나이\", \"총 시술 횟수\", \"클리닉 내 총 시술 횟수\",\n",
    "    \"IVF 시술 횟수\", \"DI 시술 횟수\", \"총 임신 횟수\", \"IVF 임신 횟수\", \"DI 임신 횟수\",\n",
    "    \"총 출산 횟수\", \"IVF 출산 횟수\", \"DI 출산 횟수\", \"난자 기증자 나이\", \"정자 기증자 나이\"\n",
    "]\n",
    "\n",
    "# one-hot 인코딩 필요 컬럼\n",
    "onehot_columns = [\"시술 유형\"]\n",
    "\n",
    "# multi label 인코딩 필요 컬럼\n",
    "multi_label_columns = [\"특정 시술 유형\", \"배아 생성 주요 이유\", \"난자 출처\", \"정자 출처\"]\n",
    "\n",
    "    \n",
    "# 범주형 데이터 문자열 변환\n",
    "categorical_columns = ordinal_columns + onehot_columns + multi_label_columns\n",
    "\n",
    "for col in categorical_columns:\n",
    "    X[col] = X[col].astype(str)\n",
    "    test[col] = test[col].astype(str)  # 테스트 데이터도 동일하게 변환"
   ]
  },
  {
   "cell_type": "code",
   "execution_count": 5,
   "metadata": {},
   "outputs": [
    {
     "name": "stderr",
     "output_type": "stream",
     "text": [
      "C:\\Users\\서혜린\\AppData\\Roaming\\Python\\Python313\\site-packages\\sklearn\\preprocessing\\_encoders.py:246: UserWarning: Found unknown categories in columns [0] during transform. These unknown categories will be encoded as all zeros\n",
      "  warnings.warn(\n",
      "C:\\Users\\서혜린\\AppData\\Roaming\\Python\\Python313\\site-packages\\sklearn\\preprocessing\\_label.py:909: UserWarning: unknown class(es) ['Generic DI', 'ICI', 'IUI', 'IUI:ICI', 'IVF:Unknown:Unknown:Unknown', 'IVI', 'Unknown'] will be ignored\n",
      "  warnings.warn(\n",
      "C:\\Users\\서혜린\\AppData\\Roaming\\Python\\Python313\\site-packages\\sklearn\\preprocessing\\_label.py:909: UserWarning: unknown class(es) ['nan', '기증용', '기증용, 난자 저장용', '기증용, 배아 저장용', '난자 저장용', '난자 저장용, 배아 저장용', '배아 저장용'] will be ignored\n",
      "  warnings.warn(\n",
      "C:\\Users\\서혜린\\AppData\\Roaming\\Python\\Python313\\site-packages\\sklearn\\preprocessing\\_label.py:909: UserWarning: unknown class(es) ['기증 제공', '알 수 없음'] will be ignored\n",
      "  warnings.warn(\n",
      "C:\\Users\\서혜린\\AppData\\Roaming\\Python\\Python313\\site-packages\\sklearn\\preprocessing\\_label.py:909: UserWarning: unknown class(es) ['미할당', '배우자 및 기증 제공'] will be ignored\n",
      "  warnings.warn(\n"
     ]
    },
    {
     "name": "stdout",
     "output_type": "stream",
     "text": [
      "   시술 시기 코드  시술 당시 나이  배란 자극 여부  단일 배아 이식 여부  착상 전 유전 진단 사용 여부  남성 주 불임 원인  \\\n",
      "0       3.0       0.0         1          0.0               0.0           0   \n",
      "1       4.0       3.0         1          0.0               0.0           0   \n",
      "2       5.0       0.0         1          0.0               0.0           0   \n",
      "3       1.0       4.0         1          0.0               0.0           0   \n",
      "4       6.0       0.0         1          0.0               0.0           0   \n",
      "\n",
      "   남성 부 불임 원인  여성 주 불임 원인  여성 부 불임 원인  부부 주 불임 원인  ...  특정 시술 유형_IVF:IVF  \\\n",
      "0           0           0           0           0  ...                 0   \n",
      "1           0           0           0           0  ...                 0   \n",
      "2           0           0           0           0  ...                 0   \n",
      "3           0           0           0           0  ...                 0   \n",
      "4           0           0           0           0  ...                 0   \n",
      "\n",
      "   특정 시술 유형_IVF:Unknown  배아 생성 주요 이유_기증용, 배아 저장용, 현재 시술용  \\\n",
      "0                     0                                0   \n",
      "1                     0                                0   \n",
      "2                     0                                0   \n",
      "3                     0                                0   \n",
      "4                     0                                0   \n",
      "\n",
      "   배아 생성 주요 이유_기증용, 현재 시술용  배아 생성 주요 이유_난자 저장용, 현재 시술용  \\\n",
      "0                        0                           0   \n",
      "1                        0                           0   \n",
      "2                        0                           0   \n",
      "3                        0                           0   \n",
      "4                        0                           0   \n",
      "\n",
      "   배아 생성 주요 이유_배아 저장용, 현재 시술용  배아 생성 주요 이유_현재 시술용  난자 출처_본인 제공  정자 출처_기증 제공  \\\n",
      "0                           0                   1            1            0   \n",
      "1                           0                   1            1            0   \n",
      "2                           0                   1            1            0   \n",
      "3                           0                   1            1            0   \n",
      "4                           0                   1            1            0   \n",
      "\n",
      "   정자 출처_배우자 제공  \n",
      "0             1  \n",
      "1             1  \n",
      "2             1  \n",
      "3             1  \n",
      "4             1  \n",
      "\n",
      "[5 rows x 78 columns]\n",
      "   시술 시기 코드  시술 당시 나이  배란 자극 여부  단일 배아 이식 여부  착상 전 유전 진단 사용 여부  남성 주 불임 원인  \\\n",
      "0       5.0       1.0         1          0.0               0.0           0   \n",
      "1       1.0       0.0         1          0.0               0.0           0   \n",
      "2       0.0       3.0         1          0.0               0.0           0   \n",
      "3       2.0       3.0         1          0.0               0.0           0   \n",
      "4       2.0       1.0         1          0.0               0.0           0   \n",
      "\n",
      "   남성 부 불임 원인  여성 주 불임 원인  여성 부 불임 원인  부부 주 불임 원인  ...  특정 시술 유형_IVF:IVF  \\\n",
      "0           0           0           0           0  ...                 0   \n",
      "1           0           0           0           0  ...                 0   \n",
      "2           0           0           0           0  ...                 0   \n",
      "3           0           0           0           0  ...                 0   \n",
      "4           0           0           0           0  ...                 0   \n",
      "\n",
      "   특정 시술 유형_IVF:Unknown  배아 생성 주요 이유_기증용, 배아 저장용, 현재 시술용  \\\n",
      "0                     0                                0   \n",
      "1                     0                                0   \n",
      "2                     0                                0   \n",
      "3                     0                                0   \n",
      "4                     0                                0   \n",
      "\n",
      "   배아 생성 주요 이유_기증용, 현재 시술용  배아 생성 주요 이유_난자 저장용, 현재 시술용  \\\n",
      "0                        0                           0   \n",
      "1                        0                           0   \n",
      "2                        0                           0   \n",
      "3                        0                           0   \n",
      "4                        0                           0   \n",
      "\n",
      "   배아 생성 주요 이유_배아 저장용, 현재 시술용  배아 생성 주요 이유_현재 시술용  난자 출처_본인 제공  정자 출처_기증 제공  \\\n",
      "0                           0                   1            1            0   \n",
      "1                           0                   1            1            1   \n",
      "2                           0                   1            1            0   \n",
      "3                           0                   1            1            0   \n",
      "4                           0                   1            1            0   \n",
      "\n",
      "   정자 출처_배우자 제공  \n",
      "0             1  \n",
      "1             0  \n",
      "2             1  \n",
      "3             1  \n",
      "4             1  \n",
      "\n",
      "[5 rows x 78 columns]\n"
     ]
    }
   ],
   "source": [
    "X_original = X.copy()\n",
    "test_original = test.copy()\n",
    "\n",
    "# 1️. Ordinal Encoding\n",
    "ordinal_encoder = OrdinalEncoder(handle_unknown='use_encoded_value', unknown_value=-1)\n",
    "\n",
    "X_encoded = X.copy()\n",
    "test_encoded = test.copy()\n",
    "\n",
    "X_encoded[ordinal_columns] = ordinal_encoder.fit_transform(X[ordinal_columns])\n",
    "test_encoded[ordinal_columns] = ordinal_encoder.transform(test[ordinal_columns])\n",
    "\n",
    "\n",
    "# 2️. One-Hot Encoding\n",
    "onehot_encoder = OneHotEncoder(sparse_output=False, drop='first', handle_unknown='ignore')\n",
    "\n",
    "onehot_df = pd.DataFrame(onehot_encoder.fit_transform(X_encoded[onehot_columns]),\n",
    "                         columns=onehot_encoder.get_feature_names_out(onehot_columns))\n",
    "test_onehot_df = pd.DataFrame(onehot_encoder.transform(test_encoded[onehot_columns]),\n",
    "                              columns=onehot_encoder.get_feature_names_out(onehot_columns))\n",
    "\n",
    "# 기존 컬럼 제거 및 변환된 데이터 추가\n",
    "X_encoded.drop(columns=onehot_columns, inplace=True)\n",
    "X_encoded = pd.concat([X_encoded, onehot_df], axis=1)\n",
    "test_encoded.drop(columns=onehot_columns, inplace=True)\n",
    "test_encoded = pd.concat([test_encoded, test_onehot_df], axis=1)\n",
    "\n",
    "\n",
    "# 3️. Multi-Label One-Hot Encoding 적용\n",
    "for col in multi_label_columns:\n",
    "    X_encoded[col] = X_encoded[col].apply(lambda x: eval(x) if isinstance(x, str) and x.startswith(\"[\") else [x])\n",
    "    test_encoded[col] = test_encoded[col].apply(lambda x: eval(x) if isinstance(x, str) and x.startswith(\"[\") else [x])\n",
    "    \n",
    "    mlb = MultiLabelBinarizer()\n",
    "    X_mlb = mlb.fit_transform(X_encoded[col])\n",
    "    test_mlb = mlb.transform(test_encoded[col])\n",
    "    \n",
    "    multi_df = pd.DataFrame(X_mlb, columns=[f\"{col}_{c}\" for c in mlb.classes_])\n",
    "    test_multi_df = pd.DataFrame(test_mlb, columns=[f\"{col}_{c}\" for c in mlb.classes_])\n",
    "    \n",
    "    X_encoded.drop(columns=[col], inplace=True)\n",
    "    X_encoded = pd.concat([X_encoded, multi_df], axis=1)\n",
    "    test_encoded.drop(columns=[col], inplace=True)\n",
    "    test_encoded = pd.concat([test_encoded, test_multi_df], axis=1)\n",
    "\n",
    "# 최종 인코딩된 데이터셋 출력\n",
    "print(X_encoded.head())\n",
    "print(test_encoded.head())"
   ]
  },
  {
   "cell_type": "markdown",
   "metadata": {},
   "source": [
    "### Sampling"
   ]
  },
  {
   "cell_type": "code",
   "execution_count": 6,
   "id": "c4ecf727",
   "metadata": {},
   "outputs": [
    {
     "name": "stdout",
     "output_type": "stream",
     "text": [
      "Original class distribution: Counter({0: 47866, 1: 16654})\n"
     ]
    },
    {
     "name": "stderr",
     "output_type": "stream",
     "text": [
      "C:\\Users\\서혜린\\AppData\\Roaming\\Python\\Python313\\site-packages\\joblib\\externals\\loky\\backend\\context.py:136: UserWarning: Could not find the number of physical cores for the following reason:\n",
      "[WinError 2] 지정된 파일을 찾을 수 없습니다\n",
      "Returning the number of logical cores instead. You can silence this warning by setting LOKY_MAX_CPU_COUNT to the number of cores you want to use.\n",
      "  warnings.warn(\n",
      "  File \"C:\\Users\\서혜린\\AppData\\Roaming\\Python\\Python313\\site-packages\\joblib\\externals\\loky\\backend\\context.py\", line 257, in _count_physical_cores\n",
      "    cpu_info = subprocess.run(\n",
      "        \"wmic CPU Get NumberOfCores /Format:csv\".split(),\n",
      "        capture_output=True,\n",
      "        text=True,\n",
      "    )\n",
      "  File \"c:\\ProgramData\\Anaconda3\\envs\\LGAimers6\\Lib\\subprocess.py\", line 556, in run\n",
      "    with Popen(*popenargs, **kwargs) as process:\n",
      "         ~~~~~^^^^^^^^^^^^^^^^^^^^^^\n",
      "  File \"c:\\ProgramData\\Anaconda3\\envs\\LGAimers6\\Lib\\subprocess.py\", line 1038, in __init__\n",
      "    self._execute_child(args, executable, preexec_fn, close_fds,\n",
      "    ~~~~~~~~~~~~~~~~~~~^^^^^^^^^^^^^^^^^^^^^^^^^^^^^^^^^^^^^^^^^\n",
      "                        pass_fds, cwd, env,\n",
      "                        ^^^^^^^^^^^^^^^^^^^\n",
      "    ...<5 lines>...\n",
      "                        gid, gids, uid, umask,\n",
      "                        ^^^^^^^^^^^^^^^^^^^^^^\n",
      "                        start_new_session, process_group)\n",
      "                        ^^^^^^^^^^^^^^^^^^^^^^^^^^^^^^^^^\n",
      "  File \"c:\\ProgramData\\Anaconda3\\envs\\LGAimers6\\Lib\\subprocess.py\", line 1550, in _execute_child\n",
      "    hp, ht, pid, tid = _winapi.CreateProcess(executable, args,\n",
      "                       ~~~~~~~~~~~~~~~~~~~~~^^^^^^^^^^^^^^^^^^\n",
      "                             # no special security\n",
      "                             ^^^^^^^^^^^^^^^^^^^^^\n",
      "    ...<4 lines>...\n",
      "                             cwd,\n",
      "                             ^^^^\n",
      "                             startupinfo)\n",
      "                             ^^^^^^^^^^^^\n"
     ]
    },
    {
     "name": "stdout",
     "output_type": "stream",
     "text": [
      "After SMOTE oversampling: Counter({0: 47866, 1: 47866})\n",
      "Computed class weights: {np.int64(0): np.float64(1.0), np.int64(1): np.float64(1.0)}\n"
     ]
    }
   ],
   "source": [
    "\n",
    "# 첫 실행 시 설치 : pip install imbalanced-learn\n",
    "\n",
    "from collections import Counter\n",
    "from imblearn.over_sampling import SMOTE\n",
    "from sklearn.utils.class_weight import compute_class_weight\n",
    "\n",
    "# 클래스 불균형 확인\n",
    "print(\"Original class distribution:\", Counter(y))\n",
    "\n",
    "# 오버샘플링 : SMOTE\n",
    "smote = SMOTE(random_state=42)\n",
    "X_resampled, y_resampled = smote.fit_resample(X_encoded, y)\n",
    "print(\"After SMOTE oversampling:\", Counter(y_resampled))\n",
    "\n",
    "# 가중치 조정\n",
    "class_weights = compute_class_weight(\"balanced\", classes=np.unique(y_resampled), y=y_resampled)\n",
    "class_weight_dict = {c: w for c, w in zip(np.unique(y_resampled), class_weights)}\n",
    "print(\"Computed class weights:\", class_weight_dict)\n"
   ]
  },
  {
   "cell_type": "code",
   "execution_count": 7,
   "metadata": {},
   "outputs": [],
   "source": [
    "numeric_columns = [\n",
    "    \"임신 시도 또는 마지막 임신 경과 연수\", \"총 생성 배아 수\", \"미세주입된 난자 수\", \"미세주입에서 생성된 배아 수\", \n",
    "    \"이식된 배아 수\", \"미세주입 배아 이식 수\", \"저장된 배아 수\", \"미세주입 후 저장된 배아 수\",\n",
    "    \"해동된 배아 수\", \"해동 난자 수\", \"수집된 신선 난자 수\", \"저장된 신선 난자 수\",\n",
    "    \"혼합된 난자 수\", \"파트너 정자와 혼합된 난자 수\", \"기증자 정자와 혼합된 난자 수\",\n",
    "    \"난자 채취 경과일\", \"난자 해동 경과일\", \"난자 혼합 경과일\", \"배아 이식 경과일\", \"배아 해동 경과일\"\n",
    "]"
   ]
  },
  {
   "cell_type": "code",
   "execution_count": 9,
   "metadata": {},
   "outputs": [],
   "source": [
    "existing_numeric_columns = [col for col in numeric_columns if col in test_encoded.columns] # 존재하는 숫자형 컬럼만 선택\n",
    "test_encoded[existing_numeric_columns] = test_encoded[existing_numeric_columns].fillna(0)"
   ]
  },
  {
   "cell_type": "markdown",
   "metadata": {},
   "source": [
    "### Training (Solve Overfitting)"
   ]
  },
  {
   "cell_type": "code",
   "execution_count": 10,
   "metadata": {},
   "outputs": [
    {
     "name": "stdout",
     "output_type": "stream",
     "text": [
      "Train Accuracy: 0.7352, Test Accuracy: 0.7232\n",
      "Train ROC-AUC: 0.8418, Test ROC-AUC: 0.8280\n",
      "Cross Validation ROC-AUC Scores: [0.65796878 0.7312003  0.90743703 0.91144426 0.91037476]\n",
      "Mean CV ROC-AUC Score: 0.8237\n"
     ]
    }
   ],
   "source": [
    "from sklearn.ensemble import RandomForestClassifier\n",
    "from sklearn.model_selection import train_test_split, cross_val_score\n",
    "from sklearn.metrics import accuracy_score, roc_auc_score\n",
    "\n",
    "# 데이터 분할 (Train:Test = 80:20)\n",
    "X_train, X_test, y_train, y_test = train_test_split(X_resampled, y_resampled, test_size=0.2, random_state=42, stratify=y_resampled)\n",
    "\n",
    "# 모델 학습 (과적합 방지 Hyperparameter 적용)\n",
    "model = RandomForestClassifier(\n",
    "    n_estimators=100,         # 트리 개수\n",
    "    max_depth=10,             # 트리 최대 깊이 제한 (과적합 방지)\n",
    "    min_samples_split=5,      # 노드를 나누기 위한 최소 샘플 수 (일반적으로 2~10 사이)\n",
    "    class_weight=\"balanced\",  # 클래스 불균형 보정\n",
    "    random_state=42\n",
    ")\n",
    "\n",
    "# 모델 학습\n",
    "model.fit(X_train, y_train)\n",
    "\n",
    "# 예측 수행\n",
    "y_train_pred = model.predict(X_train)\n",
    "y_test_pred = model.predict(X_test)\n",
    "\n",
    "# 확률 예측 (ROC-AUC 계산용)\n",
    "y_train_proba = model.predict_proba(X_train)[:, 1]\n",
    "y_test_proba = model.predict_proba(X_test)[:, 1]\n",
    "\n",
    "# 성능 평가\n",
    "train_accuracy = accuracy_score(y_train, y_train_pred)\n",
    "test_accuracy = accuracy_score(y_test, y_test_pred)\n",
    "train_roc_auc = roc_auc_score(y_train, y_train_proba)\n",
    "test_roc_auc = roc_auc_score(y_test, y_test_proba)\n",
    "\n",
    "print(f\"Train Accuracy: {train_accuracy:.4f}, Test Accuracy: {test_accuracy:.4f}\")\n",
    "print(f\"Train ROC-AUC: {train_roc_auc:.4f}, Test ROC-AUC: {test_roc_auc:.4f}\")\n",
    "\n",
    "# 교차 검증 수행 (K=5)\n",
    "cv_scores = cross_val_score(model, X_resampled, y_resampled, cv=5, scoring='roc_auc')\n",
    "print(f\"Cross Validation ROC-AUC Scores: {cv_scores}\")\n",
    "print(f\"Mean CV ROC-AUC Score: {cv_scores.mean():.4f}\")"
   ]
  },
  {
   "cell_type": "markdown",
   "metadata": {},
   "source": [
    "### Predict"
   ]
  },
  {
   "cell_type": "code",
   "execution_count": 11,
   "metadata": {},
   "outputs": [],
   "source": [
    "pred_proba = model.predict_proba(test_encoded)[:, 1]"
   ]
  },
  {
   "cell_type": "markdown",
   "metadata": {},
   "source": [
    "### Submission"
   ]
  },
  {
   "cell_type": "code",
   "execution_count": 13,
   "metadata": {},
   "outputs": [],
   "source": [
    "sample_submission = pd.read_csv('./sample_submission.csv')\n",
    "sample_submission['probability'] = pred_proba"
   ]
  },
  {
   "cell_type": "code",
   "execution_count": 14,
   "metadata": {},
   "outputs": [],
   "source": [
    "sample_submission.to_csv('./enc+smote_submission.csv', index=False)"
   ]
  }
 ],
 "metadata": {
  "kernelspec": {
   "display_name": "LGAimers6",
   "language": "python",
   "name": "python3"
  },
  "language_info": {
   "codemirror_mode": {
    "name": "ipython",
    "version": 3
   },
   "file_extension": ".py",
   "mimetype": "text/x-python",
   "name": "python",
   "nbconvert_exporter": "python",
   "pygments_lexer": "ipython3",
   "version": "3.13.2"
  }
 },
 "nbformat": 4,
 "nbformat_minor": 2
}
