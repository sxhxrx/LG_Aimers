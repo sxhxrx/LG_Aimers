{
 "cells": [
  {
   "cell_type": "markdown",
   "metadata": {},
   "source": [
    "### Import"
   ]
  },
  {
   "cell_type": "code",
   "execution_count": 1,
   "metadata": {},
   "outputs": [],
   "source": [
    "import pandas as pd\n",
    "import numpy as np\n",
    "\n",
    "from sklearn.preprocessing import OrdinalEncoder, OneHotEncoder, MultiLabelBinarizer\n",
    "from sklearn.ensemble import RandomForestClassifier"
   ]
  },
  {
   "cell_type": "markdown",
   "metadata": {},
   "source": [
    "### Data Load"
   ]
  },
  {
   "cell_type": "code",
   "execution_count": 2,
   "metadata": {},
   "outputs": [],
   "source": [
    "train = pd.read_csv('train.csv').drop(columns=['ID'])\n",
    "test = pd.read_csv('test.csv').drop(columns=['ID'])\n",
    "\n",
    "missing_cols = set(test.columns) - set(train.columns)\n",
    "test = test.drop(columns=missing_cols)"
   ]
  },
  {
   "cell_type": "code",
   "execution_count": 3,
   "metadata": {},
   "outputs": [],
   "source": [
    "X = train.drop('임신 성공 여부', axis=1)\n",
    "y = train['임신 성공 여부']"
   ]
  },
  {
   "cell_type": "markdown",
   "metadata": {},
   "source": [
    "### Columns"
   ]
  },
  {
   "cell_type": "code",
   "execution_count": 4,
   "metadata": {},
   "outputs": [],
   "source": [
    "# 결측 비율 80% 이상인 컬럼 및 데이터 적은 컬럼 제거\n",
    "columns_to_drop = [\n",
    "    \"배란 유도 유형\", \"임신 시도 또는 마지막 임신 경과 연수\", \"착상 전 유전 검사 사용 여부\",\n",
    "    \"PGD 시술 여부\", \"PGS 시술 여부\", \"난자 해동 경과일\", \"배아 해동 경과일\"\n",
    "]\n",
    "\n",
    "X = X.drop(columns=columns_to_drop, errors='ignore')\n",
    "test = test.drop(columns=columns_to_drop, errors='ignore')"
   ]
  },
  {
   "cell_type": "code",
   "execution_count": 5,
   "metadata": {},
   "outputs": [],
   "source": [
    "numeric_columns = [\n",
    "    \"총 생성 배아 수\", \"미세주입된 난자 수\", \"미세주입에서 생성된 배아 수\", \n",
    "    \"이식된 배아 수\", \"미세주입 배아 이식 수\", \"저장된 배아 수\", \"미세주입 후 저장된 배아 수\",\n",
    "    \"해동된 배아 수\", \"해동 난자 수\", \"수집된 신선 난자 수\", \"저장된 신선 난자 수\",\n",
    "    \"혼합된 난자 수\", \"파트너 정자와 혼합된 난자 수\", \"기증자 정자와 혼합된 난자 수\",\n",
    "    \"난자 채취 경과일\", \"난자 혼합 경과일\", \"배아 이식 경과일\"\n",
    "]\n",
    "\n",
    "categorical_columns = [\n",
    "    \"시술 시기 코드\", \"시술 당시 나이\", \"시술 유형\", \"특정 시술 유형\", \"배란 자극 여부\",\n",
    "    \"단일 배아 이식 여부\", \"착상 전 유전 진단 사용 여부\", \"남성 주 불임 원인\",\n",
    "    \"남성 부 불임 원인\", \"여성 주 불임 원인\", \"여성 부 불임 원인\", \"부부 주 불임 원인\",\n",
    "    \"부부 부 불임 원인\", \"불명확 불임 원인\", \"불임 원인 - 난관 질환\", \"불임 원인 - 남성 요인\", \"불임 원인 - 배란 장애\",\n",
    "    \"불임 원인 - 여성 요인\", \"불임 원인 - 자궁경부 문제\", \"불임 원인 - 자궁내막증\", \"불임 원인 - 정자 농도\",\n",
    "    \"불임 원인 - 정자 면역학적 요인\", \"불임 원인 - 정자 운동성\", \"불임 원인 - 정자 형태\", \"배아 생성 주요 이유\", \"총 시술 횟수\",\n",
    "    \"클리닉 내 총 시술 횟수\", \"IVF 시술 횟수\", \"DI 시술 횟수\", \"총 임신 횟수\", \"IVF 임신 횟수\", \"DI 임신 횟수\",\n",
    "    \"총 출산 횟수\", \"IVF 출산 횟수\", \"DI 출산 횟수\", \"난자 출처\", \"정자 출처\", \"난자 기증자 나이\", \"정자 기증자 나이\",\n",
    "    \"동결 배아 사용 여부\", \"신선 배아 사용 여부\", \"기증 배아 사용 여부\", \"대리모 여부\"\n",
    "]"
   ]
  },
  {
   "cell_type": "markdown",
   "metadata": {},
   "source": [
    "### Encoding"
   ]
  },
  {
   "cell_type": "code",
   "execution_count": 6,
   "metadata": {},
   "outputs": [],
   "source": [
    "for col in categorical_columns:\n",
    "    X[col] = X[col].astype(str)\n",
    "    test[col] = test[col].astype(str)  # 테스트 데이터도 동일하게 변환"
   ]
  },
  {
   "cell_type": "code",
   "execution_count": 7,
   "metadata": {},
   "outputs": [],
   "source": [
    "# ordinal 인코딩 필요 컬럼\n",
    "ordinal_columns = [\n",
    "    \"시술 시기 코드\", \"시술 당시 나이\", \"총 시술 횟수\", \"클리닉 내 총 시술 횟수\",\n",
    "    \"IVF 시술 횟수\", \"DI 시술 횟수\", \"총 임신 횟수\", \"IVF 임신 횟수\", \"DI 임신 횟수\",\n",
    "    \"총 출산 횟수\", \"IVF 출산 횟수\", \"DI 출산 횟수\", \"난자 기증자 나이\", \"정자 기증자 나이\"\n",
    "]\n",
    "\n",
    "# one-hot 인코딩 필요 컬럼\n",
    "onehot_columns = [\"시술 유형\"]\n",
    "\n",
    "# multi label 인코딩 필요 컬럼\n",
    "multi_label_columns = [\"특정 시술 유형\", \"배아 생성 주요 이유\", \"난자 출처\", \"정자 출처\"]"
   ]
  },
  {
   "cell_type": "code",
   "execution_count": 8,
   "metadata": {},
   "outputs": [
    {
     "name": "stderr",
     "output_type": "stream",
     "text": [
      "C:\\Users\\서혜린\\AppData\\Roaming\\Python\\Python313\\site-packages\\sklearn\\preprocessing\\_label.py:909: UserWarning: unknown class(es) ['IUI:ICI', 'IVF:Unknown:Unknown:Unknown'] will be ignored\n",
      "  warnings.warn(\n"
     ]
    },
    {
     "name": "stdout",
     "output_type": "stream",
     "text": [
      "   시술 시기 코드  시술 당시 나이 배란 자극 여부 단일 배아 이식 여부 착상 전 유전 진단 사용 여부 남성 주 불임 원인  \\\n",
      "0       6.0       0.0        1         0.0              0.0          0   \n",
      "1       5.0       5.0        0         0.0              0.0          0   \n",
      "2       3.0       0.0        1         0.0              0.0          0   \n",
      "3       2.0       1.0        1         0.0              0.0          0   \n",
      "4       3.0       0.0        1         0.0              0.0          0   \n",
      "\n",
      "  남성 부 불임 원인 여성 주 불임 원인 여성 부 불임 원인 부부 주 불임 원인  ... 배아 생성 주요 이유_배아 저장용, 현재 시술용  \\\n",
      "0          0          0          0          0  ...                          0   \n",
      "1          0          0          0          0  ...                          0   \n",
      "2          0          0          0          0  ...                          0   \n",
      "3          0          0          0          0  ...                          0   \n",
      "4          0          0          0          0  ...                          0   \n",
      "\n",
      "  배아 생성 주요 이유_연구용, 현재 시술용 배아 생성 주요 이유_현재 시술용 난자 출처_기증 제공 난자 출처_본인 제공  \\\n",
      "0                       0                  1           0           1   \n",
      "1                       0                  1           0           1   \n",
      "2                       0                  1           0           1   \n",
      "3                       0                  1           0           1   \n",
      "4                       0                  1           0           1   \n",
      "\n",
      "  난자 출처_알 수 없음 정자 출처_기증 제공 정자 출처_미할당 정자 출처_배우자 및 기증 제공 정자 출처_배우자 제공  \n",
      "0            0           0         0                 0            1  \n",
      "1            0           0         0                 0            1  \n",
      "2            0           0         0                 0            1  \n",
      "3            0           0         0                 0            1  \n",
      "4            0           0         0                 0            1  \n",
      "\n",
      "[5 rows x 102 columns]\n",
      "   시술 시기 코드  시술 당시 나이 배란 자극 여부 단일 배아 이식 여부 착상 전 유전 진단 사용 여부 남성 주 불임 원인  \\\n",
      "0       5.0       1.0        1         0.0              0.0          0   \n",
      "1       1.0       0.0        1         0.0              0.0          0   \n",
      "2       0.0       3.0        1         0.0              0.0          0   \n",
      "3       2.0       3.0        1         0.0              0.0          0   \n",
      "4       2.0       1.0        1         0.0              0.0          0   \n",
      "\n",
      "  남성 부 불임 원인 여성 주 불임 원인 여성 부 불임 원인 부부 주 불임 원인  ... 배아 생성 주요 이유_배아 저장용, 현재 시술용  \\\n",
      "0          0          0          0          0  ...                          0   \n",
      "1          0          0          0          0  ...                          0   \n",
      "2          0          0          0          0  ...                          0   \n",
      "3          0          0          0          0  ...                          0   \n",
      "4          0          0          0          0  ...                          0   \n",
      "\n",
      "  배아 생성 주요 이유_연구용, 현재 시술용 배아 생성 주요 이유_현재 시술용 난자 출처_기증 제공 난자 출처_본인 제공  \\\n",
      "0                       0                  1           0           1   \n",
      "1                       0                  1           0           1   \n",
      "2                       0                  1           0           1   \n",
      "3                       0                  1           0           1   \n",
      "4                       0                  1           0           1   \n",
      "\n",
      "  난자 출처_알 수 없음 정자 출처_기증 제공 정자 출처_미할당 정자 출처_배우자 및 기증 제공 정자 출처_배우자 제공  \n",
      "0            0           0         0                 0            1  \n",
      "1            0           1         0                 0            0  \n",
      "2            0           0         0                 0            1  \n",
      "3            0           0         0                 0            1  \n",
      "4            0           0         0                 0            1  \n",
      "\n",
      "[5 rows x 102 columns]\n"
     ]
    }
   ],
   "source": [
    "X_original = X.copy()\n",
    "test_original = test.copy()\n",
    "\n",
    "# 1️. Ordinal Encoding\n",
    "ordinal_encoder = OrdinalEncoder(handle_unknown='use_encoded_value', unknown_value=-1)\n",
    "\n",
    "X_encoded = X.copy()\n",
    "test_encoded = test.copy()\n",
    "\n",
    "X_encoded[ordinal_columns] = ordinal_encoder.fit_transform(X[ordinal_columns])\n",
    "test_encoded[ordinal_columns] = ordinal_encoder.transform(test[ordinal_columns])\n",
    "\n",
    "\n",
    "# 2️. One-Hot Encoding\n",
    "onehot_encoder = OneHotEncoder(sparse_output=False, drop='first', handle_unknown='ignore')\n",
    "\n",
    "onehot_df = pd.DataFrame(onehot_encoder.fit_transform(X_encoded[onehot_columns]),\n",
    "                         columns=onehot_encoder.get_feature_names_out(onehot_columns))\n",
    "test_onehot_df = pd.DataFrame(onehot_encoder.transform(test_encoded[onehot_columns]),\n",
    "                              columns=onehot_encoder.get_feature_names_out(onehot_columns))\n",
    "\n",
    "# 기존 컬럼 제거 및 변환된 데이터 추가\n",
    "X_encoded.drop(columns=onehot_columns, inplace=True)\n",
    "X_encoded = pd.concat([X_encoded, onehot_df], axis=1)\n",
    "test_encoded.drop(columns=onehot_columns, inplace=True)\n",
    "test_encoded = pd.concat([test_encoded, test_onehot_df], axis=1)\n",
    "\n",
    "\n",
    "# 3️. Multi-Label One-Hot Encoding 적용\n",
    "for col in multi_label_columns:\n",
    "    X_encoded[col] = X_encoded[col].fillna(\"Unknown\")\n",
    "    test_encoded[col] = test_encoded[col].fillna(\"Unknown\")  #특정 시술 유형 컬럼 결측값 처리\n",
    "    \n",
    "for col in multi_label_columns:\n",
    "    X_encoded[col] = X_encoded[col].apply(lambda x: eval(x) if isinstance(x, str) and x.startswith(\"[\") else [x])\n",
    "    test_encoded[col] = test_encoded[col].apply(lambda x: eval(x) if isinstance(x, str) and x.startswith(\"[\") else [x])\n",
    "    \n",
    "    mlb = MultiLabelBinarizer()\n",
    "    X_mlb = mlb.fit_transform(X_encoded[col])\n",
    "    test_mlb = mlb.transform(test_encoded[col])\n",
    "    \n",
    "    multi_df = pd.DataFrame(X_mlb, columns=[f\"{col}_{c}\" for c in mlb.classes_])\n",
    "    test_multi_df = pd.DataFrame(test_mlb, columns=[f\"{col}_{c}\" for c in mlb.classes_])\n",
    "    \n",
    "    X_encoded.drop(columns=[col], inplace=True)\n",
    "    X_encoded = pd.concat([X_encoded, multi_df], axis=1)\n",
    "    test_encoded.drop(columns=[col], inplace=True)\n",
    "    test_encoded = pd.concat([test_encoded, test_multi_df], axis=1)\n",
    "\n",
    "# 최종 인코딩된 데이터셋 출력\n",
    "print(X_encoded.head())\n",
    "print(test_encoded.head())"
   ]
  },
  {
   "cell_type": "markdown",
   "metadata": {},
   "source": [
    "### Pre-Processing"
   ]
  },
  {
   "cell_type": "markdown",
   "metadata": {},
   "source": [
    "Missing Value"
   ]
  },
  {
   "cell_type": "code",
   "execution_count": 9,
   "metadata": {},
   "outputs": [],
   "source": [
    "#수치형 변수 결측값 처리\n",
    "\n",
    "# 중앙값 대체 : 배아 수 관련\n",
    "median_columns = [\n",
    "    \"총 생성 배아 수\", \"미세주입된 난자 수\", \"미세주입에서 생성된 배아 수\",\n",
    "    \"이식된 배아 수\", \"미세주입 배아 이식 수\", \"저장된 배아 수\", \"미세주입 후 저장된 배아 수\",\n",
    "    \"해동된 배아 수\", \"수집된 신선 난자 수\", \"저장된 신선 난자 수\",\n",
    "    \"혼합된 난자 수\", \"파트너 정자와 혼합된 난자 수\", \"기증자 정자와 혼합된 난자 수\"\n",
    "]\n",
    "X_encoded[median_columns] = X_encoded[median_columns].fillna(X_encoded[median_columns].median())\n",
    "test_encoded[median_columns] = test_encoded[median_columns].fillna(test_encoded[median_columns].median())\n",
    "\n",
    "# 평균값 대체 : 시간 관련\n",
    "mean_columns = [\"난자 채취 경과일\", \"난자 혼합 경과일\", \"배아 이식 경과일\"]\n",
    "X_encoded[mean_columns] = X_encoded[mean_columns].fillna(X_encoded[mean_columns].mean())\n",
    "test_encoded[mean_columns] = test_encoded[mean_columns].fillna(test_encoded[mean_columns].mean())\n",
    "\n",
    "# 0으로 대체 : 해동 난자 수\n",
    "X_encoded[\"해동 난자 수\"] = X_encoded[\"해동 난자 수\"].fillna(0)\n",
    "test_encoded[\"해동 난자 수\"] = test_encoded[\"해동 난자 수\"].fillna(0)"
   ]
  },
  {
   "cell_type": "markdown",
   "metadata": {},
   "source": [
    "Outliers"
   ]
  },
  {
   "cell_type": "code",
   "execution_count": null,
   "metadata": {},
   "outputs": [
    {
     "name": "stdout",
     "output_type": "stream",
     "text": [
      "이상치 처리 후 데이터 크기: (256351, 102)\n"
     ]
    }
   ],
   "source": [
    "from scipy.stats import zscore\n",
    "\n",
    "# 1️. Winsorization: 극단값을 상위/하위 1% 분위값으로 조정\n",
    "def winsorize_series(series, lower_quantile=0.01, upper_quantile=0.99):\n",
    "    lower_bound = series.quantile(lower_quantile)\n",
    "    upper_bound = series.quantile(upper_quantile)\n",
    "    return np.clip(series, lower_bound, upper_bound)\n",
    "\n",
    "for col in numeric_columns:\n",
    "    if col in X_encoded.columns:\n",
    "        X_encoded[col] = winsorize_series(X_encoded[col])\n",
    "\n",
    "# 2️. 로그 변환: 비대칭 데이터 처리\n",
    "log_transform_cols = [\"총 생성 배아 수\", \"미세주입된 난자 수\", \"이식된 배아 수\", \"해동된 배아 수\"]\n",
    "for col in log_transform_cols:\n",
    "    if col in X_encoded.columns:\n",
    "        X_encoded[col] = np.log1p(X_encoded[col])  # log(1 + x) 변환 적용\n",
    "\n",
    "# 3️. Z-score 기반 이상치 처리: 표준편차 3 이상 벗어난 값 조정\n",
    "zscore_threshold = 3\n",
    "for col in numeric_columns:\n",
    "    if col in X_encoded.columns:\n",
    "        z_scores = zscore(X_encoded[col].dropna())  # 결측값 제외 후 계산\n",
    "        X_encoded.loc[(z_scores > zscore_threshold) | (z_scores < -zscore_threshold), col] = X_encoded[col].median()"
   ]
  },
  {
   "cell_type": "markdown",
   "metadata": {},
   "source": [
    "### Sampling"
   ]
  },
  {
   "cell_type": "code",
   "execution_count": 11,
   "id": "c4ecf727",
   "metadata": {},
   "outputs": [
    {
     "name": "stdout",
     "output_type": "stream",
     "text": [
      "Original class distribution: Counter({0: 190123, 1: 66228})\n"
     ]
    },
    {
     "name": "stderr",
     "output_type": "stream",
     "text": [
      "C:\\Users\\서혜린\\AppData\\Roaming\\Python\\Python313\\site-packages\\joblib\\externals\\loky\\backend\\context.py:136: UserWarning: Could not find the number of physical cores for the following reason:\n",
      "[WinError 2] 지정된 파일을 찾을 수 없습니다\n",
      "Returning the number of logical cores instead. You can silence this warning by setting LOKY_MAX_CPU_COUNT to the number of cores you want to use.\n",
      "  warnings.warn(\n",
      "  File \"C:\\Users\\서혜린\\AppData\\Roaming\\Python\\Python313\\site-packages\\joblib\\externals\\loky\\backend\\context.py\", line 257, in _count_physical_cores\n",
      "    cpu_info = subprocess.run(\n",
      "        \"wmic CPU Get NumberOfCores /Format:csv\".split(),\n",
      "        capture_output=True,\n",
      "        text=True,\n",
      "    )\n",
      "  File \"c:\\ProgramData\\Anaconda3\\envs\\LGAimers6\\Lib\\subprocess.py\", line 556, in run\n",
      "    with Popen(*popenargs, **kwargs) as process:\n",
      "         ~~~~~^^^^^^^^^^^^^^^^^^^^^^\n",
      "  File \"c:\\ProgramData\\Anaconda3\\envs\\LGAimers6\\Lib\\subprocess.py\", line 1038, in __init__\n",
      "    self._execute_child(args, executable, preexec_fn, close_fds,\n",
      "    ~~~~~~~~~~~~~~~~~~~^^^^^^^^^^^^^^^^^^^^^^^^^^^^^^^^^^^^^^^^^\n",
      "                        pass_fds, cwd, env,\n",
      "                        ^^^^^^^^^^^^^^^^^^^\n",
      "    ...<5 lines>...\n",
      "                        gid, gids, uid, umask,\n",
      "                        ^^^^^^^^^^^^^^^^^^^^^^\n",
      "                        start_new_session, process_group)\n",
      "                        ^^^^^^^^^^^^^^^^^^^^^^^^^^^^^^^^^\n",
      "  File \"c:\\ProgramData\\Anaconda3\\envs\\LGAimers6\\Lib\\subprocess.py\", line 1550, in _execute_child\n",
      "    hp, ht, pid, tid = _winapi.CreateProcess(executable, args,\n",
      "                       ~~~~~~~~~~~~~~~~~~~~~^^^^^^^^^^^^^^^^^^\n",
      "                             # no special security\n",
      "                             ^^^^^^^^^^^^^^^^^^^^^\n",
      "    ...<4 lines>...\n",
      "                             cwd,\n",
      "                             ^^^^\n",
      "                             startupinfo)\n",
      "                             ^^^^^^^^^^^^\n"
     ]
    },
    {
     "name": "stdout",
     "output_type": "stream",
     "text": [
      "After SMOTE oversampling: Counter({0: 190123, 1: 190123})\n",
      "Computed class weights: {np.int64(0): np.float64(1.0), np.int64(1): np.float64(1.0)}\n"
     ]
    }
   ],
   "source": [
    "\n",
    "# 첫 실행 시 설치 : pip install imbalanced-learn\n",
    "\n",
    "from collections import Counter\n",
    "from imblearn.over_sampling import SMOTE\n",
    "from sklearn.utils.class_weight import compute_class_weight\n",
    "\n",
    "# 클래스 불균형 확인\n",
    "print(\"Original class distribution:\", Counter(y))\n",
    "\n",
    "# 데이터 형 변환 (object → numeric)\n",
    "for col in X_encoded.select_dtypes(include=['object']).columns:\n",
    "    X_encoded[col] = X_encoded[col].astype('category').cat.codes\n",
    "\n",
    "# 오버샘플링 : SMOTE\n",
    "smote = SMOTE(random_state=42)\n",
    "X_resampled, y_resampled = smote.fit_resample(X_encoded, y)\n",
    "print(\"After SMOTE oversampling:\", Counter(y_resampled))\n",
    "\n",
    "# 가중치 조정\n",
    "class_weights = compute_class_weight(\"balanced\", classes=np.unique(y_resampled), y=y_resampled)\n",
    "class_weight_dict = {c: w for c, w in zip(np.unique(y_resampled), class_weights)}\n",
    "print(\"Computed class weights:\", class_weight_dict)\n"
   ]
  },
  {
   "cell_type": "markdown",
   "metadata": {},
   "source": [
    "### Training (Solve Overfitting)"
   ]
  },
  {
   "cell_type": "code",
   "execution_count": 12,
   "metadata": {},
   "outputs": [
    {
     "name": "stdout",
     "output_type": "stream",
     "text": [
      "Train Accuracy: 0.7357, Test Accuracy: 0.7313\n",
      "Train ROC-AUC: 0.8256, Test ROC-AUC: 0.8205\n",
      "Cross Validation ROC-AUC Scores: [0.72983193 0.76637284 0.86229196 0.86165889 0.85708976]\n",
      "Mean CV ROC-AUC Score: 0.8154\n"
     ]
    }
   ],
   "source": [
    "from sklearn.ensemble import RandomForestClassifier\n",
    "from sklearn.model_selection import train_test_split, cross_val_score\n",
    "from sklearn.metrics import accuracy_score, roc_auc_score\n",
    "\n",
    "# 데이터 분할 (Train:Test = 80:20)\n",
    "X_train, X_test, y_train, y_test = train_test_split(X_resampled, y_resampled, test_size=0.2, random_state=42, stratify=y_resampled)\n",
    "\n",
    "# 모델 학습 (과적합 방지 Hyperparameter 적용)\n",
    "model = RandomForestClassifier(\n",
    "    n_estimators=100,         # 트리 개수\n",
    "    max_depth=10,             # 트리 최대 깊이 제한 (과적합 방지)\n",
    "    min_samples_split=5,      # 노드를 나누기 위한 최소 샘플 수 (일반적으로 2~10 사이)\n",
    "    class_weight=\"balanced\",  # 클래스 불균형 보정\n",
    "    random_state=42\n",
    ")\n",
    "\n",
    "# 모델 학습\n",
    "model.fit(X_train, y_train)\n",
    "\n",
    "# 예측 수행\n",
    "y_train_pred = model.predict(X_train)\n",
    "y_test_pred = model.predict(X_test)\n",
    "\n",
    "# 확률 예측 (ROC-AUC 계산용)\n",
    "y_train_proba = model.predict_proba(X_train)[:, 1]\n",
    "y_test_proba = model.predict_proba(X_test)[:, 1]\n",
    "\n",
    "# 성능 평가\n",
    "train_accuracy = accuracy_score(y_train, y_train_pred)\n",
    "test_accuracy = accuracy_score(y_test, y_test_pred)\n",
    "train_roc_auc = roc_auc_score(y_train, y_train_proba)\n",
    "test_roc_auc = roc_auc_score(y_test, y_test_proba)\n",
    "\n",
    "print(f\"Train Accuracy: {train_accuracy:.4f}, Test Accuracy: {test_accuracy:.4f}\")\n",
    "print(f\"Train ROC-AUC: {train_roc_auc:.4f}, Test ROC-AUC: {test_roc_auc:.4f}\")\n",
    "\n",
    "# 교차 검증 수행 (K=5)\n",
    "cv_scores = cross_val_score(model, X_resampled, y_resampled, cv=5, scoring='roc_auc')\n",
    "print(f\"Cross Validation ROC-AUC Scores: {cv_scores}\")\n",
    "print(f\"Mean CV ROC-AUC Score: {cv_scores.mean():.4f}\")"
   ]
  },
  {
   "cell_type": "markdown",
   "metadata": {},
   "source": [
    "### Predict"
   ]
  },
  {
   "cell_type": "code",
   "execution_count": 13,
   "metadata": {},
   "outputs": [],
   "source": [
    "pred_proba = model.predict_proba(test_encoded)[:, 1]"
   ]
  },
  {
   "cell_type": "markdown",
   "metadata": {},
   "source": [
    "### Submission"
   ]
  },
  {
   "cell_type": "code",
   "execution_count": 14,
   "metadata": {},
   "outputs": [],
   "source": [
    "sample_submission = pd.read_csv('./sample_submission.csv')\n",
    "sample_submission['probability'] = pred_proba"
   ]
  },
  {
   "cell_type": "code",
   "execution_count": null,
   "metadata": {},
   "outputs": [],
   "source": [
    "sample_submission.to_csv('./enc+smote+preproc_submission.csv', index=False)"
   ]
  }
 ],
 "metadata": {
  "kernelspec": {
   "display_name": "LGAimers6",
   "language": "python",
   "name": "python3"
  },
  "language_info": {
   "codemirror_mode": {
    "name": "ipython",
    "version": 3
   },
   "file_extension": ".py",
   "mimetype": "text/x-python",
   "name": "python",
   "nbconvert_exporter": "python",
   "pygments_lexer": "ipython3",
   "version": "3.13.2"
  }
 },
 "nbformat": 4,
 "nbformat_minor": 2
}
