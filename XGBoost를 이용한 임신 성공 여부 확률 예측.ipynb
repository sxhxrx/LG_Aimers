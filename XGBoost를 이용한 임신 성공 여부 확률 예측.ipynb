{
 "cells": [
  {
   "cell_type": "markdown",
   "metadata": {},
   "source": [
    "### Import"
   ]
  },
  {
   "cell_type": "code",
   "execution_count": 3,
   "metadata": {},
   "outputs": [
    {
     "name": "stdout",
     "output_type": "stream",
     "text": [
      "Collecting xgboost\n",
      "  Downloading xgboost-2.1.4-py3-none-win_amd64.whl.metadata (2.1 kB)\n",
      "Requirement already satisfied: numpy in c:\\users\\vhehr\\.conda\\envs\\lgaimers6\\lib\\site-packages (from xgboost) (2.2.2)\n",
      "Requirement already satisfied: scipy in c:\\users\\vhehr\\.conda\\envs\\lgaimers6\\lib\\site-packages (from xgboost) (1.15.1)\n",
      "Downloading xgboost-2.1.4-py3-none-win_amd64.whl (124.9 MB)\n",
      "   ---------------------------------------- 0.0/124.9 MB ? eta -:--:--\n",
      "   ----- ---------------------------------- 16.8/124.9 MB 86.2 MB/s eta 0:00:02\n",
      "   ------------- ------------------------- 41.9/124.9 MB 102.8 MB/s eta 0:00:01\n",
      "   --------------------- ----------------- 67.4/124.9 MB 108.1 MB/s eta 0:00:01\n",
      "   ---------------------------- ---------- 92.3/124.9 MB 110.4 MB/s eta 0:00:01\n",
      "   ----------------------------------- -- 117.2/124.9 MB 111.6 MB/s eta 0:00:01\n",
      "   -------------------------------------- 124.9/124.9 MB 101.7 MB/s eta 0:00:00\n",
      "Installing collected packages: xgboost\n",
      "Successfully installed xgboost-2.1.4\n"
     ]
    }
   ],
   "source": [
    "!pip install xgboost"
   ]
  },
  {
   "cell_type": "code",
   "execution_count": null,
   "metadata": {},
   "outputs": [],
   "source": [
    "import pandas as pd\n",
    "import numpy as np\n",
    "\n",
    "from sklearn.preprocessing import OrdinalEncoder\n",
    "\n",
    "import optuna\n",
    "import xgboost as xgb\n",
    "from sklearn.model_selection import train_test_split\n",
    "from sklearn.metrics import roc_auc_score"
   ]
  },
  {
   "cell_type": "markdown",
   "metadata": {},
   "source": [
    "### Data Load"
   ]
  },
  {
   "cell_type": "code",
   "execution_count": 7,
   "metadata": {},
   "outputs": [],
   "source": [
    "train = pd.read_csv('./Data/train.csv').drop(columns=['ID'])\n",
    "test = pd.read_csv('./Data/test.csv').drop(columns=['ID'])"
   ]
  },
  {
   "cell_type": "code",
   "execution_count": 8,
   "metadata": {},
   "outputs": [],
   "source": [
    "X = train.drop('임신 성공 여부', axis=1)\n",
    "y = train['임신 성공 여부']"
   ]
  },
  {
   "cell_type": "markdown",
   "metadata": {},
   "source": [
    "### Data Pre-processing"
   ]
  },
  {
   "cell_type": "code",
   "execution_count": 9,
   "metadata": {},
   "outputs": [],
   "source": [
    "categorical_columns = [\n",
    "    \"시술 시기 코드\",\n",
    "    \"시술 당시 나이\",\n",
    "    \"시술 유형\",\n",
    "    \"특정 시술 유형\",\n",
    "    \"배란 자극 여부\",\n",
    "    \"배란 유도 유형\",\n",
    "    \"단일 배아 이식 여부\",\n",
    "    \"착상 전 유전 검사 사용 여부\",\n",
    "    \"착상 전 유전 진단 사용 여부\",\n",
    "    \"남성 주 불임 원인\",\n",
    "    \"남성 부 불임 원인\",\n",
    "    \"여성 주 불임 원인\",\n",
    "    \"여성 부 불임 원인\",\n",
    "    \"부부 주 불임 원인\",\n",
    "    \"부부 부 불임 원인\",\n",
    "    \"불명확 불임 원인\",\n",
    "    \"불임 원인 - 난관 질환\",\n",
    "    \"불임 원인 - 남성 요인\",\n",
    "    \"불임 원인 - 배란 장애\",\n",
    "    \"불임 원인 - 여성 요인\",\n",
    "    \"불임 원인 - 자궁경부 문제\",\n",
    "    \"불임 원인 - 자궁내막증\",\n",
    "    \"불임 원인 - 정자 농도\",\n",
    "    \"불임 원인 - 정자 면역학적 요인\",\n",
    "    \"불임 원인 - 정자 운동성\",\n",
    "    \"불임 원인 - 정자 형태\",\n",
    "    \"배아 생성 주요 이유\",\n",
    "    \"총 시술 횟수\",\n",
    "    \"클리닉 내 총 시술 횟수\",\n",
    "    \"IVF 시술 횟수\",\n",
    "    \"DI 시술 횟수\",\n",
    "    \"총 임신 횟수\",\n",
    "    \"IVF 임신 횟수\",\n",
    "    \"DI 임신 횟수\",\n",
    "    \"총 출산 횟수\",\n",
    "    \"IVF 출산 횟수\",\n",
    "    \"DI 출산 횟수\",\n",
    "    \"난자 출처\",\n",
    "    \"정자 출처\",\n",
    "    \"난자 기증자 나이\",\n",
    "    \"정자 기증자 나이\",\n",
    "    \"동결 배아 사용 여부\",\n",
    "    \"신선 배아 사용 여부\",\n",
    "    \"기증 배아 사용 여부\",\n",
    "    \"대리모 여부\",\n",
    "    \"PGD 시술 여부\",\n",
    "    \"PGS 시술 여부\"\n",
    "]"
   ]
  },
  {
   "cell_type": "code",
   "execution_count": 10,
   "metadata": {},
   "outputs": [],
   "source": [
    "# 카테고리형 컬럼들을 문자열로 변환\n",
    "for col in categorical_columns:\n",
    "    X[col] = X[col].astype(str)\n",
    "    test[col] = test[col].astype(str)"
   ]
  },
  {
   "cell_type": "code",
   "execution_count": 11,
   "metadata": {},
   "outputs": [],
   "source": [
    "ordinal_encoder = OrdinalEncoder(handle_unknown='use_encoded_value', unknown_value=-1)\n",
    "\n",
    "X_train_encoded = X.copy()\n",
    "X_train_encoded[categorical_columns] = ordinal_encoder.fit_transform(X[categorical_columns])\n",
    "\n",
    "X_test_encoded = test.copy()\n",
    "X_test_encoded[categorical_columns] = ordinal_encoder.transform(test[categorical_columns])"
   ]
  },
  {
   "cell_type": "code",
   "execution_count": 12,
   "metadata": {},
   "outputs": [],
   "source": [
    "numeric_columns = [\n",
    "    \"임신 시도 또는 마지막 임신 경과 연수\",\n",
    "    \"총 생성 배아 수\",\n",
    "    \"미세주입된 난자 수\",\n",
    "    \"미세주입에서 생성된 배아 수\",\n",
    "    \"이식된 배아 수\",\n",
    "    \"미세주입 배아 이식 수\",\n",
    "    \"저장된 배아 수\",\n",
    "    \"미세주입 후 저장된 배아 수\",\n",
    "    \"해동된 배아 수\",\n",
    "    \"해동 난자 수\",\n",
    "    \"수집된 신선 난자 수\",\n",
    "    \"저장된 신선 난자 수\",\n",
    "    \"혼합된 난자 수\",\n",
    "    \"파트너 정자와 혼합된 난자 수\",\n",
    "    \"기증자 정자와 혼합된 난자 수\",\n",
    "    \"난자 채취 경과일\",\n",
    "    \"난자 해동 경과일\",\n",
    "    \"난자 혼합 경과일\",\n",
    "    \"배아 이식 경과일\",\n",
    "    \"배아 해동 경과일\"\n",
    "]"
   ]
  },
  {
   "cell_type": "code",
   "execution_count": 13,
   "metadata": {},
   "outputs": [],
   "source": [
    "numeric_columns = [col for col in numeric_columns if col in X.columns]\n",
    "\n",
    "X_train_encoded[numeric_columns] = X_train_encoded[numeric_columns].fillna(0)\n",
    "X_test_encoded[numeric_columns] = X_test_encoded[numeric_columns].fillna(0)"
   ]
  },
  {
   "cell_type": "code",
   "execution_count": 14,
   "metadata": {},
   "outputs": [],
   "source": [
    "X_train, X_valid, y_train, y_valid = train_test_split(\n",
    "    X_train_encoded, y, test_size=0.2, random_state=42, stratify=y\n",
    ")"
   ]
  },
  {
   "cell_type": "markdown",
   "metadata": {},
   "source": [
    "### Train"
   ]
  },
  {
   "cell_type": "markdown",
   "metadata": {},
   "source": [
    "XGBoost"
   ]
  },
  {
   "cell_type": "code",
   "execution_count": 15,
   "metadata": {},
   "outputs": [],
   "source": [
    "def objective(trial):\n",
    "    params = {\n",
    "        \"n_estimators\": trial.suggest_int(\"n_estimators\", 100, 1000, step=50),\n",
    "        \"max_depth\": trial.suggest_int(\"max_depth\", 3, 15),\n",
    "        \"learning_rate\": trial.suggest_loguniform(\"learning_rate\", 0.01, 0.3),\n",
    "        \"subsample\": trial.suggest_float(\"subsample\", 0.5, 1.0),\n",
    "        \"colsample_bytree\": trial.suggest_float(\"colsample_bytree\", 0.5, 1.0),\n",
    "        \"gamma\": trial.suggest_float(\"gamma\", 0, 5),\n",
    "        \"lambda\": trial.suggest_float(\"lambda\", 1, 10),\n",
    "        \"alpha\": trial.suggest_float(\"alpha\", 0, 10),\n",
    "        \"min_child_weight\": trial.suggest_int(\"min_child_weight\", 1, 10),\n",
    "    }\n",
    "\n",
    "    model = xgb.XGBClassifier(\n",
    "        **params,\n",
    "        objective=\"binary:logistic\",\n",
    "        eval_metric=\"auc\",\n",
    "        use_label_encoder=False,\n",
    "        verbosity=0,  # 경고 메시지 숨김\n",
    "        random_state=42,\n",
    "        n_jobs=-1,\n",
    "        scale_pos_weight=len(y_train[y_train == 0]) / len(y_train[y_train == 1])\n",
    "    )\n",
    "\n",
    "    model.fit(X_train, y_train, eval_set=[(X_valid, y_valid)], verbose=False)\n",
    "    y_pred = model.predict_proba(X_valid)[:, 1]\n",
    "    auc = roc_auc_score(y_valid, y_pred)\n",
    "\n",
    "    return auc\n"
   ]
  },
  {
   "cell_type": "code",
   "execution_count": 12,
   "metadata": {},
   "outputs": [
    {
     "name": "stderr",
     "output_type": "stream",
     "text": [
      "[I 2025-02-14 03:01:17,065] A new study created in memory with name: no-name-b8ad6b82-8b8a-4dfb-a2e8-d1b7cded3fcc\n",
      "  0%|          | 0/150 [00:00<?, ?it/s]C:\\Users\\Owner\\AppData\\Local\\Temp\\ipykernel_848\\2214655158.py:5: FutureWarning: suggest_loguniform has been deprecated in v3.0.0. This feature will be removed in v6.0.0. See https://github.com/optuna/optuna/releases/tag/v3.0.0. Use suggest_float(..., log=True) instead.\n",
      "  \"learning_rate\": trial.suggest_loguniform(\"learning_rate\", 0.01, 0.3),\n",
      "Best trial: 0. Best value: 0.737246:   1%|          | 1/150 [00:03<09:07,  3.68s/it]C:\\Users\\Owner\\AppData\\Local\\Temp\\ipykernel_848\\2214655158.py:5: FutureWarning: suggest_loguniform has been deprecated in v3.0.0. This feature will be removed in v6.0.0. See https://github.com/optuna/optuna/releases/tag/v3.0.0. Use suggest_float(..., log=True) instead.\n",
      "  \"learning_rate\": trial.suggest_loguniform(\"learning_rate\", 0.01, 0.3),\n"
     ]
    },
    {
     "name": "stdout",
     "output_type": "stream",
     "text": [
      "[I 2025-02-14 03:01:20,742] Trial 0 finished with value: 0.7372457337175858 and parameters: {'n_estimators': 200, 'max_depth': 8, 'learning_rate': 0.04934458314956417, 'subsample': 0.5122009348851322, 'colsample_bytree': 0.7145526429288481, 'gamma': 2.5491566317456176, 'lambda': 7.955863255887215, 'alpha': 5.475375905704087, 'min_child_weight': 8}. Best is trial 0 with value: 0.7372457337175858.\n"
     ]
    },
    {
     "name": "stderr",
     "output_type": "stream",
     "text": [
      "Best trial: 0. Best value: 0.737246:   1%|▏         | 2/150 [00:09<12:42,  5.15s/it]C:\\Users\\Owner\\AppData\\Local\\Temp\\ipykernel_848\\2214655158.py:5: FutureWarning: suggest_loguniform has been deprecated in v3.0.0. This feature will be removed in v6.0.0. See https://github.com/optuna/optuna/releases/tag/v3.0.0. Use suggest_float(..., log=True) instead.\n",
      "  \"learning_rate\": trial.suggest_loguniform(\"learning_rate\", 0.01, 0.3),\n"
     ]
    },
    {
     "name": "stdout",
     "output_type": "stream",
     "text": [
      "[I 2025-02-14 03:01:26,921] Trial 1 finished with value: 0.7237720938021754 and parameters: {'n_estimators': 400, 'max_depth': 12, 'learning_rate': 0.18985975946166567, 'subsample': 0.8616344202571158, 'colsample_bytree': 0.7673793695272236, 'gamma': 1.79132020385941, 'lambda': 4.180343711914006, 'alpha': 2.1609226333428144, 'min_child_weight': 2}. Best is trial 0 with value: 0.7372457337175858.\n"
     ]
    },
    {
     "name": "stderr",
     "output_type": "stream",
     "text": [
      "Best trial: 0. Best value: 0.737246:   2%|▏         | 3/150 [00:11<08:54,  3.64s/it]C:\\Users\\Owner\\AppData\\Local\\Temp\\ipykernel_848\\2214655158.py:5: FutureWarning: suggest_loguniform has been deprecated in v3.0.0. This feature will be removed in v6.0.0. See https://github.com/optuna/optuna/releases/tag/v3.0.0. Use suggest_float(..., log=True) instead.\n",
      "  \"learning_rate\": trial.suggest_loguniform(\"learning_rate\", 0.01, 0.3),\n"
     ]
    },
    {
     "name": "stdout",
     "output_type": "stream",
     "text": [
      "[I 2025-02-14 03:01:28,759] Trial 2 finished with value: 0.7353614518290066 and parameters: {'n_estimators': 100, 'max_depth': 7, 'learning_rate': 0.16122635836738328, 'subsample': 0.638745392968016, 'colsample_bytree': 0.5816082635479136, 'gamma': 1.2326521091698321, 'lambda': 1.897937391545309, 'alpha': 7.3775153983136335, 'min_child_weight': 4}. Best is trial 0 with value: 0.7372457337175858.\n"
     ]
    },
    {
     "name": "stderr",
     "output_type": "stream",
     "text": [
      "Best trial: 0. Best value: 0.737246:   3%|▎         | 4/150 [00:23<16:20,  6.72s/it]C:\\Users\\Owner\\AppData\\Local\\Temp\\ipykernel_848\\2214655158.py:5: FutureWarning: suggest_loguniform has been deprecated in v3.0.0. This feature will be removed in v6.0.0. See https://github.com/optuna/optuna/releases/tag/v3.0.0. Use suggest_float(..., log=True) instead.\n",
      "  \"learning_rate\": trial.suggest_loguniform(\"learning_rate\", 0.01, 0.3),\n"
     ]
    },
    {
     "name": "stdout",
     "output_type": "stream",
     "text": [
      "[I 2025-02-14 03:01:40,196] Trial 3 finished with value: 0.7370797927609273 and parameters: {'n_estimators': 650, 'max_depth': 12, 'learning_rate': 0.016386984149073157, 'subsample': 0.780405498178918, 'colsample_bytree': 0.8342627096286931, 'gamma': 4.259807179414829, 'lambda': 6.694511198860785, 'alpha': 4.685354999335869, 'min_child_weight': 3}. Best is trial 0 with value: 0.7372457337175858.\n"
     ]
    },
    {
     "name": "stderr",
     "output_type": "stream",
     "text": [
      "Best trial: 0. Best value: 0.737246:   3%|▎         | 5/150 [00:47<31:48, 13.16s/it]C:\\Users\\Owner\\AppData\\Local\\Temp\\ipykernel_848\\2214655158.py:5: FutureWarning: suggest_loguniform has been deprecated in v3.0.0. This feature will be removed in v6.0.0. See https://github.com/optuna/optuna/releases/tag/v3.0.0. Use suggest_float(..., log=True) instead.\n",
      "  \"learning_rate\": trial.suggest_loguniform(\"learning_rate\", 0.01, 0.3),\n"
     ]
    },
    {
     "name": "stdout",
     "output_type": "stream",
     "text": [
      "[I 2025-02-14 03:02:04,789] Trial 4 finished with value: 0.7043705055093108 and parameters: {'n_estimators': 1000, 'max_depth': 13, 'learning_rate': 0.08353408722285394, 'subsample': 0.609304278396812, 'colsample_bytree': 0.6517498535363431, 'gamma': 0.5117808002650637, 'lambda': 8.967223836630922, 'alpha': 3.1005739555749354, 'min_child_weight': 8}. Best is trial 0 with value: 0.7372457337175858.\n"
     ]
    },
    {
     "name": "stderr",
     "output_type": "stream",
     "text": [
      "Best trial: 0. Best value: 0.737246:   4%|▍         | 6/150 [00:56<28:16, 11.78s/it]C:\\Users\\Owner\\AppData\\Local\\Temp\\ipykernel_848\\2214655158.py:5: FutureWarning: suggest_loguniform has been deprecated in v3.0.0. This feature will be removed in v6.0.0. See https://github.com/optuna/optuna/releases/tag/v3.0.0. Use suggest_float(..., log=True) instead.\n",
      "  \"learning_rate\": trial.suggest_loguniform(\"learning_rate\", 0.01, 0.3),\n"
     ]
    },
    {
     "name": "stdout",
     "output_type": "stream",
     "text": [
      "[I 2025-02-14 03:02:13,891] Trial 5 finished with value: 0.7329085232136371 and parameters: {'n_estimators': 500, 'max_depth': 6, 'learning_rate': 0.15330458231897967, 'subsample': 0.5785815465363526, 'colsample_bytree': 0.5994879342628407, 'gamma': 2.884891253712123, 'lambda': 6.159239894313756, 'alpha': 6.91991584705406, 'min_child_weight': 10}. Best is trial 0 with value: 0.7372457337175858.\n"
     ]
    },
    {
     "name": "stderr",
     "output_type": "stream",
     "text": [
      "Best trial: 0. Best value: 0.737246:   5%|▍         | 7/150 [01:11<30:08, 12.65s/it]C:\\Users\\Owner\\AppData\\Local\\Temp\\ipykernel_848\\2214655158.py:5: FutureWarning: suggest_loguniform has been deprecated in v3.0.0. This feature will be removed in v6.0.0. See https://github.com/optuna/optuna/releases/tag/v3.0.0. Use suggest_float(..., log=True) instead.\n",
      "  \"learning_rate\": trial.suggest_loguniform(\"learning_rate\", 0.01, 0.3),\n"
     ]
    },
    {
     "name": "stdout",
     "output_type": "stream",
     "text": [
      "[I 2025-02-14 03:02:28,317] Trial 6 finished with value: 0.7370879616517776 and parameters: {'n_estimators': 850, 'max_depth': 4, 'learning_rate': 0.03184172668312708, 'subsample': 0.6605393323558644, 'colsample_bytree': 0.663901688132934, 'gamma': 2.6678717360015654, 'lambda': 5.858412444046921, 'alpha': 5.44258545264363, 'min_child_weight': 4}. Best is trial 0 with value: 0.7372457337175858.\n"
     ]
    },
    {
     "name": "stderr",
     "output_type": "stream",
     "text": [
      "Best trial: 0. Best value: 0.737246:   5%|▌         | 8/150 [01:19<26:40, 11.27s/it]C:\\Users\\Owner\\AppData\\Local\\Temp\\ipykernel_848\\2214655158.py:5: FutureWarning: suggest_loguniform has been deprecated in v3.0.0. This feature will be removed in v6.0.0. See https://github.com/optuna/optuna/releases/tag/v3.0.0. Use suggest_float(..., log=True) instead.\n",
      "  \"learning_rate\": trial.suggest_loguniform(\"learning_rate\", 0.01, 0.3),\n"
     ]
    },
    {
     "name": "stdout",
     "output_type": "stream",
     "text": [
      "[I 2025-02-14 03:02:36,636] Trial 7 finished with value: 0.7251744597726549 and parameters: {'n_estimators': 400, 'max_depth': 11, 'learning_rate': 0.10999535526119877, 'subsample': 0.6109024010555694, 'colsample_bytree': 0.5741461442562292, 'gamma': 1.740191739948596, 'lambda': 3.993703484230542, 'alpha': 4.83505084217044, 'min_child_weight': 5}. Best is trial 0 with value: 0.7372457337175858.\n"
     ]
    },
    {
     "name": "stderr",
     "output_type": "stream",
     "text": [
      "Best trial: 0. Best value: 0.737246:   6%|▌         | 9/150 [01:22<20:37,  8.77s/it]C:\\Users\\Owner\\AppData\\Local\\Temp\\ipykernel_848\\2214655158.py:5: FutureWarning: suggest_loguniform has been deprecated in v3.0.0. This feature will be removed in v6.0.0. See https://github.com/optuna/optuna/releases/tag/v3.0.0. Use suggest_float(..., log=True) instead.\n",
      "  \"learning_rate\": trial.suggest_loguniform(\"learning_rate\", 0.01, 0.3),\n"
     ]
    },
    {
     "name": "stdout",
     "output_type": "stream",
     "text": [
      "[I 2025-02-14 03:02:39,923] Trial 8 finished with value: 0.7362216700850135 and parameters: {'n_estimators': 150, 'max_depth': 13, 'learning_rate': 0.058707655556813565, 'subsample': 0.5730829275584397, 'colsample_bytree': 0.9298966700799756, 'gamma': 4.4391682180017495, 'lambda': 6.74077711707985, 'alpha': 3.422010649830489, 'min_child_weight': 7}. Best is trial 0 with value: 0.7372457337175858.\n"
     ]
    },
    {
     "name": "stderr",
     "output_type": "stream",
     "text": [
      "Best trial: 0. Best value: 0.737246:   7%|▋         | 10/150 [01:27<17:22,  7.44s/it]C:\\Users\\Owner\\AppData\\Local\\Temp\\ipykernel_848\\2214655158.py:5: FutureWarning: suggest_loguniform has been deprecated in v3.0.0. This feature will be removed in v6.0.0. See https://github.com/optuna/optuna/releases/tag/v3.0.0. Use suggest_float(..., log=True) instead.\n",
      "  \"learning_rate\": trial.suggest_loguniform(\"learning_rate\", 0.01, 0.3),\n"
     ]
    },
    {
     "name": "stdout",
     "output_type": "stream",
     "text": [
      "[I 2025-02-14 03:02:44,391] Trial 9 finished with value: 0.7370088051093637 and parameters: {'n_estimators': 250, 'max_depth': 5, 'learning_rate': 0.06214795101788156, 'subsample': 0.9715610116564423, 'colsample_bytree': 0.9823498929953564, 'gamma': 1.8601547846505107, 'lambda': 9.68528522321235, 'alpha': 3.165888182015503, 'min_child_weight': 6}. Best is trial 0 with value: 0.7372457337175858.\n"
     ]
    },
    {
     "name": "stderr",
     "output_type": "stream",
     "text": [
      "Best trial: 0. Best value: 0.737246:   7%|▋         | 11/150 [01:40<21:21,  9.22s/it]C:\\Users\\Owner\\AppData\\Local\\Temp\\ipykernel_848\\2214655158.py:5: FutureWarning: suggest_loguniform has been deprecated in v3.0.0. This feature will be removed in v6.0.0. See https://github.com/optuna/optuna/releases/tag/v3.0.0. Use suggest_float(..., log=True) instead.\n",
      "  \"learning_rate\": trial.suggest_loguniform(\"learning_rate\", 0.01, 0.3),\n"
     ]
    },
    {
     "name": "stdout",
     "output_type": "stream",
     "text": [
      "[I 2025-02-14 03:02:57,632] Trial 10 finished with value: 0.7369930152955508 and parameters: {'n_estimators': 700, 'max_depth': 9, 'learning_rate': 0.026521262468622183, 'subsample': 0.5162284646199743, 'colsample_bytree': 0.7641761158961088, 'gamma': 3.3505803445908846, 'lambda': 8.229313260149352, 'alpha': 9.963179569039362, 'min_child_weight': 10}. Best is trial 0 with value: 0.7372457337175858.\n"
     ]
    },
    {
     "name": "stderr",
     "output_type": "stream",
     "text": [
      "Best trial: 0. Best value: 0.737246:   8%|▊         | 12/150 [01:56<25:57, 11.29s/it]C:\\Users\\Owner\\AppData\\Local\\Temp\\ipykernel_848\\2214655158.py:5: FutureWarning: suggest_loguniform has been deprecated in v3.0.0. This feature will be removed in v6.0.0. See https://github.com/optuna/optuna/releases/tag/v3.0.0. Use suggest_float(..., log=True) instead.\n",
      "  \"learning_rate\": trial.suggest_loguniform(\"learning_rate\", 0.01, 0.3),\n"
     ]
    },
    {
     "name": "stdout",
     "output_type": "stream",
     "text": [
      "[I 2025-02-14 03:03:13,653] Trial 11 finished with value: 0.7368637653553854 and parameters: {'n_estimators': 950, 'max_depth': 3, 'learning_rate': 0.03035218608018954, 'subsample': 0.7101378707300862, 'colsample_bytree': 0.6706151925692349, 'gamma': 3.3909242287032146, 'lambda': 7.798891738916301, 'alpha': 6.852802067954285, 'min_child_weight': 1}. Best is trial 0 with value: 0.7372457337175858.\n"
     ]
    },
    {
     "name": "stderr",
     "output_type": "stream",
     "text": [
      "Best trial: 0. Best value: 0.737246:   9%|▊         | 13/150 [02:09<27:08, 11.89s/it]C:\\Users\\Owner\\AppData\\Local\\Temp\\ipykernel_848\\2214655158.py:5: FutureWarning: suggest_loguniform has been deprecated in v3.0.0. This feature will be removed in v6.0.0. See https://github.com/optuna/optuna/releases/tag/v3.0.0. Use suggest_float(..., log=True) instead.\n",
      "  \"learning_rate\": trial.suggest_loguniform(\"learning_rate\", 0.01, 0.3),\n"
     ]
    },
    {
     "name": "stdout",
     "output_type": "stream",
     "text": [
      "[I 2025-02-14 03:03:26,929] Trial 12 finished with value: 0.7363682624146741 and parameters: {'n_estimators': 800, 'max_depth': 3, 'learning_rate': 0.0330355954254444, 'subsample': 0.5058349188916338, 'colsample_bytree': 0.6982720198893121, 'gamma': 2.5836454517354177, 'lambda': 4.793782470644118, 'alpha': 0.013376265298451706, 'min_child_weight': 8}. Best is trial 0 with value: 0.7372457337175858.\n"
     ]
    },
    {
     "name": "stderr",
     "output_type": "stream",
     "text": [
      "Best trial: 13. Best value: 0.737526:   9%|▉         | 14/150 [02:26<30:12, 13.33s/it]C:\\Users\\Owner\\AppData\\Local\\Temp\\ipykernel_848\\2214655158.py:5: FutureWarning: suggest_loguniform has been deprecated in v3.0.0. This feature will be removed in v6.0.0. See https://github.com/optuna/optuna/releases/tag/v3.0.0. Use suggest_float(..., log=True) instead.\n",
      "  \"learning_rate\": trial.suggest_loguniform(\"learning_rate\", 0.01, 0.3),\n"
     ]
    },
    {
     "name": "stdout",
     "output_type": "stream",
     "text": [
      "[I 2025-02-14 03:03:43,575] Trial 13 finished with value: 0.7375258703879246 and parameters: {'n_estimators': 850, 'max_depth': 9, 'learning_rate': 0.010111875627724195, 'subsample': 0.7070931255879782, 'colsample_bytree': 0.8508455117000386, 'gamma': 3.5806814120364505, 'lambda': 1.9626750374516884, 'alpha': 8.290475523390558, 'min_child_weight': 5}. Best is trial 13 with value: 0.7375258703879246.\n"
     ]
    },
    {
     "name": "stderr",
     "output_type": "stream",
     "text": [
      "Best trial: 13. Best value: 0.737526:  10%|█         | 15/150 [02:32<25:18, 11.25s/it]C:\\Users\\Owner\\AppData\\Local\\Temp\\ipykernel_848\\2214655158.py:5: FutureWarning: suggest_loguniform has been deprecated in v3.0.0. This feature will be removed in v6.0.0. See https://github.com/optuna/optuna/releases/tag/v3.0.0. Use suggest_float(..., log=True) instead.\n",
      "  \"learning_rate\": trial.suggest_loguniform(\"learning_rate\", 0.01, 0.3),\n"
     ]
    },
    {
     "name": "stdout",
     "output_type": "stream",
     "text": [
      "[I 2025-02-14 03:03:49,998] Trial 14 finished with value: 0.7369883218314675 and parameters: {'n_estimators': 300, 'max_depth': 9, 'learning_rate': 0.010443642357988756, 'subsample': 0.8233552930816945, 'colsample_bytree': 0.8584679701593771, 'gamma': 3.8749279111135775, 'lambda': 1.0661758429287458, 'alpha': 9.49007371914125, 'min_child_weight': 8}. Best is trial 13 with value: 0.7375258703879246.\n"
     ]
    },
    {
     "name": "stderr",
     "output_type": "stream",
     "text": [
      "Best trial: 13. Best value: 0.737526:  11%|█         | 16/150 [02:42<24:02, 10.76s/it]C:\\Users\\Owner\\AppData\\Local\\Temp\\ipykernel_848\\2214655158.py:5: FutureWarning: suggest_loguniform has been deprecated in v3.0.0. This feature will be removed in v6.0.0. See https://github.com/optuna/optuna/releases/tag/v3.0.0. Use suggest_float(..., log=True) instead.\n",
      "  \"learning_rate\": trial.suggest_loguniform(\"learning_rate\", 0.01, 0.3),\n"
     ]
    },
    {
     "name": "stdout",
     "output_type": "stream",
     "text": [
      "[I 2025-02-14 03:03:59,646] Trial 15 finished with value: 0.7348185020166113 and parameters: {'n_estimators': 600, 'max_depth': 8, 'learning_rate': 0.26713879742493934, 'subsample': 0.7168471204261007, 'colsample_bytree': 0.8438962320206381, 'gamma': 4.740584282745073, 'lambda': 2.7201030841003986, 'alpha': 8.431764010372515, 'min_child_weight': 6}. Best is trial 13 with value: 0.7375258703879246.\n"
     ]
    },
    {
     "name": "stderr",
     "output_type": "stream",
     "text": [
      "Best trial: 13. Best value: 0.737526:  11%|█▏        | 17/150 [02:59<27:57, 12.61s/it]C:\\Users\\Owner\\AppData\\Local\\Temp\\ipykernel_848\\2214655158.py:5: FutureWarning: suggest_loguniform has been deprecated in v3.0.0. This feature will be removed in v6.0.0. See https://github.com/optuna/optuna/releases/tag/v3.0.0. Use suggest_float(..., log=True) instead.\n",
      "  \"learning_rate\": trial.suggest_loguniform(\"learning_rate\", 0.01, 0.3),\n"
     ]
    },
    {
     "name": "stdout",
     "output_type": "stream",
     "text": [
      "[I 2025-02-14 03:04:16,557] Trial 16 finished with value: 0.7369039218716915 and parameters: {'n_estimators': 800, 'max_depth': 15, 'learning_rate': 0.010085779923995163, 'subsample': 0.9321708555043615, 'colsample_bytree': 0.8962666887824365, 'gamma': 3.2700750342219522, 'lambda': 3.1612149614295215, 'alpha': 8.27371904670427, 'min_child_weight': 9}. Best is trial 13 with value: 0.7375258703879246.\n"
     ]
    },
    {
     "name": "stderr",
     "output_type": "stream",
     "text": [
      "Best trial: 13. Best value: 0.737526:  12%|█▏        | 18/150 [03:08<25:23, 11.54s/it]C:\\Users\\Owner\\AppData\\Local\\Temp\\ipykernel_848\\2214655158.py:5: FutureWarning: suggest_loguniform has been deprecated in v3.0.0. This feature will be removed in v6.0.0. See https://github.com/optuna/optuna/releases/tag/v3.0.0. Use suggest_float(..., log=True) instead.\n",
      "  \"learning_rate\": trial.suggest_loguniform(\"learning_rate\", 0.01, 0.3),\n"
     ]
    },
    {
     "name": "stdout",
     "output_type": "stream",
     "text": [
      "[I 2025-02-14 03:04:25,598] Trial 17 finished with value: 0.7373368313935569 and parameters: {'n_estimators': 450, 'max_depth': 10, 'learning_rate': 0.015527116944791053, 'subsample': 0.8633984496851702, 'colsample_bytree': 0.5059806808232814, 'gamma': 3.8430775114461477, 'lambda': 7.570843885108687, 'alpha': 5.829780822165208, 'min_child_weight': 5}. Best is trial 13 with value: 0.7375258703879246.\n"
     ]
    },
    {
     "name": "stderr",
     "output_type": "stream",
     "text": [
      "Best trial: 13. Best value: 0.737526:  13%|█▎        | 19/150 [03:18<24:09, 11.06s/it]C:\\Users\\Owner\\AppData\\Local\\Temp\\ipykernel_848\\2214655158.py:5: FutureWarning: suggest_loguniform has been deprecated in v3.0.0. This feature will be removed in v6.0.0. See https://github.com/optuna/optuna/releases/tag/v3.0.0. Use suggest_float(..., log=True) instead.\n",
      "  \"learning_rate\": trial.suggest_loguniform(\"learning_rate\", 0.01, 0.3),\n"
     ]
    },
    {
     "name": "stdout",
     "output_type": "stream",
     "text": [
      "[I 2025-02-14 03:04:35,546] Trial 18 finished with value: 0.7374238649743592 and parameters: {'n_estimators': 500, 'max_depth': 10, 'learning_rate': 0.01699275584099212, 'subsample': 0.9086458006236123, 'colsample_bytree': 0.505112752389719, 'gamma': 4.033900279881955, 'lambda': 5.096989362075265, 'alpha': 6.193598616542085, 'min_child_weight': 5}. Best is trial 13 with value: 0.7375258703879246.\n"
     ]
    },
    {
     "name": "stderr",
     "output_type": "stream",
     "text": [
      "Best trial: 13. Best value: 0.737526:  13%|█▎        | 20/150 [03:31<25:06, 11.59s/it]C:\\Users\\Owner\\AppData\\Local\\Temp\\ipykernel_848\\2214655158.py:5: FutureWarning: suggest_loguniform has been deprecated in v3.0.0. This feature will be removed in v6.0.0. See https://github.com/optuna/optuna/releases/tag/v3.0.0. Use suggest_float(..., log=True) instead.\n",
      "  \"learning_rate\": trial.suggest_loguniform(\"learning_rate\", 0.01, 0.3),\n"
     ]
    },
    {
     "name": "stdout",
     "output_type": "stream",
     "text": [
      "[I 2025-02-14 03:04:48,364] Trial 19 finished with value: 0.7371343592443722 and parameters: {'n_estimators': 700, 'max_depth': 15, 'learning_rate': 0.01541229194163453, 'subsample': 0.9987573081444144, 'colsample_bytree': 0.8007406635990715, 'gamma': 3.9498880921016224, 'lambda': 4.884210261046387, 'alpha': 8.295962323640222, 'min_child_weight': 3}. Best is trial 13 with value: 0.7375258703879246.\n"
     ]
    },
    {
     "name": "stderr",
     "output_type": "stream",
     "text": [
      "Best trial: 13. Best value: 0.737526:  14%|█▍        | 21/150 [03:46<27:07, 12.62s/it]C:\\Users\\Owner\\AppData\\Local\\Temp\\ipykernel_848\\2214655158.py:5: FutureWarning: suggest_loguniform has been deprecated in v3.0.0. This feature will be removed in v6.0.0. See https://github.com/optuna/optuna/releases/tag/v3.0.0. Use suggest_float(..., log=True) instead.\n",
      "  \"learning_rate\": trial.suggest_loguniform(\"learning_rate\", 0.01, 0.3),\n"
     ]
    },
    {
     "name": "stdout",
     "output_type": "stream",
     "text": [
      "[I 2025-02-14 03:05:03,379] Trial 20 finished with value: 0.7371902956475368 and parameters: {'n_estimators': 900, 'max_depth': 10, 'learning_rate': 0.0193331232367458, 'subsample': 0.7815556306670143, 'colsample_bytree': 0.9864294467924446, 'gamma': 4.861333258531279, 'lambda': 2.8427708903731044, 'alpha': 6.2970938763577635, 'min_child_weight': 4}. Best is trial 13 with value: 0.7375258703879246.\n"
     ]
    },
    {
     "name": "stderr",
     "output_type": "stream",
     "text": [
      "Best trial: 13. Best value: 0.737526:  15%|█▍        | 22/150 [03:56<25:18, 11.86s/it]C:\\Users\\Owner\\AppData\\Local\\Temp\\ipykernel_848\\2214655158.py:5: FutureWarning: suggest_loguniform has been deprecated in v3.0.0. This feature will be removed in v6.0.0. See https://github.com/optuna/optuna/releases/tag/v3.0.0. Use suggest_float(..., log=True) instead.\n",
      "  \"learning_rate\": trial.suggest_loguniform(\"learning_rate\", 0.01, 0.3),\n"
     ]
    },
    {
     "name": "stdout",
     "output_type": "stream",
     "text": [
      "[I 2025-02-14 03:05:13,475] Trial 21 finished with value: 0.7372932302240425 and parameters: {'n_estimators': 500, 'max_depth': 10, 'learning_rate': 0.0138499728835055, 'subsample': 0.8903136549681604, 'colsample_bytree': 0.5146871718285999, 'gamma': 3.8394031244353792, 'lambda': 7.180279268112259, 'alpha': 6.099437111784782, 'min_child_weight': 5}. Best is trial 13 with value: 0.7375258703879246.\n"
     ]
    },
    {
     "name": "stderr",
     "output_type": "stream",
     "text": [
      "Best trial: 13. Best value: 0.737526:  15%|█▌        | 23/150 [04:04<22:27, 10.61s/it]C:\\Users\\Owner\\AppData\\Local\\Temp\\ipykernel_848\\2214655158.py:5: FutureWarning: suggest_loguniform has been deprecated in v3.0.0. This feature will be removed in v6.0.0. See https://github.com/optuna/optuna/releases/tag/v3.0.0. Use suggest_float(..., log=True) instead.\n",
      "  \"learning_rate\": trial.suggest_loguniform(\"learning_rate\", 0.01, 0.3),\n"
     ]
    },
    {
     "name": "stdout",
     "output_type": "stream",
     "text": [
      "[I 2025-02-14 03:05:21,170] Trial 22 finished with value: 0.7374179772976507 and parameters: {'n_estimators': 400, 'max_depth': 10, 'learning_rate': 0.02189479885487111, 'subsample': 0.9038273168532418, 'colsample_bytree': 0.501844306170724, 'gamma': 3.467551095793266, 'lambda': 5.355879352963578, 'alpha': 7.68814149505595, 'min_child_weight': 6}. Best is trial 13 with value: 0.7375258703879246.\n"
     ]
    },
    {
     "name": "stderr",
     "output_type": "stream",
     "text": [
      "Best trial: 13. Best value: 0.737526:  16%|█▌        | 24/150 [04:10<19:39,  9.36s/it]C:\\Users\\Owner\\AppData\\Local\\Temp\\ipykernel_848\\2214655158.py:5: FutureWarning: suggest_loguniform has been deprecated in v3.0.0. This feature will be removed in v6.0.0. See https://github.com/optuna/optuna/releases/tag/v3.0.0. Use suggest_float(..., log=True) instead.\n",
      "  \"learning_rate\": trial.suggest_loguniform(\"learning_rate\", 0.01, 0.3),\n"
     ]
    },
    {
     "name": "stdout",
     "output_type": "stream",
     "text": [
      "[I 2025-02-14 03:05:27,611] Trial 23 finished with value: 0.7372046549872077 and parameters: {'n_estimators': 350, 'max_depth': 7, 'learning_rate': 0.020300036635298085, 'subsample': 0.9038092420794259, 'colsample_bytree': 0.5460096561367299, 'gamma': 3.0039988997759393, 'lambda': 5.112638659154198, 'alpha': 7.688625715420346, 'min_child_weight': 6}. Best is trial 13 with value: 0.7375258703879246.\n"
     ]
    },
    {
     "name": "stderr",
     "output_type": "stream",
     "text": [
      "Best trial: 13. Best value: 0.737526:  17%|█▋        | 25/150 [04:21<20:35,  9.89s/it]C:\\Users\\Owner\\AppData\\Local\\Temp\\ipykernel_848\\2214655158.py:5: FutureWarning: suggest_loguniform has been deprecated in v3.0.0. This feature will be removed in v6.0.0. See https://github.com/optuna/optuna/releases/tag/v3.0.0. Use suggest_float(..., log=True) instead.\n",
      "  \"learning_rate\": trial.suggest_loguniform(\"learning_rate\", 0.01, 0.3),\n"
     ]
    },
    {
     "name": "stdout",
     "output_type": "stream",
     "text": [
      "[I 2025-02-14 03:05:38,731] Trial 24 finished with value: 0.7375004027861786 and parameters: {'n_estimators': 550, 'max_depth': 11, 'learning_rate': 0.012517654374728121, 'subsample': 0.8130963351071634, 'colsample_bytree': 0.5373534915542757, 'gamma': 4.265894599269584, 'lambda': 3.767189672240584, 'alpha': 9.018798533650862, 'min_child_weight': 7}. Best is trial 13 with value: 0.7375258703879246.\n"
     ]
    },
    {
     "name": "stderr",
     "output_type": "stream",
     "text": [
      "Best trial: 13. Best value: 0.737526:  17%|█▋        | 26/150 [04:32<20:48, 10.07s/it]C:\\Users\\Owner\\AppData\\Local\\Temp\\ipykernel_848\\2214655158.py:5: FutureWarning: suggest_loguniform has been deprecated in v3.0.0. This feature will be removed in v6.0.0. See https://github.com/optuna/optuna/releases/tag/v3.0.0. Use suggest_float(..., log=True) instead.\n",
      "  \"learning_rate\": trial.suggest_loguniform(\"learning_rate\", 0.01, 0.3),\n"
     ]
    },
    {
     "name": "stdout",
     "output_type": "stream",
     "text": [
      "[I 2025-02-14 03:05:49,225] Trial 25 finished with value: 0.7374008801039313 and parameters: {'n_estimators': 550, 'max_depth': 11, 'learning_rate': 0.01148822063853003, 'subsample': 0.816667303660123, 'colsample_bytree': 0.5437668628263213, 'gamma': 4.330303983302959, 'lambda': 1.8903378096671417, 'alpha': 9.219106501381338, 'min_child_weight': 7}. Best is trial 13 with value: 0.7375258703879246.\n"
     ]
    },
    {
     "name": "stderr",
     "output_type": "stream",
     "text": [
      "Best trial: 26. Best value: 0.737583:  18%|█▊        | 27/150 [04:43<21:27, 10.47s/it]C:\\Users\\Owner\\AppData\\Local\\Temp\\ipykernel_848\\2214655158.py:5: FutureWarning: suggest_loguniform has been deprecated in v3.0.0. This feature will be removed in v6.0.0. See https://github.com/optuna/optuna/releases/tag/v3.0.0. Use suggest_float(..., log=True) instead.\n",
      "  \"learning_rate\": trial.suggest_loguniform(\"learning_rate\", 0.01, 0.3),\n"
     ]
    },
    {
     "name": "stdout",
     "output_type": "stream",
     "text": [
      "[I 2025-02-14 03:06:00,625] Trial 26 finished with value: 0.7375826257648346 and parameters: {'n_estimators': 600, 'max_depth': 12, 'learning_rate': 0.012483958797942169, 'subsample': 0.7291315547188492, 'colsample_bytree': 0.5910630122878973, 'gamma': 4.9299844249132985, 'lambda': 3.7568088182335693, 'alpha': 8.924644097136852, 'min_child_weight': 7}. Best is trial 26 with value: 0.7375826257648346.\n"
     ]
    },
    {
     "name": "stderr",
     "output_type": "stream",
     "text": [
      "Best trial: 26. Best value: 0.737583:  19%|█▊        | 28/150 [04:56<22:30, 11.07s/it]C:\\Users\\Owner\\AppData\\Local\\Temp\\ipykernel_848\\2214655158.py:5: FutureWarning: suggest_loguniform has been deprecated in v3.0.0. This feature will be removed in v6.0.0. See https://github.com/optuna/optuna/releases/tag/v3.0.0. Use suggest_float(..., log=True) instead.\n",
      "  \"learning_rate\": trial.suggest_loguniform(\"learning_rate\", 0.01, 0.3),\n"
     ]
    },
    {
     "name": "stdout",
     "output_type": "stream",
     "text": [
      "[I 2025-02-14 03:06:13,095] Trial 27 finished with value: 0.7375363433249122 and parameters: {'n_estimators': 750, 'max_depth': 14, 'learning_rate': 0.04161438311366043, 'subsample': 0.7121481036369869, 'colsample_bytree': 0.6251023221537534, 'gamma': 4.937535066486245, 'lambda': 3.6804908554760694, 'alpha': 8.83608845547872, 'min_child_weight': 7}. Best is trial 26 with value: 0.7375826257648346.\n"
     ]
    },
    {
     "name": "stderr",
     "output_type": "stream",
     "text": [
      "Best trial: 26. Best value: 0.737583:  19%|█▉        | 29/150 [05:07<22:43, 11.26s/it]C:\\Users\\Owner\\AppData\\Local\\Temp\\ipykernel_848\\2214655158.py:5: FutureWarning: suggest_loguniform has been deprecated in v3.0.0. This feature will be removed in v6.0.0. See https://github.com/optuna/optuna/releases/tag/v3.0.0. Use suggest_float(..., log=True) instead.\n",
      "  \"learning_rate\": trial.suggest_loguniform(\"learning_rate\", 0.01, 0.3),\n"
     ]
    },
    {
     "name": "stdout",
     "output_type": "stream",
     "text": [
      "[I 2025-02-14 03:06:24,815] Trial 28 finished with value: 0.7374357475388846 and parameters: {'n_estimators': 750, 'max_depth': 13, 'learning_rate': 0.046514646593324195, 'subsample': 0.7047288156014064, 'colsample_bytree': 0.6359044537681696, 'gamma': 4.803887720917704, 'lambda': 2.1177545941674425, 'alpha': 9.989415898018539, 'min_child_weight': 7}. Best is trial 26 with value: 0.7375826257648346.\n"
     ]
    },
    {
     "name": "stderr",
     "output_type": "stream",
     "text": [
      "Best trial: 26. Best value: 0.737583:  20%|██        | 30/150 [05:18<22:00, 11.00s/it]C:\\Users\\Owner\\AppData\\Local\\Temp\\ipykernel_848\\2214655158.py:5: FutureWarning: suggest_loguniform has been deprecated in v3.0.0. This feature will be removed in v6.0.0. See https://github.com/optuna/optuna/releases/tag/v3.0.0. Use suggest_float(..., log=True) instead.\n",
      "  \"learning_rate\": trial.suggest_loguniform(\"learning_rate\", 0.01, 0.3),\n"
     ]
    },
    {
     "name": "stdout",
     "output_type": "stream",
     "text": [
      "[I 2025-02-14 03:06:35,199] Trial 29 finished with value: 0.7373818143951363 and parameters: {'n_estimators': 650, 'max_depth': 14, 'learning_rate': 0.04230184430443986, 'subsample': 0.7410451332336901, 'colsample_bytree': 0.7194626419292478, 'gamma': 4.947566471335621, 'lambda': 1.107510496417472, 'alpha': 8.607640322787756, 'min_child_weight': 9}. Best is trial 26 with value: 0.7375826257648346.\n"
     ]
    },
    {
     "name": "stderr",
     "output_type": "stream",
     "text": [
      "Best trial: 26. Best value: 0.737583:  21%|██        | 31/150 [05:31<23:28, 11.84s/it]C:\\Users\\Owner\\AppData\\Local\\Temp\\ipykernel_848\\2214655158.py:5: FutureWarning: suggest_loguniform has been deprecated in v3.0.0. This feature will be removed in v6.0.0. See https://github.com/optuna/optuna/releases/tag/v3.0.0. Use suggest_float(..., log=True) instead.\n",
      "  \"learning_rate\": trial.suggest_loguniform(\"learning_rate\", 0.01, 0.3),\n"
     ]
    },
    {
     "name": "stdout",
     "output_type": "stream",
     "text": [
      "[I 2025-02-14 03:06:48,996] Trial 30 finished with value: 0.7362870450365078 and parameters: {'n_estimators': 900, 'max_depth': 14, 'learning_rate': 0.0772959031152098, 'subsample': 0.6640296782555353, 'colsample_bytree': 0.6167188104503637, 'gamma': 4.378513052881223, 'lambda': 3.355676211822442, 'alpha': 8.977085683678935, 'min_child_weight': 9}. Best is trial 26 with value: 0.7375826257648346.\n"
     ]
    },
    {
     "name": "stderr",
     "output_type": "stream",
     "text": [
      "Best trial: 26. Best value: 0.737583:  21%|██▏       | 32/150 [05:43<23:00, 11.70s/it]C:\\Users\\Owner\\AppData\\Local\\Temp\\ipykernel_848\\2214655158.py:5: FutureWarning: suggest_loguniform has been deprecated in v3.0.0. This feature will be removed in v6.0.0. See https://github.com/optuna/optuna/releases/tag/v3.0.0. Use suggest_float(..., log=True) instead.\n",
      "  \"learning_rate\": trial.suggest_loguniform(\"learning_rate\", 0.01, 0.3),\n"
     ]
    },
    {
     "name": "stdout",
     "output_type": "stream",
     "text": [
      "[I 2025-02-14 03:07:00,357] Trial 31 finished with value: 0.7375443345232774 and parameters: {'n_estimators': 600, 'max_depth': 12, 'learning_rate': 0.012594635299465253, 'subsample': 0.7649490378589315, 'colsample_bytree': 0.5634466362609394, 'gamma': 4.532287356121426, 'lambda': 4.0300611448289985, 'alpha': 9.131675399251856, 'min_child_weight': 7}. Best is trial 26 with value: 0.7375826257648346.\n"
     ]
    },
    {
     "name": "stderr",
     "output_type": "stream",
     "text": [
      "Best trial: 26. Best value: 0.737583:  22%|██▏       | 33/150 [05:55<22:52, 11.73s/it]C:\\Users\\Owner\\AppData\\Local\\Temp\\ipykernel_848\\2214655158.py:5: FutureWarning: suggest_loguniform has been deprecated in v3.0.0. This feature will be removed in v6.0.0. See https://github.com/optuna/optuna/releases/tag/v3.0.0. Use suggest_float(..., log=True) instead.\n",
      "  \"learning_rate\": trial.suggest_loguniform(\"learning_rate\", 0.01, 0.3),\n"
     ]
    },
    {
     "name": "stdout",
     "output_type": "stream",
     "text": [
      "[I 2025-02-14 03:07:12,171] Trial 32 finished with value: 0.7373504382700773 and parameters: {'n_estimators': 650, 'max_depth': 12, 'learning_rate': 0.024421325911042038, 'subsample': 0.6845600397952707, 'colsample_bytree': 0.7297916524192938, 'gamma': 4.642585845326872, 'lambda': 4.183235978712149, 'alpha': 7.803384892422663, 'min_child_weight': 8}. Best is trial 26 with value: 0.7375826257648346.\n"
     ]
    },
    {
     "name": "stderr",
     "output_type": "stream",
     "text": [
      "Best trial: 26. Best value: 0.737583:  23%|██▎       | 34/150 [06:08<23:42, 12.26s/it]C:\\Users\\Owner\\AppData\\Local\\Temp\\ipykernel_848\\2214655158.py:5: FutureWarning: suggest_loguniform has been deprecated in v3.0.0. This feature will be removed in v6.0.0. See https://github.com/optuna/optuna/releases/tag/v3.0.0. Use suggest_float(..., log=True) instead.\n",
      "  \"learning_rate\": trial.suggest_loguniform(\"learning_rate\", 0.01, 0.3),\n"
     ]
    },
    {
     "name": "stdout",
     "output_type": "stream",
     "text": [
      "[I 2025-02-14 03:07:25,681] Trial 33 finished with value: 0.7375098353783356 and parameters: {'n_estimators': 750, 'max_depth': 14, 'learning_rate': 0.012899230858913518, 'subsample': 0.7609055704242265, 'colsample_bytree': 0.5749717371376039, 'gamma': 4.9776810433282215, 'lambda': 4.365856513886109, 'alpha': 7.072693831814768, 'min_child_weight': 7}. Best is trial 26 with value: 0.7375826257648346.\n"
     ]
    },
    {
     "name": "stderr",
     "output_type": "stream",
     "text": [
      "Best trial: 26. Best value: 0.737583:  23%|██▎       | 35/150 [06:22<24:35, 12.83s/it]C:\\Users\\Owner\\AppData\\Local\\Temp\\ipykernel_848\\2214655158.py:5: FutureWarning: suggest_loguniform has been deprecated in v3.0.0. This feature will be removed in v6.0.0. See https://github.com/optuna/optuna/releases/tag/v3.0.0. Use suggest_float(..., log=True) instead.\n",
      "  \"learning_rate\": trial.suggest_loguniform(\"learning_rate\", 0.01, 0.3),\n"
     ]
    },
    {
     "name": "stdout",
     "output_type": "stream",
     "text": [
      "[I 2025-02-14 03:07:39,829] Trial 34 finished with value: 0.7342837032265481 and parameters: {'n_estimators': 800, 'max_depth': 12, 'learning_rate': 0.039005868784629576, 'subsample': 0.7462654344634857, 'colsample_bytree': 0.7971330948964294, 'gamma': 2.1395970301328457, 'lambda': 2.4702993645753457, 'alpha': 9.405664244020148, 'min_child_weight': 6}. Best is trial 26 with value: 0.7375826257648346.\n"
     ]
    },
    {
     "name": "stderr",
     "output_type": "stream",
     "text": [
      "Best trial: 26. Best value: 0.737583:  24%|██▍       | 36/150 [06:33<23:00, 12.11s/it]C:\\Users\\Owner\\AppData\\Local\\Temp\\ipykernel_848\\2214655158.py:5: FutureWarning: suggest_loguniform has been deprecated in v3.0.0. This feature will be removed in v6.0.0. See https://github.com/optuna/optuna/releases/tag/v3.0.0. Use suggest_float(..., log=True) instead.\n",
      "  \"learning_rate\": trial.suggest_loguniform(\"learning_rate\", 0.01, 0.3),\n"
     ]
    },
    {
     "name": "stdout",
     "output_type": "stream",
     "text": [
      "[I 2025-02-14 03:07:50,264] Trial 35 finished with value: 0.7374512087705041 and parameters: {'n_estimators': 600, 'max_depth': 8, 'learning_rate': 0.018199095352042192, 'subsample': 0.7970892762822016, 'colsample_bytree': 0.6888627940854928, 'gamma': 4.572017376910503, 'lambda': 3.541494734344114, 'alpha': 8.07955823664022, 'min_child_weight': 4}. Best is trial 26 with value: 0.7375826257648346.\n"
     ]
    },
    {
     "name": "stderr",
     "output_type": "stream",
     "text": [
      "Best trial: 26. Best value: 0.737583:  25%|██▍       | 37/150 [06:57<29:56, 15.90s/it]C:\\Users\\Owner\\AppData\\Local\\Temp\\ipykernel_848\\2214655158.py:5: FutureWarning: suggest_loguniform has been deprecated in v3.0.0. This feature will be removed in v6.0.0. See https://github.com/optuna/optuna/releases/tag/v3.0.0. Use suggest_float(..., log=True) instead.\n",
      "  \"learning_rate\": trial.suggest_loguniform(\"learning_rate\", 0.01, 0.3),\n"
     ]
    },
    {
     "name": "stdout",
     "output_type": "stream",
     "text": [
      "[I 2025-02-14 03:08:15,007] Trial 36 finished with value: 0.7317816411499265 and parameters: {'n_estimators': 1000, 'max_depth': 13, 'learning_rate': 0.012545772808880234, 'subsample': 0.734225622492645, 'colsample_bytree': 0.6138044322610967, 'gamma': 0.03949712982196463, 'lambda': 1.777748201216341, 'alpha': 9.670232632294685, 'min_child_weight': 3}. Best is trial 26 with value: 0.7375826257648346.\n"
     ]
    },
    {
     "name": "stderr",
     "output_type": "stream",
     "text": [
      "Best trial: 26. Best value: 0.737583:  25%|██▌       | 38/150 [07:11<28:07, 15.06s/it]C:\\Users\\Owner\\AppData\\Local\\Temp\\ipykernel_848\\2214655158.py:5: FutureWarning: suggest_loguniform has been deprecated in v3.0.0. This feature will be removed in v6.0.0. See https://github.com/optuna/optuna/releases/tag/v3.0.0. Use suggest_float(..., log=True) instead.\n",
      "  \"learning_rate\": trial.suggest_loguniform(\"learning_rate\", 0.01, 0.3),\n"
     ]
    },
    {
     "name": "stdout",
     "output_type": "stream",
     "text": [
      "[I 2025-02-14 03:08:28,118] Trial 37 finished with value: 0.7374617680719958 and parameters: {'n_estimators': 700, 'max_depth': 11, 'learning_rate': 0.014452232349950002, 'subsample': 0.676966609330808, 'colsample_bytree': 0.5960626888672597, 'gamma': 3.689459429847516, 'lambda': 4.565143405626866, 'alpha': 8.691145449510017, 'min_child_weight': 7}. Best is trial 26 with value: 0.7375826257648346.\n"
     ]
    },
    {
     "name": "stderr",
     "output_type": "stream",
     "text": [
      "Best trial: 26. Best value: 0.737583:  26%|██▌       | 39/150 [07:24<27:08, 14.67s/it]C:\\Users\\Owner\\AppData\\Local\\Temp\\ipykernel_848\\2214655158.py:5: FutureWarning: suggest_loguniform has been deprecated in v3.0.0. This feature will be removed in v6.0.0. See https://github.com/optuna/optuna/releases/tag/v3.0.0. Use suggest_float(..., log=True) instead.\n",
      "  \"learning_rate\": trial.suggest_loguniform(\"learning_rate\", 0.01, 0.3),\n"
     ]
    },
    {
     "name": "stdout",
     "output_type": "stream",
     "text": [
      "[I 2025-02-14 03:08:41,861] Trial 38 finished with value: 0.7360329745632711 and parameters: {'n_estimators': 850, 'max_depth': 14, 'learning_rate': 0.1196779094108459, 'subsample': 0.7759959974406709, 'colsample_bytree': 0.6459093619008879, 'gamma': 4.564545661513714, 'lambda': 5.890448790293349, 'alpha': 4.176618679136633, 'min_child_weight': 8}. Best is trial 26 with value: 0.7375826257648346.\n"
     ]
    },
    {
     "name": "stderr",
     "output_type": "stream",
     "text": [
      "Best trial: 26. Best value: 0.737583:  27%|██▋       | 40/150 [07:39<26:58, 14.71s/it]C:\\Users\\Owner\\AppData\\Local\\Temp\\ipykernel_848\\2214655158.py:5: FutureWarning: suggest_loguniform has been deprecated in v3.0.0. This feature will be removed in v6.0.0. See https://github.com/optuna/optuna/releases/tag/v3.0.0. Use suggest_float(..., log=True) instead.\n",
      "  \"learning_rate\": trial.suggest_loguniform(\"learning_rate\", 0.01, 0.3),\n"
     ]
    },
    {
     "name": "stdout",
     "output_type": "stream",
     "text": [
      "[I 2025-02-14 03:08:56,682] Trial 39 finished with value: 0.7367819940531586 and parameters: {'n_estimators': 750, 'max_depth': 12, 'learning_rate': 0.023513998449640534, 'subsample': 0.6210306324077581, 'colsample_bytree': 0.9042072960237689, 'gamma': 4.1037835395858675, 'lambda': 3.1825753985616307, 'alpha': 7.230165933979179, 'min_child_weight': 5}. Best is trial 26 with value: 0.7375826257648346.\n"
     ]
    },
    {
     "name": "stderr",
     "output_type": "stream",
     "text": [
      "Best trial: 26. Best value: 0.737583:  27%|██▋       | 41/150 [07:51<25:20, 13.95s/it]C:\\Users\\Owner\\AppData\\Local\\Temp\\ipykernel_848\\2214655158.py:5: FutureWarning: suggest_loguniform has been deprecated in v3.0.0. This feature will be removed in v6.0.0. See https://github.com/optuna/optuna/releases/tag/v3.0.0. Use suggest_float(..., log=True) instead.\n",
      "  \"learning_rate\": trial.suggest_loguniform(\"learning_rate\", 0.01, 0.3),\n"
     ]
    },
    {
     "name": "stdout",
     "output_type": "stream",
     "text": [
      "[I 2025-02-14 03:09:08,856] Trial 40 finished with value: 0.7374083570860537 and parameters: {'n_estimators': 600, 'max_depth': 7, 'learning_rate': 0.011160748030423948, 'subsample': 0.6556840445918034, 'colsample_bytree': 0.5676529176286267, 'gamma': 3.606116855895037, 'lambda': 2.44032521474361, 'alpha': 8.866184745400343, 'min_child_weight': 6}. Best is trial 26 with value: 0.7375826257648346.\n"
     ]
    },
    {
     "name": "stderr",
     "output_type": "stream",
     "text": [
      "Best trial: 26. Best value: 0.737583:  28%|██▊       | 42/150 [08:06<25:33, 14.20s/it]C:\\Users\\Owner\\AppData\\Local\\Temp\\ipykernel_848\\2214655158.py:5: FutureWarning: suggest_loguniform has been deprecated in v3.0.0. This feature will be removed in v6.0.0. See https://github.com/optuna/optuna/releases/tag/v3.0.0. Use suggest_float(..., log=True) instead.\n",
      "  \"learning_rate\": trial.suggest_loguniform(\"learning_rate\", 0.01, 0.3),\n"
     ]
    },
    {
     "name": "stdout",
     "output_type": "stream",
     "text": [
      "[I 2025-02-14 03:09:23,626] Trial 41 finished with value: 0.737454318885346 and parameters: {'n_estimators': 750, 'max_depth': 15, 'learning_rate': 0.013171590392678382, 'subsample': 0.7599643745052245, 'colsample_bytree': 0.5762497594080689, 'gamma': 4.84409741897532, 'lambda': 3.762160290843473, 'alpha': 6.750776379763658, 'min_child_weight': 7}. Best is trial 26 with value: 0.7375826257648346.\n"
     ]
    },
    {
     "name": "stderr",
     "output_type": "stream",
     "text": [
      "Best trial: 26. Best value: 0.737583:  29%|██▊       | 43/150 [08:23<26:40, 14.96s/it]C:\\Users\\Owner\\AppData\\Local\\Temp\\ipykernel_848\\2214655158.py:5: FutureWarning: suggest_loguniform has been deprecated in v3.0.0. This feature will be removed in v6.0.0. See https://github.com/optuna/optuna/releases/tag/v3.0.0. Use suggest_float(..., log=True) instead.\n",
      "  \"learning_rate\": trial.suggest_loguniform(\"learning_rate\", 0.01, 0.3),\n"
     ]
    },
    {
     "name": "stdout",
     "output_type": "stream",
     "text": [
      "[I 2025-02-14 03:09:40,364] Trial 42 finished with value: 0.7374982367247085 and parameters: {'n_estimators': 850, 'max_depth': 13, 'learning_rate': 0.010038575647237981, 'subsample': 0.6905000823484914, 'colsample_bytree': 0.6073890166638565, 'gamma': 4.9909164155003705, 'lambda': 4.319184968398522, 'alpha': 7.508039882365258, 'min_child_weight': 7}. Best is trial 26 with value: 0.7375826257648346.\n"
     ]
    },
    {
     "name": "stderr",
     "output_type": "stream",
     "text": [
      "Best trial: 26. Best value: 0.737583:  29%|██▉       | 44/150 [08:35<25:00, 14.15s/it]C:\\Users\\Owner\\AppData\\Local\\Temp\\ipykernel_848\\2214655158.py:5: FutureWarning: suggest_loguniform has been deprecated in v3.0.0. This feature will be removed in v6.0.0. See https://github.com/optuna/optuna/releases/tag/v3.0.0. Use suggest_float(..., log=True) instead.\n",
      "  \"learning_rate\": trial.suggest_loguniform(\"learning_rate\", 0.01, 0.3),\n"
     ]
    },
    {
     "name": "stdout",
     "output_type": "stream",
     "text": [
      "[I 2025-02-14 03:09:52,635] Trial 43 finished with value: 0.7373943223577947 and parameters: {'n_estimators': 650, 'max_depth': 14, 'learning_rate': 0.01718835504717904, 'subsample': 0.8515554742537406, 'colsample_bytree': 0.5615630627178364, 'gamma': 4.192446294325924, 'lambda': 4.2664546605038645, 'alpha': 7.220590575168241, 'min_child_weight': 8}. Best is trial 26 with value: 0.7375826257648346.\n"
     ]
    },
    {
     "name": "stderr",
     "output_type": "stream",
     "text": [
      "Best trial: 26. Best value: 0.737583:  30%|███       | 45/150 [08:48<24:16, 13.87s/it]C:\\Users\\Owner\\AppData\\Local\\Temp\\ipykernel_848\\2214655158.py:5: FutureWarning: suggest_loguniform has been deprecated in v3.0.0. This feature will be removed in v6.0.0. See https://github.com/optuna/optuna/releases/tag/v3.0.0. Use suggest_float(..., log=True) instead.\n",
      "  \"learning_rate\": trial.suggest_loguniform(\"learning_rate\", 0.01, 0.3),\n"
     ]
    },
    {
     "name": "stdout",
     "output_type": "stream",
     "text": [
      "[I 2025-02-14 03:10:05,840] Trial 44 finished with value: 0.7364934988871388 and parameters: {'n_estimators': 750, 'max_depth': 13, 'learning_rate': 0.027748884135185763, 'subsample': 0.7217639141967986, 'colsample_bytree': 0.635935211581106, 'gamma': 4.528692481908958, 'lambda': 5.5035274670975625, 'alpha': 1.3083253159885135, 'min_child_weight': 9}. Best is trial 26 with value: 0.7375826257648346.\n"
     ]
    },
    {
     "name": "stderr",
     "output_type": "stream",
     "text": [
      "Best trial: 26. Best value: 0.737583:  31%|███       | 46/150 [09:02<24:03, 13.88s/it]C:\\Users\\Owner\\AppData\\Local\\Temp\\ipykernel_848\\2214655158.py:5: FutureWarning: suggest_loguniform has been deprecated in v3.0.0. This feature will be removed in v6.0.0. See https://github.com/optuna/optuna/releases/tag/v3.0.0. Use suggest_float(..., log=True) instead.\n",
      "  \"learning_rate\": trial.suggest_loguniform(\"learning_rate\", 0.01, 0.3),\n"
     ]
    },
    {
     "name": "stdout",
     "output_type": "stream",
     "text": [
      "[I 2025-02-14 03:10:19,747] Trial 45 finished with value: 0.7223916425764298 and parameters: {'n_estimators': 700, 'max_depth': 14, 'learning_rate': 0.07919559583847911, 'subsample': 0.7636257126765571, 'colsample_bytree': 0.6726449029324556, 'gamma': 1.1781449360600527, 'lambda': 1.5244674297208056, 'alpha': 7.990793893124761, 'min_child_weight': 7}. Best is trial 26 with value: 0.7375826257648346.\n"
     ]
    },
    {
     "name": "stderr",
     "output_type": "stream",
     "text": [
      "Best trial: 46. Best value: 0.737617:  31%|███▏      | 47/150 [09:19<25:17, 14.73s/it]C:\\Users\\Owner\\AppData\\Local\\Temp\\ipykernel_848\\2214655158.py:5: FutureWarning: suggest_loguniform has been deprecated in v3.0.0. This feature will be removed in v6.0.0. See https://github.com/optuna/optuna/releases/tag/v3.0.0. Use suggest_float(..., log=True) instead.\n",
      "  \"learning_rate\": trial.suggest_loguniform(\"learning_rate\", 0.01, 0.3),\n"
     ]
    },
    {
     "name": "stdout",
     "output_type": "stream",
     "text": [
      "[I 2025-02-14 03:10:36,456] Trial 46 finished with value: 0.7376170911581312 and parameters: {'n_estimators': 950, 'max_depth': 9, 'learning_rate': 0.011926373539023415, 'subsample': 0.6312329966741137, 'colsample_bytree': 0.5941905071320006, 'gamma': 4.97116989097522, 'lambda': 2.9164308693565246, 'alpha': 9.364513959718865, 'min_child_weight': 6}. Best is trial 46 with value: 0.7376170911581312.\n"
     ]
    },
    {
     "name": "stderr",
     "output_type": "stream",
     "text": [
      "Best trial: 46. Best value: 0.737617:  32%|███▏      | 48/150 [09:34<25:18, 14.89s/it]C:\\Users\\Owner\\AppData\\Local\\Temp\\ipykernel_848\\2214655158.py:5: FutureWarning: suggest_loguniform has been deprecated in v3.0.0. This feature will be removed in v6.0.0. See https://github.com/optuna/optuna/releases/tag/v3.0.0. Use suggest_float(..., log=True) instead.\n",
      "  \"learning_rate\": trial.suggest_loguniform(\"learning_rate\", 0.01, 0.3),\n"
     ]
    },
    {
     "name": "stdout",
     "output_type": "stream",
     "text": [
      "[I 2025-02-14 03:10:51,709] Trial 47 finished with value: 0.7372556705990311 and parameters: {'n_estimators': 950, 'max_depth': 9, 'learning_rate': 0.03559525832634395, 'subsample': 0.5745875304058564, 'colsample_bytree': 0.7936293881998697, 'gamma': 4.69561098249584, 'lambda': 2.9926053710381266, 'alpha': 9.644857746557614, 'min_child_weight': 6}. Best is trial 46 with value: 0.7376170911581312.\n"
     ]
    },
    {
     "name": "stderr",
     "output_type": "stream",
     "text": [
      "Best trial: 46. Best value: 0.737617:  33%|███▎      | 49/150 [09:50<25:26, 15.11s/it]C:\\Users\\Owner\\AppData\\Local\\Temp\\ipykernel_848\\2214655158.py:5: FutureWarning: suggest_loguniform has been deprecated in v3.0.0. This feature will be removed in v6.0.0. See https://github.com/optuna/optuna/releases/tag/v3.0.0. Use suggest_float(..., log=True) instead.\n",
      "  \"learning_rate\": trial.suggest_loguniform(\"learning_rate\", 0.01, 0.3),\n"
     ]
    },
    {
     "name": "stdout",
     "output_type": "stream",
     "text": [
      "[I 2025-02-14 03:11:07,342] Trial 48 finished with value: 0.7370594961097755 and parameters: {'n_estimators': 950, 'max_depth': 8, 'learning_rate': 0.05277484787927131, 'subsample': 0.5368234233685487, 'colsample_bytree': 0.7496834115943194, 'gamma': 4.413606430673411, 'lambda': 2.4664578333699567, 'alpha': 9.353282038864636, 'min_child_weight': 5}. Best is trial 46 with value: 0.7376170911581312.\n"
     ]
    },
    {
     "name": "stderr",
     "output_type": "stream",
     "text": [
      "Best trial: 46. Best value: 0.737617:  33%|███▎      | 50/150 [10:04<24:38, 14.79s/it]C:\\Users\\Owner\\AppData\\Local\\Temp\\ipykernel_848\\2214655158.py:5: FutureWarning: suggest_loguniform has been deprecated in v3.0.0. This feature will be removed in v6.0.0. See https://github.com/optuna/optuna/releases/tag/v3.0.0. Use suggest_float(..., log=True) instead.\n",
      "  \"learning_rate\": trial.suggest_loguniform(\"learning_rate\", 0.01, 0.3),\n"
     ]
    },
    {
     "name": "stdout",
     "output_type": "stream",
     "text": [
      "[I 2025-02-14 03:11:21,376] Trial 49 finished with value: 0.7317570838499072 and parameters: {'n_estimators': 900, 'max_depth': 11, 'learning_rate': 0.23370489315508503, 'subsample': 0.6391394379293618, 'colsample_bytree': 0.5945347165139537, 'gamma': 4.134267366353644, 'lambda': 3.807890485577651, 'alpha': 5.327914633848858, 'min_child_weight': 2}. Best is trial 46 with value: 0.7376170911581312.\n"
     ]
    },
    {
     "name": "stderr",
     "output_type": "stream",
     "text": [
      "Best trial: 46. Best value: 0.737617:  34%|███▍      | 51/150 [10:18<23:56, 14.51s/it]C:\\Users\\Owner\\AppData\\Local\\Temp\\ipykernel_848\\2214655158.py:5: FutureWarning: suggest_loguniform has been deprecated in v3.0.0. This feature will be removed in v6.0.0. See https://github.com/optuna/optuna/releases/tag/v3.0.0. Use suggest_float(..., log=True) instead.\n",
      "  \"learning_rate\": trial.suggest_loguniform(\"learning_rate\", 0.01, 0.3),\n"
     ]
    },
    {
     "name": "stdout",
     "output_type": "stream",
     "text": [
      "[I 2025-02-14 03:11:35,255] Trial 50 finished with value: 0.7359670794393613 and parameters: {'n_estimators': 850, 'max_depth': 5, 'learning_rate': 0.06833475358025803, 'subsample': 0.6255584718820817, 'colsample_bytree': 0.9451081704086168, 'gamma': 3.008926515382435, 'lambda': 1.441292239054728, 'alpha': 8.656671329270456, 'min_child_weight': 6}. Best is trial 46 with value: 0.7376170911581312.\n"
     ]
    },
    {
     "name": "stderr",
     "output_type": "stream",
     "text": [
      "Best trial: 46. Best value: 0.737617:  35%|███▍      | 52/150 [10:35<25:03, 15.34s/it]C:\\Users\\Owner\\AppData\\Local\\Temp\\ipykernel_848\\2214655158.py:5: FutureWarning: suggest_loguniform has been deprecated in v3.0.0. This feature will be removed in v6.0.0. See https://github.com/optuna/optuna/releases/tag/v3.0.0. Use suggest_float(..., log=True) instead.\n",
      "  \"learning_rate\": trial.suggest_loguniform(\"learning_rate\", 0.01, 0.3),\n"
     ]
    },
    {
     "name": "stdout",
     "output_type": "stream",
     "text": [
      "[I 2025-02-14 03:11:52,517] Trial 51 finished with value: 0.7375082828026532 and parameters: {'n_estimators': 1000, 'max_depth': 7, 'learning_rate': 0.012409181852822073, 'subsample': 0.5917246139931271, 'colsample_bytree': 0.5262077919416671, 'gamma': 4.962133464655155, 'lambda': 4.532252997476443, 'alpha': 8.365406059518405, 'min_child_weight': 7}. Best is trial 46 with value: 0.7376170911581312.\n"
     ]
    },
    {
     "name": "stderr",
     "output_type": "stream",
     "text": [
      "Best trial: 46. Best value: 0.737617:  35%|███▌      | 53/150 [10:49<24:15, 15.00s/it]C:\\Users\\Owner\\AppData\\Local\\Temp\\ipykernel_848\\2214655158.py:5: FutureWarning: suggest_loguniform has been deprecated in v3.0.0. This feature will be removed in v6.0.0. See https://github.com/optuna/optuna/releases/tag/v3.0.0. Use suggest_float(..., log=True) instead.\n",
      "  \"learning_rate\": trial.suggest_loguniform(\"learning_rate\", 0.01, 0.3),\n"
     ]
    },
    {
     "name": "stdout",
     "output_type": "stream",
     "text": [
      "[I 2025-02-14 03:12:06,730] Trial 52 finished with value: 0.737548874119566 and parameters: {'n_estimators': 800, 'max_depth': 9, 'learning_rate': 0.014903158660235625, 'subsample': 0.7043274198674165, 'colsample_bytree': 0.5578217677406895, 'gamma': 4.738054446540324, 'lambda': 3.5248696679286757, 'alpha': 9.091188156983353, 'min_child_weight': 8}. Best is trial 46 with value: 0.7376170911581312.\n"
     ]
    },
    {
     "name": "stderr",
     "output_type": "stream",
     "text": [
      "Best trial: 46. Best value: 0.737617:  36%|███▌      | 54/150 [11:04<23:43, 14.82s/it]C:\\Users\\Owner\\AppData\\Local\\Temp\\ipykernel_848\\2214655158.py:5: FutureWarning: suggest_loguniform has been deprecated in v3.0.0. This feature will be removed in v6.0.0. See https://github.com/optuna/optuna/releases/tag/v3.0.0. Use suggest_float(..., log=True) instead.\n",
      "  \"learning_rate\": trial.suggest_loguniform(\"learning_rate\", 0.01, 0.3),\n"
     ]
    },
    {
     "name": "stdout",
     "output_type": "stream",
     "text": [
      "[I 2025-02-14 03:12:21,141] Trial 53 finished with value: 0.7374527246164546 and parameters: {'n_estimators': 800, 'max_depth': 9, 'learning_rate': 0.015031635350982541, 'subsample': 0.7059397815609593, 'colsample_bytree': 0.5515367671619311, 'gamma': 4.705516371986031, 'lambda': 3.4083559409247286, 'alpha': 9.996912700308277, 'min_child_weight': 8}. Best is trial 46 with value: 0.7376170911581312.\n"
     ]
    },
    {
     "name": "stderr",
     "output_type": "stream",
     "text": [
      "Best trial: 54. Best value: 0.737693:  37%|███▋      | 55/150 [11:20<24:06, 15.23s/it]C:\\Users\\Owner\\AppData\\Local\\Temp\\ipykernel_848\\2214655158.py:5: FutureWarning: suggest_loguniform has been deprecated in v3.0.0. This feature will be removed in v6.0.0. See https://github.com/optuna/optuna/releases/tag/v3.0.0. Use suggest_float(..., log=True) instead.\n",
      "  \"learning_rate\": trial.suggest_loguniform(\"learning_rate\", 0.01, 0.3),\n"
     ]
    },
    {
     "name": "stdout",
     "output_type": "stream",
     "text": [
      "[I 2025-02-14 03:12:37,311] Trial 54 finished with value: 0.737693462197115 and parameters: {'n_estimators': 900, 'max_depth': 9, 'learning_rate': 0.01115628701763358, 'subsample': 0.7272930270150729, 'colsample_bytree': 0.5845261728526265, 'gamma': 4.442537555962247, 'lambda': 2.861780749502889, 'alpha': 9.032536677905082, 'min_child_weight': 8}. Best is trial 54 with value: 0.737693462197115.\n"
     ]
    },
    {
     "name": "stderr",
     "output_type": "stream",
     "text": [
      "Best trial: 54. Best value: 0.737693:  37%|███▋      | 56/150 [11:36<24:16, 15.49s/it]C:\\Users\\Owner\\AppData\\Local\\Temp\\ipykernel_848\\2214655158.py:5: FutureWarning: suggest_loguniform has been deprecated in v3.0.0. This feature will be removed in v6.0.0. See https://github.com/optuna/optuna/releases/tag/v3.0.0. Use suggest_float(..., log=True) instead.\n",
      "  \"learning_rate\": trial.suggest_loguniform(\"learning_rate\", 0.01, 0.3),\n"
     ]
    },
    {
     "name": "stdout",
     "output_type": "stream",
     "text": [
      "[I 2025-02-14 03:12:53,417] Trial 55 finished with value: 0.7375210022094423 and parameters: {'n_estimators': 950, 'max_depth': 12, 'learning_rate': 0.016464240947248274, 'subsample': 0.7335390491434373, 'colsample_bytree': 0.6254391427429286, 'gamma': 4.450109455580449, 'lambda': 2.7579995754803104, 'alpha': 9.096905465223264, 'min_child_weight': 8}. Best is trial 54 with value: 0.737693462197115.\n"
     ]
    },
    {
     "name": "stderr",
     "output_type": "stream",
     "text": [
      "Best trial: 54. Best value: 0.737693:  38%|███▊      | 57/150 [11:38<17:39, 11.40s/it]C:\\Users\\Owner\\AppData\\Local\\Temp\\ipykernel_848\\2214655158.py:5: FutureWarning: suggest_loguniform has been deprecated in v3.0.0. This feature will be removed in v6.0.0. See https://github.com/optuna/optuna/releases/tag/v3.0.0. Use suggest_float(..., log=True) instead.\n",
      "  \"learning_rate\": trial.suggest_loguniform(\"learning_rate\", 0.01, 0.3),\n"
     ]
    },
    {
     "name": "stdout",
     "output_type": "stream",
     "text": [
      "[I 2025-02-14 03:12:55,259] Trial 56 finished with value: 0.7372052188382227 and parameters: {'n_estimators': 100, 'max_depth': 6, 'learning_rate': 0.10761068558981249, 'subsample': 0.6521031131978297, 'colsample_bytree': 0.5919427369420028, 'gamma': 4.751421828169095, 'lambda': 3.9880804766102083, 'alpha': 9.574196296223995, 'min_child_weight': 10}. Best is trial 54 with value: 0.737693462197115.\n"
     ]
    },
    {
     "name": "stderr",
     "output_type": "stream",
     "text": [
      "Best trial: 54. Best value: 0.737693:  39%|███▊      | 58/150 [11:46<16:02, 10.46s/it]C:\\Users\\Owner\\AppData\\Local\\Temp\\ipykernel_848\\2214655158.py:5: FutureWarning: suggest_loguniform has been deprecated in v3.0.0. This feature will be removed in v6.0.0. See https://github.com/optuna/optuna/releases/tag/v3.0.0. Use suggest_float(..., log=True) instead.\n",
      "  \"learning_rate\": trial.suggest_loguniform(\"learning_rate\", 0.01, 0.3),\n"
     ]
    },
    {
     "name": "stdout",
     "output_type": "stream",
     "text": [
      "[I 2025-02-14 03:13:03,550] Trial 57 finished with value: 0.7372006742784568 and parameters: {'n_estimators': 450, 'max_depth': 8, 'learning_rate': 0.01913218659937497, 'subsample': 0.7897407360557658, 'colsample_bytree': 0.6621287470410328, 'gamma': 4.239657803686558, 'lambda': 3.435364489974845, 'alpha': 1.994432650756175, 'min_child_weight': 9}. Best is trial 54 with value: 0.737693462197115.\n"
     ]
    },
    {
     "name": "stderr",
     "output_type": "stream",
     "text": [
      "Best trial: 54. Best value: 0.737693:  39%|███▉      | 59/150 [12:04<19:13, 12.67s/it]C:\\Users\\Owner\\AppData\\Local\\Temp\\ipykernel_848\\2214655158.py:5: FutureWarning: suggest_loguniform has been deprecated in v3.0.0. This feature will be removed in v6.0.0. See https://github.com/optuna/optuna/releases/tag/v3.0.0. Use suggest_float(..., log=True) instead.\n",
      "  \"learning_rate\": trial.suggest_loguniform(\"learning_rate\", 0.01, 0.3),\n"
     ]
    },
    {
     "name": "stdout",
     "output_type": "stream",
     "text": [
      "[I 2025-02-14 03:13:21,367] Trial 58 finished with value: 0.7376402983923396 and parameters: {'n_estimators': 950, 'max_depth': 10, 'learning_rate': 0.011116216873787879, 'subsample': 0.6736367947349583, 'colsample_bytree': 0.5284710611080641, 'gamma': 4.530575214651395, 'lambda': 3.05549635581657, 'alpha': 8.972051417831434, 'min_child_weight': 8}. Best is trial 54 with value: 0.737693462197115.\n"
     ]
    },
    {
     "name": "stderr",
     "output_type": "stream",
     "text": [
      "Best trial: 54. Best value: 0.737693:  40%|████      | 60/150 [12:20<20:45, 13.84s/it]C:\\Users\\Owner\\AppData\\Local\\Temp\\ipykernel_848\\2214655158.py:5: FutureWarning: suggest_loguniform has been deprecated in v3.0.0. This feature will be removed in v6.0.0. See https://github.com/optuna/optuna/releases/tag/v3.0.0. Use suggest_float(..., log=True) instead.\n",
      "  \"learning_rate\": trial.suggest_loguniform(\"learning_rate\", 0.01, 0.3),\n"
     ]
    },
    {
     "name": "stdout",
     "output_type": "stream",
     "text": [
      "[I 2025-02-14 03:13:37,944] Trial 59 finished with value: 0.7372250260905181 and parameters: {'n_estimators': 900, 'max_depth': 9, 'learning_rate': 0.011768960062061459, 'subsample': 0.5487114563493463, 'colsample_bytree': 0.5363670950885774, 'gamma': 3.9374450519422215, 'lambda': 2.2516449739719793, 'alpha': 4.246042894200461, 'min_child_weight': 8}. Best is trial 54 with value: 0.737693462197115.\n"
     ]
    },
    {
     "name": "stderr",
     "output_type": "stream",
     "text": [
      "Best trial: 54. Best value: 0.737693:  41%|████      | 61/150 [12:37<21:57, 14.81s/it]C:\\Users\\Owner\\AppData\\Local\\Temp\\ipykernel_848\\2214655158.py:5: FutureWarning: suggest_loguniform has been deprecated in v3.0.0. This feature will be removed in v6.0.0. See https://github.com/optuna/optuna/releases/tag/v3.0.0. Use suggest_float(..., log=True) instead.\n",
      "  \"learning_rate\": trial.suggest_loguniform(\"learning_rate\", 0.01, 0.3),\n"
     ]
    },
    {
     "name": "stdout",
     "output_type": "stream",
     "text": [
      "[I 2025-02-14 03:13:55,006] Trial 60 finished with value: 0.7376035368944693 and parameters: {'n_estimators': 950, 'max_depth': 10, 'learning_rate': 0.011106784842203244, 'subsample': 0.6902967248302411, 'colsample_bytree': 0.5215579592351806, 'gamma': 4.538806755973048, 'lambda': 2.920224665971972, 'alpha': 9.25896550876798, 'min_child_weight': 8}. Best is trial 54 with value: 0.737693462197115.\n"
     ]
    },
    {
     "name": "stderr",
     "output_type": "stream",
     "text": [
      "Best trial: 54. Best value: 0.737693:  41%|████▏     | 62/150 [12:55<23:05, 15.75s/it]C:\\Users\\Owner\\AppData\\Local\\Temp\\ipykernel_848\\2214655158.py:5: FutureWarning: suggest_loguniform has been deprecated in v3.0.0. This feature will be removed in v6.0.0. See https://github.com/optuna/optuna/releases/tag/v3.0.0. Use suggest_float(..., log=True) instead.\n",
      "  \"learning_rate\": trial.suggest_loguniform(\"learning_rate\", 0.01, 0.3),\n"
     ]
    },
    {
     "name": "stdout",
     "output_type": "stream",
     "text": [
      "[I 2025-02-14 03:14:12,952] Trial 61 finished with value: 0.7376888134043269 and parameters: {'n_estimators': 950, 'max_depth': 10, 'learning_rate': 0.010776499746308146, 'subsample': 0.6725118104620623, 'colsample_bytree': 0.5194599860694978, 'gamma': 4.531256752097039, 'lambda': 2.9103353151163835, 'alpha': 9.678575701535019, 'min_child_weight': 8}. Best is trial 54 with value: 0.737693462197115.\n"
     ]
    },
    {
     "name": "stderr",
     "output_type": "stream",
     "text": [
      "Best trial: 54. Best value: 0.737693:  42%|████▏     | 63/150 [13:13<23:39, 16.32s/it]C:\\Users\\Owner\\AppData\\Local\\Temp\\ipykernel_848\\2214655158.py:5: FutureWarning: suggest_loguniform has been deprecated in v3.0.0. This feature will be removed in v6.0.0. See https://github.com/optuna/optuna/releases/tag/v3.0.0. Use suggest_float(..., log=True) instead.\n",
      "  \"learning_rate\": trial.suggest_loguniform(\"learning_rate\", 0.01, 0.3),\n"
     ]
    },
    {
     "name": "stdout",
     "output_type": "stream",
     "text": [
      "[I 2025-02-14 03:14:30,596] Trial 62 finished with value: 0.7376425299717091 and parameters: {'n_estimators': 1000, 'max_depth': 10, 'learning_rate': 0.01117501658518653, 'subsample': 0.6755549292988813, 'colsample_bytree': 0.5224986044504392, 'gamma': 4.687564444713077, 'lambda': 3.027727778284445, 'alpha': 9.771119984116087, 'min_child_weight': 8}. Best is trial 54 with value: 0.737693462197115.\n"
     ]
    },
    {
     "name": "stderr",
     "output_type": "stream",
     "text": [
      "Best trial: 54. Best value: 0.737693:  43%|████▎     | 64/150 [13:31<24:03, 16.78s/it]C:\\Users\\Owner\\AppData\\Local\\Temp\\ipykernel_848\\2214655158.py:5: FutureWarning: suggest_loguniform has been deprecated in v3.0.0. This feature will be removed in v6.0.0. See https://github.com/optuna/optuna/releases/tag/v3.0.0. Use suggest_float(..., log=True) instead.\n",
      "  \"learning_rate\": trial.suggest_loguniform(\"learning_rate\", 0.01, 0.3),\n"
     ]
    },
    {
     "name": "stdout",
     "output_type": "stream",
     "text": [
      "[I 2025-02-14 03:14:48,461] Trial 63 finished with value: 0.7376105195142583 and parameters: {'n_estimators': 1000, 'max_depth': 10, 'learning_rate': 0.011125031119697782, 'subsample': 0.5972155401134098, 'colsample_bytree': 0.5210292941824516, 'gamma': 4.366163123161941, 'lambda': 2.9696508950969154, 'alpha': 9.744589536354638, 'min_child_weight': 9}. Best is trial 54 with value: 0.737693462197115.\n"
     ]
    },
    {
     "name": "stderr",
     "output_type": "stream",
     "text": [
      "Best trial: 54. Best value: 0.737693:  43%|████▎     | 65/150 [13:49<24:22, 17.21s/it]C:\\Users\\Owner\\AppData\\Local\\Temp\\ipykernel_848\\2214655158.py:5: FutureWarning: suggest_loguniform has been deprecated in v3.0.0. This feature will be removed in v6.0.0. See https://github.com/optuna/optuna/releases/tag/v3.0.0. Use suggest_float(..., log=True) instead.\n",
      "  \"learning_rate\": trial.suggest_loguniform(\"learning_rate\", 0.01, 0.3),\n"
     ]
    },
    {
     "name": "stdout",
     "output_type": "stream",
     "text": [
      "[I 2025-02-14 03:15:06,670] Trial 64 finished with value: 0.7375319436986819 and parameters: {'n_estimators': 1000, 'max_depth': 10, 'learning_rate': 0.010821901789289977, 'subsample': 0.5916650468590611, 'colsample_bytree': 0.5205304232940302, 'gamma': 3.72988082763152, 'lambda': 3.0109532914018784, 'alpha': 9.77329665373601, 'min_child_weight': 9}. Best is trial 54 with value: 0.737693462197115.\n"
     ]
    },
    {
     "name": "stderr",
     "output_type": "stream",
     "text": [
      "Best trial: 54. Best value: 0.737693:  44%|████▍     | 66/150 [14:07<24:23, 17.43s/it]C:\\Users\\Owner\\AppData\\Local\\Temp\\ipykernel_848\\2214655158.py:5: FutureWarning: suggest_loguniform has been deprecated in v3.0.0. This feature will be removed in v6.0.0. See https://github.com/optuna/optuna/releases/tag/v3.0.0. Use suggest_float(..., log=True) instead.\n",
      "  \"learning_rate\": trial.suggest_loguniform(\"learning_rate\", 0.01, 0.3),\n"
     ]
    },
    {
     "name": "stdout",
     "output_type": "stream",
     "text": [
      "[I 2025-02-14 03:15:24,599] Trial 65 finished with value: 0.7376204415052717 and parameters: {'n_estimators': 950, 'max_depth': 10, 'learning_rate': 0.010019936928591967, 'subsample': 0.6390733875943911, 'colsample_bytree': 0.5222362162122282, 'gamma': 4.054757863924826, 'lambda': 2.57286740989999, 'alpha': 9.376311675325697, 'min_child_weight': 10}. Best is trial 54 with value: 0.737693462197115.\n"
     ]
    },
    {
     "name": "stderr",
     "output_type": "stream",
     "text": [
      "Best trial: 66. Best value: 0.737715:  45%|████▍     | 67/150 [14:25<24:19, 17.58s/it]C:\\Users\\Owner\\AppData\\Local\\Temp\\ipykernel_848\\2214655158.py:5: FutureWarning: suggest_loguniform has been deprecated in v3.0.0. This feature will be removed in v6.0.0. See https://github.com/optuna/optuna/releases/tag/v3.0.0. Use suggest_float(..., log=True) instead.\n",
      "  \"learning_rate\": trial.suggest_loguniform(\"learning_rate\", 0.01, 0.3),\n"
     ]
    },
    {
     "name": "stdout",
     "output_type": "stream",
     "text": [
      "[I 2025-02-14 03:15:42,535] Trial 66 finished with value: 0.7377152339937041 and parameters: {'n_estimators': 1000, 'max_depth': 9, 'learning_rate': 0.01018335042177876, 'subsample': 0.6353859888879437, 'colsample_bytree': 0.5000101849076145, 'gamma': 4.028387881094395, 'lambda': 2.6225289402795706, 'alpha': 9.561472152321768, 'min_child_weight': 10}. Best is trial 66 with value: 0.7377152339937041.\n"
     ]
    },
    {
     "name": "stderr",
     "output_type": "stream",
     "text": [
      "Best trial: 66. Best value: 0.737715:  45%|████▌     | 68/150 [14:42<23:39, 17.31s/it]C:\\Users\\Owner\\AppData\\Local\\Temp\\ipykernel_848\\2214655158.py:5: FutureWarning: suggest_loguniform has been deprecated in v3.0.0. This feature will be removed in v6.0.0. See https://github.com/optuna/optuna/releases/tag/v3.0.0. Use suggest_float(..., log=True) instead.\n",
      "  \"learning_rate\": trial.suggest_loguniform(\"learning_rate\", 0.01, 0.3),\n"
     ]
    },
    {
     "name": "stdout",
     "output_type": "stream",
     "text": [
      "[I 2025-02-14 03:15:59,223] Trial 67 finished with value: 0.7375512913329845 and parameters: {'n_estimators': 950, 'max_depth': 9, 'learning_rate': 0.013804220060611097, 'subsample': 0.6334564270255871, 'colsample_bytree': 0.5019155348400687, 'gamma': 4.065728290825051, 'lambda': 2.609158999105497, 'alpha': 9.42598451404746, 'min_child_weight': 10}. Best is trial 66 with value: 0.7377152339937041.\n"
     ]
    },
    {
     "name": "stderr",
     "output_type": "stream",
     "text": [
      "Best trial: 66. Best value: 0.737715:  46%|████▌     | 69/150 [14:59<23:19, 17.28s/it]C:\\Users\\Owner\\AppData\\Local\\Temp\\ipykernel_848\\2214655158.py:5: FutureWarning: suggest_loguniform has been deprecated in v3.0.0. This feature will be removed in v6.0.0. See https://github.com/optuna/optuna/releases/tag/v3.0.0. Use suggest_float(..., log=True) instead.\n",
      "  \"learning_rate\": trial.suggest_loguniform(\"learning_rate\", 0.01, 0.3),\n"
     ]
    },
    {
     "name": "stdout",
     "output_type": "stream",
     "text": [
      "[I 2025-02-14 03:16:16,438] Trial 68 finished with value: 0.7375765931545906 and parameters: {'n_estimators': 900, 'max_depth': 8, 'learning_rate': 0.010304544947782055, 'subsample': 0.6089192102633428, 'colsample_bytree': 0.5359203897772629, 'gamma': 3.2935210468409046, 'lambda': 2.2025747886134655, 'alpha': 8.53391026264995, 'min_child_weight': 10}. Best is trial 66 with value: 0.7377152339937041.\n"
     ]
    },
    {
     "name": "stderr",
     "output_type": "stream",
     "text": [
      "Best trial: 66. Best value: 0.737715:  47%|████▋     | 70/150 [15:16<22:48, 17.11s/it]C:\\Users\\Owner\\AppData\\Local\\Temp\\ipykernel_848\\2214655158.py:5: FutureWarning: suggest_loguniform has been deprecated in v3.0.0. This feature will be removed in v6.0.0. See https://github.com/optuna/optuna/releases/tag/v3.0.0. Use suggest_float(..., log=True) instead.\n",
      "  \"learning_rate\": trial.suggest_loguniform(\"learning_rate\", 0.01, 0.3),\n"
     ]
    },
    {
     "name": "stdout",
     "output_type": "stream",
     "text": [
      "[I 2025-02-14 03:16:33,153] Trial 69 finished with value: 0.7375079105418599 and parameters: {'n_estimators': 950, 'max_depth': 10, 'learning_rate': 0.013848183010669611, 'subsample': 0.6656284561926453, 'colsample_bytree': 0.5481557580787442, 'gamma': 4.238892057927289, 'lambda': 1.6276992154592054, 'alpha': 8.034753860485871, 'min_child_weight': 10}. Best is trial 66 with value: 0.7377152339937041.\n"
     ]
    },
    {
     "name": "stderr",
     "output_type": "stream",
     "text": [
      "Best trial: 66. Best value: 0.737715:  47%|████▋     | 71/150 [15:35<23:33, 17.89s/it]C:\\Users\\Owner\\AppData\\Local\\Temp\\ipykernel_848\\2214655158.py:5: FutureWarning: suggest_loguniform has been deprecated in v3.0.0. This feature will be removed in v6.0.0. See https://github.com/optuna/optuna/releases/tag/v3.0.0. Use suggest_float(..., log=True) instead.\n",
      "  \"learning_rate\": trial.suggest_loguniform(\"learning_rate\", 0.01, 0.3),\n"
     ]
    },
    {
     "name": "stdout",
     "output_type": "stream",
     "text": [
      "[I 2025-02-14 03:16:52,844] Trial 70 finished with value: 0.7345096010029399 and parameters: {'n_estimators': 1000, 'max_depth': 11, 'learning_rate': 0.021008749698937384, 'subsample': 0.6444251504021304, 'colsample_bytree': 0.500803998303038, 'gamma': 1.375893952016338, 'lambda': 2.1185035916840014, 'alpha': 9.6146035310989, 'min_child_weight': 9}. Best is trial 66 with value: 0.7377152339937041.\n"
     ]
    },
    {
     "name": "stderr",
     "output_type": "stream",
     "text": [
      "Best trial: 66. Best value: 0.737715:  48%|████▊     | 72/150 [15:54<23:24, 18.01s/it]C:\\Users\\Owner\\AppData\\Local\\Temp\\ipykernel_848\\2214655158.py:5: FutureWarning: suggest_loguniform has been deprecated in v3.0.0. This feature will be removed in v6.0.0. See https://github.com/optuna/optuna/releases/tag/v3.0.0. Use suggest_float(..., log=True) instead.\n",
      "  \"learning_rate\": trial.suggest_loguniform(\"learning_rate\", 0.01, 0.3),\n"
     ]
    },
    {
     "name": "stdout",
     "output_type": "stream",
     "text": [
      "[I 2025-02-14 03:17:11,137] Trial 71 finished with value: 0.7376855474362995 and parameters: {'n_estimators': 1000, 'max_depth': 10, 'learning_rate': 0.011573027684036057, 'subsample': 0.6097575731733051, 'colsample_bytree': 0.5258269333420239, 'gamma': 4.363679023184281, 'lambda': 3.207800851674767, 'alpha': 9.79720848007211, 'min_child_weight': 9}. Best is trial 66 with value: 0.7377152339937041.\n"
     ]
    },
    {
     "name": "stderr",
     "output_type": "stream",
     "text": [
      "Best trial: 66. Best value: 0.737715:  49%|████▊     | 73/150 [16:11<22:59, 17.91s/it]C:\\Users\\Owner\\AppData\\Local\\Temp\\ipykernel_848\\2214655158.py:5: FutureWarning: suggest_loguniform has been deprecated in v3.0.0. This feature will be removed in v6.0.0. See https://github.com/optuna/optuna/releases/tag/v3.0.0. Use suggest_float(..., log=True) instead.\n",
      "  \"learning_rate\": trial.suggest_loguniform(\"learning_rate\", 0.01, 0.3),\n"
     ]
    },
    {
     "name": "stdout",
     "output_type": "stream",
     "text": [
      "[I 2025-02-14 03:17:28,816] Trial 72 finished with value: 0.7377051968500186 and parameters: {'n_estimators': 950, 'max_depth': 11, 'learning_rate': 0.010068315311176954, 'subsample': 0.6680953996112876, 'colsample_bytree': 0.5303045831263787, 'gamma': 3.952577238227636, 'lambda': 8.953683206853242, 'alpha': 9.826265648126352, 'min_child_weight': 10}. Best is trial 66 with value: 0.7377152339937041.\n"
     ]
    },
    {
     "name": "stderr",
     "output_type": "stream",
     "text": [
      "Best trial: 66. Best value: 0.737715:  49%|████▉     | 74/150 [16:30<22:51, 18.05s/it]C:\\Users\\Owner\\AppData\\Local\\Temp\\ipykernel_848\\2214655158.py:5: FutureWarning: suggest_loguniform has been deprecated in v3.0.0. This feature will be removed in v6.0.0. See https://github.com/optuna/optuna/releases/tag/v3.0.0. Use suggest_float(..., log=True) instead.\n",
      "  \"learning_rate\": trial.suggest_loguniform(\"learning_rate\", 0.01, 0.3),\n"
     ]
    },
    {
     "name": "stdout",
     "output_type": "stream",
     "text": [
      "[I 2025-02-14 03:17:47,197] Trial 73 finished with value: 0.7376715275984722 and parameters: {'n_estimators': 1000, 'max_depth': 11, 'learning_rate': 0.010337968140474304, 'subsample': 0.6732023731158612, 'colsample_bytree': 0.5323784523654372, 'gamma': 3.7833851162823593, 'lambda': 7.959228895572104, 'alpha': 9.987898829738393, 'min_child_weight': 10}. Best is trial 66 with value: 0.7377152339937041.\n"
     ]
    },
    {
     "name": "stderr",
     "output_type": "stream",
     "text": [
      "Best trial: 66. Best value: 0.737715:  50%|█████     | 75/150 [16:48<22:31, 18.01s/it]C:\\Users\\Owner\\AppData\\Local\\Temp\\ipykernel_848\\2214655158.py:5: FutureWarning: suggest_loguniform has been deprecated in v3.0.0. This feature will be removed in v6.0.0. See https://github.com/optuna/optuna/releases/tag/v3.0.0. Use suggest_float(..., log=True) instead.\n",
      "  \"learning_rate\": trial.suggest_loguniform(\"learning_rate\", 0.01, 0.3),\n"
     ]
    },
    {
     "name": "stdout",
     "output_type": "stream",
     "text": [
      "[I 2025-02-14 03:18:05,124] Trial 74 finished with value: 0.7376033750851112 and parameters: {'n_estimators': 1000, 'max_depth': 11, 'learning_rate': 0.011490205738508908, 'subsample': 0.6734373608963987, 'colsample_bytree': 0.5418399815612748, 'gamma': 3.812693742757774, 'lambda': 8.844257879955103, 'alpha': 9.994035850364813, 'min_child_weight': 10}. Best is trial 66 with value: 0.7377152339937041.\n"
     ]
    },
    {
     "name": "stderr",
     "output_type": "stream",
     "text": [
      "Best trial: 66. Best value: 0.737715:  51%|█████     | 76/150 [17:07<22:35, 18.32s/it]C:\\Users\\Owner\\AppData\\Local\\Temp\\ipykernel_848\\2214655158.py:5: FutureWarning: suggest_loguniform has been deprecated in v3.0.0. This feature will be removed in v6.0.0. See https://github.com/optuna/optuna/releases/tag/v3.0.0. Use suggest_float(..., log=True) instead.\n",
      "  \"learning_rate\": trial.suggest_loguniform(\"learning_rate\", 0.01, 0.3),\n"
     ]
    },
    {
     "name": "stdout",
     "output_type": "stream",
     "text": [
      "[I 2025-02-14 03:18:24,156] Trial 75 finished with value: 0.7376244778049676 and parameters: {'n_estimators': 1000, 'max_depth': 11, 'learning_rate': 0.016136675481920052, 'subsample': 0.6131448408332771, 'colsample_bytree': 0.5111521373375525, 'gamma': 3.5608995086532627, 'lambda': 9.88210400035237, 'alpha': 9.892220040056856, 'min_child_weight': 10}. Best is trial 66 with value: 0.7377152339937041.\n"
     ]
    },
    {
     "name": "stderr",
     "output_type": "stream",
     "text": [
      "Best trial: 66. Best value: 0.737715:  51%|█████▏    | 77/150 [17:24<21:49, 17.94s/it]C:\\Users\\Owner\\AppData\\Local\\Temp\\ipykernel_848\\2214655158.py:5: FutureWarning: suggest_loguniform has been deprecated in v3.0.0. This feature will be removed in v6.0.0. See https://github.com/optuna/optuna/releases/tag/v3.0.0. Use suggest_float(..., log=True) instead.\n",
      "  \"learning_rate\": trial.suggest_loguniform(\"learning_rate\", 0.01, 0.3),\n"
     ]
    },
    {
     "name": "stdout",
     "output_type": "stream",
     "text": [
      "[I 2025-02-14 03:18:41,220] Trial 76 finished with value: 0.7371305264472432 and parameters: {'n_estimators': 900, 'max_depth': 10, 'learning_rate': 0.01376496714592612, 'subsample': 0.6940658936970485, 'colsample_bytree': 0.5307350205815496, 'gamma': 2.346084582956257, 'lambda': 9.440061968298936, 'alpha': 8.84198187840696, 'min_child_weight': 9}. Best is trial 66 with value: 0.7377152339937041.\n"
     ]
    },
    {
     "name": "stderr",
     "output_type": "stream",
     "text": [
      "Best trial: 66. Best value: 0.737715:  52%|█████▏    | 78/150 [17:39<20:44, 17.29s/it]C:\\Users\\Owner\\AppData\\Local\\Temp\\ipykernel_848\\2214655158.py:5: FutureWarning: suggest_loguniform has been deprecated in v3.0.0. This feature will be removed in v6.0.0. See https://github.com/optuna/optuna/releases/tag/v3.0.0. Use suggest_float(..., log=True) instead.\n",
      "  \"learning_rate\": trial.suggest_loguniform(\"learning_rate\", 0.01, 0.3),\n"
     ]
    },
    {
     "name": "stdout",
     "output_type": "stream",
     "text": [
      "[I 2025-02-14 03:18:56,981] Trial 77 finished with value: 0.7376666534638172 and parameters: {'n_estimators': 850, 'max_depth': 11, 'learning_rate': 0.01095044368285522, 'subsample': 0.6765867062455135, 'colsample_bytree': 0.5734091907470705, 'gamma': 3.9981984653164426, 'lambda': 8.251251742431448, 'alpha': 9.677520511298415, 'min_child_weight': 9}. Best is trial 66 with value: 0.7377152339937041.\n"
     ]
    },
    {
     "name": "stderr",
     "output_type": "stream",
     "text": [
      "Best trial: 66. Best value: 0.737715:  53%|█████▎    | 79/150 [17:56<20:14, 17.10s/it]C:\\Users\\Owner\\AppData\\Local\\Temp\\ipykernel_848\\2214655158.py:5: FutureWarning: suggest_loguniform has been deprecated in v3.0.0. This feature will be removed in v6.0.0. See https://github.com/optuna/optuna/releases/tag/v3.0.0. Use suggest_float(..., log=True) instead.\n",
      "  \"learning_rate\": trial.suggest_loguniform(\"learning_rate\", 0.01, 0.3),\n"
     ]
    },
    {
     "name": "stdout",
     "output_type": "stream",
     "text": [
      "[I 2025-02-14 03:19:13,639] Trial 78 finished with value: 0.7377113892842297 and parameters: {'n_estimators': 850, 'max_depth': 11, 'learning_rate': 0.010056051602394863, 'subsample': 0.6574691283657595, 'colsample_bytree': 0.5563437665353254, 'gamma': 3.9553814261519524, 'lambda': 8.296912435428407, 'alpha': 9.690682738991635, 'min_child_weight': 9}. Best is trial 66 with value: 0.7377152339937041.\n"
     ]
    },
    {
     "name": "stderr",
     "output_type": "stream",
     "text": [
      "Best trial: 66. Best value: 0.737715:  53%|█████▎    | 80/150 [18:12<19:33, 16.77s/it]C:\\Users\\Owner\\AppData\\Local\\Temp\\ipykernel_848\\2214655158.py:5: FutureWarning: suggest_loguniform has been deprecated in v3.0.0. This feature will be removed in v6.0.0. See https://github.com/optuna/optuna/releases/tag/v3.0.0. Use suggest_float(..., log=True) instead.\n",
      "  \"learning_rate\": trial.suggest_loguniform(\"learning_rate\", 0.01, 0.3),\n"
     ]
    },
    {
     "name": "stdout",
     "output_type": "stream",
     "text": [
      "[I 2025-02-14 03:19:29,641] Trial 79 finished with value: 0.7375989635465355 and parameters: {'n_estimators': 850, 'max_depth': 11, 'learning_rate': 0.01005091002202255, 'subsample': 0.5558374516146837, 'colsample_bytree': 0.5827872491356003, 'gamma': 3.922961432615968, 'lambda': 8.252746710519231, 'alpha': 9.588614537756424, 'min_child_weight': 9}. Best is trial 66 with value: 0.7377152339937041.\n"
     ]
    },
    {
     "name": "stderr",
     "output_type": "stream",
     "text": [
      "Best trial: 66. Best value: 0.737715:  54%|█████▍    | 81/150 [18:28<18:57, 16.48s/it]C:\\Users\\Owner\\AppData\\Local\\Temp\\ipykernel_848\\2214655158.py:5: FutureWarning: suggest_loguniform has been deprecated in v3.0.0. This feature will be removed in v6.0.0. See https://github.com/optuna/optuna/releases/tag/v3.0.0. Use suggest_float(..., log=True) instead.\n",
      "  \"learning_rate\": trial.suggest_loguniform(\"learning_rate\", 0.01, 0.3),\n"
     ]
    },
    {
     "name": "stdout",
     "output_type": "stream",
     "text": [
      "[I 2025-02-14 03:19:45,444] Trial 80 finished with value: 0.7374951285952576 and parameters: {'n_estimators': 900, 'max_depth': 11, 'learning_rate': 0.017784175804674892, 'subsample': 0.6533005775544289, 'colsample_bytree': 0.5687900542587047, 'gamma': 3.4610175770841463, 'lambda': 8.566477203519597, 'alpha': 9.17575353841615, 'min_child_weight': 10}. Best is trial 66 with value: 0.7377152339937041.\n"
     ]
    },
    {
     "name": "stderr",
     "output_type": "stream",
     "text": [
      "Best trial: 66. Best value: 0.737715:  55%|█████▍    | 82/150 [18:46<19:11, 16.93s/it]C:\\Users\\Owner\\AppData\\Local\\Temp\\ipykernel_848\\2214655158.py:5: FutureWarning: suggest_loguniform has been deprecated in v3.0.0. This feature will be removed in v6.0.0. See https://github.com/optuna/optuna/releases/tag/v3.0.0. Use suggest_float(..., log=True) instead.\n",
      "  \"learning_rate\": trial.suggest_loguniform(\"learning_rate\", 0.01, 0.3),\n"
     ]
    },
    {
     "name": "stdout",
     "output_type": "stream",
     "text": [
      "[I 2025-02-14 03:20:03,440] Trial 81 finished with value: 0.7376559313602717 and parameters: {'n_estimators': 1000, 'max_depth': 11, 'learning_rate': 0.012183310156203869, 'subsample': 0.6650076137946871, 'colsample_bytree': 0.55410707478907, 'gamma': 3.751681164264912, 'lambda': 7.301989509673987, 'alpha': 9.811333412995971, 'min_child_weight': 9}. Best is trial 66 with value: 0.7377152339937041.\n"
     ]
    },
    {
     "name": "stderr",
     "output_type": "stream",
     "text": [
      "Best trial: 66. Best value: 0.737715:  55%|█████▌    | 83/150 [19:02<18:38, 16.70s/it]C:\\Users\\Owner\\AppData\\Local\\Temp\\ipykernel_848\\2214655158.py:5: FutureWarning: suggest_loguniform has been deprecated in v3.0.0. This feature will be removed in v6.0.0. See https://github.com/optuna/optuna/releases/tag/v3.0.0. Use suggest_float(..., log=True) instead.\n",
      "  \"learning_rate\": trial.suggest_loguniform(\"learning_rate\", 0.01, 0.3),\n"
     ]
    },
    {
     "name": "stdout",
     "output_type": "stream",
     "text": [
      "[I 2025-02-14 03:20:19,576] Trial 82 finished with value: 0.7376209408310825 and parameters: {'n_estimators': 850, 'max_depth': 11, 'learning_rate': 0.012944720503016585, 'subsample': 0.6652002661421842, 'colsample_bytree': 0.5554047874428182, 'gamma': 3.7491280730713, 'lambda': 7.448096485422284, 'alpha': 9.778987453620703, 'min_child_weight': 9}. Best is trial 66 with value: 0.7377152339937041.\n"
     ]
    },
    {
     "name": "stderr",
     "output_type": "stream",
     "text": [
      "Best trial: 66. Best value: 0.737715:  56%|█████▌    | 84/150 [19:19<18:25, 16.75s/it]C:\\Users\\Owner\\AppData\\Local\\Temp\\ipykernel_848\\2214655158.py:5: FutureWarning: suggest_loguniform has been deprecated in v3.0.0. This feature will be removed in v6.0.0. See https://github.com/optuna/optuna/releases/tag/v3.0.0. Use suggest_float(..., log=True) instead.\n",
      "  \"learning_rate\": trial.suggest_loguniform(\"learning_rate\", 0.01, 0.3),\n"
     ]
    },
    {
     "name": "stdout",
     "output_type": "stream",
     "text": [
      "[I 2025-02-14 03:20:36,468] Trial 83 finished with value: 0.737285275755409 and parameters: {'n_estimators': 900, 'max_depth': 12, 'learning_rate': 0.01223911873683657, 'subsample': 0.617651982965512, 'colsample_bytree': 0.5836825633858187, 'gamma': 3.128237896501888, 'lambda': 8.005034382853303, 'alpha': 9.46861141920705, 'min_child_weight': 10}. Best is trial 66 with value: 0.7377152339937041.\n"
     ]
    },
    {
     "name": "stderr",
     "output_type": "stream",
     "text": [
      "Best trial: 66. Best value: 0.737715:  57%|█████▋    | 85/150 [19:37<18:35, 17.16s/it]C:\\Users\\Owner\\AppData\\Local\\Temp\\ipykernel_848\\2214655158.py:5: FutureWarning: suggest_loguniform has been deprecated in v3.0.0. This feature will be removed in v6.0.0. See https://github.com/optuna/optuna/releases/tag/v3.0.0. Use suggest_float(..., log=True) instead.\n",
      "  \"learning_rate\": trial.suggest_loguniform(\"learning_rate\", 0.01, 0.3),\n"
     ]
    },
    {
     "name": "stdout",
     "output_type": "stream",
     "text": [
      "[I 2025-02-14 03:20:54,571] Trial 84 finished with value: 0.7371819004221238 and parameters: {'n_estimators': 1000, 'max_depth': 11, 'learning_rate': 0.014912120555750348, 'subsample': 0.719794335015662, 'colsample_bytree': 0.543062130452947, 'gamma': 2.730132431124568, 'lambda': 6.665146488174775, 'alpha': 9.987360605780005, 'min_child_weight': 9}. Best is trial 66 with value: 0.7377152339937041.\n"
     ]
    },
    {
     "name": "stderr",
     "output_type": "stream",
     "text": [
      "Best trial: 66. Best value: 0.737715:  57%|█████▋    | 86/150 [19:53<18:01, 16.90s/it]C:\\Users\\Owner\\AppData\\Local\\Temp\\ipykernel_848\\2214655158.py:5: FutureWarning: suggest_loguniform has been deprecated in v3.0.0. This feature will be removed in v6.0.0. See https://github.com/optuna/optuna/releases/tag/v3.0.0. Use suggest_float(..., log=True) instead.\n",
      "  \"learning_rate\": trial.suggest_loguniform(\"learning_rate\", 0.01, 0.3),\n"
     ]
    },
    {
     "name": "stdout",
     "output_type": "stream",
     "text": [
      "[I 2025-02-14 03:21:10,870] Trial 85 finished with value: 0.7375716386116041 and parameters: {'n_estimators': 900, 'max_depth': 9, 'learning_rate': 0.013640558909712469, 'subsample': 0.6894516718183002, 'colsample_bytree': 0.5100344722275693, 'gamma': 3.9882728949387043, 'lambda': 8.645984908948911, 'alpha': 9.23481814536994, 'min_child_weight': 9}. Best is trial 66 with value: 0.7377152339937041.\n"
     ]
    },
    {
     "name": "stderr",
     "output_type": "stream",
     "text": [
      "Best trial: 66. Best value: 0.737715:  58%|█████▊    | 87/150 [20:11<18:01, 17.17s/it]C:\\Users\\Owner\\AppData\\Local\\Temp\\ipykernel_848\\2214655158.py:5: FutureWarning: suggest_loguniform has been deprecated in v3.0.0. This feature will be removed in v6.0.0. See https://github.com/optuna/optuna/releases/tag/v3.0.0. Use suggest_float(..., log=True) instead.\n",
      "  \"learning_rate\": trial.suggest_loguniform(\"learning_rate\", 0.01, 0.3),\n"
     ]
    },
    {
     "name": "stdout",
     "output_type": "stream",
     "text": [
      "[I 2025-02-14 03:21:28,660] Trial 86 finished with value: 0.7375964212534905 and parameters: {'n_estimators': 950, 'max_depth': 12, 'learning_rate': 0.012005978325220193, 'subsample': 0.6445825607894019, 'colsample_bytree': 0.5692588045455748, 'gamma': 3.641003580394356, 'lambda': 9.322358215402256, 'alpha': 8.637695531625866, 'min_child_weight': 10}. Best is trial 66 with value: 0.7377152339937041.\n"
     ]
    },
    {
     "name": "stderr",
     "output_type": "stream",
     "text": [
      "Best trial: 66. Best value: 0.737715:  59%|█████▊    | 88/150 [20:27<17:26, 16.87s/it]C:\\Users\\Owner\\AppData\\Local\\Temp\\ipykernel_848\\2214655158.py:5: FutureWarning: suggest_loguniform has been deprecated in v3.0.0. This feature will be removed in v6.0.0. See https://github.com/optuna/optuna/releases/tag/v3.0.0. Use suggest_float(..., log=True) instead.\n",
      "  \"learning_rate\": trial.suggest_loguniform(\"learning_rate\", 0.01, 0.3),\n"
     ]
    },
    {
     "name": "stdout",
     "output_type": "stream",
     "text": [
      "[I 2025-02-14 03:21:44,851] Trial 87 finished with value: 0.7368866400366185 and parameters: {'n_estimators': 850, 'max_depth': 11, 'learning_rate': 0.010560366815542897, 'subsample': 0.7001900585013503, 'colsample_bytree': 0.5546830508851256, 'gamma': 4.317455830143681, 'lambda': 7.005759858891571, 'alpha': 0.06949241919757121, 'min_child_weight': 9}. Best is trial 66 with value: 0.7377152339937041.\n"
     ]
    },
    {
     "name": "stderr",
     "output_type": "stream",
     "text": [
      "Best trial: 66. Best value: 0.737715:  59%|█████▉    | 89/150 [20:46<17:34, 17.29s/it]C:\\Users\\Owner\\AppData\\Local\\Temp\\ipykernel_848\\2214655158.py:5: FutureWarning: suggest_loguniform has been deprecated in v3.0.0. This feature will be removed in v6.0.0. See https://github.com/optuna/optuna/releases/tag/v3.0.0. Use suggest_float(..., log=True) instead.\n",
      "  \"learning_rate\": trial.suggest_loguniform(\"learning_rate\", 0.01, 0.3),\n"
     ]
    },
    {
     "name": "stdout",
     "output_type": "stream",
     "text": [
      "[I 2025-02-14 03:22:03,117] Trial 88 finished with value: 0.737326174807911 and parameters: {'n_estimators': 1000, 'max_depth': 12, 'learning_rate': 0.013352691569924243, 'subsample': 0.6004087358245624, 'colsample_bytree': 0.6039240792743135, 'gamma': 3.453252663387478, 'lambda': 8.27926739984662, 'alpha': 8.817092015123402, 'min_child_weight': 10}. Best is trial 66 with value: 0.7377152339937041.\n"
     ]
    },
    {
     "name": "stderr",
     "output_type": "stream",
     "text": [
      "Best trial: 66. Best value: 0.737715:  60%|██████    | 90/150 [21:03<17:17, 17.30s/it]C:\\Users\\Owner\\AppData\\Local\\Temp\\ipykernel_848\\2214655158.py:5: FutureWarning: suggest_loguniform has been deprecated in v3.0.0. This feature will be removed in v6.0.0. See https://github.com/optuna/optuna/releases/tag/v3.0.0. Use suggest_float(..., log=True) instead.\n",
      "  \"learning_rate\": trial.suggest_loguniform(\"learning_rate\", 0.01, 0.3),\n"
     ]
    },
    {
     "name": "stdout",
     "output_type": "stream",
     "text": [
      "[I 2025-02-14 03:22:20,432] Trial 89 finished with value: 0.7375529828860297 and parameters: {'n_estimators': 950, 'max_depth': 10, 'learning_rate': 0.01580800536444765, 'subsample': 0.6817131350536804, 'colsample_bytree': 0.5359752498615677, 'gamma': 4.144945754708521, 'lambda': 7.838959346336076, 'alpha': 8.328698263216854, 'min_child_weight': 9}. Best is trial 66 with value: 0.7377152339937041.\n"
     ]
    },
    {
     "name": "stderr",
     "output_type": "stream",
     "text": [
      "Best trial: 66. Best value: 0.737715:  61%|██████    | 91/150 [21:08<13:25, 13.65s/it]C:\\Users\\Owner\\AppData\\Local\\Temp\\ipykernel_848\\2214655158.py:5: FutureWarning: suggest_loguniform has been deprecated in v3.0.0. This feature will be removed in v6.0.0. See https://github.com/optuna/optuna/releases/tag/v3.0.0. Use suggest_float(..., log=True) instead.\n",
      "  \"learning_rate\": trial.suggest_loguniform(\"learning_rate\", 0.01, 0.3),\n"
     ]
    },
    {
     "name": "stdout",
     "output_type": "stream",
     "text": [
      "[I 2025-02-14 03:22:25,562] Trial 90 finished with value: 0.736417167555973 and parameters: {'n_estimators': 250, 'max_depth': 9, 'learning_rate': 0.011835950004092067, 'subsample': 0.6596147633678797, 'colsample_bytree': 0.5802490035572194, 'gamma': 3.9040724427409335, 'lambda': 9.12421191849641, 'alpha': 9.601251441768184, 'min_child_weight': 10}. Best is trial 66 with value: 0.7377152339937041.\n"
     ]
    },
    {
     "name": "stderr",
     "output_type": "stream",
     "text": [
      "Best trial: 91. Best value: 0.737716:  61%|██████▏   | 92/150 [21:26<14:25, 14.93s/it]C:\\Users\\Owner\\AppData\\Local\\Temp\\ipykernel_848\\2214655158.py:5: FutureWarning: suggest_loguniform has been deprecated in v3.0.0. This feature will be removed in v6.0.0. See https://github.com/optuna/optuna/releases/tag/v3.0.0. Use suggest_float(..., log=True) instead.\n",
      "  \"learning_rate\": trial.suggest_loguniform(\"learning_rate\", 0.01, 0.3),\n"
     ]
    },
    {
     "name": "stdout",
     "output_type": "stream",
     "text": [
      "[I 2025-02-14 03:22:43,470] Trial 91 finished with value: 0.7377159566759911 and parameters: {'n_estimators': 1000, 'max_depth': 10, 'learning_rate': 0.010673313002135776, 'subsample': 0.6775398674232749, 'colsample_bytree': 0.5142233585609924, 'gamma': 4.428662817657004, 'lambda': 7.478153994816657, 'alpha': 9.78914436394701, 'min_child_weight': 9}. Best is trial 91 with value: 0.7377159566759911.\n"
     ]
    },
    {
     "name": "stderr",
     "output_type": "stream",
     "text": [
      "Best trial: 91. Best value: 0.737716:  62%|██████▏   | 93/150 [21:44<15:08, 15.94s/it]C:\\Users\\Owner\\AppData\\Local\\Temp\\ipykernel_848\\2214655158.py:5: FutureWarning: suggest_loguniform has been deprecated in v3.0.0. This feature will be removed in v6.0.0. See https://github.com/optuna/optuna/releases/tag/v3.0.0. Use suggest_float(..., log=True) instead.\n",
      "  \"learning_rate\": trial.suggest_loguniform(\"learning_rate\", 0.01, 0.3),\n"
     ]
    },
    {
     "name": "stdout",
     "output_type": "stream",
     "text": [
      "[I 2025-02-14 03:23:01,777] Trial 92 finished with value: 0.737683831065868 and parameters: {'n_estimators': 1000, 'max_depth': 11, 'learning_rate': 0.010553177888957727, 'subsample': 0.6264768133789104, 'colsample_bytree': 0.5130296427708225, 'gamma': 3.8074493220904304, 'lambda': 6.4088727528251415, 'alpha': 9.761126445802189, 'min_child_weight': 9}. Best is trial 91 with value: 0.7377159566759911.\n"
     ]
    },
    {
     "name": "stderr",
     "output_type": "stream",
     "text": [
      "Best trial: 91. Best value: 0.737716:  63%|██████▎   | 94/150 [22:03<15:34, 16.69s/it]C:\\Users\\Owner\\AppData\\Local\\Temp\\ipykernel_848\\2214655158.py:5: FutureWarning: suggest_loguniform has been deprecated in v3.0.0. This feature will be removed in v6.0.0. See https://github.com/optuna/optuna/releases/tag/v3.0.0. Use suggest_float(..., log=True) instead.\n",
      "  \"learning_rate\": trial.suggest_loguniform(\"learning_rate\", 0.01, 0.3),\n"
     ]
    },
    {
     "name": "stdout",
     "output_type": "stream",
     "text": [
      "[I 2025-02-14 03:23:20,210] Trial 93 finished with value: 0.7376640526017406 and parameters: {'n_estimators': 950, 'max_depth': 10, 'learning_rate': 0.010430081446359832, 'subsample': 0.6278960989253771, 'colsample_bytree': 0.5122489390020656, 'gamma': 4.283988840559367, 'lambda': 6.535504677351718, 'alpha': 9.47955366951733, 'min_child_weight': 9}. Best is trial 91 with value: 0.7377159566759911.\n"
     ]
    },
    {
     "name": "stderr",
     "output_type": "stream",
     "text": [
      "Best trial: 91. Best value: 0.737716:  63%|██████▎   | 95/150 [22:20<15:35, 17.02s/it]C:\\Users\\Owner\\AppData\\Local\\Temp\\ipykernel_848\\2214655158.py:5: FutureWarning: suggest_loguniform has been deprecated in v3.0.0. This feature will be removed in v6.0.0. See https://github.com/optuna/optuna/releases/tag/v3.0.0. Use suggest_float(..., log=True) instead.\n",
      "  \"learning_rate\": trial.suggest_loguniform(\"learning_rate\", 0.01, 0.3),\n"
     ]
    },
    {
     "name": "stdout",
     "output_type": "stream",
     "text": [
      "[I 2025-02-14 03:23:37,995] Trial 94 finished with value: 0.7375746980989784 and parameters: {'n_estimators': 1000, 'max_depth': 8, 'learning_rate': 0.010524673814366992, 'subsample': 0.5811807554404957, 'colsample_bytree': 0.5010232569767213, 'gamma': 4.438755660568807, 'lambda': 8.007855181768177, 'alpha': 9.120730258181373, 'min_child_weight': 10}. Best is trial 91 with value: 0.7377159566759911.\n"
     ]
    },
    {
     "name": "stderr",
     "output_type": "stream",
     "text": [
      "Best trial: 91. Best value: 0.737716:  64%|██████▍   | 96/150 [22:37<15:09, 16.85s/it]C:\\Users\\Owner\\AppData\\Local\\Temp\\ipykernel_848\\2214655158.py:5: FutureWarning: suggest_loguniform has been deprecated in v3.0.0. This feature will be removed in v6.0.0. See https://github.com/optuna/optuna/releases/tag/v3.0.0. Use suggest_float(..., log=True) instead.\n",
      "  \"learning_rate\": trial.suggest_loguniform(\"learning_rate\", 0.01, 0.3),\n"
     ]
    },
    {
     "name": "stdout",
     "output_type": "stream",
     "text": [
      "[I 2025-02-14 03:23:54,452] Trial 95 finished with value: 0.7377090733257472 and parameters: {'n_estimators': 900, 'max_depth': 11, 'learning_rate': 0.014709307873676249, 'subsample': 0.6488580020825264, 'colsample_bytree': 0.5143389074552387, 'gamma': 4.152298028267292, 'lambda': 8.473114527664489, 'alpha': 9.323955709635724, 'min_child_weight': 9}. Best is trial 91 with value: 0.7377159566759911.\n"
     ]
    },
    {
     "name": "stderr",
     "output_type": "stream",
     "text": [
      "Best trial: 91. Best value: 0.737716:  65%|██████▍   | 97/150 [22:54<14:58, 16.96s/it]C:\\Users\\Owner\\AppData\\Local\\Temp\\ipykernel_848\\2214655158.py:5: FutureWarning: suggest_loguniform has been deprecated in v3.0.0. This feature will be removed in v6.0.0. See https://github.com/optuna/optuna/releases/tag/v3.0.0. Use suggest_float(..., log=True) instead.\n",
      "  \"learning_rate\": trial.suggest_loguniform(\"learning_rate\", 0.01, 0.3),\n"
     ]
    },
    {
     "name": "stdout",
     "output_type": "stream",
     "text": [
      "[I 2025-02-14 03:24:11,658] Trial 96 finished with value: 0.7376708039234898 and parameters: {'n_estimators': 900, 'max_depth': 9, 'learning_rate': 0.010000802498282963, 'subsample': 0.6041300825632367, 'colsample_bytree': 0.5119414737810335, 'gamma': 4.118307095833462, 'lambda': 7.658615646279074, 'alpha': 9.309194926602132, 'min_child_weight': 10}. Best is trial 91 with value: 0.7377159566759911.\n"
     ]
    },
    {
     "name": "stderr",
     "output_type": "stream",
     "text": [
      "Best trial: 91. Best value: 0.737716:  65%|██████▌   | 98/150 [23:11<14:46, 17.06s/it]C:\\Users\\Owner\\AppData\\Local\\Temp\\ipykernel_848\\2214655158.py:5: FutureWarning: suggest_loguniform has been deprecated in v3.0.0. This feature will be removed in v6.0.0. See https://github.com/optuna/optuna/releases/tag/v3.0.0. Use suggest_float(..., log=True) instead.\n",
      "  \"learning_rate\": trial.suggest_loguniform(\"learning_rate\", 0.01, 0.3),\n"
     ]
    },
    {
     "name": "stdout",
     "output_type": "stream",
     "text": [
      "[I 2025-02-14 03:24:28,946] Trial 97 finished with value: 0.7376283582514782 and parameters: {'n_estimators': 950, 'max_depth': 10, 'learning_rate': 0.014603086046617043, 'subsample': 0.6452499290096139, 'colsample_bytree': 0.5337227044001716, 'gamma': 4.206513661473581, 'lambda': 6.141299233571088, 'alpha': 9.015702774902314, 'min_child_weight': 9}. Best is trial 91 with value: 0.7377159566759911.\n"
     ]
    },
    {
     "name": "stderr",
     "output_type": "stream",
     "text": [
      "Best trial: 91. Best value: 0.737716:  66%|██████▌   | 99/150 [23:28<14:22, 16.90s/it]C:\\Users\\Owner\\AppData\\Local\\Temp\\ipykernel_848\\2214655158.py:5: FutureWarning: suggest_loguniform has been deprecated in v3.0.0. This feature will be removed in v6.0.0. See https://github.com/optuna/optuna/releases/tag/v3.0.0. Use suggest_float(..., log=True) instead.\n",
      "  \"learning_rate\": trial.suggest_loguniform(\"learning_rate\", 0.01, 0.3),\n"
     ]
    },
    {
     "name": "stdout",
     "output_type": "stream",
     "text": [
      "[I 2025-02-14 03:24:45,491] Trial 98 finished with value: 0.7375548124237423 and parameters: {'n_estimators': 900, 'max_depth': 11, 'learning_rate': 0.012984618690307205, 'subsample': 0.6166755530344659, 'colsample_bytree': 0.5460089999637485, 'gamma': 3.5570716554330413, 'lambda': 8.418047662842227, 'alpha': 8.798920887078395, 'min_child_weight': 10}. Best is trial 91 with value: 0.7377159566759911.\n"
     ]
    },
    {
     "name": "stderr",
     "output_type": "stream",
     "text": [
      "Best trial: 91. Best value: 0.737716:  67%|██████▋   | 100/150 [23:45<14:09, 17.00s/it]C:\\Users\\Owner\\AppData\\Local\\Temp\\ipykernel_848\\2214655158.py:5: FutureWarning: suggest_loguniform has been deprecated in v3.0.0. This feature will be removed in v6.0.0. See https://github.com/optuna/optuna/releases/tag/v3.0.0. Use suggest_float(..., log=True) instead.\n",
      "  \"learning_rate\": trial.suggest_loguniform(\"learning_rate\", 0.01, 0.3),\n"
     ]
    },
    {
     "name": "stdout",
     "output_type": "stream",
     "text": [
      "[I 2025-02-14 03:25:02,705] Trial 99 finished with value: 0.7376462426526887 and parameters: {'n_estimators': 950, 'max_depth': 12, 'learning_rate': 0.011593790084454712, 'subsample': 0.6541715197451943, 'colsample_bytree': 0.5153546435819677, 'gamma': 4.3649922610089105, 'lambda': 8.916484062851373, 'alpha': 9.493919434288351, 'min_child_weight': 9}. Best is trial 91 with value: 0.7377159566759911.\n"
     ]
    },
    {
     "name": "stderr",
     "output_type": "stream",
     "text": [
      "Best trial: 91. Best value: 0.737716:  67%|██████▋   | 101/150 [24:03<14:12, 17.39s/it]C:\\Users\\Owner\\AppData\\Local\\Temp\\ipykernel_848\\2214655158.py:5: FutureWarning: suggest_loguniform has been deprecated in v3.0.0. This feature will be removed in v6.0.0. See https://github.com/optuna/optuna/releases/tag/v3.0.0. Use suggest_float(..., log=True) instead.\n",
      "  \"learning_rate\": trial.suggest_loguniform(\"learning_rate\", 0.01, 0.3),\n"
     ]
    },
    {
     "name": "stdout",
     "output_type": "stream",
     "text": [
      "[I 2025-02-14 03:25:21,008] Trial 100 finished with value: 0.7375255110321719 and parameters: {'n_estimators': 1000, 'max_depth': 9, 'learning_rate': 0.012654944015663857, 'subsample': 0.6283802523300464, 'colsample_bytree': 0.5287840196565793, 'gamma': 3.837265496701569, 'lambda': 6.912443315356469, 'alpha': 9.828716792877971, 'min_child_weight': 8}. Best is trial 91 with value: 0.7377159566759911.\n"
     ]
    },
    {
     "name": "stderr",
     "output_type": "stream",
     "text": [
      "Best trial: 91. Best value: 0.737716:  68%|██████▊   | 102/150 [24:20<13:43, 17.15s/it]C:\\Users\\Owner\\AppData\\Local\\Temp\\ipykernel_848\\2214655158.py:5: FutureWarning: suggest_loguniform has been deprecated in v3.0.0. This feature will be removed in v6.0.0. See https://github.com/optuna/optuna/releases/tag/v3.0.0. Use suggest_float(..., log=True) instead.\n",
      "  \"learning_rate\": trial.suggest_loguniform(\"learning_rate\", 0.01, 0.3),\n"
     ]
    },
    {
     "name": "stdout",
     "output_type": "stream",
     "text": [
      "[I 2025-02-14 03:25:37,606] Trial 101 finished with value: 0.7376831858138262 and parameters: {'n_estimators': 900, 'max_depth': 9, 'learning_rate': 0.010029599455467199, 'subsample': 0.5880736276818572, 'colsample_bytree': 0.5107689091760259, 'gamma': 4.1273015929621675, 'lambda': 7.5751023593892395, 'alpha': 9.334382862673579, 'min_child_weight': 10}. Best is trial 91 with value: 0.7377159566759911.\n"
     ]
    },
    {
     "name": "stderr",
     "output_type": "stream",
     "text": [
      "Best trial: 91. Best value: 0.737716:  69%|██████▊   | 103/150 [24:37<13:30, 17.24s/it]C:\\Users\\Owner\\AppData\\Local\\Temp\\ipykernel_848\\2214655158.py:5: FutureWarning: suggest_loguniform has been deprecated in v3.0.0. This feature will be removed in v6.0.0. See https://github.com/optuna/optuna/releases/tag/v3.0.0. Use suggest_float(..., log=True) instead.\n",
      "  \"learning_rate\": trial.suggest_loguniform(\"learning_rate\", 0.01, 0.3),\n"
     ]
    },
    {
     "name": "stdout",
     "output_type": "stream",
     "text": [
      "[I 2025-02-14 03:25:55,043] Trial 102 finished with value: 0.7375523634440695 and parameters: {'n_estimators': 950, 'max_depth': 10, 'learning_rate': 0.011019974464196676, 'subsample': 0.5631081704658745, 'colsample_bytree': 0.5147575199939102, 'gamma': 4.035705417050172, 'lambda': 7.624136417214546, 'alpha': 9.990719539802514, 'min_child_weight': 10}. Best is trial 91 with value: 0.7377159566759911.\n"
     ]
    },
    {
     "name": "stderr",
     "output_type": "stream",
     "text": [
      "Best trial: 91. Best value: 0.737716:  69%|██████▉   | 104/150 [24:53<12:53, 16.81s/it]C:\\Users\\Owner\\AppData\\Local\\Temp\\ipykernel_848\\2214655158.py:5: FutureWarning: suggest_loguniform has been deprecated in v3.0.0. This feature will be removed in v6.0.0. See https://github.com/optuna/optuna/releases/tag/v3.0.0. Use suggest_float(..., log=True) instead.\n",
      "  \"learning_rate\": trial.suggest_loguniform(\"learning_rate\", 0.01, 0.3),\n"
     ]
    },
    {
     "name": "stdout",
     "output_type": "stream",
     "text": [
      "[I 2025-02-14 03:26:10,846] Trial 103 finished with value: 0.7375877689199564 and parameters: {'n_estimators': 900, 'max_depth': 8, 'learning_rate': 0.011676252579460786, 'subsample': 0.6455113437509601, 'colsample_bytree': 0.5283556043070351, 'gamma': 4.608854412252984, 'lambda': 7.306714217226608, 'alpha': 9.211342776400672, 'min_child_weight': 10}. Best is trial 91 with value: 0.7377159566759911.\n"
     ]
    },
    {
     "name": "stderr",
     "output_type": "stream",
     "text": [
      "Best trial: 91. Best value: 0.737716:  70%|███████   | 105/150 [25:12<12:58, 17.30s/it]C:\\Users\\Owner\\AppData\\Local\\Temp\\ipykernel_848\\2214655158.py:5: FutureWarning: suggest_loguniform has been deprecated in v3.0.0. This feature will be removed in v6.0.0. See https://github.com/optuna/optuna/releases/tag/v3.0.0. Use suggest_float(..., log=True) instead.\n",
      "  \"learning_rate\": trial.suggest_loguniform(\"learning_rate\", 0.01, 0.3),\n"
     ]
    },
    {
     "name": "stdout",
     "output_type": "stream",
     "text": [
      "[I 2025-02-14 03:26:29,310] Trial 104 finished with value: 0.737590268527097 and parameters: {'n_estimators': 1000, 'max_depth': 10, 'learning_rate': 0.010039096527203232, 'subsample': 0.7135434731333969, 'colsample_bytree': 0.5000387948926728, 'gamma': 4.462822663068799, 'lambda': 8.69813206291356, 'alpha': 9.39910154021817, 'min_child_weight': 9}. Best is trial 91 with value: 0.7377159566759911.\n"
     ]
    },
    {
     "name": "stderr",
     "output_type": "stream",
     "text": [
      "Best trial: 91. Best value: 0.737716:  71%|███████   | 106/150 [25:29<12:45, 17.41s/it]C:\\Users\\Owner\\AppData\\Local\\Temp\\ipykernel_848\\2214655158.py:5: FutureWarning: suggest_loguniform has been deprecated in v3.0.0. This feature will be removed in v6.0.0. See https://github.com/optuna/optuna/releases/tag/v3.0.0. Use suggest_float(..., log=True) instead.\n",
      "  \"learning_rate\": trial.suggest_loguniform(\"learning_rate\", 0.01, 0.3),\n"
     ]
    },
    {
     "name": "stdout",
     "output_type": "stream",
     "text": [
      "[I 2025-02-14 03:26:46,957] Trial 105 finished with value: 0.7376364834637288 and parameters: {'n_estimators': 950, 'max_depth': 10, 'learning_rate': 0.010824177786515647, 'subsample': 0.5844379719469044, 'colsample_bytree': 0.5418835014450382, 'gamma': 4.830709533024575, 'lambda': 7.8681676010343455, 'alpha': 8.495918494096411, 'min_child_weight': 10}. Best is trial 91 with value: 0.7377159566759911.\n"
     ]
    },
    {
     "name": "stderr",
     "output_type": "stream",
     "text": [
      "Best trial: 91. Best value: 0.737716:  71%|███████▏  | 107/150 [25:47<12:29, 17.44s/it]C:\\Users\\Owner\\AppData\\Local\\Temp\\ipykernel_848\\2214655158.py:5: FutureWarning: suggest_loguniform has been deprecated in v3.0.0. This feature will be removed in v6.0.0. See https://github.com/optuna/optuna/releases/tag/v3.0.0. Use suggest_float(..., log=True) instead.\n",
      "  \"learning_rate\": trial.suggest_loguniform(\"learning_rate\", 0.01, 0.3),\n"
     ]
    },
    {
     "name": "stdout",
     "output_type": "stream",
     "text": [
      "[I 2025-02-14 03:27:04,468] Trial 106 finished with value: 0.7376157053552841 and parameters: {'n_estimators': 1000, 'max_depth': 9, 'learning_rate': 0.012871531813608656, 'subsample': 0.5676531792269743, 'colsample_bytree': 0.5634666910780239, 'gamma': 4.193338194636222, 'lambda': 6.2610734975700915, 'alpha': 9.65271050545511, 'min_child_weight': 8}. Best is trial 91 with value: 0.7377159566759911.\n"
     ]
    },
    {
     "name": "stderr",
     "output_type": "stream",
     "text": [
      "Best trial: 91. Best value: 0.737716:  72%|███████▏  | 108/150 [26:02<11:40, 16.69s/it]C:\\Users\\Owner\\AppData\\Local\\Temp\\ipykernel_848\\2214655158.py:5: FutureWarning: suggest_loguniform has been deprecated in v3.0.0. This feature will be removed in v6.0.0. See https://github.com/optuna/optuna/releases/tag/v3.0.0. Use suggest_float(..., log=True) instead.\n",
      "  \"learning_rate\": trial.suggest_loguniform(\"learning_rate\", 0.01, 0.3),\n"
     ]
    },
    {
     "name": "stdout",
     "output_type": "stream",
     "text": [
      "[I 2025-02-14 03:27:19,403] Trial 107 finished with value: 0.73761727679218 and parameters: {'n_estimators': 800, 'max_depth': 9, 'learning_rate': 0.014488323629759393, 'subsample': 0.6238464385626534, 'colsample_bytree': 0.5093908679793979, 'gamma': 3.9017055971293235, 'lambda': 8.085693516586495, 'alpha': 9.116147776463299, 'min_child_weight': 9}. Best is trial 91 with value: 0.7377159566759911.\n"
     ]
    },
    {
     "name": "stderr",
     "output_type": "stream",
     "text": [
      "Best trial: 91. Best value: 0.737716:  73%|███████▎  | 109/150 [26:18<11:19, 16.56s/it]C:\\Users\\Owner\\AppData\\Local\\Temp\\ipykernel_848\\2214655158.py:5: FutureWarning: suggest_loguniform has been deprecated in v3.0.0. This feature will be removed in v6.0.0. See https://github.com/optuna/optuna/releases/tag/v3.0.0. Use suggest_float(..., log=True) instead.\n",
      "  \"learning_rate\": trial.suggest_loguniform(\"learning_rate\", 0.01, 0.3),\n"
     ]
    },
    {
     "name": "stdout",
     "output_type": "stream",
     "text": [
      "[I 2025-02-14 03:27:35,677] Trial 108 finished with value: 0.7375792208194443 and parameters: {'n_estimators': 900, 'max_depth': 11, 'learning_rate': 0.011489620424227085, 'subsample': 0.6352747583038295, 'colsample_bytree': 0.5210916154608343, 'gamma': 4.299022600050761, 'lambda': 8.478628153791053, 'alpha': 8.172908137543208, 'min_child_weight': 9}. Best is trial 91 with value: 0.7377159566759911.\n"
     ]
    },
    {
     "name": "stderr",
     "output_type": "stream",
     "text": [
      "Best trial: 91. Best value: 0.737716:  73%|███████▎  | 110/150 [26:35<11:10, 16.77s/it]C:\\Users\\Owner\\AppData\\Local\\Temp\\ipykernel_848\\2214655158.py:5: FutureWarning: suggest_loguniform has been deprecated in v3.0.0. This feature will be removed in v6.0.0. See https://github.com/optuna/optuna/releases/tag/v3.0.0. Use suggest_float(..., log=True) instead.\n",
      "  \"learning_rate\": trial.suggest_loguniform(\"learning_rate\", 0.01, 0.3),\n"
     ]
    },
    {
     "name": "stdout",
     "output_type": "stream",
     "text": [
      "[I 2025-02-14 03:27:52,923] Trial 109 finished with value: 0.7376209855023779 and parameters: {'n_estimators': 950, 'max_depth': 10, 'learning_rate': 0.010720065371309866, 'subsample': 0.7505040284618236, 'colsample_bytree': 0.550088207249719, 'gamma': 4.101757790164362, 'lambda': 9.057118290918089, 'alpha': 8.964362057804994, 'min_child_weight': 10}. Best is trial 91 with value: 0.7377159566759911.\n"
     ]
    },
    {
     "name": "stderr",
     "output_type": "stream",
     "text": [
      "Best trial: 91. Best value: 0.737716:  74%|███████▍  | 111/150 [26:54<11:15, 17.31s/it]C:\\Users\\Owner\\AppData\\Local\\Temp\\ipykernel_848\\2214655158.py:5: FutureWarning: suggest_loguniform has been deprecated in v3.0.0. This feature will be removed in v6.0.0. See https://github.com/optuna/optuna/releases/tag/v3.0.0. Use suggest_float(..., log=True) instead.\n",
      "  \"learning_rate\": trial.suggest_loguniform(\"learning_rate\", 0.01, 0.3),\n"
     ]
    },
    {
     "name": "stdout",
     "output_type": "stream",
     "text": [
      "[I 2025-02-14 03:28:11,500] Trial 110 finished with value: 0.7371142651030919 and parameters: {'n_estimators': 1000, 'max_depth': 12, 'learning_rate': 0.012185542723093698, 'subsample': 0.5397698608601249, 'colsample_bytree': 0.5338032479510386, 'gamma': 3.781341367370278, 'lambda': 6.931712034251561, 'alpha': 3.502096301709641, 'min_child_weight': 1}. Best is trial 91 with value: 0.7377159566759911.\n"
     ]
    },
    {
     "name": "stderr",
     "output_type": "stream",
     "text": [
      "Best trial: 91. Best value: 0.737716:  75%|███████▍  | 112/150 [27:12<11:01, 17.40s/it]C:\\Users\\Owner\\AppData\\Local\\Temp\\ipykernel_848\\2214655158.py:5: FutureWarning: suggest_loguniform has been deprecated in v3.0.0. This feature will be removed in v6.0.0. See https://github.com/optuna/optuna/releases/tag/v3.0.0. Use suggest_float(..., log=True) instead.\n",
      "  \"learning_rate\": trial.suggest_loguniform(\"learning_rate\", 0.01, 0.3),\n"
     ]
    },
    {
     "name": "stdout",
     "output_type": "stream",
     "text": [
      "[I 2025-02-14 03:28:29,103] Trial 111 finished with value: 0.7376614477688822 and parameters: {'n_estimators': 900, 'max_depth': 9, 'learning_rate': 0.010193829567211809, 'subsample': 0.6036885610460311, 'colsample_bytree': 0.5090241691819768, 'gamma': 4.129088849120358, 'lambda': 7.697311772350908, 'alpha': 9.318190276554802, 'min_child_weight': 10}. Best is trial 91 with value: 0.7377159566759911.\n"
     ]
    },
    {
     "name": "stderr",
     "output_type": "stream",
     "text": [
      "Best trial: 112. Best value: 0.73776:  75%|███████▌  | 113/150 [27:28<10:32, 17.11s/it]C:\\Users\\Owner\\AppData\\Local\\Temp\\ipykernel_848\\2214655158.py:5: FutureWarning: suggest_loguniform has been deprecated in v3.0.0. This feature will be removed in v6.0.0. See https://github.com/optuna/optuna/releases/tag/v3.0.0. Use suggest_float(..., log=True) instead.\n",
      "  \"learning_rate\": trial.suggest_loguniform(\"learning_rate\", 0.01, 0.3),\n"
     ]
    },
    {
     "name": "stdout",
     "output_type": "stream",
     "text": [
      "[I 2025-02-14 03:28:45,524] Trial 112 finished with value: 0.7377604770814912 and parameters: {'n_estimators': 900, 'max_depth': 9, 'learning_rate': 0.010036441389472099, 'subsample': 0.6108498038380609, 'colsample_bytree': 0.5168567603939824, 'gamma': 4.3360481108911095, 'lambda': 7.413915231394637, 'alpha': 9.777068712875657, 'min_child_weight': 10}. Best is trial 112 with value: 0.7377604770814912.\n"
     ]
    },
    {
     "name": "stderr",
     "output_type": "stream",
     "text": [
      "Best trial: 112. Best value: 0.73776:  76%|███████▌  | 114/150 [27:42<09:46, 16.28s/it]C:\\Users\\Owner\\AppData\\Local\\Temp\\ipykernel_848\\2214655158.py:5: FutureWarning: suggest_loguniform has been deprecated in v3.0.0. This feature will be removed in v6.0.0. See https://github.com/optuna/optuna/releases/tag/v3.0.0. Use suggest_float(..., log=True) instead.\n",
      "  \"learning_rate\": trial.suggest_loguniform(\"learning_rate\", 0.01, 0.3),\n"
     ]
    },
    {
     "name": "stdout",
     "output_type": "stream",
     "text": [
      "[I 2025-02-14 03:28:59,884] Trial 113 finished with value: 0.7361533984481986 and parameters: {'n_estimators': 950, 'max_depth': 8, 'learning_rate': 0.15547598595248432, 'subsample': 0.5895091344732147, 'colsample_bytree': 0.5216808828952457, 'gamma': 4.613997864118901, 'lambda': 3.2758669219170926, 'alpha': 9.830473326009152, 'min_child_weight': 10}. Best is trial 112 with value: 0.7377604770814912.\n"
     ]
    },
    {
     "name": "stderr",
     "output_type": "stream",
     "text": [
      "Best trial: 112. Best value: 0.73776:  77%|███████▋  | 115/150 [27:58<09:27, 16.20s/it]C:\\Users\\Owner\\AppData\\Local\\Temp\\ipykernel_848\\2214655158.py:5: FutureWarning: suggest_loguniform has been deprecated in v3.0.0. This feature will be removed in v6.0.0. See https://github.com/optuna/optuna/releases/tag/v3.0.0. Use suggest_float(..., log=True) instead.\n",
      "  \"learning_rate\": trial.suggest_loguniform(\"learning_rate\", 0.01, 0.3),\n"
     ]
    },
    {
     "name": "stdout",
     "output_type": "stream",
     "text": [
      "[I 2025-02-14 03:29:15,906] Trial 114 finished with value: 0.7375512863695073 and parameters: {'n_estimators': 850, 'max_depth': 11, 'learning_rate': 0.011418657453546784, 'subsample': 0.6120267567382105, 'colsample_bytree': 0.5400368002736503, 'gamma': 4.435887121488983, 'lambda': 7.219609431363238, 'alpha': 9.630682364745601, 'min_child_weight': 10}. Best is trial 112 with value: 0.7377604770814912.\n"
     ]
    },
    {
     "name": "stderr",
     "output_type": "stream",
     "text": [
      "Best trial: 112. Best value: 0.73776:  77%|███████▋  | 116/150 [28:15<09:11, 16.21s/it]C:\\Users\\Owner\\AppData\\Local\\Temp\\ipykernel_848\\2214655158.py:5: FutureWarning: suggest_loguniform has been deprecated in v3.0.0. This feature will be removed in v6.0.0. See https://github.com/optuna/optuna/releases/tag/v3.0.0. Use suggest_float(..., log=True) instead.\n",
      "  \"learning_rate\": trial.suggest_loguniform(\"learning_rate\", 0.01, 0.3),\n"
     ]
    },
    {
     "name": "stdout",
     "output_type": "stream",
     "text": [
      "[I 2025-02-14 03:29:32,118] Trial 115 finished with value: 0.7376517848713809 and parameters: {'n_estimators': 900, 'max_depth': 9, 'learning_rate': 0.013830332250134513, 'subsample': 0.6704594884286657, 'colsample_bytree': 0.5594753514275034, 'gamma': 4.31939996981595, 'lambda': 5.46755453920341, 'alpha': 9.537481007860515, 'min_child_weight': 9}. Best is trial 112 with value: 0.7377604770814912.\n"
     ]
    },
    {
     "name": "stderr",
     "output_type": "stream",
     "text": [
      "Best trial: 112. Best value: 0.73776:  78%|███████▊  | 117/150 [28:33<09:15, 16.83s/it]C:\\Users\\Owner\\AppData\\Local\\Temp\\ipykernel_848\\2214655158.py:5: FutureWarning: suggest_loguniform has been deprecated in v3.0.0. This feature will be removed in v6.0.0. See https://github.com/optuna/optuna/releases/tag/v3.0.0. Use suggest_float(..., log=True) instead.\n",
      "  \"learning_rate\": trial.suggest_loguniform(\"learning_rate\", 0.01, 0.3),\n"
     ]
    },
    {
     "name": "stdout",
     "output_type": "stream",
     "text": [
      "[I 2025-02-14 03:29:50,406] Trial 116 finished with value: 0.7377173246103199 and parameters: {'n_estimators': 1000, 'max_depth': 10, 'learning_rate': 0.010779475430129642, 'subsample': 0.6973210758386997, 'colsample_bytree': 0.5284792291852597, 'gamma': 4.024636840720813, 'lambda': 8.780688392570784, 'alpha': 9.993189209771941, 'min_child_weight': 8}. Best is trial 112 with value: 0.7377604770814912.\n"
     ]
    },
    {
     "name": "stderr",
     "output_type": "stream",
     "text": [
      "Best trial: 112. Best value: 0.73776:  79%|███████▊  | 118/150 [28:51<09:07, 17.12s/it]C:\\Users\\Owner\\AppData\\Local\\Temp\\ipykernel_848\\2214655158.py:5: FutureWarning: suggest_loguniform has been deprecated in v3.0.0. This feature will be removed in v6.0.0. See https://github.com/optuna/optuna/releases/tag/v3.0.0. Use suggest_float(..., log=True) instead.\n",
      "  \"learning_rate\": trial.suggest_loguniform(\"learning_rate\", 0.01, 0.3),\n"
     ]
    },
    {
     "name": "stdout",
     "output_type": "stream",
     "text": [
      "[I 2025-02-14 03:30:08,192] Trial 117 finished with value: 0.7376068743365691 and parameters: {'n_estimators': 950, 'max_depth': 10, 'learning_rate': 0.013094809408266139, 'subsample': 0.6836824746105531, 'colsample_bytree': 0.518154317812567, 'gamma': 3.9928701471053216, 'lambda': 7.403327208996846, 'alpha': 9.710753773553735, 'min_child_weight': 8}. Best is trial 112 with value: 0.7377604770814912.\n"
     ]
    },
    {
     "name": "stderr",
     "output_type": "stream",
     "text": [
      "Best trial: 112. Best value: 0.73776:  79%|███████▉  | 119/150 [29:10<09:11, 17.78s/it]C:\\Users\\Owner\\AppData\\Local\\Temp\\ipykernel_848\\2214655158.py:5: FutureWarning: suggest_loguniform has been deprecated in v3.0.0. This feature will be removed in v6.0.0. See https://github.com/optuna/optuna/releases/tag/v3.0.0. Use suggest_float(..., log=True) instead.\n",
      "  \"learning_rate\": trial.suggest_loguniform(\"learning_rate\", 0.01, 0.3),\n"
     ]
    },
    {
     "name": "stdout",
     "output_type": "stream",
     "text": [
      "[I 2025-02-14 03:30:27,523] Trial 118 finished with value: 0.7375805291920461 and parameters: {'n_estimators': 1000, 'max_depth': 9, 'learning_rate': 0.010940542522396901, 'subsample': 0.7242361499793486, 'colsample_bytree': 0.5023634947465808, 'gamma': 4.484752082745575, 'lambda': 8.798481133461468, 'alpha': 9.401209662191443, 'min_child_weight': 8}. Best is trial 112 with value: 0.7377604770814912.\n"
     ]
    },
    {
     "name": "stderr",
     "output_type": "stream",
     "text": [
      "Best trial: 112. Best value: 0.73776:  80%|████████  | 120/150 [29:27<08:46, 17.55s/it]C:\\Users\\Owner\\AppData\\Local\\Temp\\ipykernel_848\\2214655158.py:5: FutureWarning: suggest_loguniform has been deprecated in v3.0.0. This feature will be removed in v6.0.0. See https://github.com/optuna/optuna/releases/tag/v3.0.0. Use suggest_float(..., log=True) instead.\n",
      "  \"learning_rate\": trial.suggest_loguniform(\"learning_rate\", 0.01, 0.3),\n"
     ]
    },
    {
     "name": "stdout",
     "output_type": "stream",
     "text": [
      "[I 2025-02-14 03:30:44,542] Trial 119 finished with value: 0.7377101216121414 and parameters: {'n_estimators': 900, 'max_depth': 8, 'learning_rate': 0.01231748355477808, 'subsample': 0.657480236191687, 'colsample_bytree': 0.8219492876162069, 'gamma': 4.369331643962367, 'lambda': 9.315907182426749, 'alpha': 8.689434665936817, 'min_child_weight': 8}. Best is trial 112 with value: 0.7377604770814912.\n"
     ]
    },
    {
     "name": "stderr",
     "output_type": "stream",
     "text": [
      "Best trial: 112. Best value: 0.73776:  81%|████████  | 121/150 [29:42<08:09, 16.89s/it]C:\\Users\\Owner\\AppData\\Local\\Temp\\ipykernel_848\\2214655158.py:5: FutureWarning: suggest_loguniform has been deprecated in v3.0.0. This feature will be removed in v6.0.0. See https://github.com/optuna/optuna/releases/tag/v3.0.0. Use suggest_float(..., log=True) instead.\n",
      "  \"learning_rate\": trial.suggest_loguniform(\"learning_rate\", 0.01, 0.3),\n"
     ]
    },
    {
     "name": "stdout",
     "output_type": "stream",
     "text": [
      "[I 2025-02-14 03:30:59,894] Trial 120 finished with value: 0.7375804666522329 and parameters: {'n_estimators': 800, 'max_depth': 8, 'learning_rate': 0.012312906154086634, 'subsample': 0.6964923809293293, 'colsample_bytree': 0.5467966643486901, 'gamma': 4.2224594603967915, 'lambda': 9.618063526017739, 'alpha': 8.690702446200136, 'min_child_weight': 8}. Best is trial 112 with value: 0.7377604770814912.\n"
     ]
    },
    {
     "name": "stderr",
     "output_type": "stream",
     "text": [
      "Best trial: 112. Best value: 0.73776:  81%|████████▏ | 122/150 [29:59<07:47, 16.69s/it]C:\\Users\\Owner\\AppData\\Local\\Temp\\ipykernel_848\\2214655158.py:5: FutureWarning: suggest_loguniform has been deprecated in v3.0.0. This feature will be removed in v6.0.0. See https://github.com/optuna/optuna/releases/tag/v3.0.0. Use suggest_float(..., log=True) instead.\n",
      "  \"learning_rate\": trial.suggest_loguniform(\"learning_rate\", 0.01, 0.3),\n"
     ]
    },
    {
     "name": "stdout",
     "output_type": "stream",
     "text": [
      "[I 2025-02-14 03:31:16,106] Trial 121 finished with value: 0.7376988267233218 and parameters: {'n_estimators': 850, 'max_depth': 8, 'learning_rate': 0.011608830419336089, 'subsample': 0.6560600340394531, 'colsample_bytree': 0.8705588016984332, 'gamma': 4.365609825190955, 'lambda': 9.19908673930101, 'alpha': 6.62489845777659, 'min_child_weight': 8}. Best is trial 112 with value: 0.7377604770814912.\n"
     ]
    },
    {
     "name": "stderr",
     "output_type": "stream",
     "text": [
      "Best trial: 112. Best value: 0.73776:  82%|████████▏ | 123/150 [30:15<07:29, 16.66s/it]C:\\Users\\Owner\\AppData\\Local\\Temp\\ipykernel_848\\2214655158.py:5: FutureWarning: suggest_loguniform has been deprecated in v3.0.0. This feature will be removed in v6.0.0. See https://github.com/optuna/optuna/releases/tag/v3.0.0. Use suggest_float(..., log=True) instead.\n",
      "  \"learning_rate\": trial.suggest_loguniform(\"learning_rate\", 0.01, 0.3),\n"
     ]
    },
    {
     "name": "stdout",
     "output_type": "stream",
     "text": [
      "[I 2025-02-14 03:31:32,693] Trial 122 finished with value: 0.7377404514361969 and parameters: {'n_estimators': 850, 'max_depth': 7, 'learning_rate': 0.011782218082590631, 'subsample': 0.6594898754561278, 'colsample_bytree': 0.8411753092008734, 'gamma': 4.639895539761925, 'lambda': 9.286502993070119, 'alpha': 4.5786199498788775, 'min_child_weight': 8}. Best is trial 112 with value: 0.7377604770814912.\n"
     ]
    },
    {
     "name": "stderr",
     "output_type": "stream",
     "text": [
      "Best trial: 112. Best value: 0.73776:  83%|████████▎ | 124/150 [30:31<07:06, 16.40s/it]C:\\Users\\Owner\\AppData\\Local\\Temp\\ipykernel_848\\2214655158.py:5: FutureWarning: suggest_loguniform has been deprecated in v3.0.0. This feature will be removed in v6.0.0. See https://github.com/optuna/optuna/releases/tag/v3.0.0. Use suggest_float(..., log=True) instead.\n",
      "  \"learning_rate\": trial.suggest_loguniform(\"learning_rate\", 0.01, 0.3),\n"
     ]
    },
    {
     "name": "stdout",
     "output_type": "stream",
     "text": [
      "[I 2025-02-14 03:31:48,503] Trial 123 finished with value: 0.7373913184613656 and parameters: {'n_estimators': 850, 'max_depth': 6, 'learning_rate': 0.015510784797154386, 'subsample': 0.6542083771094235, 'colsample_bytree': 0.8295438114491576, 'gamma': 4.629137404353872, 'lambda': 9.383900708147902, 'alpha': 4.60559960277119, 'min_child_weight': 8}. Best is trial 112 with value: 0.7377604770814912.\n"
     ]
    },
    {
     "name": "stderr",
     "output_type": "stream",
     "text": [
      "Best trial: 112. Best value: 0.73776:  83%|████████▎ | 125/150 [30:46<06:41, 16.08s/it]C:\\Users\\Owner\\AppData\\Local\\Temp\\ipykernel_848\\2214655158.py:5: FutureWarning: suggest_loguniform has been deprecated in v3.0.0. This feature will be removed in v6.0.0. See https://github.com/optuna/optuna/releases/tag/v3.0.0. Use suggest_float(..., log=True) instead.\n",
      "  \"learning_rate\": trial.suggest_loguniform(\"learning_rate\", 0.01, 0.3),\n"
     ]
    },
    {
     "name": "stdout",
     "output_type": "stream",
     "text": [
      "[I 2025-02-14 03:32:03,825] Trial 124 finished with value: 0.7376737780390552 and parameters: {'n_estimators': 800, 'max_depth': 7, 'learning_rate': 0.016925406569203733, 'subsample': 0.655666526411091, 'colsample_bytree': 0.8652340050414775, 'gamma': 4.833274004606177, 'lambda': 9.172486993949448, 'alpha': 5.1999823890308035, 'min_child_weight': 8}. Best is trial 112 with value: 0.7377604770814912.\n"
     ]
    },
    {
     "name": "stderr",
     "output_type": "stream",
     "text": [
      "Best trial: 112. Best value: 0.73776:  84%|████████▍ | 126/150 [31:03<06:29, 16.23s/it]C:\\Users\\Owner\\AppData\\Local\\Temp\\ipykernel_848\\2214655158.py:5: FutureWarning: suggest_loguniform has been deprecated in v3.0.0. This feature will be removed in v6.0.0. See https://github.com/optuna/optuna/releases/tag/v3.0.0. Use suggest_float(..., log=True) instead.\n",
      "  \"learning_rate\": trial.suggest_loguniform(\"learning_rate\", 0.01, 0.3),\n"
     ]
    },
    {
     "name": "stdout",
     "output_type": "stream",
     "text": [
      "[I 2025-02-14 03:32:20,396] Trial 125 finished with value: 0.737577518346749 and parameters: {'n_estimators': 850, 'max_depth': 7, 'learning_rate': 0.011601413176790332, 'subsample': 0.7062175032748763, 'colsample_bytree': 0.8704856328278714, 'gamma': 4.371117263698602, 'lambda': 9.274747773795655, 'alpha': 5.5488349513999085, 'min_child_weight': 7}. Best is trial 112 with value: 0.7377604770814912.\n"
     ]
    },
    {
     "name": "stderr",
     "output_type": "stream",
     "text": [
      "Best trial: 112. Best value: 0.73776:  85%|████████▍ | 127/150 [31:16<05:52, 15.31s/it]C:\\Users\\Owner\\AppData\\Local\\Temp\\ipykernel_848\\2214655158.py:5: FutureWarning: suggest_loguniform has been deprecated in v3.0.0. This feature will be removed in v6.0.0. See https://github.com/optuna/optuna/releases/tag/v3.0.0. Use suggest_float(..., log=True) instead.\n",
      "  \"learning_rate\": trial.suggest_loguniform(\"learning_rate\", 0.01, 0.3),\n"
     ]
    },
    {
     "name": "stdout",
     "output_type": "stream",
     "text": [
      "[I 2025-02-14 03:32:33,561] Trial 126 finished with value: 0.7342955828129871 and parameters: {'n_estimators': 850, 'max_depth': 7, 'learning_rate': 0.17603635233286802, 'subsample': 0.6387768868690515, 'colsample_bytree': 0.8380030944146436, 'gamma': 4.519062547095321, 'lambda': 9.733366045927399, 'alpha': 4.9085756512596905, 'min_child_weight': 7}. Best is trial 112 with value: 0.7377604770814912.\n"
     ]
    },
    {
     "name": "stderr",
     "output_type": "stream",
     "text": [
      "Best trial: 112. Best value: 0.73776:  85%|████████▌ | 128/150 [31:32<05:39, 15.43s/it]C:\\Users\\Owner\\AppData\\Local\\Temp\\ipykernel_848\\2214655158.py:5: FutureWarning: suggest_loguniform has been deprecated in v3.0.0. This feature will be removed in v6.0.0. See https://github.com/optuna/optuna/releases/tag/v3.0.0. Use suggest_float(..., log=True) instead.\n",
      "  \"learning_rate\": trial.suggest_loguniform(\"learning_rate\", 0.01, 0.3),\n"
     ]
    },
    {
     "name": "stdout",
     "output_type": "stream",
     "text": [
      "[I 2025-02-14 03:32:49,290] Trial 127 finished with value: 0.7374265432666808 and parameters: {'n_estimators': 900, 'max_depth': 8, 'learning_rate': 0.014100239108575729, 'subsample': 0.6833459640702458, 'colsample_bytree': 0.8215185262839136, 'gamma': 4.693569350052324, 'lambda': 9.537815187567992, 'alpha': 4.466453293216405, 'min_child_weight': 8}. Best is trial 112 with value: 0.7377604770814912.\n"
     ]
    },
    {
     "name": "stderr",
     "output_type": "stream",
     "text": [
      "Best trial: 128. Best value: 0.737858:  86%|████████▌ | 129/150 [31:47<05:21, 15.29s/it]C:\\Users\\Owner\\AppData\\Local\\Temp\\ipykernel_848\\2214655158.py:5: FutureWarning: suggest_loguniform has been deprecated in v3.0.0. This feature will be removed in v6.0.0. See https://github.com/optuna/optuna/releases/tag/v3.0.0. Use suggest_float(..., log=True) instead.\n",
      "  \"learning_rate\": trial.suggest_loguniform(\"learning_rate\", 0.01, 0.3),\n"
     ]
    },
    {
     "name": "stdout",
     "output_type": "stream",
     "text": [
      "[I 2025-02-14 03:33:04,240] Trial 128 finished with value: 0.7378580848542172 and parameters: {'n_estimators': 850, 'max_depth': 7, 'learning_rate': 0.012310242311885787, 'subsample': 0.6489034679243402, 'colsample_bytree': 0.8071605661865788, 'gamma': 4.3795131167061125, 'lambda': 8.995623491394046, 'alpha': 6.451638862845998, 'min_child_weight': 8}. Best is trial 128 with value: 0.7378580848542172.\n"
     ]
    },
    {
     "name": "stderr",
     "output_type": "stream",
     "text": [
      "Best trial: 128. Best value: 0.737858:  87%|████████▋ | 130/150 [31:59<04:47, 14.37s/it]C:\\Users\\Owner\\AppData\\Local\\Temp\\ipykernel_848\\2214655158.py:5: FutureWarning: suggest_loguniform has been deprecated in v3.0.0. This feature will be removed in v6.0.0. See https://github.com/optuna/optuna/releases/tag/v3.0.0. Use suggest_float(..., log=True) instead.\n",
      "  \"learning_rate\": trial.suggest_loguniform(\"learning_rate\", 0.01, 0.3),\n"
     ]
    },
    {
     "name": "stdout",
     "output_type": "stream",
     "text": [
      "[I 2025-02-14 03:33:16,479] Trial 129 finished with value: 0.7363551876229142 and parameters: {'n_estimators': 800, 'max_depth': 6, 'learning_rate': 0.13594308629188515, 'subsample': 0.6662136247337643, 'colsample_bytree': 0.8107053380103987, 'gamma': 4.752693687111643, 'lambda': 8.98711982512753, 'alpha': 5.50652206046928, 'min_child_weight': 8}. Best is trial 128 with value: 0.7378580848542172.\n"
     ]
    },
    {
     "name": "stderr",
     "output_type": "stream",
     "text": [
      "Best trial: 128. Best value: 0.737858:  87%|████████▋ | 131/150 [32:14<04:37, 14.63s/it]C:\\Users\\Owner\\AppData\\Local\\Temp\\ipykernel_848\\2214655158.py:5: FutureWarning: suggest_loguniform has been deprecated in v3.0.0. This feature will be removed in v6.0.0. See https://github.com/optuna/optuna/releases/tag/v3.0.0. Use suggest_float(..., log=True) instead.\n",
      "  \"learning_rate\": trial.suggest_loguniform(\"learning_rate\", 0.01, 0.3),\n"
     ]
    },
    {
     "name": "stdout",
     "output_type": "stream",
     "text": [
      "[I 2025-02-14 03:33:31,693] Trial 130 finished with value: 0.73767488290909 and parameters: {'n_estimators': 850, 'max_depth': 7, 'learning_rate': 0.01317402971603692, 'subsample': 0.6951662522525572, 'colsample_bytree': 0.8908521387286855, 'gamma': 4.5696667136705384, 'lambda': 9.921473591745373, 'alpha': 6.542386991545526, 'min_child_weight': 8}. Best is trial 128 with value: 0.7378580848542172.\n"
     ]
    },
    {
     "name": "stderr",
     "output_type": "stream",
     "text": [
      "Best trial: 128. Best value: 0.737858:  88%|████████▊ | 132/150 [32:30<04:30, 15.04s/it]C:\\Users\\Owner\\AppData\\Local\\Temp\\ipykernel_848\\2214655158.py:5: FutureWarning: suggest_loguniform has been deprecated in v3.0.0. This feature will be removed in v6.0.0. See https://github.com/optuna/optuna/releases/tag/v3.0.0. Use suggest_float(..., log=True) instead.\n",
      "  \"learning_rate\": trial.suggest_loguniform(\"learning_rate\", 0.01, 0.3),\n"
     ]
    },
    {
     "name": "stdout",
     "output_type": "stream",
     "text": [
      "[I 2025-02-14 03:33:47,689] Trial 131 finished with value: 0.7377267998883814 and parameters: {'n_estimators': 900, 'max_depth': 7, 'learning_rate': 0.012153106311616832, 'subsample': 0.6479730436802656, 'colsample_bytree': 0.8461141749172421, 'gamma': 4.413414652789503, 'lambda': 8.650582499293694, 'alpha': 7.5052382304651, 'min_child_weight': 8}. Best is trial 128 with value: 0.7378580848542172.\n"
     ]
    },
    {
     "name": "stderr",
     "output_type": "stream",
     "text": [
      "Best trial: 128. Best value: 0.737858:  89%|████████▊ | 133/150 [32:46<04:20, 15.34s/it]C:\\Users\\Owner\\AppData\\Local\\Temp\\ipykernel_848\\2214655158.py:5: FutureWarning: suggest_loguniform has been deprecated in v3.0.0. This feature will be removed in v6.0.0. See https://github.com/optuna/optuna/releases/tag/v3.0.0. Use suggest_float(..., log=True) instead.\n",
      "  \"learning_rate\": trial.suggest_loguniform(\"learning_rate\", 0.01, 0.3),\n"
     ]
    },
    {
     "name": "stdout",
     "output_type": "stream",
     "text": [
      "[I 2025-02-14 03:34:03,735] Trial 132 finished with value: 0.7254664929052552 and parameters: {'n_estimators': 900, 'max_depth': 7, 'learning_rate': 0.0913841335063068, 'subsample': 0.6622287245776903, 'colsample_bytree': 0.8779426009041178, 'gamma': 0.7078641888123274, 'lambda': 8.739270087518781, 'alpha': 6.8452028461388, 'min_child_weight': 8}. Best is trial 128 with value: 0.7378580848542172.\n"
     ]
    },
    {
     "name": "stderr",
     "output_type": "stream",
     "text": [
      "Best trial: 128. Best value: 0.737858:  89%|████████▉ | 134/150 [33:02<04:06, 15.39s/it]C:\\Users\\Owner\\AppData\\Local\\Temp\\ipykernel_848\\2214655158.py:5: FutureWarning: suggest_loguniform has been deprecated in v3.0.0. This feature will be removed in v6.0.0. See https://github.com/optuna/optuna/releases/tag/v3.0.0. Use suggest_float(..., log=True) instead.\n",
      "  \"learning_rate\": trial.suggest_loguniform(\"learning_rate\", 0.01, 0.3),\n"
     ]
    },
    {
     "name": "stdout",
     "output_type": "stream",
     "text": [
      "[I 2025-02-14 03:34:19,236] Trial 133 finished with value: 0.7376089798436167 and parameters: {'n_estimators': 850, 'max_depth': 6, 'learning_rate': 0.012111284266469489, 'subsample': 0.6399466265142846, 'colsample_bytree': 0.8490118309080443, 'gamma': 4.436354284360716, 'lambda': 9.196801115961003, 'alpha': 6.138171281413164, 'min_child_weight': 8}. Best is trial 128 with value: 0.7378580848542172.\n"
     ]
    },
    {
     "name": "stderr",
     "output_type": "stream",
     "text": [
      "Best trial: 128. Best value: 0.737858:  90%|█████████ | 135/150 [33:18<03:54, 15.66s/it]C:\\Users\\Owner\\AppData\\Local\\Temp\\ipykernel_848\\2214655158.py:5: FutureWarning: suggest_loguniform has been deprecated in v3.0.0. This feature will be removed in v6.0.0. See https://github.com/optuna/optuna/releases/tag/v3.0.0. Use suggest_float(..., log=True) instead.\n",
      "  \"learning_rate\": trial.suggest_loguniform(\"learning_rate\", 0.01, 0.3),\n"
     ]
    },
    {
     "name": "stdout",
     "output_type": "stream",
     "text": [
      "[I 2025-02-14 03:34:35,529] Trial 134 finished with value: 0.7378552705626191 and parameters: {'n_estimators': 900, 'max_depth': 7, 'learning_rate': 0.011043101304371616, 'subsample': 0.6512380044790719, 'colsample_bytree': 0.7875014352631737, 'gamma': 4.244225921084439, 'lambda': 8.494853076362913, 'alpha': 7.415931699869201, 'min_child_weight': 8}. Best is trial 128 with value: 0.7378580848542172.\n"
     ]
    },
    {
     "name": "stderr",
     "output_type": "stream",
     "text": [
      "Best trial: 128. Best value: 0.737858:  91%|█████████ | 136/150 [33:33<03:35, 15.40s/it]C:\\Users\\Owner\\AppData\\Local\\Temp\\ipykernel_848\\2214655158.py:5: FutureWarning: suggest_loguniform has been deprecated in v3.0.0. This feature will be removed in v6.0.0. See https://github.com/optuna/optuna/releases/tag/v3.0.0. Use suggest_float(..., log=True) instead.\n",
      "  \"learning_rate\": trial.suggest_loguniform(\"learning_rate\", 0.01, 0.3),\n"
     ]
    },
    {
     "name": "stdout",
     "output_type": "stream",
     "text": [
      "[I 2025-02-14 03:34:50,315] Trial 135 finished with value: 0.7377792767479059 and parameters: {'n_estimators': 850, 'max_depth': 7, 'learning_rate': 0.012864551884379672, 'subsample': 0.6524480092645982, 'colsample_bytree': 0.791381240159582, 'gamma': 4.257302009243448, 'lambda': 8.415455368332013, 'alpha': 7.756414070637633, 'min_child_weight': 7}. Best is trial 128 with value: 0.7378580848542172.\n"
     ]
    },
    {
     "name": "stderr",
     "output_type": "stream",
     "text": [
      "Best trial: 128. Best value: 0.737858:  91%|█████████▏| 137/150 [33:47<03:14, 14.92s/it]C:\\Users\\Owner\\AppData\\Local\\Temp\\ipykernel_848\\2214655158.py:5: FutureWarning: suggest_loguniform has been deprecated in v3.0.0. This feature will be removed in v6.0.0. See https://github.com/optuna/optuna/releases/tag/v3.0.0. Use suggest_float(..., log=True) instead.\n",
      "  \"learning_rate\": trial.suggest_loguniform(\"learning_rate\", 0.01, 0.3),\n"
     ]
    },
    {
     "name": "stdout",
     "output_type": "stream",
     "text": [
      "[I 2025-02-14 03:35:04,135] Trial 136 finished with value: 0.7376269774121085 and parameters: {'n_estimators': 800, 'max_depth': 7, 'learning_rate': 0.01538274289969593, 'subsample': 0.6475927670007086, 'colsample_bytree': 0.7715818198899728, 'gamma': 4.2449025181891935, 'lambda': 8.43075418775962, 'alpha': 7.55476531718074, 'min_child_weight': 7}. Best is trial 128 with value: 0.7378580848542172.\n"
     ]
    },
    {
     "name": "stderr",
     "output_type": "stream",
     "text": [
      "Best trial: 128. Best value: 0.737858:  92%|█████████▏| 138/150 [34:02<03:01, 15.14s/it]C:\\Users\\Owner\\AppData\\Local\\Temp\\ipykernel_848\\2214655158.py:5: FutureWarning: suggest_loguniform has been deprecated in v3.0.0. This feature will be removed in v6.0.0. See https://github.com/optuna/optuna/releases/tag/v3.0.0. Use suggest_float(..., log=True) instead.\n",
      "  \"learning_rate\": trial.suggest_loguniform(\"learning_rate\", 0.01, 0.3),\n"
     ]
    },
    {
     "name": "stdout",
     "output_type": "stream",
     "text": [
      "[I 2025-02-14 03:35:19,763] Trial 137 finished with value: 0.7377335472393487 and parameters: {'n_estimators': 850, 'max_depth': 7, 'learning_rate': 0.012662270329053664, 'subsample': 0.6580246116761544, 'colsample_bytree': 0.7894242822024212, 'gamma': 4.026126019508849, 'lambda': 8.822220818227343, 'alpha': 7.754025150126194, 'min_child_weight': 7}. Best is trial 128 with value: 0.7378580848542172.\n"
     ]
    },
    {
     "name": "stderr",
     "output_type": "stream",
     "text": [
      "Best trial: 128. Best value: 0.737858:  93%|█████████▎| 139/150 [34:17<02:45, 15.07s/it]C:\\Users\\Owner\\AppData\\Local\\Temp\\ipykernel_848\\2214655158.py:5: FutureWarning: suggest_loguniform has been deprecated in v3.0.0. This feature will be removed in v6.0.0. See https://github.com/optuna/optuna/releases/tag/v3.0.0. Use suggest_float(..., log=True) instead.\n",
      "  \"learning_rate\": trial.suggest_loguniform(\"learning_rate\", 0.01, 0.3),\n"
     ]
    },
    {
     "name": "stdout",
     "output_type": "stream",
     "text": [
      "[I 2025-02-14 03:35:34,697] Trial 138 finished with value: 0.737628926073275 and parameters: {'n_estimators': 850, 'max_depth': 7, 'learning_rate': 0.018436579984082352, 'subsample': 0.6328666007929546, 'colsample_bytree': 0.7815672720825404, 'gamma': 3.9957000433519108, 'lambda': 8.575245364951813, 'alpha': 7.297038271896867, 'min_child_weight': 7}. Best is trial 128 with value: 0.7378580848542172.\n"
     ]
    },
    {
     "name": "stderr",
     "output_type": "stream",
     "text": [
      "Best trial: 128. Best value: 0.737858:  93%|█████████▎| 140/150 [34:30<02:24, 14.48s/it]C:\\Users\\Owner\\AppData\\Local\\Temp\\ipykernel_848\\2214655158.py:5: FutureWarning: suggest_loguniform has been deprecated in v3.0.0. This feature will be removed in v6.0.0. See https://github.com/optuna/optuna/releases/tag/v3.0.0. Use suggest_float(..., log=True) instead.\n",
      "  \"learning_rate\": trial.suggest_loguniform(\"learning_rate\", 0.01, 0.3),\n"
     ]
    },
    {
     "name": "stdout",
     "output_type": "stream",
     "text": [
      "[I 2025-02-14 03:35:47,776] Trial 139 finished with value: 0.737525245982487 and parameters: {'n_estimators': 750, 'max_depth': 6, 'learning_rate': 0.014262046255561607, 'subsample': 0.6815813614911406, 'colsample_bytree': 0.8062385977419209, 'gamma': 4.218557156635848, 'lambda': 8.151569440749503, 'alpha': 7.645714724007404, 'min_child_weight': 7}. Best is trial 128 with value: 0.7378580848542172.\n"
     ]
    },
    {
     "name": "stderr",
     "output_type": "stream",
     "text": [
      "Best trial: 128. Best value: 0.737858:  94%|█████████▍| 141/150 [34:47<02:15, 15.09s/it]C:\\Users\\Owner\\AppData\\Local\\Temp\\ipykernel_848\\2214655158.py:5: FutureWarning: suggest_loguniform has been deprecated in v3.0.0. This feature will be removed in v6.0.0. See https://github.com/optuna/optuna/releases/tag/v3.0.0. Use suggest_float(..., log=True) instead.\n",
      "  \"learning_rate\": trial.suggest_loguniform(\"learning_rate\", 0.01, 0.3),\n"
     ]
    },
    {
     "name": "stdout",
     "output_type": "stream",
     "text": [
      "[I 2025-02-14 03:36:04,313] Trial 140 finished with value: 0.7377508935996259 and parameters: {'n_estimators': 900, 'max_depth': 7, 'learning_rate': 0.013015360016530732, 'subsample': 0.6497373159193621, 'colsample_bytree': 0.7810908615579476, 'gamma': 4.061396916971322, 'lambda': 8.816706617048958, 'alpha': 7.897188161358645, 'min_child_weight': 7}. Best is trial 128 with value: 0.7378580848542172.\n"
     ]
    },
    {
     "name": "stderr",
     "output_type": "stream",
     "text": [
      "Best trial: 128. Best value: 0.737858:  95%|█████████▍| 142/150 [35:03<02:02, 15.33s/it]C:\\Users\\Owner\\AppData\\Local\\Temp\\ipykernel_848\\2214655158.py:5: FutureWarning: suggest_loguniform has been deprecated in v3.0.0. This feature will be removed in v6.0.0. See https://github.com/optuna/optuna/releases/tag/v3.0.0. Use suggest_float(..., log=True) instead.\n",
      "  \"learning_rate\": trial.suggest_loguniform(\"learning_rate\", 0.01, 0.3),\n"
     ]
    },
    {
     "name": "stdout",
     "output_type": "stream",
     "text": [
      "[I 2025-02-14 03:36:20,182] Trial 141 finished with value: 0.7376624503912858 and parameters: {'n_estimators': 900, 'max_depth': 7, 'learning_rate': 0.013245738960433271, 'subsample': 0.6465982600719178, 'colsample_bytree': 0.7444863324877861, 'gamma': 4.040623978618015, 'lambda': 8.92134642888704, 'alpha': 7.92846629111582, 'min_child_weight': 7}. Best is trial 128 with value: 0.7378580848542172.\n"
     ]
    },
    {
     "name": "stderr",
     "output_type": "stream",
     "text": [
      "Best trial: 128. Best value: 0.737858:  95%|█████████▌| 143/150 [35:18<01:47, 15.40s/it]C:\\Users\\Owner\\AppData\\Local\\Temp\\ipykernel_848\\2214655158.py:5: FutureWarning: suggest_loguniform has been deprecated in v3.0.0. This feature will be removed in v6.0.0. See https://github.com/optuna/optuna/releases/tag/v3.0.0. Use suggest_float(..., log=True) instead.\n",
      "  \"learning_rate\": trial.suggest_loguniform(\"learning_rate\", 0.01, 0.3),\n"
     ]
    },
    {
     "name": "stdout",
     "output_type": "stream",
     "text": [
      "[I 2025-02-14 03:36:35,750] Trial 142 finished with value: 0.7376881582253305 and parameters: {'n_estimators': 850, 'max_depth': 7, 'learning_rate': 0.012701386494483092, 'subsample': 0.6635277406474035, 'colsample_bytree': 0.7877013230492768, 'gamma': 3.939634016411649, 'lambda': 8.40625644867651, 'alpha': 7.010462358767354, 'min_child_weight': 7}. Best is trial 128 with value: 0.7378580848542172.\n"
     ]
    },
    {
     "name": "stderr",
     "output_type": "stream",
     "text": [
      "Best trial: 128. Best value: 0.737858:  96%|█████████▌| 144/150 [35:34<01:32, 15.46s/it]C:\\Users\\Owner\\AppData\\Local\\Temp\\ipykernel_848\\2214655158.py:5: FutureWarning: suggest_loguniform has been deprecated in v3.0.0. This feature will be removed in v6.0.0. See https://github.com/optuna/optuna/releases/tag/v3.0.0. Use suggest_float(..., log=True) instead.\n",
      "  \"learning_rate\": trial.suggest_loguniform(\"learning_rate\", 0.01, 0.3),\n"
     ]
    },
    {
     "name": "stdout",
     "output_type": "stream",
     "text": [
      "[I 2025-02-14 03:36:51,364] Trial 143 finished with value: 0.7377660719130422 and parameters: {'n_estimators': 900, 'max_depth': 7, 'learning_rate': 0.012533217995510614, 'subsample': 0.6227486259835359, 'colsample_bytree': 0.8217072967185352, 'gamma': 4.158112507877347, 'lambda': 8.879837427655533, 'alpha': 7.804827066645971, 'min_child_weight': 6}. Best is trial 128 with value: 0.7378580848542172.\n"
     ]
    },
    {
     "name": "stderr",
     "output_type": "stream",
     "text": [
      "Best trial: 128. Best value: 0.737858:  97%|█████████▋| 145/150 [35:49<01:16, 15.28s/it]C:\\Users\\Owner\\AppData\\Local\\Temp\\ipykernel_848\\2214655158.py:5: FutureWarning: suggest_loguniform has been deprecated in v3.0.0. This feature will be removed in v6.0.0. See https://github.com/optuna/optuna/releases/tag/v3.0.0. Use suggest_float(..., log=True) instead.\n",
      "  \"learning_rate\": trial.suggest_loguniform(\"learning_rate\", 0.01, 0.3),\n"
     ]
    },
    {
     "name": "stdout",
     "output_type": "stream",
     "text": [
      "[I 2025-02-14 03:37:06,199] Trial 144 finished with value: 0.7377102595968088 and parameters: {'n_estimators': 850, 'max_depth': 7, 'learning_rate': 0.012376407539302532, 'subsample': 0.6247297204790394, 'colsample_bytree': 0.8193918425113047, 'gamma': 4.289593244323428, 'lambda': 8.717613258033404, 'alpha': 7.41637123638497, 'min_child_weight': 6}. Best is trial 128 with value: 0.7378580848542172.\n"
     ]
    },
    {
     "name": "stderr",
     "output_type": "stream",
     "text": [
      "Best trial: 128. Best value: 0.737858:  97%|█████████▋| 146/150 [36:03<01:00, 15.14s/it]C:\\Users\\Owner\\AppData\\Local\\Temp\\ipykernel_848\\2214655158.py:5: FutureWarning: suggest_loguniform has been deprecated in v3.0.0. This feature will be removed in v6.0.0. See https://github.com/optuna/optuna/releases/tag/v3.0.0. Use suggest_float(..., log=True) instead.\n",
      "  \"learning_rate\": trial.suggest_loguniform(\"learning_rate\", 0.01, 0.3),\n"
     ]
    },
    {
     "name": "stdout",
     "output_type": "stream",
     "text": [
      "[I 2025-02-14 03:37:21,029] Trial 145 finished with value: 0.7377890399076474 and parameters: {'n_estimators': 850, 'max_depth': 7, 'learning_rate': 0.016217298239732426, 'subsample': 0.6194853007293165, 'colsample_bytree': 0.8152165603638749, 'gamma': 4.263504379595486, 'lambda': 8.803349010375532, 'alpha': 7.419243930582121, 'min_child_weight': 6}. Best is trial 128 with value: 0.7378580848542172.\n"
     ]
    },
    {
     "name": "stderr",
     "output_type": "stream",
     "text": [
      "Best trial: 128. Best value: 0.737858:  98%|█████████▊| 147/150 [36:17<00:44, 14.73s/it]C:\\Users\\Owner\\AppData\\Local\\Temp\\ipykernel_848\\2214655158.py:5: FutureWarning: suggest_loguniform has been deprecated in v3.0.0. This feature will be removed in v6.0.0. See https://github.com/optuna/optuna/releases/tag/v3.0.0. Use suggest_float(..., log=True) instead.\n",
      "  \"learning_rate\": trial.suggest_loguniform(\"learning_rate\", 0.01, 0.3),\n"
     ]
    },
    {
     "name": "stdout",
     "output_type": "stream",
     "text": [
      "[I 2025-02-14 03:37:34,811] Trial 146 finished with value: 0.7374362150984412 and parameters: {'n_estimators': 800, 'max_depth': 5, 'learning_rate': 0.013671686048838862, 'subsample': 0.6196028077376545, 'colsample_bytree': 0.7599958686426721, 'gamma': 4.294464755757858, 'lambda': 8.781777902046477, 'alpha': 7.426849476084653, 'min_child_weight': 6}. Best is trial 128 with value: 0.7378580848542172.\n"
     ]
    },
    {
     "name": "stderr",
     "output_type": "stream",
     "text": [
      "Best trial: 128. Best value: 0.737858:  99%|█████████▊| 148/150 [36:31<00:28, 14.49s/it]C:\\Users\\Owner\\AppData\\Local\\Temp\\ipykernel_848\\2214655158.py:5: FutureWarning: suggest_loguniform has been deprecated in v3.0.0. This feature will be removed in v6.0.0. See https://github.com/optuna/optuna/releases/tag/v3.0.0. Use suggest_float(..., log=True) instead.\n",
      "  \"learning_rate\": trial.suggest_loguniform(\"learning_rate\", 0.01, 0.3),\n"
     ]
    },
    {
     "name": "stdout",
     "output_type": "stream",
     "text": [
      "[I 2025-02-14 03:37:48,729] Trial 147 finished with value: 0.737451736884483 and parameters: {'n_estimators': 800, 'max_depth': 6, 'learning_rate': 0.01593775468885407, 'subsample': 0.6311602039687986, 'colsample_bytree': 0.8146953353863756, 'gamma': 4.183342746669195, 'lambda': 8.689122455093235, 'alpha': 7.135985164187159, 'min_child_weight': 6}. Best is trial 128 with value: 0.7378580848542172.\n"
     ]
    },
    {
     "name": "stderr",
     "output_type": "stream",
     "text": [
      "Best trial: 128. Best value: 0.737858:  99%|█████████▉| 149/150 [36:46<00:14, 14.65s/it]C:\\Users\\Owner\\AppData\\Local\\Temp\\ipykernel_848\\2214655158.py:5: FutureWarning: suggest_loguniform has been deprecated in v3.0.0. This feature will be removed in v6.0.0. See https://github.com/optuna/optuna/releases/tag/v3.0.0. Use suggest_float(..., log=True) instead.\n",
      "  \"learning_rate\": trial.suggest_loguniform(\"learning_rate\", 0.01, 0.3),\n"
     ]
    },
    {
     "name": "stdout",
     "output_type": "stream",
     "text": [
      "[I 2025-02-14 03:38:03,751] Trial 148 finished with value: 0.73739696491308 and parameters: {'n_estimators': 850, 'max_depth': 7, 'learning_rate': 0.012493497518939764, 'subsample': 0.9556514317134999, 'colsample_bytree': 0.7899824615790614, 'gamma': 1.8333206343737012, 'lambda': 8.313301207261484, 'alpha': 7.777231418740403, 'min_child_weight': 6}. Best is trial 128 with value: 0.7378580848542172.\n"
     ]
    },
    {
     "name": "stderr",
     "output_type": "stream",
     "text": [
      "Best trial: 128. Best value: 0.737858: 100%|██████████| 150/150 [37:02<00:00, 14.82s/it]"
     ]
    },
    {
     "name": "stdout",
     "output_type": "stream",
     "text": [
      "[I 2025-02-14 03:38:19,526] Trial 149 finished with value: 0.7377482808252039 and parameters: {'n_estimators': 850, 'max_depth': 7, 'learning_rate': 0.0110709508140582, 'subsample': 0.6220326480414409, 'colsample_bytree': 0.7810378502358201, 'gamma': 2.0346127606949804, 'lambda': 9.00840738699664, 'alpha': 7.8042262686899, 'min_child_weight': 6}. Best is trial 128 with value: 0.7378580848542172.\n"
     ]
    },
    {
     "name": "stderr",
     "output_type": "stream",
     "text": [
      "\n"
     ]
    }
   ],
   "source": [
    "import warnings\n",
    "warnings.filterwarnings(\"ignore\", category=UserWarning, module=\"xgboost\")\n",
    "\n",
    "study = optuna.create_study(direction=\"maximize\")\n",
    "study.optimize(objective, n_trials=150, show_progress_bar=True)"
   ]
  },
  {
   "cell_type": "code",
   "execution_count": null,
   "metadata": {},
   "outputs": [
    {
     "data": {
      "text/plain": [
       "['xgb_optuna_study.pkl']"
      ]
     },
     "execution_count": 29,
     "metadata": {},
     "output_type": "execute_result"
    }
   ],
   "source": [
    "import joblib\n",
    "\n",
    "# Optuna 최적화 실행 후 최적의 study 저장\n",
    "joblib.dump(study, \"xgb_optuna_study.pkl\")\n"
   ]
  },
  {
   "cell_type": "code",
   "execution_count": 19,
   "metadata": {},
   "outputs": [
    {
     "name": "stdout",
     "output_type": "stream",
     "text": [
      "Best Params: {'n_estimators': 850, 'max_depth': 7, 'learning_rate': 0.012310242311885787, 'subsample': 0.6489034679243402, 'colsample_bytree': 0.8071605661865788, 'gamma': 4.3795131167061125, 'lambda': 8.995623491394046, 'alpha': 6.451638862845998, 'min_child_weight': 8}\n"
     ]
    },
    {
     "data": {
      "text/html": [
       "<style>#sk-container-id-3 {\n",
       "  /* Definition of color scheme common for light and dark mode */\n",
       "  --sklearn-color-text: #000;\n",
       "  --sklearn-color-text-muted: #666;\n",
       "  --sklearn-color-line: gray;\n",
       "  /* Definition of color scheme for unfitted estimators */\n",
       "  --sklearn-color-unfitted-level-0: #fff5e6;\n",
       "  --sklearn-color-unfitted-level-1: #f6e4d2;\n",
       "  --sklearn-color-unfitted-level-2: #ffe0b3;\n",
       "  --sklearn-color-unfitted-level-3: chocolate;\n",
       "  /* Definition of color scheme for fitted estimators */\n",
       "  --sklearn-color-fitted-level-0: #f0f8ff;\n",
       "  --sklearn-color-fitted-level-1: #d4ebff;\n",
       "  --sklearn-color-fitted-level-2: #b3dbfd;\n",
       "  --sklearn-color-fitted-level-3: cornflowerblue;\n",
       "\n",
       "  /* Specific color for light theme */\n",
       "  --sklearn-color-text-on-default-background: var(--sg-text-color, var(--theme-code-foreground, var(--jp-content-font-color1, black)));\n",
       "  --sklearn-color-background: var(--sg-background-color, var(--theme-background, var(--jp-layout-color0, white)));\n",
       "  --sklearn-color-border-box: var(--sg-text-color, var(--theme-code-foreground, var(--jp-content-font-color1, black)));\n",
       "  --sklearn-color-icon: #696969;\n",
       "\n",
       "  @media (prefers-color-scheme: dark) {\n",
       "    /* Redefinition of color scheme for dark theme */\n",
       "    --sklearn-color-text-on-default-background: var(--sg-text-color, var(--theme-code-foreground, var(--jp-content-font-color1, white)));\n",
       "    --sklearn-color-background: var(--sg-background-color, var(--theme-background, var(--jp-layout-color0, #111)));\n",
       "    --sklearn-color-border-box: var(--sg-text-color, var(--theme-code-foreground, var(--jp-content-font-color1, white)));\n",
       "    --sklearn-color-icon: #878787;\n",
       "  }\n",
       "}\n",
       "\n",
       "#sk-container-id-3 {\n",
       "  color: var(--sklearn-color-text);\n",
       "}\n",
       "\n",
       "#sk-container-id-3 pre {\n",
       "  padding: 0;\n",
       "}\n",
       "\n",
       "#sk-container-id-3 input.sk-hidden--visually {\n",
       "  border: 0;\n",
       "  clip: rect(1px 1px 1px 1px);\n",
       "  clip: rect(1px, 1px, 1px, 1px);\n",
       "  height: 1px;\n",
       "  margin: -1px;\n",
       "  overflow: hidden;\n",
       "  padding: 0;\n",
       "  position: absolute;\n",
       "  width: 1px;\n",
       "}\n",
       "\n",
       "#sk-container-id-3 div.sk-dashed-wrapped {\n",
       "  border: 1px dashed var(--sklearn-color-line);\n",
       "  margin: 0 0.4em 0.5em 0.4em;\n",
       "  box-sizing: border-box;\n",
       "  padding-bottom: 0.4em;\n",
       "  background-color: var(--sklearn-color-background);\n",
       "}\n",
       "\n",
       "#sk-container-id-3 div.sk-container {\n",
       "  /* jupyter's `normalize.less` sets `[hidden] { display: none; }`\n",
       "     but bootstrap.min.css set `[hidden] { display: none !important; }`\n",
       "     so we also need the `!important` here to be able to override the\n",
       "     default hidden behavior on the sphinx rendered scikit-learn.org.\n",
       "     See: https://github.com/scikit-learn/scikit-learn/issues/21755 */\n",
       "  display: inline-block !important;\n",
       "  position: relative;\n",
       "}\n",
       "\n",
       "#sk-container-id-3 div.sk-text-repr-fallback {\n",
       "  display: none;\n",
       "}\n",
       "\n",
       "div.sk-parallel-item,\n",
       "div.sk-serial,\n",
       "div.sk-item {\n",
       "  /* draw centered vertical line to link estimators */\n",
       "  background-image: linear-gradient(var(--sklearn-color-text-on-default-background), var(--sklearn-color-text-on-default-background));\n",
       "  background-size: 2px 100%;\n",
       "  background-repeat: no-repeat;\n",
       "  background-position: center center;\n",
       "}\n",
       "\n",
       "/* Parallel-specific style estimator block */\n",
       "\n",
       "#sk-container-id-3 div.sk-parallel-item::after {\n",
       "  content: \"\";\n",
       "  width: 100%;\n",
       "  border-bottom: 2px solid var(--sklearn-color-text-on-default-background);\n",
       "  flex-grow: 1;\n",
       "}\n",
       "\n",
       "#sk-container-id-3 div.sk-parallel {\n",
       "  display: flex;\n",
       "  align-items: stretch;\n",
       "  justify-content: center;\n",
       "  background-color: var(--sklearn-color-background);\n",
       "  position: relative;\n",
       "}\n",
       "\n",
       "#sk-container-id-3 div.sk-parallel-item {\n",
       "  display: flex;\n",
       "  flex-direction: column;\n",
       "}\n",
       "\n",
       "#sk-container-id-3 div.sk-parallel-item:first-child::after {\n",
       "  align-self: flex-end;\n",
       "  width: 50%;\n",
       "}\n",
       "\n",
       "#sk-container-id-3 div.sk-parallel-item:last-child::after {\n",
       "  align-self: flex-start;\n",
       "  width: 50%;\n",
       "}\n",
       "\n",
       "#sk-container-id-3 div.sk-parallel-item:only-child::after {\n",
       "  width: 0;\n",
       "}\n",
       "\n",
       "/* Serial-specific style estimator block */\n",
       "\n",
       "#sk-container-id-3 div.sk-serial {\n",
       "  display: flex;\n",
       "  flex-direction: column;\n",
       "  align-items: center;\n",
       "  background-color: var(--sklearn-color-background);\n",
       "  padding-right: 1em;\n",
       "  padding-left: 1em;\n",
       "}\n",
       "\n",
       "\n",
       "/* Toggleable style: style used for estimator/Pipeline/ColumnTransformer box that is\n",
       "clickable and can be expanded/collapsed.\n",
       "- Pipeline and ColumnTransformer use this feature and define the default style\n",
       "- Estimators will overwrite some part of the style using the `sk-estimator` class\n",
       "*/\n",
       "\n",
       "/* Pipeline and ColumnTransformer style (default) */\n",
       "\n",
       "#sk-container-id-3 div.sk-toggleable {\n",
       "  /* Default theme specific background. It is overwritten whether we have a\n",
       "  specific estimator or a Pipeline/ColumnTransformer */\n",
       "  background-color: var(--sklearn-color-background);\n",
       "}\n",
       "\n",
       "/* Toggleable label */\n",
       "#sk-container-id-3 label.sk-toggleable__label {\n",
       "  cursor: pointer;\n",
       "  display: flex;\n",
       "  width: 100%;\n",
       "  margin-bottom: 0;\n",
       "  padding: 0.5em;\n",
       "  box-sizing: border-box;\n",
       "  text-align: center;\n",
       "  align-items: start;\n",
       "  justify-content: space-between;\n",
       "  gap: 0.5em;\n",
       "}\n",
       "\n",
       "#sk-container-id-3 label.sk-toggleable__label .caption {\n",
       "  font-size: 0.6rem;\n",
       "  font-weight: lighter;\n",
       "  color: var(--sklearn-color-text-muted);\n",
       "}\n",
       "\n",
       "#sk-container-id-3 label.sk-toggleable__label-arrow:before {\n",
       "  /* Arrow on the left of the label */\n",
       "  content: \"▸\";\n",
       "  float: left;\n",
       "  margin-right: 0.25em;\n",
       "  color: var(--sklearn-color-icon);\n",
       "}\n",
       "\n",
       "#sk-container-id-3 label.sk-toggleable__label-arrow:hover:before {\n",
       "  color: var(--sklearn-color-text);\n",
       "}\n",
       "\n",
       "/* Toggleable content - dropdown */\n",
       "\n",
       "#sk-container-id-3 div.sk-toggleable__content {\n",
       "  max-height: 0;\n",
       "  max-width: 0;\n",
       "  overflow: hidden;\n",
       "  text-align: left;\n",
       "  /* unfitted */\n",
       "  background-color: var(--sklearn-color-unfitted-level-0);\n",
       "}\n",
       "\n",
       "#sk-container-id-3 div.sk-toggleable__content.fitted {\n",
       "  /* fitted */\n",
       "  background-color: var(--sklearn-color-fitted-level-0);\n",
       "}\n",
       "\n",
       "#sk-container-id-3 div.sk-toggleable__content pre {\n",
       "  margin: 0.2em;\n",
       "  border-radius: 0.25em;\n",
       "  color: var(--sklearn-color-text);\n",
       "  /* unfitted */\n",
       "  background-color: var(--sklearn-color-unfitted-level-0);\n",
       "}\n",
       "\n",
       "#sk-container-id-3 div.sk-toggleable__content.fitted pre {\n",
       "  /* unfitted */\n",
       "  background-color: var(--sklearn-color-fitted-level-0);\n",
       "}\n",
       "\n",
       "#sk-container-id-3 input.sk-toggleable__control:checked~div.sk-toggleable__content {\n",
       "  /* Expand drop-down */\n",
       "  max-height: 200px;\n",
       "  max-width: 100%;\n",
       "  overflow: auto;\n",
       "}\n",
       "\n",
       "#sk-container-id-3 input.sk-toggleable__control:checked~label.sk-toggleable__label-arrow:before {\n",
       "  content: \"▾\";\n",
       "}\n",
       "\n",
       "/* Pipeline/ColumnTransformer-specific style */\n",
       "\n",
       "#sk-container-id-3 div.sk-label input.sk-toggleable__control:checked~label.sk-toggleable__label {\n",
       "  color: var(--sklearn-color-text);\n",
       "  background-color: var(--sklearn-color-unfitted-level-2);\n",
       "}\n",
       "\n",
       "#sk-container-id-3 div.sk-label.fitted input.sk-toggleable__control:checked~label.sk-toggleable__label {\n",
       "  background-color: var(--sklearn-color-fitted-level-2);\n",
       "}\n",
       "\n",
       "/* Estimator-specific style */\n",
       "\n",
       "/* Colorize estimator box */\n",
       "#sk-container-id-3 div.sk-estimator input.sk-toggleable__control:checked~label.sk-toggleable__label {\n",
       "  /* unfitted */\n",
       "  background-color: var(--sklearn-color-unfitted-level-2);\n",
       "}\n",
       "\n",
       "#sk-container-id-3 div.sk-estimator.fitted input.sk-toggleable__control:checked~label.sk-toggleable__label {\n",
       "  /* fitted */\n",
       "  background-color: var(--sklearn-color-fitted-level-2);\n",
       "}\n",
       "\n",
       "#sk-container-id-3 div.sk-label label.sk-toggleable__label,\n",
       "#sk-container-id-3 div.sk-label label {\n",
       "  /* The background is the default theme color */\n",
       "  color: var(--sklearn-color-text-on-default-background);\n",
       "}\n",
       "\n",
       "/* On hover, darken the color of the background */\n",
       "#sk-container-id-3 div.sk-label:hover label.sk-toggleable__label {\n",
       "  color: var(--sklearn-color-text);\n",
       "  background-color: var(--sklearn-color-unfitted-level-2);\n",
       "}\n",
       "\n",
       "/* Label box, darken color on hover, fitted */\n",
       "#sk-container-id-3 div.sk-label.fitted:hover label.sk-toggleable__label.fitted {\n",
       "  color: var(--sklearn-color-text);\n",
       "  background-color: var(--sklearn-color-fitted-level-2);\n",
       "}\n",
       "\n",
       "/* Estimator label */\n",
       "\n",
       "#sk-container-id-3 div.sk-label label {\n",
       "  font-family: monospace;\n",
       "  font-weight: bold;\n",
       "  display: inline-block;\n",
       "  line-height: 1.2em;\n",
       "}\n",
       "\n",
       "#sk-container-id-3 div.sk-label-container {\n",
       "  text-align: center;\n",
       "}\n",
       "\n",
       "/* Estimator-specific */\n",
       "#sk-container-id-3 div.sk-estimator {\n",
       "  font-family: monospace;\n",
       "  border: 1px dotted var(--sklearn-color-border-box);\n",
       "  border-radius: 0.25em;\n",
       "  box-sizing: border-box;\n",
       "  margin-bottom: 0.5em;\n",
       "  /* unfitted */\n",
       "  background-color: var(--sklearn-color-unfitted-level-0);\n",
       "}\n",
       "\n",
       "#sk-container-id-3 div.sk-estimator.fitted {\n",
       "  /* fitted */\n",
       "  background-color: var(--sklearn-color-fitted-level-0);\n",
       "}\n",
       "\n",
       "/* on hover */\n",
       "#sk-container-id-3 div.sk-estimator:hover {\n",
       "  /* unfitted */\n",
       "  background-color: var(--sklearn-color-unfitted-level-2);\n",
       "}\n",
       "\n",
       "#sk-container-id-3 div.sk-estimator.fitted:hover {\n",
       "  /* fitted */\n",
       "  background-color: var(--sklearn-color-fitted-level-2);\n",
       "}\n",
       "\n",
       "/* Specification for estimator info (e.g. \"i\" and \"?\") */\n",
       "\n",
       "/* Common style for \"i\" and \"?\" */\n",
       "\n",
       ".sk-estimator-doc-link,\n",
       "a:link.sk-estimator-doc-link,\n",
       "a:visited.sk-estimator-doc-link {\n",
       "  float: right;\n",
       "  font-size: smaller;\n",
       "  line-height: 1em;\n",
       "  font-family: monospace;\n",
       "  background-color: var(--sklearn-color-background);\n",
       "  border-radius: 1em;\n",
       "  height: 1em;\n",
       "  width: 1em;\n",
       "  text-decoration: none !important;\n",
       "  margin-left: 0.5em;\n",
       "  text-align: center;\n",
       "  /* unfitted */\n",
       "  border: var(--sklearn-color-unfitted-level-1) 1pt solid;\n",
       "  color: var(--sklearn-color-unfitted-level-1);\n",
       "}\n",
       "\n",
       ".sk-estimator-doc-link.fitted,\n",
       "a:link.sk-estimator-doc-link.fitted,\n",
       "a:visited.sk-estimator-doc-link.fitted {\n",
       "  /* fitted */\n",
       "  border: var(--sklearn-color-fitted-level-1) 1pt solid;\n",
       "  color: var(--sklearn-color-fitted-level-1);\n",
       "}\n",
       "\n",
       "/* On hover */\n",
       "div.sk-estimator:hover .sk-estimator-doc-link:hover,\n",
       ".sk-estimator-doc-link:hover,\n",
       "div.sk-label-container:hover .sk-estimator-doc-link:hover,\n",
       ".sk-estimator-doc-link:hover {\n",
       "  /* unfitted */\n",
       "  background-color: var(--sklearn-color-unfitted-level-3);\n",
       "  color: var(--sklearn-color-background);\n",
       "  text-decoration: none;\n",
       "}\n",
       "\n",
       "div.sk-estimator.fitted:hover .sk-estimator-doc-link.fitted:hover,\n",
       ".sk-estimator-doc-link.fitted:hover,\n",
       "div.sk-label-container:hover .sk-estimator-doc-link.fitted:hover,\n",
       ".sk-estimator-doc-link.fitted:hover {\n",
       "  /* fitted */\n",
       "  background-color: var(--sklearn-color-fitted-level-3);\n",
       "  color: var(--sklearn-color-background);\n",
       "  text-decoration: none;\n",
       "}\n",
       "\n",
       "/* Span, style for the box shown on hovering the info icon */\n",
       ".sk-estimator-doc-link span {\n",
       "  display: none;\n",
       "  z-index: 9999;\n",
       "  position: relative;\n",
       "  font-weight: normal;\n",
       "  right: .2ex;\n",
       "  padding: .5ex;\n",
       "  margin: .5ex;\n",
       "  width: min-content;\n",
       "  min-width: 20ex;\n",
       "  max-width: 50ex;\n",
       "  color: var(--sklearn-color-text);\n",
       "  box-shadow: 2pt 2pt 4pt #999;\n",
       "  /* unfitted */\n",
       "  background: var(--sklearn-color-unfitted-level-0);\n",
       "  border: .5pt solid var(--sklearn-color-unfitted-level-3);\n",
       "}\n",
       "\n",
       ".sk-estimator-doc-link.fitted span {\n",
       "  /* fitted */\n",
       "  background: var(--sklearn-color-fitted-level-0);\n",
       "  border: var(--sklearn-color-fitted-level-3);\n",
       "}\n",
       "\n",
       ".sk-estimator-doc-link:hover span {\n",
       "  display: block;\n",
       "}\n",
       "\n",
       "/* \"?\"-specific style due to the `<a>` HTML tag */\n",
       "\n",
       "#sk-container-id-3 a.estimator_doc_link {\n",
       "  float: right;\n",
       "  font-size: 1rem;\n",
       "  line-height: 1em;\n",
       "  font-family: monospace;\n",
       "  background-color: var(--sklearn-color-background);\n",
       "  border-radius: 1rem;\n",
       "  height: 1rem;\n",
       "  width: 1rem;\n",
       "  text-decoration: none;\n",
       "  /* unfitted */\n",
       "  color: var(--sklearn-color-unfitted-level-1);\n",
       "  border: var(--sklearn-color-unfitted-level-1) 1pt solid;\n",
       "}\n",
       "\n",
       "#sk-container-id-3 a.estimator_doc_link.fitted {\n",
       "  /* fitted */\n",
       "  border: var(--sklearn-color-fitted-level-1) 1pt solid;\n",
       "  color: var(--sklearn-color-fitted-level-1);\n",
       "}\n",
       "\n",
       "/* On hover */\n",
       "#sk-container-id-3 a.estimator_doc_link:hover {\n",
       "  /* unfitted */\n",
       "  background-color: var(--sklearn-color-unfitted-level-3);\n",
       "  color: var(--sklearn-color-background);\n",
       "  text-decoration: none;\n",
       "}\n",
       "\n",
       "#sk-container-id-3 a.estimator_doc_link.fitted:hover {\n",
       "  /* fitted */\n",
       "  background-color: var(--sklearn-color-fitted-level-3);\n",
       "}\n",
       "</style><div id=\"sk-container-id-3\" class=\"sk-top-container\"><div class=\"sk-text-repr-fallback\"><pre>XGBClassifier(alpha=6.451638862845998, base_score=None, booster=None,\n",
       "              callbacks=None, colsample_bylevel=None, colsample_bynode=None,\n",
       "              colsample_bytree=0.8071605661865788, device=None,\n",
       "              early_stopping_rounds=None, enable_categorical=False,\n",
       "              eval_metric=None, feature_types=None, gamma=4.3795131167061125,\n",
       "              grow_policy=None, importance_type=None,\n",
       "              interaction_constraints=None, lambda=8.995623491394046,\n",
       "              learning_rate=0.012310242311885787, max_bin=None,\n",
       "              max_cat_threshold=None, max_cat_to_onehot=None,\n",
       "              max_delta_step=None, max_depth=7, max_leaves=None,\n",
       "              min_child_weight=8, missing=nan, monotone_constraints=None,\n",
       "              multi_strategy=None, n_estimators=850, n_jobs=-1, ...)</pre><b>In a Jupyter environment, please rerun this cell to show the HTML representation or trust the notebook. <br />On GitHub, the HTML representation is unable to render, please try loading this page with nbviewer.org.</b></div><div class=\"sk-container\" hidden><div class=\"sk-item\"><div class=\"sk-estimator fitted sk-toggleable\"><input class=\"sk-toggleable__control sk-hidden--visually\" id=\"sk-estimator-id-3\" type=\"checkbox\" checked><label for=\"sk-estimator-id-3\" class=\"sk-toggleable__label fitted sk-toggleable__label-arrow\"><div><div>XGBClassifier</div></div><div><span class=\"sk-estimator-doc-link fitted\">i<span>Fitted</span></span></div></label><div class=\"sk-toggleable__content fitted\"><pre>XGBClassifier(alpha=6.451638862845998, base_score=None, booster=None,\n",
       "              callbacks=None, colsample_bylevel=None, colsample_bynode=None,\n",
       "              colsample_bytree=0.8071605661865788, device=None,\n",
       "              early_stopping_rounds=None, enable_categorical=False,\n",
       "              eval_metric=None, feature_types=None, gamma=4.3795131167061125,\n",
       "              grow_policy=None, importance_type=None,\n",
       "              interaction_constraints=None, lambda=8.995623491394046,\n",
       "              learning_rate=0.012310242311885787, max_bin=None,\n",
       "              max_cat_threshold=None, max_cat_to_onehot=None,\n",
       "              max_delta_step=None, max_depth=7, max_leaves=None,\n",
       "              min_child_weight=8, missing=nan, monotone_constraints=None,\n",
       "              multi_strategy=None, n_estimators=850, n_jobs=-1, ...)</pre></div> </div></div></div></div>"
      ],
      "text/plain": [
       "XGBClassifier(alpha=6.451638862845998, base_score=None, booster=None,\n",
       "              callbacks=None, colsample_bylevel=None, colsample_bynode=None,\n",
       "              colsample_bytree=0.8071605661865788, device=None,\n",
       "              early_stopping_rounds=None, enable_categorical=False,\n",
       "              eval_metric=None, feature_types=None, gamma=4.3795131167061125,\n",
       "              grow_policy=None, importance_type=None,\n",
       "              interaction_constraints=None, lambda=8.995623491394046,\n",
       "              learning_rate=0.012310242311885787, max_bin=None,\n",
       "              max_cat_threshold=None, max_cat_to_onehot=None,\n",
       "              max_delta_step=None, max_depth=7, max_leaves=None,\n",
       "              min_child_weight=8, missing=nan, monotone_constraints=None,\n",
       "              multi_strategy=None, n_estimators=850, n_jobs=-1, ...)"
      ]
     },
     "execution_count": 19,
     "metadata": {},
     "output_type": "execute_result"
    }
   ],
   "source": [
    "import joblib\n",
    "\n",
    "# 저장된 Optuna study 불러오기\n",
    "study = joblib.load(\"xgb_optuna_study.pkl\")\n",
    "\n",
    "# 최적의 하이퍼파라미터 가져오기\n",
    "best_params = study.best_params\n",
    "print(\"Best Params:\", best_params)\n",
    "\n",
    "# 최적의 하이퍼파라미터로 모델 학습\n",
    "model = xgb.XGBClassifier(**best_params, random_state=42, n_jobs=-1)\n",
    "model.fit(X_train_encoded, y)\n"
   ]
  },
  {
   "cell_type": "code",
   "execution_count": null,
   "metadata": {},
   "outputs": [],
   "source": [
    "# 최적 하이퍼파라미터 가져오기\n",
    "best_params = study.best_params\n",
    "\n",
    "# 최적의 파라미터로 모델 재학습\n",
    "model = xgb.XGBClassifier(\n",
    "    **best_params,\n",
    "    objective=\"binary:logistic\",\n",
    "    eval_metric=\"auc\",\n",
    "    use_label_encoder=False,\n",
    "    verbosity=0,\n",
    "    random_state=42,\n",
    "    n_jobs=-1\n",
    ")"
   ]
  },
  {
   "cell_type": "code",
   "execution_count": 18,
   "metadata": {},
   "outputs": [
    {
     "data": {
      "text/html": [
       "<style>#sk-container-id-2 {\n",
       "  /* Definition of color scheme common for light and dark mode */\n",
       "  --sklearn-color-text: #000;\n",
       "  --sklearn-color-text-muted: #666;\n",
       "  --sklearn-color-line: gray;\n",
       "  /* Definition of color scheme for unfitted estimators */\n",
       "  --sklearn-color-unfitted-level-0: #fff5e6;\n",
       "  --sklearn-color-unfitted-level-1: #f6e4d2;\n",
       "  --sklearn-color-unfitted-level-2: #ffe0b3;\n",
       "  --sklearn-color-unfitted-level-3: chocolate;\n",
       "  /* Definition of color scheme for fitted estimators */\n",
       "  --sklearn-color-fitted-level-0: #f0f8ff;\n",
       "  --sklearn-color-fitted-level-1: #d4ebff;\n",
       "  --sklearn-color-fitted-level-2: #b3dbfd;\n",
       "  --sklearn-color-fitted-level-3: cornflowerblue;\n",
       "\n",
       "  /* Specific color for light theme */\n",
       "  --sklearn-color-text-on-default-background: var(--sg-text-color, var(--theme-code-foreground, var(--jp-content-font-color1, black)));\n",
       "  --sklearn-color-background: var(--sg-background-color, var(--theme-background, var(--jp-layout-color0, white)));\n",
       "  --sklearn-color-border-box: var(--sg-text-color, var(--theme-code-foreground, var(--jp-content-font-color1, black)));\n",
       "  --sklearn-color-icon: #696969;\n",
       "\n",
       "  @media (prefers-color-scheme: dark) {\n",
       "    /* Redefinition of color scheme for dark theme */\n",
       "    --sklearn-color-text-on-default-background: var(--sg-text-color, var(--theme-code-foreground, var(--jp-content-font-color1, white)));\n",
       "    --sklearn-color-background: var(--sg-background-color, var(--theme-background, var(--jp-layout-color0, #111)));\n",
       "    --sklearn-color-border-box: var(--sg-text-color, var(--theme-code-foreground, var(--jp-content-font-color1, white)));\n",
       "    --sklearn-color-icon: #878787;\n",
       "  }\n",
       "}\n",
       "\n",
       "#sk-container-id-2 {\n",
       "  color: var(--sklearn-color-text);\n",
       "}\n",
       "\n",
       "#sk-container-id-2 pre {\n",
       "  padding: 0;\n",
       "}\n",
       "\n",
       "#sk-container-id-2 input.sk-hidden--visually {\n",
       "  border: 0;\n",
       "  clip: rect(1px 1px 1px 1px);\n",
       "  clip: rect(1px, 1px, 1px, 1px);\n",
       "  height: 1px;\n",
       "  margin: -1px;\n",
       "  overflow: hidden;\n",
       "  padding: 0;\n",
       "  position: absolute;\n",
       "  width: 1px;\n",
       "}\n",
       "\n",
       "#sk-container-id-2 div.sk-dashed-wrapped {\n",
       "  border: 1px dashed var(--sklearn-color-line);\n",
       "  margin: 0 0.4em 0.5em 0.4em;\n",
       "  box-sizing: border-box;\n",
       "  padding-bottom: 0.4em;\n",
       "  background-color: var(--sklearn-color-background);\n",
       "}\n",
       "\n",
       "#sk-container-id-2 div.sk-container {\n",
       "  /* jupyter's `normalize.less` sets `[hidden] { display: none; }`\n",
       "     but bootstrap.min.css set `[hidden] { display: none !important; }`\n",
       "     so we also need the `!important` here to be able to override the\n",
       "     default hidden behavior on the sphinx rendered scikit-learn.org.\n",
       "     See: https://github.com/scikit-learn/scikit-learn/issues/21755 */\n",
       "  display: inline-block !important;\n",
       "  position: relative;\n",
       "}\n",
       "\n",
       "#sk-container-id-2 div.sk-text-repr-fallback {\n",
       "  display: none;\n",
       "}\n",
       "\n",
       "div.sk-parallel-item,\n",
       "div.sk-serial,\n",
       "div.sk-item {\n",
       "  /* draw centered vertical line to link estimators */\n",
       "  background-image: linear-gradient(var(--sklearn-color-text-on-default-background), var(--sklearn-color-text-on-default-background));\n",
       "  background-size: 2px 100%;\n",
       "  background-repeat: no-repeat;\n",
       "  background-position: center center;\n",
       "}\n",
       "\n",
       "/* Parallel-specific style estimator block */\n",
       "\n",
       "#sk-container-id-2 div.sk-parallel-item::after {\n",
       "  content: \"\";\n",
       "  width: 100%;\n",
       "  border-bottom: 2px solid var(--sklearn-color-text-on-default-background);\n",
       "  flex-grow: 1;\n",
       "}\n",
       "\n",
       "#sk-container-id-2 div.sk-parallel {\n",
       "  display: flex;\n",
       "  align-items: stretch;\n",
       "  justify-content: center;\n",
       "  background-color: var(--sklearn-color-background);\n",
       "  position: relative;\n",
       "}\n",
       "\n",
       "#sk-container-id-2 div.sk-parallel-item {\n",
       "  display: flex;\n",
       "  flex-direction: column;\n",
       "}\n",
       "\n",
       "#sk-container-id-2 div.sk-parallel-item:first-child::after {\n",
       "  align-self: flex-end;\n",
       "  width: 50%;\n",
       "}\n",
       "\n",
       "#sk-container-id-2 div.sk-parallel-item:last-child::after {\n",
       "  align-self: flex-start;\n",
       "  width: 50%;\n",
       "}\n",
       "\n",
       "#sk-container-id-2 div.sk-parallel-item:only-child::after {\n",
       "  width: 0;\n",
       "}\n",
       "\n",
       "/* Serial-specific style estimator block */\n",
       "\n",
       "#sk-container-id-2 div.sk-serial {\n",
       "  display: flex;\n",
       "  flex-direction: column;\n",
       "  align-items: center;\n",
       "  background-color: var(--sklearn-color-background);\n",
       "  padding-right: 1em;\n",
       "  padding-left: 1em;\n",
       "}\n",
       "\n",
       "\n",
       "/* Toggleable style: style used for estimator/Pipeline/ColumnTransformer box that is\n",
       "clickable and can be expanded/collapsed.\n",
       "- Pipeline and ColumnTransformer use this feature and define the default style\n",
       "- Estimators will overwrite some part of the style using the `sk-estimator` class\n",
       "*/\n",
       "\n",
       "/* Pipeline and ColumnTransformer style (default) */\n",
       "\n",
       "#sk-container-id-2 div.sk-toggleable {\n",
       "  /* Default theme specific background. It is overwritten whether we have a\n",
       "  specific estimator or a Pipeline/ColumnTransformer */\n",
       "  background-color: var(--sklearn-color-background);\n",
       "}\n",
       "\n",
       "/* Toggleable label */\n",
       "#sk-container-id-2 label.sk-toggleable__label {\n",
       "  cursor: pointer;\n",
       "  display: flex;\n",
       "  width: 100%;\n",
       "  margin-bottom: 0;\n",
       "  padding: 0.5em;\n",
       "  box-sizing: border-box;\n",
       "  text-align: center;\n",
       "  align-items: start;\n",
       "  justify-content: space-between;\n",
       "  gap: 0.5em;\n",
       "}\n",
       "\n",
       "#sk-container-id-2 label.sk-toggleable__label .caption {\n",
       "  font-size: 0.6rem;\n",
       "  font-weight: lighter;\n",
       "  color: var(--sklearn-color-text-muted);\n",
       "}\n",
       "\n",
       "#sk-container-id-2 label.sk-toggleable__label-arrow:before {\n",
       "  /* Arrow on the left of the label */\n",
       "  content: \"▸\";\n",
       "  float: left;\n",
       "  margin-right: 0.25em;\n",
       "  color: var(--sklearn-color-icon);\n",
       "}\n",
       "\n",
       "#sk-container-id-2 label.sk-toggleable__label-arrow:hover:before {\n",
       "  color: var(--sklearn-color-text);\n",
       "}\n",
       "\n",
       "/* Toggleable content - dropdown */\n",
       "\n",
       "#sk-container-id-2 div.sk-toggleable__content {\n",
       "  max-height: 0;\n",
       "  max-width: 0;\n",
       "  overflow: hidden;\n",
       "  text-align: left;\n",
       "  /* unfitted */\n",
       "  background-color: var(--sklearn-color-unfitted-level-0);\n",
       "}\n",
       "\n",
       "#sk-container-id-2 div.sk-toggleable__content.fitted {\n",
       "  /* fitted */\n",
       "  background-color: var(--sklearn-color-fitted-level-0);\n",
       "}\n",
       "\n",
       "#sk-container-id-2 div.sk-toggleable__content pre {\n",
       "  margin: 0.2em;\n",
       "  border-radius: 0.25em;\n",
       "  color: var(--sklearn-color-text);\n",
       "  /* unfitted */\n",
       "  background-color: var(--sklearn-color-unfitted-level-0);\n",
       "}\n",
       "\n",
       "#sk-container-id-2 div.sk-toggleable__content.fitted pre {\n",
       "  /* unfitted */\n",
       "  background-color: var(--sklearn-color-fitted-level-0);\n",
       "}\n",
       "\n",
       "#sk-container-id-2 input.sk-toggleable__control:checked~div.sk-toggleable__content {\n",
       "  /* Expand drop-down */\n",
       "  max-height: 200px;\n",
       "  max-width: 100%;\n",
       "  overflow: auto;\n",
       "}\n",
       "\n",
       "#sk-container-id-2 input.sk-toggleable__control:checked~label.sk-toggleable__label-arrow:before {\n",
       "  content: \"▾\";\n",
       "}\n",
       "\n",
       "/* Pipeline/ColumnTransformer-specific style */\n",
       "\n",
       "#sk-container-id-2 div.sk-label input.sk-toggleable__control:checked~label.sk-toggleable__label {\n",
       "  color: var(--sklearn-color-text);\n",
       "  background-color: var(--sklearn-color-unfitted-level-2);\n",
       "}\n",
       "\n",
       "#sk-container-id-2 div.sk-label.fitted input.sk-toggleable__control:checked~label.sk-toggleable__label {\n",
       "  background-color: var(--sklearn-color-fitted-level-2);\n",
       "}\n",
       "\n",
       "/* Estimator-specific style */\n",
       "\n",
       "/* Colorize estimator box */\n",
       "#sk-container-id-2 div.sk-estimator input.sk-toggleable__control:checked~label.sk-toggleable__label {\n",
       "  /* unfitted */\n",
       "  background-color: var(--sklearn-color-unfitted-level-2);\n",
       "}\n",
       "\n",
       "#sk-container-id-2 div.sk-estimator.fitted input.sk-toggleable__control:checked~label.sk-toggleable__label {\n",
       "  /* fitted */\n",
       "  background-color: var(--sklearn-color-fitted-level-2);\n",
       "}\n",
       "\n",
       "#sk-container-id-2 div.sk-label label.sk-toggleable__label,\n",
       "#sk-container-id-2 div.sk-label label {\n",
       "  /* The background is the default theme color */\n",
       "  color: var(--sklearn-color-text-on-default-background);\n",
       "}\n",
       "\n",
       "/* On hover, darken the color of the background */\n",
       "#sk-container-id-2 div.sk-label:hover label.sk-toggleable__label {\n",
       "  color: var(--sklearn-color-text);\n",
       "  background-color: var(--sklearn-color-unfitted-level-2);\n",
       "}\n",
       "\n",
       "/* Label box, darken color on hover, fitted */\n",
       "#sk-container-id-2 div.sk-label.fitted:hover label.sk-toggleable__label.fitted {\n",
       "  color: var(--sklearn-color-text);\n",
       "  background-color: var(--sklearn-color-fitted-level-2);\n",
       "}\n",
       "\n",
       "/* Estimator label */\n",
       "\n",
       "#sk-container-id-2 div.sk-label label {\n",
       "  font-family: monospace;\n",
       "  font-weight: bold;\n",
       "  display: inline-block;\n",
       "  line-height: 1.2em;\n",
       "}\n",
       "\n",
       "#sk-container-id-2 div.sk-label-container {\n",
       "  text-align: center;\n",
       "}\n",
       "\n",
       "/* Estimator-specific */\n",
       "#sk-container-id-2 div.sk-estimator {\n",
       "  font-family: monospace;\n",
       "  border: 1px dotted var(--sklearn-color-border-box);\n",
       "  border-radius: 0.25em;\n",
       "  box-sizing: border-box;\n",
       "  margin-bottom: 0.5em;\n",
       "  /* unfitted */\n",
       "  background-color: var(--sklearn-color-unfitted-level-0);\n",
       "}\n",
       "\n",
       "#sk-container-id-2 div.sk-estimator.fitted {\n",
       "  /* fitted */\n",
       "  background-color: var(--sklearn-color-fitted-level-0);\n",
       "}\n",
       "\n",
       "/* on hover */\n",
       "#sk-container-id-2 div.sk-estimator:hover {\n",
       "  /* unfitted */\n",
       "  background-color: var(--sklearn-color-unfitted-level-2);\n",
       "}\n",
       "\n",
       "#sk-container-id-2 div.sk-estimator.fitted:hover {\n",
       "  /* fitted */\n",
       "  background-color: var(--sklearn-color-fitted-level-2);\n",
       "}\n",
       "\n",
       "/* Specification for estimator info (e.g. \"i\" and \"?\") */\n",
       "\n",
       "/* Common style for \"i\" and \"?\" */\n",
       "\n",
       ".sk-estimator-doc-link,\n",
       "a:link.sk-estimator-doc-link,\n",
       "a:visited.sk-estimator-doc-link {\n",
       "  float: right;\n",
       "  font-size: smaller;\n",
       "  line-height: 1em;\n",
       "  font-family: monospace;\n",
       "  background-color: var(--sklearn-color-background);\n",
       "  border-radius: 1em;\n",
       "  height: 1em;\n",
       "  width: 1em;\n",
       "  text-decoration: none !important;\n",
       "  margin-left: 0.5em;\n",
       "  text-align: center;\n",
       "  /* unfitted */\n",
       "  border: var(--sklearn-color-unfitted-level-1) 1pt solid;\n",
       "  color: var(--sklearn-color-unfitted-level-1);\n",
       "}\n",
       "\n",
       ".sk-estimator-doc-link.fitted,\n",
       "a:link.sk-estimator-doc-link.fitted,\n",
       "a:visited.sk-estimator-doc-link.fitted {\n",
       "  /* fitted */\n",
       "  border: var(--sklearn-color-fitted-level-1) 1pt solid;\n",
       "  color: var(--sklearn-color-fitted-level-1);\n",
       "}\n",
       "\n",
       "/* On hover */\n",
       "div.sk-estimator:hover .sk-estimator-doc-link:hover,\n",
       ".sk-estimator-doc-link:hover,\n",
       "div.sk-label-container:hover .sk-estimator-doc-link:hover,\n",
       ".sk-estimator-doc-link:hover {\n",
       "  /* unfitted */\n",
       "  background-color: var(--sklearn-color-unfitted-level-3);\n",
       "  color: var(--sklearn-color-background);\n",
       "  text-decoration: none;\n",
       "}\n",
       "\n",
       "div.sk-estimator.fitted:hover .sk-estimator-doc-link.fitted:hover,\n",
       ".sk-estimator-doc-link.fitted:hover,\n",
       "div.sk-label-container:hover .sk-estimator-doc-link.fitted:hover,\n",
       ".sk-estimator-doc-link.fitted:hover {\n",
       "  /* fitted */\n",
       "  background-color: var(--sklearn-color-fitted-level-3);\n",
       "  color: var(--sklearn-color-background);\n",
       "  text-decoration: none;\n",
       "}\n",
       "\n",
       "/* Span, style for the box shown on hovering the info icon */\n",
       ".sk-estimator-doc-link span {\n",
       "  display: none;\n",
       "  z-index: 9999;\n",
       "  position: relative;\n",
       "  font-weight: normal;\n",
       "  right: .2ex;\n",
       "  padding: .5ex;\n",
       "  margin: .5ex;\n",
       "  width: min-content;\n",
       "  min-width: 20ex;\n",
       "  max-width: 50ex;\n",
       "  color: var(--sklearn-color-text);\n",
       "  box-shadow: 2pt 2pt 4pt #999;\n",
       "  /* unfitted */\n",
       "  background: var(--sklearn-color-unfitted-level-0);\n",
       "  border: .5pt solid var(--sklearn-color-unfitted-level-3);\n",
       "}\n",
       "\n",
       ".sk-estimator-doc-link.fitted span {\n",
       "  /* fitted */\n",
       "  background: var(--sklearn-color-fitted-level-0);\n",
       "  border: var(--sklearn-color-fitted-level-3);\n",
       "}\n",
       "\n",
       ".sk-estimator-doc-link:hover span {\n",
       "  display: block;\n",
       "}\n",
       "\n",
       "/* \"?\"-specific style due to the `<a>` HTML tag */\n",
       "\n",
       "#sk-container-id-2 a.estimator_doc_link {\n",
       "  float: right;\n",
       "  font-size: 1rem;\n",
       "  line-height: 1em;\n",
       "  font-family: monospace;\n",
       "  background-color: var(--sklearn-color-background);\n",
       "  border-radius: 1rem;\n",
       "  height: 1rem;\n",
       "  width: 1rem;\n",
       "  text-decoration: none;\n",
       "  /* unfitted */\n",
       "  color: var(--sklearn-color-unfitted-level-1);\n",
       "  border: var(--sklearn-color-unfitted-level-1) 1pt solid;\n",
       "}\n",
       "\n",
       "#sk-container-id-2 a.estimator_doc_link.fitted {\n",
       "  /* fitted */\n",
       "  border: var(--sklearn-color-fitted-level-1) 1pt solid;\n",
       "  color: var(--sklearn-color-fitted-level-1);\n",
       "}\n",
       "\n",
       "/* On hover */\n",
       "#sk-container-id-2 a.estimator_doc_link:hover {\n",
       "  /* unfitted */\n",
       "  background-color: var(--sklearn-color-unfitted-level-3);\n",
       "  color: var(--sklearn-color-background);\n",
       "  text-decoration: none;\n",
       "}\n",
       "\n",
       "#sk-container-id-2 a.estimator_doc_link.fitted:hover {\n",
       "  /* fitted */\n",
       "  background-color: var(--sklearn-color-fitted-level-3);\n",
       "}\n",
       "</style><div id=\"sk-container-id-2\" class=\"sk-top-container\"><div class=\"sk-text-repr-fallback\"><pre>XGBClassifier(alpha=6.451638862845998, base_score=None, booster=None,\n",
       "              callbacks=None, colsample_bylevel=None, colsample_bynode=None,\n",
       "              colsample_bytree=0.8071605661865788, device=None,\n",
       "              early_stopping_rounds=None, enable_categorical=False,\n",
       "              eval_metric=None, feature_types=None, gamma=4.3795131167061125,\n",
       "              grow_policy=None, importance_type=None,\n",
       "              interaction_constraints=None, lambda=8.995623491394046,\n",
       "              learning_rate=0.012310242311885787, max_bin=None,\n",
       "              max_cat_threshold=None, max_cat_to_onehot=None,\n",
       "              max_delta_step=None, max_depth=7, max_leaves=None,\n",
       "              min_child_weight=8, missing=nan, monotone_constraints=None,\n",
       "              multi_strategy=None, n_estimators=850, n_jobs=-1, ...)</pre><b>In a Jupyter environment, please rerun this cell to show the HTML representation or trust the notebook. <br />On GitHub, the HTML representation is unable to render, please try loading this page with nbviewer.org.</b></div><div class=\"sk-container\" hidden><div class=\"sk-item\"><div class=\"sk-estimator fitted sk-toggleable\"><input class=\"sk-toggleable__control sk-hidden--visually\" id=\"sk-estimator-id-2\" type=\"checkbox\" checked><label for=\"sk-estimator-id-2\" class=\"sk-toggleable__label fitted sk-toggleable__label-arrow\"><div><div>XGBClassifier</div></div><div><span class=\"sk-estimator-doc-link fitted\">i<span>Fitted</span></span></div></label><div class=\"sk-toggleable__content fitted\"><pre>XGBClassifier(alpha=6.451638862845998, base_score=None, booster=None,\n",
       "              callbacks=None, colsample_bylevel=None, colsample_bynode=None,\n",
       "              colsample_bytree=0.8071605661865788, device=None,\n",
       "              early_stopping_rounds=None, enable_categorical=False,\n",
       "              eval_metric=None, feature_types=None, gamma=4.3795131167061125,\n",
       "              grow_policy=None, importance_type=None,\n",
       "              interaction_constraints=None, lambda=8.995623491394046,\n",
       "              learning_rate=0.012310242311885787, max_bin=None,\n",
       "              max_cat_threshold=None, max_cat_to_onehot=None,\n",
       "              max_delta_step=None, max_depth=7, max_leaves=None,\n",
       "              min_child_weight=8, missing=nan, monotone_constraints=None,\n",
       "              multi_strategy=None, n_estimators=850, n_jobs=-1, ...)</pre></div> </div></div></div></div>"
      ],
      "text/plain": [
       "XGBClassifier(alpha=6.451638862845998, base_score=None, booster=None,\n",
       "              callbacks=None, colsample_bylevel=None, colsample_bynode=None,\n",
       "              colsample_bytree=0.8071605661865788, device=None,\n",
       "              early_stopping_rounds=None, enable_categorical=False,\n",
       "              eval_metric=None, feature_types=None, gamma=4.3795131167061125,\n",
       "              grow_policy=None, importance_type=None,\n",
       "              interaction_constraints=None, lambda=8.995623491394046,\n",
       "              learning_rate=0.012310242311885787, max_bin=None,\n",
       "              max_cat_threshold=None, max_cat_to_onehot=None,\n",
       "              max_delta_step=None, max_depth=7, max_leaves=None,\n",
       "              min_child_weight=8, missing=nan, monotone_constraints=None,\n",
       "              multi_strategy=None, n_estimators=850, n_jobs=-1, ...)"
      ]
     },
     "execution_count": 18,
     "metadata": {},
     "output_type": "execute_result"
    }
   ],
   "source": [
    "model.fit(X_train_encoded, y)"
   ]
  },
  {
   "cell_type": "code",
   "execution_count": 20,
   "metadata": {},
   "outputs": [
    {
     "name": "stdout",
     "output_type": "stream",
     "text": [
      "Scikit-learn version: 1.6.1\n",
      "XGBoost version: 2.1.4\n"
     ]
    }
   ],
   "source": [
    "import sklearn\n",
    "import xgboost\n",
    "\n",
    "print(\"Scikit-learn version:\", sklearn.__version__)\n",
    "print(\"XGBoost version:\", xgboost.__version__)\n"
   ]
  },
  {
   "cell_type": "code",
   "execution_count": 21,
   "metadata": {},
   "outputs": [
    {
     "name": "stdout",
     "output_type": "stream",
     "text": [
      "Accuracy: 0.7484\n",
      "ROC-AUC Score: 0.7450\n"
     ]
    }
   ],
   "source": [
    "from sklearn.metrics import accuracy_score, roc_auc_score\n",
    "\n",
    "# 예측\n",
    "y_train_pred = model.predict(X_train_encoded)\n",
    "y_train_proba = model.predict_proba(X_train_encoded)[:, 1]  # ROC-AUC Score 계산용\n",
    "\n",
    "# 평가\n",
    "accuracy = accuracy_score(y, y_train_pred)\n",
    "roc_auc = roc_auc_score(y, y_train_proba)\n",
    "\n",
    "# 출력\n",
    "print(f\"Accuracy: {accuracy:.4f}\")\n",
    "print(f\"ROC-AUC Score: {roc_auc:.4f}\")"
   ]
  },
  {
   "cell_type": "markdown",
   "metadata": {},
   "source": [
    "RandomForest (Hyperparameter tune)"
   ]
  },
  {
   "cell_type": "code",
   "execution_count": 22,
   "metadata": {},
   "outputs": [],
   "source": [
    "model.save_model(\"xgboost_model2.json\")"
   ]
  },
  {
   "cell_type": "markdown",
   "metadata": {},
   "source": [
    "### Predict"
   ]
  },
  {
   "cell_type": "code",
   "execution_count": 23,
   "metadata": {},
   "outputs": [],
   "source": [
    "pred_proba = model.predict_proba(X_test_encoded)[:, 1]"
   ]
  },
  {
   "cell_type": "markdown",
   "metadata": {},
   "source": [
    "### Submission"
   ]
  },
  {
   "cell_type": "code",
   "execution_count": 24,
   "metadata": {},
   "outputs": [],
   "source": [
    "sample_submission = pd.read_csv('./Data/sample_submission.csv')\n",
    "sample_submission['probability'] = pred_proba"
   ]
  },
  {
   "cell_type": "code",
   "execution_count": 25,
   "metadata": {},
   "outputs": [],
   "source": [
    "sample_submission.to_csv('./XGBoost2_optimization_submit.csv', index=False)"
   ]
  }
 ],
 "metadata": {
  "kernelspec": {
   "display_name": "LGAimers6",
   "language": "python",
   "name": "python3"
  },
  "language_info": {
   "codemirror_mode": {
    "name": "ipython",
    "version": 3
   },
   "file_extension": ".py",
   "mimetype": "text/x-python",
   "name": "python",
   "nbconvert_exporter": "python",
   "pygments_lexer": "ipython3",
   "version": "3.13.2"
  }
 },
 "nbformat": 4,
 "nbformat_minor": 2
}
