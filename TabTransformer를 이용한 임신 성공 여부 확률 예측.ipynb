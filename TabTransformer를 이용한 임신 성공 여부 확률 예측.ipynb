{
 "cells": [
  {
   "cell_type": "markdown",
   "metadata": {},
   "source": [
    "### Import"
   ]
  },
  {
   "cell_type": "code",
   "execution_count": 13,
   "metadata": {},
   "outputs": [],
   "source": [
    "import pandas as pd\n",
    "import numpy as np\n",
    "\n",
    "from sklearn.preprocessing import OrdinalEncoder\n"
   ]
  },
  {
   "cell_type": "markdown",
   "metadata": {},
   "source": [
    "### Data Load"
   ]
  },
  {
   "cell_type": "code",
   "execution_count": 14,
   "metadata": {},
   "outputs": [],
   "source": [
    "train = pd.read_csv('./Data/train.csv').drop(columns=['ID'])\n",
    "test = pd.read_csv('./Data/test.csv').drop(columns=['ID'])"
   ]
  },
  {
   "cell_type": "code",
   "execution_count": 15,
   "metadata": {},
   "outputs": [],
   "source": [
    "X = train.drop('임신 성공 여부', axis=1)\n",
    "y = train['임신 성공 여부']"
   ]
  },
  {
   "cell_type": "markdown",
   "metadata": {},
   "source": [
    "### Data Pre-processing"
   ]
  },
  {
   "cell_type": "code",
   "execution_count": 16,
   "metadata": {},
   "outputs": [],
   "source": [
    "categorical_columns = [\n",
    "    \"시술 시기 코드\",\n",
    "    \"시술 당시 나이\",\n",
    "    \"시술 유형\",\n",
    "    \"특정 시술 유형\",\n",
    "    \"배란 자극 여부\",\n",
    "    \"배란 유도 유형\",\n",
    "    \"단일 배아 이식 여부\",\n",
    "    \"착상 전 유전 검사 사용 여부\",\n",
    "    \"착상 전 유전 진단 사용 여부\",\n",
    "    \"남성 주 불임 원인\",\n",
    "    \"남성 부 불임 원인\",\n",
    "    \"여성 주 불임 원인\",\n",
    "    \"여성 부 불임 원인\",\n",
    "    \"부부 주 불임 원인\",\n",
    "    \"부부 부 불임 원인\",\n",
    "    \"불명확 불임 원인\",\n",
    "    \"불임 원인 - 난관 질환\",\n",
    "    \"불임 원인 - 남성 요인\",\n",
    "    \"불임 원인 - 배란 장애\",\n",
    "    \"불임 원인 - 여성 요인\",\n",
    "    \"불임 원인 - 자궁경부 문제\",\n",
    "    \"불임 원인 - 자궁내막증\",\n",
    "    \"불임 원인 - 정자 농도\",\n",
    "    \"불임 원인 - 정자 면역학적 요인\",\n",
    "    \"불임 원인 - 정자 운동성\",\n",
    "    \"불임 원인 - 정자 형태\",\n",
    "    \"배아 생성 주요 이유\",\n",
    "    \"총 시술 횟수\",\n",
    "    \"클리닉 내 총 시술 횟수\",\n",
    "    \"IVF 시술 횟수\",\n",
    "    \"DI 시술 횟수\",\n",
    "    \"총 임신 횟수\",\n",
    "    \"IVF 임신 횟수\",\n",
    "    \"DI 임신 횟수\",\n",
    "    \"총 출산 횟수\",\n",
    "    \"IVF 출산 횟수\",\n",
    "    \"DI 출산 횟수\",\n",
    "    \"난자 출처\",\n",
    "    \"정자 출처\",\n",
    "    \"난자 기증자 나이\",\n",
    "    \"정자 기증자 나이\",\n",
    "    \"동결 배아 사용 여부\",\n",
    "    \"신선 배아 사용 여부\",\n",
    "    \"기증 배아 사용 여부\",\n",
    "    \"대리모 여부\",\n",
    "    \"PGD 시술 여부\",\n",
    "    \"PGS 시술 여부\"\n",
    "]"
   ]
  },
  {
   "cell_type": "code",
   "execution_count": 17,
   "metadata": {},
   "outputs": [],
   "source": [
    "# 카테고리형 컬럼들을 문자열로 변환\n",
    "for col in categorical_columns:\n",
    "    X[col] = X[col].astype(str)\n",
    "    test[col] = test[col].astype(str)"
   ]
  },
  {
   "cell_type": "code",
   "execution_count": 18,
   "metadata": {},
   "outputs": [],
   "source": [
    "ordinal_encoder = OrdinalEncoder(handle_unknown='use_encoded_value', unknown_value=-1)\n",
    "\n",
    "X_train_encoded = X.copy()\n",
    "X_train_encoded[categorical_columns] = ordinal_encoder.fit_transform(X[categorical_columns])\n",
    "\n",
    "X_test_encoded = test.copy()\n",
    "X_test_encoded[categorical_columns] = ordinal_encoder.transform(test[categorical_columns])"
   ]
  },
  {
   "cell_type": "code",
   "execution_count": 19,
   "metadata": {},
   "outputs": [],
   "source": [
    "numeric_columns = [\n",
    "    \"임신 시도 또는 마지막 임신 경과 연수\",\n",
    "    \"총 생성 배아 수\",\n",
    "    \"미세주입된 난자 수\",\n",
    "    \"미세주입에서 생성된 배아 수\",\n",
    "    \"이식된 배아 수\",\n",
    "    \"미세주입 배아 이식 수\",\n",
    "    \"저장된 배아 수\",\n",
    "    \"미세주입 후 저장된 배아 수\",\n",
    "    \"해동된 배아 수\",\n",
    "    \"해동 난자 수\",\n",
    "    \"수집된 신선 난자 수\",\n",
    "    \"저장된 신선 난자 수\",\n",
    "    \"혼합된 난자 수\",\n",
    "    \"파트너 정자와 혼합된 난자 수\",\n",
    "    \"기증자 정자와 혼합된 난자 수\",\n",
    "    \"난자 채취 경과일\",\n",
    "    \"난자 해동 경과일\",\n",
    "    \"난자 혼합 경과일\",\n",
    "    \"배아 이식 경과일\",\n",
    "    \"배아 해동 경과일\"\n",
    "]"
   ]
  },
  {
   "cell_type": "code",
   "execution_count": 20,
   "metadata": {},
   "outputs": [],
   "source": [
    "X_train_encoded[numeric_columns] = X_train_encoded[numeric_columns].fillna(0)\n",
    "X_test_encoded[numeric_columns] = X_test_encoded[numeric_columns].fillna(0)"
   ]
  },
  {
   "cell_type": "markdown",
   "metadata": {},
   "source": [
    "### Train"
   ]
  },
  {
   "cell_type": "code",
   "execution_count": 21,
   "metadata": {},
   "outputs": [
    {
     "name": "stdout",
     "output_type": "stream",
     "text": [
      "Is CUDA available? : False\n",
      "2.5.1\n"
     ]
    }
   ],
   "source": [
    "import torch\n",
    "\n",
    "print(\"Is CUDA available? :\", torch.cuda.is_available())\n",
    "print(torch.__version__)"
   ]
  },
  {
   "cell_type": "markdown",
   "metadata": {},
   "source": [
    "TabNet"
   ]
  },
  {
   "cell_type": "code",
   "execution_count": null,
   "metadata": {},
   "outputs": [
    {
     "name": "stdout",
     "output_type": "stream",
     "text": [
      "Using device: cpu\n",
      "Epoch 1/100 - Train Loss: 0.5108, Valid Loss: 0.4973, Valid Accuracy: 0.7440, Valid ROC-AUC: 0.7256\n",
      "Epoch 2/100 - Train Loss: 0.5010, Valid Loss: 0.4972, Valid Accuracy: 0.7440, Valid ROC-AUC: 0.7262\n",
      "Epoch 3/100 - Train Loss: 0.4984, Valid Loss: 0.4926, Valid Accuracy: 0.7435, Valid ROC-AUC: 0.7295\n",
      "Epoch 4/100 - Train Loss: 0.4969, Valid Loss: 0.4936, Valid Accuracy: 0.7443, Valid ROC-AUC: 0.7311\n",
      "Epoch 5/100 - Train Loss: 0.4963, Valid Loss: 0.4945, Valid Accuracy: 0.7440, Valid ROC-AUC: 0.7285\n",
      "Epoch 6/100 - Train Loss: 0.4955, Valid Loss: 0.4906, Valid Accuracy: 0.7459, Valid ROC-AUC: 0.7322\n",
      "Epoch 7/100 - Train Loss: 0.4953, Valid Loss: 0.4926, Valid Accuracy: 0.7459, Valid ROC-AUC: 0.7314\n",
      "Epoch 8/100 - Train Loss: 0.4949, Valid Loss: 0.4903, Valid Accuracy: 0.7464, Valid ROC-AUC: 0.7326\n",
      "Epoch 9/100 - Train Loss: 0.4947, Valid Loss: 0.4895, Valid Accuracy: 0.7447, Valid ROC-AUC: 0.7335\n",
      "Epoch 10/100 - Train Loss: 0.4939, Valid Loss: 0.4938, Valid Accuracy: 0.7449, Valid ROC-AUC: 0.7322\n",
      "Epoch 11/100 - Train Loss: 0.4947, Valid Loss: 0.4901, Valid Accuracy: 0.7465, Valid ROC-AUC: 0.7331\n",
      "Epoch 12/100 - Train Loss: 0.4937, Valid Loss: 0.4893, Valid Accuracy: 0.7447, Valid ROC-AUC: 0.7344\n",
      "Epoch 13/100 - Train Loss: 0.4935, Valid Loss: 0.4896, Valid Accuracy: 0.7441, Valid ROC-AUC: 0.7343\n",
      "Epoch 14/100 - Train Loss: 0.4934, Valid Loss: 0.4900, Valid Accuracy: 0.7448, Valid ROC-AUC: 0.7338\n",
      "Epoch 15/100 - Train Loss: 0.4929, Valid Loss: 0.4903, Valid Accuracy: 0.7455, Valid ROC-AUC: 0.7345\n",
      "Epoch 16/100 - Train Loss: 0.4931, Valid Loss: 0.4917, Valid Accuracy: 0.7467, Valid ROC-AUC: 0.7347\n",
      "Epoch 17/100 - Train Loss: 0.4927, Valid Loss: 0.4918, Valid Accuracy: 0.7472, Valid ROC-AUC: 0.7335\n",
      "Epoch 18/100 - Train Loss: 0.4926, Valid Loss: 0.4900, Valid Accuracy: 0.7472, Valid ROC-AUC: 0.7345\n",
      "Epoch 19/100 - Train Loss: 0.4923, Valid Loss: 0.4902, Valid Accuracy: 0.7465, Valid ROC-AUC: 0.7320\n",
      "Epoch 20/100 - Train Loss: 0.4921, Valid Loss: 0.4903, Valid Accuracy: 0.7477, Valid ROC-AUC: 0.7349\n",
      "Epoch 21/100 - Train Loss: 0.4924, Valid Loss: 0.4887, Valid Accuracy: 0.7463, Valid ROC-AUC: 0.7347\n",
      "Epoch 22/100 - Train Loss: 0.4920, Valid Loss: 0.4896, Valid Accuracy: 0.7473, Valid ROC-AUC: 0.7356\n",
      "Epoch 23/100 - Train Loss: 0.4920, Valid Loss: 0.4889, Valid Accuracy: 0.7468, Valid ROC-AUC: 0.7341\n",
      "Epoch 24/100 - Train Loss: 0.4924, Valid Loss: 0.4890, Valid Accuracy: 0.7480, Valid ROC-AUC: 0.7355\n",
      "Epoch 25/100 - Train Loss: 0.4918, Valid Loss: 0.4890, Valid Accuracy: 0.7463, Valid ROC-AUC: 0.7352\n",
      "Epoch 26/100 - Train Loss: 0.4917, Valid Loss: 0.4889, Valid Accuracy: 0.7449, Valid ROC-AUC: 0.7351\n",
      "Epoch 27/100 - Train Loss: 0.4918, Valid Loss: 0.4892, Valid Accuracy: 0.7466, Valid ROC-AUC: 0.7364\n",
      "Epoch 28/100 - Train Loss: 0.4913, Valid Loss: 0.4890, Valid Accuracy: 0.7467, Valid ROC-AUC: 0.7347\n",
      "Epoch 29/100 - Train Loss: 0.4920, Valid Loss: 0.4899, Valid Accuracy: 0.7469, Valid ROC-AUC: 0.7351\n",
      "Epoch 30/100 - Train Loss: 0.4914, Valid Loss: 0.4893, Valid Accuracy: 0.7456, Valid ROC-AUC: 0.7354\n",
      "Epoch 31/100 - Train Loss: 0.4913, Valid Loss: 0.4890, Valid Accuracy: 0.7466, Valid ROC-AUC: 0.7354\n",
      "Epoch 32/100 - Train Loss: 0.4913, Valid Loss: 0.4893, Valid Accuracy: 0.7448, Valid ROC-AUC: 0.7359\n",
      "Epoch 33/100 - Train Loss: 0.4912, Valid Loss: 0.4892, Valid Accuracy: 0.7444, Valid ROC-AUC: 0.7357\n",
      "Epoch 34/100 - Train Loss: 0.4914, Valid Loss: 0.4906, Valid Accuracy: 0.7439, Valid ROC-AUC: 0.7359\n",
      "Epoch 35/100 - Train Loss: 0.4912, Valid Loss: 0.4884, Valid Accuracy: 0.7470, Valid ROC-AUC: 0.7362\n",
      "Epoch 36/100 - Train Loss: 0.4911, Valid Loss: 0.4889, Valid Accuracy: 0.7479, Valid ROC-AUC: 0.7352\n",
      "Epoch 37/100 - Train Loss: 0.4911, Valid Loss: 0.4887, Valid Accuracy: 0.7464, Valid ROC-AUC: 0.7356\n",
      "Epoch 38/100 - Train Loss: 0.4914, Valid Loss: 0.4882, Valid Accuracy: 0.7479, Valid ROC-AUC: 0.7365\n",
      "Epoch 39/100 - Train Loss: 0.4906, Valid Loss: 0.4902, Valid Accuracy: 0.7470, Valid ROC-AUC: 0.7364\n",
      "Epoch 40/100 - Train Loss: 0.4910, Valid Loss: 0.4907, Valid Accuracy: 0.7468, Valid ROC-AUC: 0.7363\n",
      "Epoch 41/100 - Train Loss: 0.4909, Valid Loss: 0.4876, Valid Accuracy: 0.7477, Valid ROC-AUC: 0.7365\n",
      "Epoch 42/100 - Train Loss: 0.4907, Valid Loss: 0.4891, Valid Accuracy: 0.7466, Valid ROC-AUC: 0.7362\n",
      "Epoch 43/100 - Train Loss: 0.4907, Valid Loss: 0.4897, Valid Accuracy: 0.7453, Valid ROC-AUC: 0.7362\n",
      "Epoch 44/100 - Train Loss: 0.4907, Valid Loss: 0.4883, Valid Accuracy: 0.7485, Valid ROC-AUC: 0.7364\n",
      "Epoch 45/100 - Train Loss: 0.4906, Valid Loss: 0.4885, Valid Accuracy: 0.7478, Valid ROC-AUC: 0.7356\n",
      "Epoch 46/100 - Train Loss: 0.4907, Valid Loss: 0.4880, Valid Accuracy: 0.7478, Valid ROC-AUC: 0.7361\n",
      "Epoch 47/100 - Train Loss: 0.4907, Valid Loss: 0.4887, Valid Accuracy: 0.7428, Valid ROC-AUC: 0.7373\n",
      "Epoch 48/100 - Train Loss: 0.4905, Valid Loss: 0.4885, Valid Accuracy: 0.7468, Valid ROC-AUC: 0.7360\n",
      "Epoch 49/100 - Train Loss: 0.4905, Valid Loss: 0.4888, Valid Accuracy: 0.7476, Valid ROC-AUC: 0.7361\n",
      "Epoch 50/100 - Train Loss: 0.4906, Valid Loss: 0.4884, Valid Accuracy: 0.7480, Valid ROC-AUC: 0.7366\n",
      "Epoch 51/100 - Train Loss: 0.4906, Valid Loss: 0.4882, Valid Accuracy: 0.7470, Valid ROC-AUC: 0.7367\n",
      "Epoch 52/100 - Train Loss: 0.4905, Valid Loss: 0.4890, Valid Accuracy: 0.7473, Valid ROC-AUC: 0.7368\n",
      "Epoch 53/100 - Train Loss: 0.4906, Valid Loss: 0.4878, Valid Accuracy: 0.7471, Valid ROC-AUC: 0.7370\n",
      "Epoch 54/100 - Train Loss: 0.4903, Valid Loss: 0.4880, Valid Accuracy: 0.7476, Valid ROC-AUC: 0.7371\n",
      "Epoch 55/100 - Train Loss: 0.4902, Valid Loss: 0.4882, Valid Accuracy: 0.7481, Valid ROC-AUC: 0.7371\n",
      "Epoch 56/100 - Train Loss: 0.4906, Valid Loss: 0.4898, Valid Accuracy: 0.7478, Valid ROC-AUC: 0.7365\n",
      "Epoch 57/100 - Train Loss: 0.4904, Valid Loss: 0.4876, Valid Accuracy: 0.7467, Valid ROC-AUC: 0.7367\n",
      "Epoch 58/100 - Train Loss: 0.4904, Valid Loss: 0.4900, Valid Accuracy: 0.7465, Valid ROC-AUC: 0.7363\n",
      "Epoch 59/100 - Train Loss: 0.4904, Valid Loss: 0.4875, Valid Accuracy: 0.7476, Valid ROC-AUC: 0.7368\n",
      "Epoch 60/100 - Train Loss: 0.4905, Valid Loss: 0.4880, Valid Accuracy: 0.7465, Valid ROC-AUC: 0.7367\n",
      "Epoch 61/100 - Train Loss: 0.4903, Valid Loss: 0.4896, Valid Accuracy: 0.7467, Valid ROC-AUC: 0.7367\n",
      "Epoch 62/100 - Train Loss: 0.4903, Valid Loss: 0.4888, Valid Accuracy: 0.7472, Valid ROC-AUC: 0.7370\n",
      "Epoch 63/100 - Train Loss: 0.4903, Valid Loss: 0.4874, Valid Accuracy: 0.7473, Valid ROC-AUC: 0.7375\n",
      "Epoch 64/100 - Train Loss: 0.4902, Valid Loss: 0.4888, Valid Accuracy: 0.7441, Valid ROC-AUC: 0.7370\n",
      "Epoch 65/100 - Train Loss: 0.4904, Valid Loss: 0.4877, Valid Accuracy: 0.7479, Valid ROC-AUC: 0.7367\n",
      "Epoch 66/100 - Train Loss: 0.4900, Valid Loss: 0.4884, Valid Accuracy: 0.7478, Valid ROC-AUC: 0.7368\n",
      "Epoch 67/100 - Train Loss: 0.4902, Valid Loss: 0.4875, Valid Accuracy: 0.7471, Valid ROC-AUC: 0.7370\n",
      "Epoch 68/100 - Train Loss: 0.4902, Valid Loss: 0.4874, Valid Accuracy: 0.7474, Valid ROC-AUC: 0.7369\n",
      "Epoch 69/100 - Train Loss: 0.4901, Valid Loss: 0.4879, Valid Accuracy: 0.7479, Valid ROC-AUC: 0.7372\n",
      "Epoch 70/100 - Train Loss: 0.4900, Valid Loss: 0.4883, Valid Accuracy: 0.7471, Valid ROC-AUC: 0.7371\n",
      "Epoch 71/100 - Train Loss: 0.4901, Valid Loss: 0.4886, Valid Accuracy: 0.7474, Valid ROC-AUC: 0.7370\n",
      "Epoch 72/100 - Train Loss: 0.4900, Valid Loss: 0.4894, Valid Accuracy: 0.7440, Valid ROC-AUC: 0.7369\n",
      "Epoch 73/100 - Train Loss: 0.4901, Valid Loss: 0.4899, Valid Accuracy: 0.7447, Valid ROC-AUC: 0.7370\n",
      "Epoch 74/100 - Train Loss: 0.4900, Valid Loss: 0.4881, Valid Accuracy: 0.7473, Valid ROC-AUC: 0.7366\n",
      "Epoch 75/100 - Train Loss: 0.4900, Valid Loss: 0.4893, Valid Accuracy: 0.7477, Valid ROC-AUC: 0.7370\n",
      "Epoch 76/100 - Train Loss: 0.4900, Valid Loss: 0.4906, Valid Accuracy: 0.7466, Valid ROC-AUC: 0.7367\n",
      "Epoch 77/100 - Train Loss: 0.4900, Valid Loss: 0.4891, Valid Accuracy: 0.7412, Valid ROC-AUC: 0.7369\n",
      "Epoch 78/100 - Train Loss: 0.4901, Valid Loss: 0.4882, Valid Accuracy: 0.7469, Valid ROC-AUC: 0.7368\n",
      "Epoch 79/100 - Train Loss: 0.4901, Valid Loss: 0.4885, Valid Accuracy: 0.7472, Valid ROC-AUC: 0.7373\n",
      "Epoch 80/100 - Train Loss: 0.4897, Valid Loss: 0.4886, Valid Accuracy: 0.7449, Valid ROC-AUC: 0.7362\n",
      "Epoch 81/100 - Train Loss: 0.4900, Valid Loss: 0.4884, Valid Accuracy: 0.7471, Valid ROC-AUC: 0.7371\n",
      "Epoch 82/100 - Train Loss: 0.4898, Valid Loss: 0.4899, Valid Accuracy: 0.7466, Valid ROC-AUC: 0.7369\n",
      "Epoch 83/100 - Train Loss: 0.4898, Valid Loss: 0.4898, Valid Accuracy: 0.7426, Valid ROC-AUC: 0.7370\n",
      "Epoch 84/100 - Train Loss: 0.4902, Valid Loss: 0.4887, Valid Accuracy: 0.7469, Valid ROC-AUC: 0.7372\n",
      "Epoch 85/100 - Train Loss: 0.4900, Valid Loss: 0.4881, Valid Accuracy: 0.7475, Valid ROC-AUC: 0.7376\n",
      "Epoch 86/100 - Train Loss: 0.4897, Valid Loss: 0.4873, Valid Accuracy: 0.7479, Valid ROC-AUC: 0.7376\n",
      "Epoch 87/100 - Train Loss: 0.4899, Valid Loss: 0.4880, Valid Accuracy: 0.7480, Valid ROC-AUC: 0.7371\n",
      "Epoch 88/100 - Train Loss: 0.4897, Valid Loss: 0.4882, Valid Accuracy: 0.7465, Valid ROC-AUC: 0.7371\n",
      "Epoch 89/100 - Train Loss: 0.4897, Valid Loss: 0.4901, Valid Accuracy: 0.7473, Valid ROC-AUC: 0.7371\n",
      "Epoch 90/100 - Train Loss: 0.4898, Valid Loss: 0.4884, Valid Accuracy: 0.7474, Valid ROC-AUC: 0.7370\n",
      "Epoch 91/100 - Train Loss: 0.4899, Valid Loss: 0.4885, Valid Accuracy: 0.7478, Valid ROC-AUC: 0.7369\n",
      "Epoch 92/100 - Train Loss: 0.4899, Valid Loss: 0.4875, Valid Accuracy: 0.7459, Valid ROC-AUC: 0.7372\n",
      "Epoch 93/100 - Train Loss: 0.4897, Valid Loss: 0.4887, Valid Accuracy: 0.7459, Valid ROC-AUC: 0.7375\n",
      "Epoch 94/100 - Train Loss: 0.4898, Valid Loss: 0.4887, Valid Accuracy: 0.7466, Valid ROC-AUC: 0.7374\n",
      "Epoch 95/100 - Train Loss: 0.4899, Valid Loss: 0.4879, Valid Accuracy: 0.7463, Valid ROC-AUC: 0.7372\n",
      "Epoch 96/100 - Train Loss: 0.4896, Valid Loss: 0.4880, Valid Accuracy: 0.7476, Valid ROC-AUC: 0.7364\n",
      "Epoch 97/100 - Train Loss: 0.4897, Valid Loss: 0.4890, Valid Accuracy: 0.7462, Valid ROC-AUC: 0.7369\n",
      "Epoch 98/100 - Train Loss: 0.4898, Valid Loss: 0.4879, Valid Accuracy: 0.7471, Valid ROC-AUC: 0.7372\n",
      "Epoch 99/100 - Train Loss: 0.4896, Valid Loss: 0.4921, Valid Accuracy: 0.7467, Valid ROC-AUC: 0.7368\n",
      "Epoch 100/100 - Train Loss: 0.4897, Valid Loss: 0.4878, Valid Accuracy: 0.7465, Valid ROC-AUC: 0.7374\n"
     ]
    }
   ],
   "source": [
    "import torch\n",
    "import torch.nn as nn\n",
    "import torch.optim as optim\n",
    "from torch.utils.data import DataLoader, TensorDataset\n",
    "from sklearn.model_selection import train_test_split\n",
    "from sklearn.metrics import accuracy_score, roc_auc_score\n",
    "import numpy as np\n",
    "\n",
    "# ✅ GPU 사용 가능 여부 확인\n",
    "device = torch.device(\"cuda\" if torch.cuda.is_available() else \"cpu\")\n",
    "print(f\"Using device: {device}\")\n",
    "\n",
    "# ✅ 데이터 분할 (훈련 / 검증)\n",
    "X_train, X_valid, y_train, y_valid = train_test_split(\n",
    "    X_train_encoded.values, y.values, test_size=0.2, random_state=42\n",
    ")\n",
    "\n",
    "# ✅ 모델 입력 차원 설정\n",
    "input_dim = X_train.shape[1]  # 실제 데이터 차원 자동 설정\n",
    "n_heads = 8\n",
    "hidden_dim = (max(64, input_dim) // n_heads) * n_heads  # `n_heads`의 배수로 자동 조정\n",
    "\n",
    "# ✅ PyTorch Tensor 변환\n",
    "X_train_tensor = torch.tensor(X_train, dtype=torch.float32).to(device)\n",
    "y_train_tensor = torch.tensor(y_train, dtype=torch.float32).unsqueeze(1).to(device)  # (N, 1) 형태로 변경\n",
    "X_valid_tensor = torch.tensor(X_valid, dtype=torch.float32).to(device)\n",
    "y_valid_tensor = torch.tensor(y_valid, dtype=torch.float32).unsqueeze(1).to(device)\n",
    "\n",
    "# ✅ PyTorch DataLoader 생성 (미니배치 학습 가능)\n",
    "batch_size = 32\n",
    "train_dataset = TensorDataset(X_train_tensor, y_train_tensor)\n",
    "train_loader = DataLoader(train_dataset, batch_size=batch_size, shuffle=True)\n",
    "\n",
    "valid_dataset = TensorDataset(X_valid_tensor, y_valid_tensor)\n",
    "valid_loader = DataLoader(valid_dataset, batch_size=batch_size, shuffle=False)\n",
    "\n",
    "# ✅ TabTransformer 모델 정의\n",
    "class TabTransformer(nn.Module):\n",
    "    def __init__(self, input_dim, hidden_dim, n_heads=8, n_layers=2):\n",
    "        super(TabTransformer, self).__init__()\n",
    "        self.embedding = nn.Linear(input_dim, hidden_dim)  # 입력 차원을 임베딩 차원으로 변환\n",
    "        self.encoder_layer = nn.TransformerEncoderLayer(\n",
    "            d_model=hidden_dim, nhead=n_heads, batch_first=True\n",
    "        )\n",
    "        self.transformer_encoder = nn.TransformerEncoder(self.encoder_layer, num_layers=n_layers)\n",
    "        self.fc = nn.Linear(hidden_dim, 1)  # 최종 예측 층 (이진 분류)\n",
    "\n",
    "    def forward(self, x):\n",
    "        x = self.embedding(x)  # 입력 데이터 변환\n",
    "        x = x.unsqueeze(1)  # Transformer 입력 차원 맞추기 (batch, seq_len, hidden_dim)\n",
    "        x = self.transformer_encoder(x)\n",
    "        x = self.fc(x[:, 0, :])  # 첫 번째 토큰을 예측에 사용\n",
    "        return x  # Sigmoid 제거 (Loss 계산할 때 적용)\n",
    "\n",
    "# ✅ 모델 생성\n",
    "model = TabTransformer(input_dim=input_dim, hidden_dim=hidden_dim, n_heads=n_heads).to(device)\n",
    "criterion = nn.BCEWithLogitsLoss()  # Sigmoid 포함된 Loss 함수 사용\n",
    "optimizer = optim.Adam(model.parameters(), lr=0.001)\n",
    "\n",
    "# ✅ 모델 학습\n",
    "num_epochs = 100\n",
    "for epoch in range(num_epochs):\n",
    "    model.train()\n",
    "    train_loss = 0.0\n",
    "\n",
    "    for X_batch, y_batch in train_loader:\n",
    "        optimizer.zero_grad()\n",
    "        y_pred = model(X_batch).squeeze()  # (32, 1) → (32,) 변환\n",
    "        loss = criterion(y_pred, y_batch.squeeze())  # y_batch도 차원 맞추기!\n",
    "        loss.backward()\n",
    "        optimizer.step()\n",
    "        train_loss += loss.item()\n",
    "\n",
    "    # ✅ 검증\n",
    "    model.eval()\n",
    "    valid_loss = 0.0\n",
    "    y_valid_preds = []\n",
    "\n",
    "    with torch.no_grad():\n",
    "        for X_batch, y_batch in valid_loader:\n",
    "            y_valid_pred = model(X_batch).squeeze()\n",
    "            loss = criterion(y_valid_pred, y_batch.squeeze())\n",
    "            valid_loss += loss.item()\n",
    "            y_valid_preds.extend(torch.sigmoid(y_valid_pred).cpu().numpy())  # 여기서 sigmoid 적용\n",
    "\n",
    "    y_valid_preds = np.array(y_valid_preds)\n",
    "    valid_acc = accuracy_score(y_valid, y_valid_preds.round())\n",
    "    valid_auc = roc_auc_score(y_valid, y_valid_preds)\n",
    "\n",
    "    print(f\"Epoch {epoch+1}/{num_epochs} - Train Loss: {train_loss/len(train_loader):.4f}, \"\n",
    "          f\"Valid Loss: {valid_loss/len(valid_loader):.4f}, \"\n",
    "          f\"Valid Accuracy: {valid_acc:.4f}, Valid ROC-AUC: {valid_auc:.4f}\")\n"
   ]
  },
  {
   "cell_type": "code",
   "execution_count": 23,
   "metadata": {},
   "outputs": [],
   "source": [
    "torch.save(model.state_dict(), \"./tabtransformer_model.pth\")"
   ]
  },
  {
   "cell_type": "markdown",
   "metadata": {},
   "source": [
    "### Predict"
   ]
  },
  {
   "cell_type": "code",
   "execution_count": 24,
   "metadata": {},
   "outputs": [],
   "source": [
    "import torch\n",
    "\n",
    "def predict_proba(model, X):\n",
    "    model.eval()  # 평가 모드로 전환\n",
    "    X_tensor = torch.tensor(X.to_numpy(), dtype=torch.float32).to(device)  # ✅ NumPy 배열로 변환 후 Tensor 변환\n",
    "    with torch.no_grad():\n",
    "        logits = model(X_tensor).squeeze()  # 모델 예측값\n",
    "        probabilities = torch.sigmoid(logits)  # Sigmoid 적용하여 확률로 변환\n",
    "    return probabilities.cpu().numpy()\n"
   ]
  },
  {
   "cell_type": "code",
   "execution_count": 25,
   "metadata": {},
   "outputs": [],
   "source": [
    "pred_proba = predict_proba(model, X_test_encoded)  # 확률 예측"
   ]
  },
  {
   "cell_type": "markdown",
   "metadata": {},
   "source": [
    "### Submission"
   ]
  },
  {
   "cell_type": "code",
   "execution_count": 26,
   "metadata": {},
   "outputs": [],
   "source": [
    "sample_submission = pd.read_csv('./Data/sample_submission.csv')\n",
    "sample_submission['probability'] = pred_proba"
   ]
  },
  {
   "cell_type": "code",
   "execution_count": 27,
   "metadata": {},
   "outputs": [],
   "source": [
    "sample_submission.to_csv('./TabTransformer_submit.csv', index=False)"
   ]
  }
 ],
 "metadata": {
  "kernelspec": {
   "display_name": "LGAimers6",
   "language": "python",
   "name": "python3"
  },
  "language_info": {
   "codemirror_mode": {
    "name": "ipython",
    "version": 3
   },
   "file_extension": ".py",
   "mimetype": "text/x-python",
   "name": "python",
   "nbconvert_exporter": "python",
   "pygments_lexer": "ipython3",
   "version": "3.13.2"
  }
 },
 "nbformat": 4,
 "nbformat_minor": 2
}
