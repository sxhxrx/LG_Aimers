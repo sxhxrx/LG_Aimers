{
 "cells": [
  {
   "cell_type": "markdown",
   "metadata": {},
   "source": [
    "### Import"
   ]
  },
  {
   "cell_type": "code",
   "execution_count": null,
   "metadata": {},
   "outputs": [],
   "source": [
    "!pip install catboost"
   ]
  },
  {
   "cell_type": "code",
   "execution_count": 1,
   "metadata": {},
   "outputs": [],
   "source": [
    "import pandas as pd\n",
    "import numpy as np\n",
    "\n",
    "from sklearn.preprocessing import OrdinalEncoder\n",
    "\n",
    "import optuna\n",
    "from sklearn.model_selection import train_test_split"
   ]
  },
  {
   "cell_type": "markdown",
   "metadata": {},
   "source": [
    "### Data Load"
   ]
  },
  {
   "cell_type": "code",
   "execution_count": 2,
   "metadata": {},
   "outputs": [],
   "source": [
    "train = pd.read_csv('./Data/train.csv').drop(columns=['ID'])\n",
    "test = pd.read_csv('./Data/test.csv').drop(columns=['ID'])"
   ]
  },
  {
   "cell_type": "code",
   "execution_count": 3,
   "metadata": {},
   "outputs": [],
   "source": [
    "X = train.drop('임신 성공 여부', axis=1)\n",
    "y = train['임신 성공 여부']"
   ]
  },
  {
   "cell_type": "markdown",
   "metadata": {},
   "source": [
    "### Data Pre-processing"
   ]
  },
  {
   "cell_type": "code",
   "execution_count": 4,
   "metadata": {},
   "outputs": [],
   "source": [
    "categorical_columns = [\n",
    "    \"시술 시기 코드\",\n",
    "    \"시술 당시 나이\",\n",
    "    \"시술 유형\",\n",
    "    \"특정 시술 유형\",\n",
    "    \"배란 자극 여부\",\n",
    "    \"배란 유도 유형\",\n",
    "    \"단일 배아 이식 여부\",\n",
    "    \"착상 전 유전 검사 사용 여부\",\n",
    "    \"착상 전 유전 진단 사용 여부\",\n",
    "    \"남성 주 불임 원인\",\n",
    "    \"남성 부 불임 원인\",\n",
    "    \"여성 주 불임 원인\",\n",
    "    \"여성 부 불임 원인\",\n",
    "    \"부부 주 불임 원인\",\n",
    "    \"부부 부 불임 원인\",\n",
    "    \"불명확 불임 원인\",\n",
    "    \"불임 원인 - 난관 질환\",\n",
    "    \"불임 원인 - 남성 요인\",\n",
    "    \"불임 원인 - 배란 장애\",\n",
    "    \"불임 원인 - 여성 요인\",\n",
    "    \"불임 원인 - 자궁경부 문제\",\n",
    "    \"불임 원인 - 자궁내막증\",\n",
    "    \"불임 원인 - 정자 농도\",\n",
    "    \"불임 원인 - 정자 면역학적 요인\",\n",
    "    \"불임 원인 - 정자 운동성\",\n",
    "    \"불임 원인 - 정자 형태\",\n",
    "    \"배아 생성 주요 이유\",\n",
    "    \"총 시술 횟수\",\n",
    "    \"클리닉 내 총 시술 횟수\",\n",
    "    \"IVF 시술 횟수\",\n",
    "    \"DI 시술 횟수\",\n",
    "    \"총 임신 횟수\",\n",
    "    \"IVF 임신 횟수\",\n",
    "    \"DI 임신 횟수\",\n",
    "    \"총 출산 횟수\",\n",
    "    \"IVF 출산 횟수\",\n",
    "    \"DI 출산 횟수\",\n",
    "    \"난자 출처\",\n",
    "    \"정자 출처\",\n",
    "    \"난자 기증자 나이\",\n",
    "    \"정자 기증자 나이\",\n",
    "    \"동결 배아 사용 여부\",\n",
    "    \"신선 배아 사용 여부\",\n",
    "    \"기증 배아 사용 여부\",\n",
    "    \"대리모 여부\",\n",
    "    \"PGD 시술 여부\",\n",
    "    \"PGS 시술 여부\"\n",
    "]"
   ]
  },
  {
   "cell_type": "code",
   "execution_count": 5,
   "metadata": {},
   "outputs": [],
   "source": [
    "# 카테고리형 컬럼들을 문자열로 변환\n",
    "for col in categorical_columns:\n",
    "    X[col] = X[col].astype(str)\n",
    "    test[col] = test[col].astype(str)"
   ]
  },
  {
   "cell_type": "code",
   "execution_count": 6,
   "metadata": {},
   "outputs": [],
   "source": [
    "ordinal_encoder = OrdinalEncoder(handle_unknown='use_encoded_value', unknown_value=-1)\n",
    "\n",
    "X_train_encoded = X.copy()\n",
    "X_train_encoded[categorical_columns] = ordinal_encoder.fit_transform(X[categorical_columns])\n",
    "\n",
    "X_test_encoded = test.copy()\n",
    "X_test_encoded[categorical_columns] = ordinal_encoder.transform(test[categorical_columns])"
   ]
  },
  {
   "cell_type": "code",
   "execution_count": 7,
   "metadata": {},
   "outputs": [],
   "source": [
    "numeric_columns = [\n",
    "    \"임신 시도 또는 마지막 임신 경과 연수\",\n",
    "    \"총 생성 배아 수\",\n",
    "    \"미세주입된 난자 수\",\n",
    "    \"미세주입에서 생성된 배아 수\",\n",
    "    \"이식된 배아 수\",\n",
    "    \"미세주입 배아 이식 수\",\n",
    "    \"저장된 배아 수\",\n",
    "    \"미세주입 후 저장된 배아 수\",\n",
    "    \"해동된 배아 수\",\n",
    "    \"해동 난자 수\",\n",
    "    \"수집된 신선 난자 수\",\n",
    "    \"저장된 신선 난자 수\",\n",
    "    \"혼합된 난자 수\",\n",
    "    \"파트너 정자와 혼합된 난자 수\",\n",
    "    \"기증자 정자와 혼합된 난자 수\",\n",
    "    \"난자 채취 경과일\",\n",
    "    \"난자 해동 경과일\",\n",
    "    \"난자 혼합 경과일\",\n",
    "    \"배아 이식 경과일\",\n",
    "    \"배아 해동 경과일\"\n",
    "]"
   ]
  },
  {
   "cell_type": "code",
   "execution_count": 8,
   "metadata": {},
   "outputs": [],
   "source": [
    "numeric_columns = [col for col in numeric_columns if col in X.columns]\n",
    "\n",
    "X_train_encoded[numeric_columns] = X_train_encoded[numeric_columns].fillna(0)\n",
    "X_test_encoded[numeric_columns] = X_test_encoded[numeric_columns].fillna(0)"
   ]
  },
  {
   "cell_type": "code",
   "execution_count": 41,
   "metadata": {},
   "outputs": [],
   "source": [
    "from sklearn.feature_selection import SelectKBest, f_classif\n",
    "from imblearn.over_sampling import SMOTE\n",
    "from sklearn.model_selection import train_test_split\n",
    "from sklearn.feature_selection import VarianceThreshold, SelectKBest, f_classif\n",
    "\n",
    "# 1️⃣ 상수 Feature 제거\n",
    "var_thresh = VarianceThreshold(threshold=0.0)\n",
    "X_train_var_filtered = var_thresh.fit_transform(X_train_encoded)\n",
    "\n",
    "# 2️⃣ Feature Selection 적용\n",
    "selector = SelectKBest(f_classif, k=20)\n",
    "X_train_selected = selector.fit_transform(X_train_var_filtered, y)\n",
    "\n",
    "# 2️⃣ SMOTE 적용 (Feature Selection 후)\n",
    "smote = SMOTE(sampling_strategy='auto', random_state=42)\n",
    "X_resampled, y_resampled = smote.fit_resample(X_train_selected, y)"
   ]
  },
  {
   "cell_type": "code",
   "execution_count": 44,
   "metadata": {},
   "outputs": [
    {
     "name": "stdout",
     "output_type": "stream",
     "text": [
      "X_train_encoded: (256351, 67)\n",
      "y: (256351,)\n",
      "X_train_selected: (256351, 20)\n",
      "X_train_resampled: (380246, 20)\n",
      "y_resampled: (380246,)\n"
     ]
    }
   ],
   "source": [
    "print(\"X_train_encoded:\", X_train_encoded.shape)\n",
    "print(\"y:\", y.shape)\n",
    "print(\"X_train_selected:\", X_train_selected.shape)\n",
    "print(\"X_train_resampled:\", X_resampled.shape)\n",
    "print(\"y_resampled:\", y_resampled.shape)"
   ]
  },
  {
   "cell_type": "code",
   "execution_count": 46,
   "metadata": {},
   "outputs": [],
   "source": [
    "X_train, X_valid, y_train, y_valid = train_test_split(\n",
    "    X_resampled, y_resampled, test_size=0.2, random_state=42, stratify=y_resampled\n",
    ")"
   ]
  },
  {
   "cell_type": "code",
   "execution_count": 9,
   "metadata": {},
   "outputs": [],
   "source": [
    "X_train, X_valid, y_train, y_valid = train_test_split(\n",
    "    X_train_encoded, y, test_size=0.1, random_state=42, stratify=y\n",
    ")"
   ]
  },
  {
   "cell_type": "markdown",
   "metadata": {},
   "source": [
    "### Train"
   ]
  },
  {
   "cell_type": "markdown",
   "metadata": {},
   "source": [
    "XGBoost"
   ]
  },
  {
   "cell_type": "code",
   "execution_count": 11,
   "metadata": {},
   "outputs": [],
   "source": [
    "import catboost as cb\n",
    "from catboost import CatBoostClassifier\n",
    "import warnings\n",
    "from sklearn.metrics import roc_auc_score\n",
    "\n",
    "warnings.simplefilter(action='ignore', category=FutureWarning)\n",
    "\n",
    "def objective(trial):\n",
    "    try:\n",
    "        grow_policy = trial.suggest_categorical('grow_policy', ['SymmetricTree', 'Depthwise'])\n",
    "        \n",
    "        min_data_in_leaf = trial.suggest_int('min_data_in_leaf', 20, 100) if grow_policy == 'Depthwise' else trial.suggest_int('min_data_in_leaf', 10, 100)# '시술 당시 나이' 가중치를 Optuna에서 탐색하도록 설정\n",
    "        age_weight = trial.suggest_float(\"age_weight\", 1.0, 3.0, step=0.1)\n",
    "\n",
    "\n",
    "        params = {\n",
    "            'objective': 'Logloss',\n",
    "            'eval_metric': 'AUC',\n",
    "            'depth': trial.suggest_int('depth', 4, 8),\n",
    "            'learning_rate': trial.suggest_loguniform('learning_rate', 0.01, 0.1),\n",
    "            'iterations': trial.suggest_int('iterations', 1000, 10000),\n",
    "            'l2_leaf_reg': trial.suggest_loguniform('l2_leaf_reg', 1e-6, 10.0),\n",
    "            'bagging_temperature': trial.suggest_uniform('bagging_temperature', 0.1, 1.0),\n",
    "            'random_strength': trial.suggest_loguniform('random_strength', 1e-9, 10.0),\n",
    "            'border_count': trial.suggest_int('border_count', 32, 255),\n",
    "            'one_hot_max_size': trial.suggest_int('one_hot_max_size', 2, 20),\n",
    "            'feature_weights': [age_weight if col == '시술 당시 나이' else 1 for col in X_train.columns],\n",
    "            'min_data_in_leaf': min_data_in_leaf,\n",
    "            'grow_policy': grow_policy,\n",
    "            'random_seed': 42,\n",
    "            'verbose': 0\n",
    "        }\n",
    "\n",
    "        model = CatBoostClassifier(**params)\n",
    "        \n",
    "        model.fit(\n",
    "            X_train, y_train,\n",
    "            eval_set=(X_valid, y_valid),\n",
    "            early_stopping_rounds=100,\n",
    "            use_best_model=True\n",
    "        )\n",
    "        \n",
    "        preds = model.predict_proba(X_valid)[:, 1]\n",
    "        auc = roc_auc_score(y_valid, preds)\n",
    "        return auc\n",
    "\n",
    "    except cb.CatBoostError as e:\n",
    "        print(f\"Skipping trial due to CatBoost error: {e}\")\n",
    "        return None  # 실패한 trial을 무시하고 다음으로 넘어감\n"
   ]
  },
  {
   "cell_type": "code",
   "execution_count": 12,
   "metadata": {},
   "outputs": [
    {
     "name": "stderr",
     "output_type": "stream",
     "text": [
      "[I 2025-02-22 23:29:09,275] A new study created in memory with name: no-name-93e590e4-60e7-47d8-90ff-37c58e1542fe\n"
     ]
    },
    {
     "data": {
      "application/vnd.jupyter.widget-view+json": {
       "model_id": "c66f135222eb49b8ad251dacca1a3350",
       "version_major": 2,
       "version_minor": 0
      },
      "text/plain": [
       "  0%|          | 0/100 [00:00<?, ?it/s]"
      ]
     },
     "metadata": {},
     "output_type": "display_data"
    },
    {
     "name": "stdout",
     "output_type": "stream",
     "text": [
      "[I 2025-02-22 23:29:50,825] Trial 0 finished with value: 0.740887289471807 and parameters: {'grow_policy': 'Depthwise', 'min_data_in_leaf': 95, 'age_weight': 2.0, 'depth': 7, 'learning_rate': 0.05449567775495605, 'iterations': 5196, 'l2_leaf_reg': 8.787178146232184e-05, 'bagging_temperature': 0.644370344322472, 'random_strength': 3.3574020720612724e-09, 'border_count': 155, 'one_hot_max_size': 13}. Best is trial 0 with value: 0.740887289471807.\n",
      "[I 2025-02-22 23:30:57,635] Trial 1 finished with value: 0.7421092296974044 and parameters: {'grow_policy': 'SymmetricTree', 'min_data_in_leaf': 36, 'age_weight': 3.0, 'depth': 4, 'learning_rate': 0.06878035710558862, 'iterations': 1533, 'l2_leaf_reg': 0.00025476328244655115, 'bagging_temperature': 0.4179642768615548, 'random_strength': 1.723324048721379e-05, 'border_count': 55, 'one_hot_max_size': 8}. Best is trial 1 with value: 0.7421092296974044.\n",
      "[I 2025-02-22 23:32:26,833] Trial 2 finished with value: 0.7415987594142676 and parameters: {'grow_policy': 'SymmetricTree', 'min_data_in_leaf': 87, 'age_weight': 1.5, 'depth': 6, 'learning_rate': 0.022017520028309652, 'iterations': 6785, 'l2_leaf_reg': 1.2311300394214639e-06, 'bagging_temperature': 0.5287562579218967, 'random_strength': 9.93220280470853e-06, 'border_count': 199, 'one_hot_max_size': 4}. Best is trial 1 with value: 0.7421092296974044.\n",
      "[I 2025-02-22 23:32:51,136] Trial 3 finished with value: 0.7414519118529637 and parameters: {'grow_policy': 'SymmetricTree', 'min_data_in_leaf': 49, 'age_weight': 2.3, 'depth': 5, 'learning_rate': 0.019350476469360913, 'iterations': 4929, 'l2_leaf_reg': 0.004031304605299703, 'bagging_temperature': 0.7452042493266274, 'random_strength': 0.0011507907983657113, 'border_count': 84, 'one_hot_max_size': 5}. Best is trial 1 with value: 0.7421092296974044.\n",
      "[I 2025-02-22 23:34:08,276] Trial 4 finished with value: 0.7412254164742245 and parameters: {'grow_policy': 'Depthwise', 'min_data_in_leaf': 100, 'age_weight': 2.6, 'depth': 8, 'learning_rate': 0.012269822657069211, 'iterations': 7963, 'l2_leaf_reg': 0.0013356861042062899, 'bagging_temperature': 0.6206677071588055, 'random_strength': 2.9990884174698193e-09, 'border_count': 169, 'one_hot_max_size': 17}. Best is trial 1 with value: 0.7421092296974044.\n",
      "[I 2025-02-22 23:34:42,816] Trial 5 finished with value: 0.7413254418079402 and parameters: {'grow_policy': 'Depthwise', 'min_data_in_leaf': 91, 'age_weight': 1.1, 'depth': 6, 'learning_rate': 0.05468961367274927, 'iterations': 2870, 'l2_leaf_reg': 0.016410998892167645, 'bagging_temperature': 0.882364240593222, 'random_strength': 0.022063523762279644, 'border_count': 136, 'one_hot_max_size': 14}. Best is trial 1 with value: 0.7421092296974044.\n",
      "[I 2025-02-22 23:34:59,342] Trial 6 finished with value: 0.741069996220471 and parameters: {'grow_policy': 'Depthwise', 'min_data_in_leaf': 37, 'age_weight': 1.3, 'depth': 4, 'learning_rate': 0.08669511325688936, 'iterations': 5138, 'l2_leaf_reg': 0.45266683407353253, 'bagging_temperature': 0.440865761601998, 'random_strength': 0.01200562592320248, 'border_count': 178, 'one_hot_max_size': 15}. Best is trial 1 with value: 0.7421092296974044.\n",
      "[I 2025-02-22 23:36:04,185] Trial 7 finished with value: 0.7415615740206649 and parameters: {'grow_policy': 'Depthwise', 'min_data_in_leaf': 32, 'age_weight': 1.7000000000000002, 'depth': 6, 'learning_rate': 0.015829229593842083, 'iterations': 4188, 'l2_leaf_reg': 2.0763472710548254, 'bagging_temperature': 0.12123980596408253, 'random_strength': 7.795234678077138e-07, 'border_count': 165, 'one_hot_max_size': 4}. Best is trial 1 with value: 0.7421092296974044.\n",
      "[I 2025-02-22 23:36:44,869] Trial 8 finished with value: 0.7416587007598978 and parameters: {'grow_policy': 'SymmetricTree', 'min_data_in_leaf': 52, 'age_weight': 2.4000000000000004, 'depth': 5, 'learning_rate': 0.04748435685620741, 'iterations': 5744, 'l2_leaf_reg': 0.00013299317461113225, 'bagging_temperature': 0.32928518465617895, 'random_strength': 1.890849065178695e-09, 'border_count': 185, 'one_hot_max_size': 4}. Best is trial 1 with value: 0.7421092296974044.\n",
      "[I 2025-02-22 23:37:19,087] Trial 9 finished with value: 0.7412640273410044 and parameters: {'grow_policy': 'Depthwise', 'min_data_in_leaf': 39, 'age_weight': 1.2, 'depth': 6, 'learning_rate': 0.0559451618804512, 'iterations': 2790, 'l2_leaf_reg': 0.1848715126519525, 'bagging_temperature': 0.1283172769337567, 'random_strength': 2.932296583332409e-09, 'border_count': 90, 'one_hot_max_size': 12}. Best is trial 1 with value: 0.7421092296974044.\n",
      "[I 2025-02-22 23:37:46,815] Trial 10 finished with value: 0.7417426170555094 and parameters: {'grow_policy': 'SymmetricTree', 'min_data_in_leaf': 11, 'age_weight': 3.0, 'depth': 4, 'learning_rate': 0.0971636859194698, 'iterations': 1495, 'l2_leaf_reg': 1.4823294087696185e-06, 'bagging_temperature': 0.3077243888026505, 'random_strength': 0.6141572028996619, 'border_count': 39, 'one_hot_max_size': 8}. Best is trial 1 with value: 0.7421092296974044.\n",
      "Skipping trial due to CatBoost error: C:/Go_Agent/pipelines/BuildMaster/catboost.git/catboost/private/libs/algo/tensor_search_helpers.cpp:99: This should be unreachable\n",
      "[W 2025-02-22 23:38:05,276] Trial 11 failed with parameters: {'grow_policy': 'SymmetricTree', 'min_data_in_leaf': 10, 'age_weight': 3.0, 'depth': 4, 'learning_rate': 0.09806085002694315, 'iterations': 1160, 'l2_leaf_reg': 1.4223182489667425e-06, 'bagging_temperature': 0.28048083523096357, 'random_strength': 6.975235333821013, 'border_count': 33, 'one_hot_max_size': 8} because of the following error: The value None could not be cast to float..\n",
      "[W 2025-02-22 23:38:05,277] Trial 11 failed with value None.\n",
      "[I 2025-02-22 23:38:54,308] Trial 12 finished with value: 0.7416275706492896 and parameters: {'grow_policy': 'SymmetricTree', 'min_data_in_leaf': 10, 'age_weight': 3.0, 'depth': 4, 'learning_rate': 0.0946850682136626, 'iterations': 1218, 'l2_leaf_reg': 1.098715971493435e-06, 'bagging_temperature': 0.3047185474438412, 'random_strength': 1.7585579442979355, 'border_count': 33, 'one_hot_max_size': 8}. Best is trial 1 with value: 0.7421092296974044.\n",
      "Skipping trial due to CatBoost error: C:/Go_Agent/pipelines/BuildMaster/catboost.git/catboost/private/libs/algo/tensor_search_helpers.cpp:99: This should be unreachable\n",
      "[W 2025-02-22 23:39:42,784] Trial 13 failed with parameters: {'grow_policy': 'SymmetricTree', 'min_data_in_leaf': 12, 'age_weight': 3.0, 'depth': 4, 'learning_rate': 0.03304305286157862, 'iterations': 1002, 'l2_leaf_reg': 2.5302011877445326e-05, 'bagging_temperature': 0.327547115864365, 'random_strength': 4.141768691947693, 'border_count': 251, 'one_hot_max_size': 8} because of the following error: The value None could not be cast to float..\n",
      "[W 2025-02-22 23:39:42,792] Trial 13 failed with value None.\n",
      "[I 2025-02-22 23:41:10,074] Trial 14 finished with value: 0.742159434942115 and parameters: {'grow_policy': 'SymmetricTree', 'min_data_in_leaf': 10, 'age_weight': 3.0, 'depth': 4, 'learning_rate': 0.03253901816320631, 'iterations': 1475, 'l2_leaf_reg': 1.8534774390407036e-05, 'bagging_temperature': 0.32472780099514564, 'random_strength': 1.3104319537942286, 'border_count': 249, 'one_hot_max_size': 9}. Best is trial 14 with value: 0.742159434942115.\n",
      "[I 2025-02-22 23:41:31,751] Trial 15 finished with value: 0.7416163018669037 and parameters: {'grow_policy': 'SymmetricTree', 'min_data_in_leaf': 23, 'age_weight': 2.7, 'depth': 5, 'learning_rate': 0.03158152363180528, 'iterations': 9300, 'l2_leaf_reg': 3.664622759567473e-05, 'bagging_temperature': 0.4297329808522103, 'random_strength': 2.6483437007139504e-05, 'border_count': 248, 'one_hot_max_size': 9}. Best is trial 14 with value: 0.742159434942115.\n",
      "[I 2025-02-22 23:42:31,892] Trial 16 finished with value: 0.741604080121948 and parameters: {'grow_policy': 'SymmetricTree', 'min_data_in_leaf': 71, 'age_weight': 2.8, 'depth': 4, 'learning_rate': 0.03131680341550938, 'iterations': 2783, 'l2_leaf_reg': 1.6659862912099964e-05, 'bagging_temperature': 0.25237536350301104, 'random_strength': 3.0585751514127557e-07, 'border_count': 243, 'one_hot_max_size': 20}. Best is trial 14 with value: 0.742159434942115.\n",
      "[I 2025-02-22 23:42:56,973] Trial 17 finished with value: 0.7417235776575035 and parameters: {'grow_policy': 'SymmetricTree', 'min_data_in_leaf': 67, 'age_weight': 2.1, 'depth': 5, 'learning_rate': 0.03996119694450338, 'iterations': 1049, 'l2_leaf_reg': 0.0006883987326325378, 'bagging_temperature': 0.4993870391840656, 'random_strength': 0.0003070101001489699, 'border_count': 123, 'one_hot_max_size': 9}. Best is trial 14 with value: 0.742159434942115.\n",
      "[I 2025-02-22 23:43:42,941] Trial 18 finished with value: 0.7421265577334624 and parameters: {'grow_policy': 'SymmetricTree', 'min_data_in_leaf': 22, 'age_weight': 2.5, 'depth': 4, 'learning_rate': 0.06929534709350692, 'iterations': 3743, 'l2_leaf_reg': 1.1063548472472101e-05, 'bagging_temperature': 0.9974068626035872, 'random_strength': 8.017122432701237, 'border_count': 78, 'one_hot_max_size': 6}. Best is trial 14 with value: 0.742159434942115.\n",
      "[I 2025-02-22 23:45:08,302] Trial 19 finished with value: 0.7417275840709734 and parameters: {'grow_policy': 'SymmetricTree', 'min_data_in_leaf': 20, 'age_weight': 2.5, 'depth': 7, 'learning_rate': 0.02525290802807927, 'iterations': 3700, 'l2_leaf_reg': 1.0447330691604054e-05, 'bagging_temperature': 0.9842852329478655, 'random_strength': 9.955049985388197, 'border_count': 212, 'one_hot_max_size': 6}. Best is trial 14 with value: 0.742159434942115.\n",
      "[I 2025-02-22 23:45:34,411] Trial 20 finished with value: 0.7420026249512808 and parameters: {'grow_policy': 'SymmetricTree', 'min_data_in_leaf': 22, 'age_weight': 2.0, 'depth': 5, 'learning_rate': 0.03916764782191052, 'iterations': 3597, 'l2_leaf_reg': 6.594852934267865e-06, 'bagging_temperature': 0.7986929912413129, 'random_strength': 0.09696012827360519, 'border_count': 108, 'one_hot_max_size': 2}. Best is trial 14 with value: 0.742159434942115.\n",
      "[I 2025-02-22 23:45:47,538] Trial 21 finished with value: 0.7418631310844724 and parameters: {'grow_policy': 'SymmetricTree', 'min_data_in_leaf': 27, 'age_weight': 2.8, 'depth': 4, 'learning_rate': 0.07420632178213413, 'iterations': 6256, 'l2_leaf_reg': 0.029116397060083066, 'bagging_temperature': 0.9967175689874672, 'random_strength': 6.873264970971397, 'border_count': 220, 'one_hot_max_size': 11}. Best is trial 14 with value: 0.742159434942115.\n",
      "[I 2025-02-22 23:46:12,436] Trial 22 finished with value: 0.742049669536802 and parameters: {'grow_policy': 'SymmetricTree', 'min_data_in_leaf': 15, 'age_weight': 2.3, 'depth': 8, 'learning_rate': 0.013739446558631716, 'iterations': 2223, 'l2_leaf_reg': 9.383585239410458, 'bagging_temperature': 0.6459486938481007, 'random_strength': 0.2214148644981744, 'border_count': 76, 'one_hot_max_size': 2}. Best is trial 14 with value: 0.742159434942115.\n",
      "[I 2025-02-22 23:46:55,171] Trial 23 finished with value: 0.7421172782604406 and parameters: {'grow_policy': 'SymmetricTree', 'min_data_in_leaf': 43, 'age_weight': 3.0, 'depth': 4, 'learning_rate': 0.07156370966488006, 'iterations': 2001, 'l2_leaf_reg': 0.0001910979587586337, 'bagging_temperature': 0.39075083722546516, 'random_strength': 0.0005275126068554814, 'border_count': 56, 'one_hot_max_size': 7}. Best is trial 14 with value: 0.742159434942115.\n",
      "[I 2025-02-22 23:47:15,591] Trial 24 finished with value: 0.7417502804628402 and parameters: {'grow_policy': 'SymmetricTree', 'min_data_in_leaf': 45, 'age_weight': 2.7, 'depth': 4, 'learning_rate': 0.0681961083391796, 'iterations': 2096, 'l2_leaf_reg': 4.45182327166411e-05, 'bagging_temperature': 0.18800933517531465, 'random_strength': 0.00577986279991835, 'border_count': 64, 'one_hot_max_size': 7}. Best is trial 14 with value: 0.742159434942115.\n",
      "[I 2025-02-22 23:48:06,531] Trial 25 finished with value: 0.7418075773373398 and parameters: {'grow_policy': 'SymmetricTree', 'min_data_in_leaf': 59, 'age_weight': 2.9000000000000004, 'depth': 5, 'learning_rate': 0.010387091363637718, 'iterations': 4132, 'l2_leaf_reg': 4.620524833940149e-06, 'bagging_temperature': 0.3577218275512105, 'random_strength': 0.06098045331650349, 'border_count': 108, 'one_hot_max_size': 10}. Best is trial 14 with value: 0.742159434942115.\n",
      "[I 2025-02-22 23:48:19,214] Trial 26 finished with value: 0.7422120821534102 and parameters: {'grow_policy': 'SymmetricTree', 'min_data_in_leaf': 17, 'age_weight': 2.5, 'depth': 4, 'learning_rate': 0.04008021363102183, 'iterations': 2154, 'l2_leaf_reg': 0.0003020788454382313, 'bagging_temperature': 0.5690088637838006, 'random_strength': 1.1882764158745185, 'border_count': 55, 'one_hot_max_size': 6}. Best is trial 26 with value: 0.7422120821534102.\n",
      "[I 2025-02-22 23:48:44,257] Trial 27 finished with value: 0.7416587920854775 and parameters: {'grow_policy': 'SymmetricTree', 'min_data_in_leaf': 28, 'age_weight': 2.2, 'depth': 5, 'learning_rate': 0.039321736361919775, 'iterations': 3366, 'l2_leaf_reg': 0.0007955444167156169, 'bagging_temperature': 0.7851036253753313, 'random_strength': 0.8466699459793433, 'border_count': 102, 'one_hot_max_size': 6}. Best is trial 26 with value: 0.7422120821534102.\n",
      "[I 2025-02-22 23:49:01,594] Trial 28 finished with value: 0.7420142868307267 and parameters: {'grow_policy': 'SymmetricTree', 'min_data_in_leaf': 17, 'age_weight': 1.8, 'depth': 4, 'learning_rate': 0.026376945652000747, 'iterations': 2475, 'l2_leaf_reg': 2.8286559603831213e-05, 'bagging_temperature': 0.8906652530212953, 'random_strength': 2.920564029195622, 'border_count': 141, 'one_hot_max_size': 6}. Best is trial 26 with value: 0.7422120821534102.\n",
      "[I 2025-02-22 23:49:10,899] Trial 29 finished with value: 0.7419523244103134 and parameters: {'grow_policy': 'SymmetricTree', 'min_data_in_leaf': 15, 'age_weight': 2.5, 'depth': 7, 'learning_rate': 0.04303206712580587, 'iterations': 4200, 'l2_leaf_reg': 0.006163234964637256, 'bagging_temperature': 0.7113417820417135, 'random_strength': 0.28007702588237227, 'border_count': 69, 'one_hot_max_size': 11}. Best is trial 26 with value: 0.7422120821534102.\n",
      "[I 2025-02-22 23:49:20,459] Trial 30 finished with value: 0.7413066049144804 and parameters: {'grow_policy': 'SymmetricTree', 'min_data_in_leaf': 28, 'age_weight': 2.5, 'depth': 5, 'learning_rate': 0.027700888923759884, 'iterations': 3165, 'l2_leaf_reg': 4.4361360869307e-06, 'bagging_temperature': 0.5588470860725134, 'random_strength': 0.0027173529413393655, 'border_count': 48, 'one_hot_max_size': 3}. Best is trial 26 with value: 0.7422120821534102.\n",
      "[I 2025-02-22 23:49:26,820] Trial 31 finished with value: 0.7412587979589035 and parameters: {'grow_policy': 'Depthwise', 'min_data_in_leaf': 31, 'age_weight': 1.9, 'depth': 4, 'learning_rate': 0.05045089765878938, 'iterations': 1662, 'l2_leaf_reg': 0.00011880880440482571, 'bagging_temperature': 0.2447177503838257, 'random_strength': 0.03891831462075511, 'border_count': 119, 'one_hot_max_size': 13}. Best is trial 26 with value: 0.7422120821534102.\n",
      "[I 2025-02-22 23:50:11,924] Trial 32 finished with value: 0.7423549074185348 and parameters: {'grow_policy': 'SymmetricTree', 'min_data_in_leaf': 22, 'age_weight': 2.1, 'depth': 4, 'learning_rate': 0.035592198688352554, 'iterations': 4608, 'l2_leaf_reg': 0.00043573313880343955, 'bagging_temperature': 0.6128753836136344, 'random_strength': 3.1176744396417186, 'border_count': 90, 'one_hot_max_size': 10}. Best is trial 32 with value: 0.7423549074185348.\n",
      "[I 2025-02-22 23:51:15,259] Trial 33 finished with value: 0.7422408973591096 and parameters: {'grow_policy': 'SymmetricTree', 'min_data_in_leaf': 21, 'age_weight': 2.1, 'depth': 4, 'learning_rate': 0.03478924973002181, 'iterations': 4677, 'l2_leaf_reg': 0.0004210979298893729, 'bagging_temperature': 0.6202637387348606, 'random_strength': 2.6732498945408274, 'border_count': 92, 'one_hot_max_size': 10}. Best is trial 32 with value: 0.7423549074185348.\n",
      "[I 2025-02-22 23:52:00,285] Trial 34 finished with value: 0.7421845852125986 and parameters: {'grow_policy': 'SymmetricTree', 'min_data_in_leaf': 11, 'age_weight': 2.1, 'depth': 4, 'learning_rate': 0.03449615692908758, 'iterations': 7252, 'l2_leaf_reg': 0.0005204746350669282, 'bagging_temperature': 0.6107361992355159, 'random_strength': 1.5342714888079543, 'border_count': 90, 'one_hot_max_size': 10}. Best is trial 32 with value: 0.7423549074185348.\n",
      "[I 2025-02-22 23:52:13,972] Trial 35 finished with value: 0.741952459413344 and parameters: {'grow_policy': 'SymmetricTree', 'min_data_in_leaf': 17, 'age_weight': 2.1, 'depth': 4, 'learning_rate': 0.03680670395568636, 'iterations': 7610, 'l2_leaf_reg': 0.0004610122443239538, 'bagging_temperature': 0.6063440543168479, 'random_strength': 0.20115967816871616, 'border_count': 95, 'one_hot_max_size': 12}. Best is trial 32 with value: 0.7423549074185348.\n",
      "[I 2025-02-22 23:52:32,480] Trial 36 finished with value: 0.7418589856972945 and parameters: {'grow_policy': 'SymmetricTree', 'min_data_in_leaf': 33, 'age_weight': 1.6, 'depth': 5, 'learning_rate': 0.019264624032420408, 'iterations': 7125, 'l2_leaf_reg': 0.001774304595431578, 'bagging_temperature': 0.6678750250610211, 'random_strength': 2.991438998250125e-08, 'border_count': 58, 'one_hot_max_size': 10}. Best is trial 32 with value: 0.7423549074185348.\n",
      "[I 2025-02-22 23:52:44,278] Trial 37 finished with value: 0.7418570043292851 and parameters: {'grow_policy': 'SymmetricTree', 'min_data_in_leaf': 26, 'age_weight': 1.9, 'depth': 4, 'learning_rate': 0.03413984345845285, 'iterations': 5757, 'l2_leaf_reg': 0.0003063523511319833, 'bagging_temperature': 0.5676841063573042, 'random_strength': 0.48010182154765013, 'border_count': 125, 'one_hot_max_size': 16}. Best is trial 32 with value: 0.7423549074185348.\n",
      "[I 2025-02-22 23:53:23,578] Trial 38 finished with value: 0.7427126853032738 and parameters: {'grow_policy': 'SymmetricTree', 'min_data_in_leaf': 82, 'age_weight': 2.2, 'depth': 5, 'learning_rate': 0.022199156765212134, 'iterations': 8692, 'l2_leaf_reg': 0.00505304373858442, 'bagging_temperature': 0.4785042089705461, 'random_strength': 2.30302479314659, 'border_count': 87, 'one_hot_max_size': 13}. Best is trial 38 with value: 0.7427126853032738.\n",
      "[I 2025-02-22 23:53:46,314] Trial 39 finished with value: 0.7427128361890141 and parameters: {'grow_policy': 'Depthwise', 'min_data_in_leaf': 85, 'age_weight': 2.2, 'depth': 5, 'learning_rate': 0.02209347173682964, 'iterations': 9691, 'l2_leaf_reg': 0.011882527673010498, 'bagging_temperature': 0.48958208444029633, 'random_strength': 2.7992287589995595, 'border_count': 45, 'one_hot_max_size': 14}. Best is trial 39 with value: 0.7427128361890141.\n",
      "[I 2025-02-22 23:53:59,520] Trial 40 finished with value: 0.7413620038051953 and parameters: {'grow_policy': 'Depthwise', 'min_data_in_leaf': 82, 'age_weight': 2.3, 'depth': 6, 'learning_rate': 0.020786706408748513, 'iterations': 9920, 'l2_leaf_reg': 0.013857607864397175, 'bagging_temperature': 0.47656451441194236, 'random_strength': 0.10430554835035775, 'border_count': 152, 'one_hot_max_size': 14}. Best is trial 39 with value: 0.7427128361890141.\n",
      "[I 2025-02-22 23:54:18,122] Trial 41 finished with value: 0.7412825783456933 and parameters: {'grow_policy': 'Depthwise', 'min_data_in_leaf': 81, 'age_weight': 2.2, 'depth': 5, 'learning_rate': 0.017523420366043214, 'iterations': 8601, 'l2_leaf_reg': 0.08888913752399281, 'bagging_temperature': 0.5232946348453346, 'random_strength': 0.00899519753636538, 'border_count': 44, 'one_hot_max_size': 18}. Best is trial 39 with value: 0.7427128361890141.\n",
      "[I 2025-02-22 23:54:37,425] Trial 42 finished with value: 0.7426496388879376 and parameters: {'grow_policy': 'Depthwise', 'min_data_in_leaf': 97, 'age_weight': 1.4, 'depth': 6, 'learning_rate': 0.023425221321930013, 'iterations': 8472, 'l2_leaf_reg': 0.0030571594798478453, 'bagging_temperature': 0.47240111439781196, 'random_strength': 3.2036610894786772, 'border_count': 74, 'one_hot_max_size': 14}. Best is trial 39 with value: 0.7427128361890141.\n",
      "[I 2025-02-22 23:55:19,551] Trial 43 finished with value: 0.742457882965539 and parameters: {'grow_policy': 'Depthwise', 'min_data_in_leaf': 99, 'age_weight': 1.0, 'depth': 6, 'learning_rate': 0.023715362327013403, 'iterations': 8602, 'l2_leaf_reg': 0.0034177306389303634, 'bagging_temperature': 0.47589852662311427, 'random_strength': 3.844214830061725, 'border_count': 71, 'one_hot_max_size': 14}. Best is trial 39 with value: 0.7427128361890141.\n",
      "[I 2025-02-22 23:55:58,979] Trial 44 finished with value: 0.7421299089851656 and parameters: {'grow_policy': 'Depthwise', 'min_data_in_leaf': 99, 'age_weight': 1.0, 'depth': 6, 'learning_rate': 0.023205007945191362, 'iterations': 8405, 'l2_leaf_reg': 0.0036705246873475423, 'bagging_temperature': 0.46989750127431634, 'random_strength': 4.107638120337531, 'border_count': 73, 'one_hot_max_size': 15}. Best is trial 39 with value: 0.7427128361890141.\n",
      "[I 2025-02-22 23:57:03,053] Trial 45 finished with value: 0.7414285682406847 and parameters: {'grow_policy': 'Depthwise', 'min_data_in_leaf': 93, 'age_weight': 1.3, 'depth': 6, 'learning_rate': 0.02348146388698996, 'iterations': 9163, 'l2_leaf_reg': 0.008961922981136008, 'bagging_temperature': 0.398630928512329, 'random_strength': 0.027992744245194153, 'border_count': 81, 'one_hot_max_size': 13}. Best is trial 39 with value: 0.7427128361890141.\n",
      "[I 2025-02-22 23:57:53,343] Trial 46 finished with value: 0.7421795623057212 and parameters: {'grow_policy': 'Depthwise', 'min_data_in_leaf': 87, 'age_weight': 1.4, 'depth': 7, 'learning_rate': 0.016285966544201575, 'iterations': 9731, 'l2_leaf_reg': 0.037228929590149284, 'bagging_temperature': 0.4572606224030783, 'random_strength': 0.48679171532429155, 'border_count': 33, 'one_hot_max_size': 14}. Best is trial 39 with value: 0.7427128361890141.\n",
      "[I 2025-02-22 23:58:12,513] Trial 47 finished with value: 0.7418748684067884 and parameters: {'grow_policy': 'Depthwise', 'min_data_in_leaf': 97, 'age_weight': 1.0, 'depth': 6, 'learning_rate': 0.029196513995122568, 'iterations': 8293, 'l2_leaf_reg': 0.0032650746426808883, 'bagging_temperature': 0.5136184069296396, 'random_strength': 4.267203234771099, 'border_count': 66, 'one_hot_max_size': 16}. Best is trial 39 with value: 0.7427128361890141.\n",
      "[I 2025-02-22 23:58:48,918] Trial 48 finished with value: 0.7425258093433675 and parameters: {'grow_policy': 'Depthwise', 'min_data_in_leaf': 88, 'age_weight': 1.6, 'depth': 7, 'learning_rate': 0.020758980015133623, 'iterations': 9277, 'l2_leaf_reg': 0.0016088117008599284, 'bagging_temperature': 0.6854452139993061, 'random_strength': 9.909629244188148, 'border_count': 44, 'one_hot_max_size': 12}. Best is trial 39 with value: 0.7427128361890141.\n",
      "[I 2025-02-22 23:59:11,022] Trial 49 finished with value: 0.7422243316931074 and parameters: {'grow_policy': 'Depthwise', 'min_data_in_leaf': 90, 'age_weight': 1.5, 'depth': 8, 'learning_rate': 0.020390917249136494, 'iterations': 9020, 'l2_leaf_reg': 0.0016193349802868476, 'bagging_temperature': 0.3722728923286057, 'random_strength': 0.663706909856841, 'border_count': 43, 'one_hot_max_size': 15}. Best is trial 39 with value: 0.7427128361890141.\n",
      "[I 2025-02-23 00:00:18,841] Trial 50 finished with value: 0.7414333687896293 and parameters: {'grow_policy': 'Depthwise', 'min_data_in_leaf': 80, 'age_weight': 1.2, 'depth': 7, 'learning_rate': 0.014046948096976646, 'iterations': 9511, 'l2_leaf_reg': 0.07233892920043111, 'bagging_temperature': 0.4245968537523902, 'random_strength': 2.143272776778625e-06, 'border_count': 50, 'one_hot_max_size': 13}. Best is trial 39 with value: 0.7427128361890141.\n",
      "[I 2025-02-23 00:01:24,385] Trial 51 finished with value: 0.7417468497975895 and parameters: {'grow_policy': 'Depthwise', 'min_data_in_leaf': 75, 'age_weight': 1.6, 'depth': 6, 'learning_rate': 0.0183380573205892, 'iterations': 8846, 'l2_leaf_reg': 0.36373184794338237, 'bagging_temperature': 0.6880445004428242, 'random_strength': 0.16111473233964185, 'border_count': 61, 'one_hot_max_size': 18}. Best is trial 39 with value: 0.7427128361890141.\n",
      "[I 2025-02-23 00:02:19,743] Trial 52 finished with value: 0.7421772712248768 and parameters: {'grow_policy': 'Depthwise', 'min_data_in_leaf': 95, 'age_weight': 1.7000000000000002, 'depth': 6, 'learning_rate': 0.024128661711338362, 'iterations': 8000, 'l2_leaf_reg': 0.006126956422165792, 'bagging_temperature': 0.4920473446292841, 'random_strength': 7.378414369777039, 'border_count': 37, 'one_hot_max_size': 12}. Best is trial 39 with value: 0.7427128361890141.\n",
      "[I 2025-02-23 00:03:31,565] Trial 53 finished with value: 0.7423683997802499 and parameters: {'grow_policy': 'Depthwise', 'min_data_in_leaf': 87, 'age_weight': 1.1, 'depth': 7, 'learning_rate': 0.022668748331668268, 'iterations': 7881, 'l2_leaf_reg': 0.002052003233131291, 'bagging_temperature': 0.5389227684819689, 'random_strength': 2.183538643218303, 'border_count': 79, 'one_hot_max_size': 14}. Best is trial 39 with value: 0.7427128361890141.\n"
     ]
    },
    {
     "name": "stderr",
     "output_type": "stream",
     "text": [
      "Training has stopped (degenerate solution on iteration 626, probably too small l2-regularization, try to increase it)\n"
     ]
    },
    {
     "name": "stdout",
     "output_type": "stream",
     "text": [
      "[I 2025-02-23 00:03:50,915] Trial 54 finished with value: 0.742248056490414 and parameters: {'grow_policy': 'Depthwise', 'min_data_in_leaf': 86, 'age_weight': 1.1, 'depth': 7, 'learning_rate': 0.022177765581950334, 'iterations': 7994, 'l2_leaf_reg': 0.0012511726616989559, 'bagging_temperature': 0.43728664474960177, 'random_strength': 1.552739978789365, 'border_count': 83, 'one_hot_max_size': 14}. Best is trial 39 with value: 0.7427128361890141.\n",
      "[I 2025-02-23 00:04:00,033] Trial 55 finished with value: 0.7411240212568149 and parameters: {'grow_policy': 'Depthwise', 'min_data_in_leaf': 90, 'age_weight': 1.2, 'depth': 7, 'learning_rate': 0.02908242292586446, 'iterations': 8736, 'l2_leaf_reg': 0.015374554312292428, 'bagging_temperature': 0.5303308087395507, 'random_strength': 4.892068762931397e-05, 'border_count': 69, 'one_hot_max_size': 15}. Best is trial 39 with value: 0.7427128361890141.\n",
      "[I 2025-02-23 00:04:29,447] Trial 56 finished with value: 0.7423079065104647 and parameters: {'grow_policy': 'Depthwise', 'min_data_in_leaf': 100, 'age_weight': 1.4, 'depth': 8, 'learning_rate': 0.020995641732958297, 'iterations': 9405, 'l2_leaf_reg': 0.002178875728668451, 'bagging_temperature': 0.5701359153622062, 'random_strength': 9.70069007620166, 'border_count': 51, 'one_hot_max_size': 16}. Best is trial 39 with value: 0.7427128361890141.\n",
      "[I 2025-02-23 00:04:46,941] Trial 57 finished with value: 0.7420132385719002 and parameters: {'grow_policy': 'Depthwise', 'min_data_in_leaf': 85, 'age_weight': 1.1, 'depth': 6, 'learning_rate': 0.016493056656551933, 'iterations': 7598, 'l2_leaf_reg': 0.026938762403033664, 'bagging_temperature': 0.7215028589483123, 'random_strength': 0.4059182404501183, 'border_count': 101, 'one_hot_max_size': 12}. Best is trial 39 with value: 0.7427128361890141.\n",
      "[I 2025-02-23 00:05:19,032] Trial 58 finished with value: 0.7422095369492138 and parameters: {'grow_policy': 'Depthwise', 'min_data_in_leaf': 77, 'age_weight': 1.3, 'depth': 7, 'learning_rate': 0.014725320143797708, 'iterations': 6529, 'l2_leaf_reg': 0.007961875964190302, 'bagging_temperature': 0.49793056980325934, 'random_strength': 1.1294352293738932, 'border_count': 73, 'one_hot_max_size': 17}. Best is trial 39 with value: 0.7427128361890141.\n",
      "[I 2025-02-23 00:05:54,244] Trial 59 finished with value: 0.7419493305195737 and parameters: {'grow_policy': 'Depthwise', 'min_data_in_leaf': 93, 'age_weight': 1.1, 'depth': 6, 'learning_rate': 0.02571896910421114, 'iterations': 9963, 'l2_leaf_reg': 0.000895866765490251, 'bagging_temperature': 0.3453712971246433, 'random_strength': 2.872708165945929, 'border_count': 80, 'one_hot_max_size': 13}. Best is trial 39 with value: 0.7427128361890141.\n",
      "[I 2025-02-23 00:06:07,841] Trial 60 finished with value: 0.741275526422678 and parameters: {'grow_policy': 'Depthwise', 'min_data_in_leaf': 69, 'age_weight': 1.4, 'depth': 5, 'learning_rate': 0.018584660383042205, 'iterations': 8299, 'l2_leaf_reg': 0.002294505168825217, 'bagging_temperature': 0.4151064757566165, 'random_strength': 0.0603159802879169, 'border_count': 113, 'one_hot_max_size': 14}. Best is trial 39 with value: 0.7427128361890141.\n",
      "[I 2025-02-23 00:06:47,259] Trial 61 finished with value: 0.7417702609113836 and parameters: {'grow_policy': 'Depthwise', 'min_data_in_leaf': 88, 'age_weight': 1.0, 'depth': 7, 'learning_rate': 0.022298598547852818, 'iterations': 9055, 'l2_leaf_reg': 0.004992422889855173, 'bagging_temperature': 0.5380436008198375, 'random_strength': 4.726880897387291, 'border_count': 58, 'one_hot_max_size': 11}. Best is trial 39 with value: 0.7427128361890141.\n",
      "[I 2025-02-23 00:07:18,275] Trial 62 finished with value: 0.7413460575648635 and parameters: {'grow_policy': 'Depthwise', 'min_data_in_leaf': 84, 'age_weight': 1.5, 'depth': 6, 'learning_rate': 0.028484999003788772, 'iterations': 9391, 'l2_leaf_reg': 6.867826801513818e-05, 'bagging_temperature': 0.5898883689759943, 'random_strength': 5.2151624192067495e-06, 'border_count': 131, 'one_hot_max_size': 15}. Best is trial 39 with value: 0.7427128361890141.\n"
     ]
    },
    {
     "name": "stderr",
     "output_type": "stream",
     "text": [
      "Training has stopped (degenerate solution on iteration 637, probably too small l2-regularization, try to increase it)\n"
     ]
    },
    {
     "name": "stdout",
     "output_type": "stream",
     "text": [
      "[I 2025-02-23 00:07:46,921] Trial 63 finished with value: 0.7423998515157255 and parameters: {'grow_policy': 'Depthwise', 'min_data_in_leaf': 64, 'age_weight': 2.0, 'depth': 7, 'learning_rate': 0.02448217259495994, 'iterations': 5413, 'l2_leaf_reg': 0.0009817342102747555, 'bagging_temperature': 0.655831604868356, 'random_strength': 1.9486163922021358, 'border_count': 97, 'one_hot_max_size': 11}. Best is trial 39 with value: 0.7427128361890141.\n",
      "[I 2025-02-23 00:08:01,301] Trial 64 finished with value: 0.7422648087782528 and parameters: {'grow_policy': 'Depthwise', 'min_data_in_leaf': 57, 'age_weight': 2.4000000000000004, 'depth': 7, 'learning_rate': 0.02511516606879724, 'iterations': 5708, 'l2_leaf_reg': 0.001118937964239168, 'bagging_temperature': 0.7578688163807692, 'random_strength': 0.8371961636473323, 'border_count': 99, 'one_hot_max_size': 13}. Best is trial 39 with value: 0.7427128361890141.\n",
      "[I 2025-02-23 00:08:35,147] Trial 65 finished with value: 0.7420568088147195 and parameters: {'grow_policy': 'Depthwise', 'min_data_in_leaf': 65, 'age_weight': 1.9, 'depth': 8, 'learning_rate': 0.020161066789207385, 'iterations': 5256, 'l2_leaf_reg': 0.011843236846867902, 'bagging_temperature': 0.6684377585429592, 'random_strength': 9.634680827319665, 'border_count': 85, 'one_hot_max_size': 12}. Best is trial 39 with value: 0.7427128361890141.\n",
      "[I 2025-02-23 00:08:55,376] Trial 66 finished with value: 0.7424384544411506 and parameters: {'grow_policy': 'Depthwise', 'min_data_in_leaf': 96, 'age_weight': 1.2, 'depth': 7, 'learning_rate': 0.026522669171525667, 'iterations': 8651, 'l2_leaf_reg': 0.0029001822766563604, 'bagging_temperature': 0.85162218896139, 'random_strength': 1.711375511783883, 'border_count': 43, 'one_hot_max_size': 14}. Best is trial 39 with value: 0.7427128361890141.\n",
      "[I 2025-02-23 00:09:05,220] Trial 67 finished with value: 0.7416289325916288 and parameters: {'grow_policy': 'Depthwise', 'min_data_in_leaf': 97, 'age_weight': 1.3, 'depth': 7, 'learning_rate': 0.03088249349171449, 'iterations': 9647, 'l2_leaf_reg': 0.0036749488930640623, 'bagging_temperature': 0.850982535336578, 'random_strength': 0.2164413661330804, 'border_count': 46, 'one_hot_max_size': 11}. Best is trial 39 with value: 0.7427128361890141.\n",
      "[I 2025-02-23 00:09:40,524] Trial 68 finished with value: 0.7424014794934486 and parameters: {'grow_policy': 'Depthwise', 'min_data_in_leaf': 93, 'age_weight': 2.2, 'depth': 5, 'learning_rate': 0.02721644752330742, 'iterations': 8535, 'l2_leaf_reg': 0.027778410111347997, 'bagging_temperature': 0.9085729700908028, 'random_strength': 1.7596180959957473, 'border_count': 39, 'one_hot_max_size': 13}. Best is trial 39 with value: 0.7427128361890141.\n",
      "[I 2025-02-23 00:10:14,546] Trial 69 finished with value: 0.7412135401782004 and parameters: {'grow_policy': 'Depthwise', 'min_data_in_leaf': 93, 'age_weight': 2.2, 'depth': 5, 'learning_rate': 0.02681929277582129, 'iterations': 8538, 'l2_leaf_reg': 0.04305614799638102, 'bagging_temperature': 0.9392794895342472, 'random_strength': 0.00018269891361330948, 'border_count': 33, 'one_hot_max_size': 13}. Best is trial 39 with value: 0.7427128361890141.\n",
      "[I 2025-02-23 00:11:31,723] Trial 70 finished with value: 0.7425239828317758 and parameters: {'grow_policy': 'Depthwise', 'min_data_in_leaf': 98, 'age_weight': 2.3, 'depth': 5, 'learning_rate': 0.01759845167565331, 'iterations': 8870, 'l2_leaf_reg': 0.02296589739918508, 'bagging_temperature': 0.9019225095326918, 'random_strength': 0.8913222350252926, 'border_count': 53, 'one_hot_max_size': 15}. Best is trial 39 with value: 0.7427128361890141.\n",
      "[I 2025-02-23 00:12:06,332] Trial 71 finished with value: 0.7423042018684753 and parameters: {'grow_policy': 'Depthwise', 'min_data_in_leaf': 96, 'age_weight': 2.4000000000000004, 'depth': 5, 'learning_rate': 0.012212599522051224, 'iterations': 8916, 'l2_leaf_reg': 0.11379488631637394, 'bagging_temperature': 0.8608833099401684, 'random_strength': 0.8000015570440008, 'border_count': 54, 'one_hot_max_size': 17}. Best is trial 39 with value: 0.7427128361890141.\n",
      "[I 2025-02-23 00:12:18,793] Trial 72 finished with value: 0.741775196463359 and parameters: {'grow_policy': 'Depthwise', 'min_data_in_leaf': 100, 'age_weight': 2.3, 'depth': 5, 'learning_rate': 0.01709157686170186, 'iterations': 9165, 'l2_leaf_reg': 0.019987241254157698, 'bagging_temperature': 0.843591660769063, 'random_strength': 0.10740161963732173, 'border_count': 63, 'one_hot_max_size': 16}. Best is trial 39 with value: 0.7427128361890141.\n",
      "[I 2025-02-23 00:12:40,295] Trial 73 finished with value: 0.742442615711038 and parameters: {'grow_policy': 'Depthwise', 'min_data_in_leaf': 91, 'age_weight': 2.2, 'depth': 5, 'learning_rate': 0.021285460804070816, 'iterations': 8154, 'l2_leaf_reg': 0.01058928855416753, 'bagging_temperature': 0.9284863550045099, 'random_strength': 4.723843907328942, 'border_count': 42, 'one_hot_max_size': 14}. Best is trial 39 with value: 0.7427128361890141.\n",
      "[I 2025-02-23 00:12:59,210] Trial 74 finished with value: 0.7420644920754372 and parameters: {'grow_policy': 'Depthwise', 'min_data_in_leaf': 90, 'age_weight': 2.0, 'depth': 5, 'learning_rate': 0.021462365602102167, 'iterations': 8182, 'l2_leaf_reg': 0.008823307699699103, 'bagging_temperature': 0.8198172042975702, 'random_strength': 4.8094299187615315, 'border_count': 47, 'one_hot_max_size': 15}. Best is trial 39 with value: 0.7427128361890141.\n",
      "[I 2025-02-23 00:13:27,309] Trial 75 finished with value: 0.742308164604494 and parameters: {'grow_policy': 'Depthwise', 'min_data_in_leaf': 96, 'age_weight': 2.3, 'depth': 5, 'learning_rate': 0.015349586348902473, 'iterations': 7564, 'l2_leaf_reg': 0.005024121940821901, 'bagging_temperature': 0.9559676589982873, 'random_strength': 5.1646223168068115, 'border_count': 40, 'one_hot_max_size': 14}. Best is trial 39 with value: 0.7427128361890141.\n",
      "[I 2025-02-23 00:14:07,728] Trial 76 finished with value: 0.7420145568367882 and parameters: {'grow_policy': 'Depthwise', 'min_data_in_leaf': 98, 'age_weight': 2.6, 'depth': 6, 'learning_rate': 0.018724488040086522, 'iterations': 8872, 'l2_leaf_reg': 0.05232077863209332, 'bagging_temperature': 0.906953868064319, 'random_strength': 0.41171633867420526, 'border_count': 54, 'one_hot_max_size': 14}. Best is trial 39 with value: 0.7427128361890141.\n",
      "[I 2025-02-23 00:14:25,773] Trial 77 finished with value: 0.7415270489809023 and parameters: {'grow_policy': 'Depthwise', 'min_data_in_leaf': 78, 'age_weight': 2.4000000000000004, 'depth': 5, 'learning_rate': 0.01784436654320928, 'iterations': 9682, 'l2_leaf_reg': 0.019736826329957657, 'bagging_temperature': 0.9413517369636512, 'random_strength': 1.380306143911869e-07, 'border_count': 189, 'one_hot_max_size': 12}. Best is trial 39 with value: 0.7427128361890141.\n",
      "[I 2025-02-23 00:14:42,318] Trial 78 finished with value: 0.7425291248589745 and parameters: {'grow_policy': 'Depthwise', 'min_data_in_leaf': 94, 'age_weight': 1.2, 'depth': 6, 'learning_rate': 0.019774907270555104, 'iterations': 9252, 'l2_leaf_reg': 0.15745033605303463, 'bagging_temperature': 0.9717081561921995, 'random_strength': 0.8808416716458355, 'border_count': 66, 'one_hot_max_size': 15}. Best is trial 39 with value: 0.7427128361890141.\n",
      "[I 2025-02-23 00:15:02,339] Trial 79 finished with value: 0.7425929773218176 and parameters: {'grow_policy': 'Depthwise', 'min_data_in_leaf': 83, 'age_weight': 2.2, 'depth': 6, 'learning_rate': 0.01977941506796431, 'iterations': 9230, 'l2_leaf_reg': 0.9621556196986786, 'bagging_temperature': 0.45597767628954206, 'random_strength': 0.828568460918975, 'border_count': 71, 'one_hot_max_size': 17}. Best is trial 39 with value: 0.7427128361890141.\n",
      "[I 2025-02-23 00:15:14,476] Trial 80 finished with value: 0.741480087779606 and parameters: {'grow_policy': 'Depthwise', 'min_data_in_leaf': 72, 'age_weight': 1.8, 'depth': 6, 'learning_rate': 0.01923310898267105, 'iterations': 9778, 'l2_leaf_reg': 1.3350654260922699, 'bagging_temperature': 0.4561654168198463, 'random_strength': 0.013572287124463676, 'border_count': 68, 'one_hot_max_size': 17}. Best is trial 39 with value: 0.7427128361890141.\n",
      "[I 2025-02-23 00:15:27,973] Trial 81 finished with value: 0.7419657929479642 and parameters: {'grow_policy': 'Depthwise', 'min_data_in_leaf': 88, 'age_weight': 2.3, 'depth': 6, 'learning_rate': 0.02001504005584765, 'iterations': 9516, 'l2_leaf_reg': 1.4853263359847502, 'bagging_temperature': 0.40092686170691255, 'random_strength': 0.30492933223338436, 'border_count': 72, 'one_hot_max_size': 19}. Best is trial 39 with value: 0.7427128361890141.\n",
      "[I 2025-02-23 00:16:18,703] Trial 82 finished with value: 0.7424828783796054 and parameters: {'grow_policy': 'Depthwise', 'min_data_in_leaf': 83, 'age_weight': 1.5, 'depth': 6, 'learning_rate': 0.012356859866677884, 'iterations': 9237, 'l2_leaf_reg': 0.31685619529088804, 'bagging_temperature': 0.9724340139850254, 'random_strength': 0.9259622429677564, 'border_count': 63, 'one_hot_max_size': 16}. Best is trial 39 with value: 0.7427128361890141.\n",
      "[I 2025-02-23 00:18:20,385] Trial 83 finished with value: 0.7422895222742255 and parameters: {'grow_policy': 'Depthwise', 'min_data_in_leaf': 81, 'age_weight': 1.5, 'depth': 6, 'learning_rate': 0.012014397484496035, 'iterations': 9361, 'l2_leaf_reg': 0.6028102463173092, 'bagging_temperature': 0.9660623927343424, 'random_strength': 0.914378303880006, 'border_count': 62, 'one_hot_max_size': 16}. Best is trial 39 with value: 0.7427128361890141.\n",
      "[I 2025-02-23 00:21:06,582] Trial 84 finished with value: 0.7423225344859088 and parameters: {'grow_policy': 'Depthwise', 'min_data_in_leaf': 74, 'age_weight': 1.6, 'depth': 6, 'learning_rate': 0.010585798482465113, 'iterations': 9108, 'l2_leaf_reg': 0.1869084777243477, 'bagging_temperature': 0.9756937031904103, 'random_strength': 2.8372722283439056, 'border_count': 87, 'one_hot_max_size': 15}. Best is trial 39 with value: 0.7427128361890141.\n",
      "[I 2025-02-23 00:22:58,401] Trial 85 finished with value: 0.7413496748519506 and parameters: {'grow_policy': 'Depthwise', 'min_data_in_leaf': 82, 'age_weight': 1.7000000000000002, 'depth': 6, 'learning_rate': 0.013580184915554358, 'iterations': 9966, 'l2_leaf_reg': 0.5751036138612833, 'bagging_temperature': 0.4741972988852586, 'random_strength': 1.0992075438829913e-09, 'border_count': 75, 'one_hot_max_size': 18}. Best is trial 39 with value: 0.7427128361890141.\n",
      "[I 2025-02-23 00:23:58,054] Trial 86 finished with value: 0.7417821610314721 and parameters: {'grow_policy': 'Depthwise', 'min_data_in_leaf': 84, 'age_weight': 1.4, 'depth': 6, 'learning_rate': 0.01730072197242799, 'iterations': 9250, 'l2_leaf_reg': 4.283048862938835, 'bagging_temperature': 0.4460793850332824, 'random_strength': 0.0015179277283397798, 'border_count': 58, 'one_hot_max_size': 17}. Best is trial 39 with value: 0.7427128361890141.\n",
      "[I 2025-02-23 00:24:52,004] Trial 87 finished with value: 0.7421671658509612 and parameters: {'grow_policy': 'Depthwise', 'min_data_in_leaf': 92, 'age_weight': 1.3, 'depth': 6, 'learning_rate': 0.023798398703052774, 'iterations': 8938, 'l2_leaf_reg': 0.16150352625021605, 'bagging_temperature': 0.9992346021693413, 'random_strength': 0.4959814770984184, 'border_count': 63, 'one_hot_max_size': 16}. Best is trial 39 with value: 0.7427128361890141.\n",
      "[I 2025-02-23 00:25:54,084] Trial 88 finished with value: 0.7413068431551229 and parameters: {'grow_policy': 'Depthwise', 'min_data_in_leaf': 79, 'age_weight': 2.1, 'depth': 6, 'learning_rate': 0.011429508308623526, 'iterations': 7785, 'l2_leaf_reg': 0.9236923301724137, 'bagging_temperature': 0.37025580595014407, 'random_strength': 0.06230727393700479, 'border_count': 50, 'one_hot_max_size': 15}. Best is trial 39 with value: 0.7427128361890141.\n",
      "[I 2025-02-23 00:27:03,351] Trial 89 finished with value: 0.7417973806378446 and parameters: {'grow_policy': 'Depthwise', 'min_data_in_leaf': 89, 'age_weight': 1.2, 'depth': 6, 'learning_rate': 0.015032755926087224, 'iterations': 8747, 'l2_leaf_reg': 0.306947252768977, 'bagging_temperature': 0.5065355615072443, 'random_strength': 0.1399515152918182, 'border_count': 68, 'one_hot_max_size': 19}. Best is trial 39 with value: 0.7427128361890141.\n",
      "[I 2025-02-23 00:29:06,485] Trial 90 finished with value: 0.7425772732928055 and parameters: {'grow_policy': 'Depthwise', 'min_data_in_leaf': 95, 'age_weight': 2.4000000000000004, 'depth': 6, 'learning_rate': 0.01616564700836892, 'iterations': 8448, 'l2_leaf_reg': 3.9385870920726958, 'bagging_temperature': 0.4824068418240892, 'random_strength': 1.1735357819227827, 'border_count': 77, 'one_hot_max_size': 15}. Best is trial 39 with value: 0.7427128361890141.\n",
      "[I 2025-02-23 00:31:04,794] Trial 91 finished with value: 0.742551860957615 and parameters: {'grow_policy': 'Depthwise', 'min_data_in_leaf': 94, 'age_weight': 2.4000000000000004, 'depth': 6, 'learning_rate': 0.013195298524209014, 'iterations': 9573, 'l2_leaf_reg': 2.928751475905581, 'bagging_temperature': 0.8788269391867981, 'random_strength': 0.998145874801546, 'border_count': 161, 'one_hot_max_size': 15}. Best is trial 39 with value: 0.7427128361890141.\n",
      "[I 2025-02-23 00:32:01,665] Trial 92 finished with value: 0.7418538555821279 and parameters: {'grow_policy': 'Depthwise', 'min_data_in_leaf': 94, 'age_weight': 2.4000000000000004, 'depth': 5, 'learning_rate': 0.01605183865450796, 'iterations': 7237, 'l2_leaf_reg': 4.496763631510324, 'bagging_temperature': 0.7869497080338788, 'random_strength': 0.32395313446743873, 'border_count': 166, 'one_hot_max_size': 15}. Best is trial 39 with value: 0.7427128361890141.\n",
      "[I 2025-02-23 00:33:41,059] Trial 93 finished with value: 0.7422525949746519 and parameters: {'grow_policy': 'Depthwise', 'min_data_in_leaf': 83, 'age_weight': 2.6, 'depth': 6, 'learning_rate': 0.013337910320577472, 'iterations': 9615, 'l2_leaf_reg': 4.327180933143179, 'bagging_temperature': 0.882700071940505, 'random_strength': 0.612166403166344, 'border_count': 182, 'one_hot_max_size': 16}. Best is trial 39 with value: 0.7427128361890141.\n",
      "[I 2025-02-23 00:35:08,375] Trial 94 finished with value: 0.7424359410023732 and parameters: {'grow_policy': 'Depthwise', 'min_data_in_leaf': 86, 'age_weight': 2.2, 'depth': 6, 'learning_rate': 0.014254803268546628, 'iterations': 9275, 'l2_leaf_reg': 7.706234873726014, 'bagging_temperature': 0.9025676568691549, 'random_strength': 1.1476458038947628, 'border_count': 157, 'one_hot_max_size': 17}. Best is trial 39 with value: 0.7427128361890141.\n",
      "[I 2025-02-23 00:35:43,625] Trial 95 finished with value: 0.7424779904757586 and parameters: {'grow_policy': 'Depthwise', 'min_data_in_leaf': 91, 'age_weight': 2.5, 'depth': 6, 'learning_rate': 0.016555744507916508, 'iterations': 9797, 'l2_leaf_reg': 2.9295773250255173, 'bagging_temperature': 0.9538749940936968, 'random_strength': 2.781150323322927, 'border_count': 175, 'one_hot_max_size': 16}. Best is trial 39 with value: 0.7427128361890141.\n",
      "[I 2025-02-23 00:36:14,883] Trial 96 finished with value: 0.7425006114247553 and parameters: {'grow_policy': 'Depthwise', 'min_data_in_leaf': 95, 'age_weight': 2.3, 'depth': 6, 'learning_rate': 0.012905093979646579, 'iterations': 9530, 'l2_leaf_reg': 2.400641085610453, 'bagging_temperature': 0.9216466793639222, 'random_strength': 1.297193350773214, 'border_count': 76, 'one_hot_max_size': 15}. Best is trial 39 with value: 0.7427128361890141.\n",
      "[I 2025-02-23 00:36:54,833] Trial 97 finished with value: 0.7426612729726418 and parameters: {'grow_policy': 'SymmetricTree', 'min_data_in_leaf': 94, 'age_weight': 2.3, 'depth': 6, 'learning_rate': 0.013090420317874744, 'iterations': 8380, 'l2_leaf_reg': 3.0198448762413403, 'bagging_temperature': 0.8246715714473919, 'random_strength': 6.595180511902698, 'border_count': 78, 'one_hot_max_size': 13}. Best is trial 39 with value: 0.7427128361890141.\n",
      "[I 2025-02-23 00:38:12,624] Trial 98 finished with value: 0.7424232427761327 and parameters: {'grow_policy': 'SymmetricTree', 'min_data_in_leaf': 100, 'age_weight': 2.4000000000000004, 'depth': 5, 'learning_rate': 0.01933015594216518, 'iterations': 8448, 'l2_leaf_reg': 7.75152247293567, 'bagging_temperature': 0.7617894665428485, 'random_strength': 5.96027721475257, 'border_count': 147, 'one_hot_max_size': 13}. Best is trial 39 with value: 0.7427128361890141.\n",
      "[I 2025-02-23 00:40:49,343] Trial 99 finished with value: 0.7426416895918357 and parameters: {'grow_policy': 'SymmetricTree', 'min_data_in_leaf': 98, 'age_weight': 2.5, 'depth': 6, 'learning_rate': 0.015668111513058917, 'iterations': 8712, 'l2_leaf_reg': 2.6252255215272697, 'bagging_temperature': 0.4186492523135926, 'random_strength': 7.517559072358575, 'border_count': 92, 'one_hot_max_size': 13}. Best is trial 39 with value: 0.7427128361890141.\n"
     ]
    }
   ],
   "source": [
    "study = optuna.create_study(direction=\"maximize\")\n",
    "study.optimize(objective, n_trials=100, show_progress_bar=True)"
   ]
  },
  {
   "cell_type": "code",
   "execution_count": 14,
   "metadata": {},
   "outputs": [
    {
     "name": "stdout",
     "output_type": "stream",
     "text": [
      "0:\tlearn: 0.6819313\ttest: 0.6818620\tbest: 0.6818620 (0)\ttotal: 26.7ms\tremaining: 4m 18s\n",
      "100:\tlearn: 0.4993665\ttest: 0.4981781\tbest: 0.4981781 (100)\ttotal: 2.17s\tremaining: 3m 26s\n",
      "200:\tlearn: 0.4918473\ttest: 0.4909244\tbest: 0.4909244 (200)\ttotal: 4.29s\tremaining: 3m 22s\n",
      "300:\tlearn: 0.4897234\ttest: 0.4891183\tbest: 0.4891183 (300)\ttotal: 6.35s\tremaining: 3m 17s\n",
      "400:\tlearn: 0.4885727\ttest: 0.4882552\tbest: 0.4882552 (400)\ttotal: 8.36s\tremaining: 3m 13s\n",
      "500:\tlearn: 0.4879197\ttest: 0.4878547\tbest: 0.4878547 (500)\ttotal: 16s\tremaining: 4m 52s\n",
      "600:\tlearn: 0.4871309\ttest: 0.4874124\tbest: 0.4874124 (600)\ttotal: 26.9s\tremaining: 6m 46s\n",
      "700:\tlearn: 0.4857569\ttest: 0.4869989\tbest: 0.4869989 (700)\ttotal: 37.5s\tremaining: 8m\n",
      "800:\tlearn: 0.4846259\ttest: 0.4868341\tbest: 0.4868341 (800)\ttotal: 48.3s\tremaining: 8m 56s\n",
      "900:\tlearn: 0.4837336\ttest: 0.4868433\tbest: 0.4868189 (803)\ttotal: 59.3s\tremaining: 9m 38s\n",
      "Stopped by overfitting detector  (100 iterations wait)\n",
      "\n",
      "bestTest = 0.4868189202\n",
      "bestIteration = 803\n",
      "\n",
      "Shrink model to first 804 iterations.\n"
     ]
    },
    {
     "data": {
      "text/plain": [
       "<catboost.core.CatBoostClassifier at 0x22191284450>"
      ]
     },
     "execution_count": 14,
     "metadata": {},
     "output_type": "execute_result"
    }
   ],
   "source": [
    "# Optuna에서 찾은 최적의 하이퍼파라미터 적용\n",
    "best_params = study.best_params\n",
    "\n",
    "# CatBoost에 맞게 변환 (필요 없는 파라미터 제거)\n",
    "filtered_params = {k: v for k, v in best_params.items() if k != 'max_leaves'}  # max_leaves는 일부 경우 필요 없을 수 있음\n",
    "\n",
    "# filtered_params에서 'age_weight' 값을 분리하고 제거합니다.\n",
    "if 'age_weight' in filtered_params:\n",
    "    age_weight = filtered_params.pop('age_weight')\n",
    "    # '시술 당시 나이'에 대해서만 age_weight 값을 할당하고, 나머지는 1로 설정합니다.\n",
    "    filtered_params['feature_weights'] = [age_weight if col == '시술 당시 나이' else 1 for col in X_train.columns]\n",
    "\n",
    "# 모델 학습\n",
    "best_model = CatBoostClassifier(\n",
    "    **filtered_params,\n",
    "    random_seed=42,\n",
    "    verbose=100  # 로그 출력 간격 조정\n",
    ")\n",
    "\n",
    "best_model.fit(\n",
    "    X_train, y_train,\n",
    "    eval_set=(X_valid, y_valid),\n",
    "    early_stopping_rounds=100,\n",
    "    use_best_model=True\n",
    ")"
   ]
  },
  {
   "cell_type": "code",
   "execution_count": 15,
   "metadata": {},
   "outputs": [
    {
     "name": "stdout",
     "output_type": "stream",
     "text": [
      "Accuracy: 0.7489\n",
      "ROC-AUC Score: 0.7458\n"
     ]
    }
   ],
   "source": [
    "from sklearn.metrics import accuracy_score, roc_auc_score\n",
    "\n",
    "# 예측\n",
    "y_train_pred = best_model.predict(X_train_encoded)\n",
    "y_train_proba = best_model.predict_proba(X_train_encoded)[:, 1]  # ROC-AUC Score 계산용\n",
    "\n",
    "# 평가\n",
    "accuracy = accuracy_score(y, y_train_pred)\n",
    "roc_auc = roc_auc_score(y, y_train_proba)\n",
    "\n",
    "# 출력\n",
    "print(f\"Accuracy: {accuracy:.4f}\")\n",
    "print(f\"ROC-AUC Score: {roc_auc:.4f}\")"
   ]
  },
  {
   "cell_type": "markdown",
   "metadata": {},
   "source": [
    "RandomForest (Hyperparameter tune)"
   ]
  },
  {
   "cell_type": "code",
   "execution_count": 16,
   "metadata": {},
   "outputs": [],
   "source": [
    "best_model.save_model(\"Catboost_weighted_model.json\")"
   ]
  },
  {
   "cell_type": "markdown",
   "metadata": {},
   "source": [
    "### Predict"
   ]
  },
  {
   "cell_type": "code",
   "execution_count": 17,
   "metadata": {},
   "outputs": [],
   "source": [
    "pred_proba = best_model.predict_proba(X_test_encoded)[:, 1]"
   ]
  },
  {
   "cell_type": "markdown",
   "metadata": {},
   "source": [
    "### Submission"
   ]
  },
  {
   "cell_type": "code",
   "execution_count": 18,
   "metadata": {},
   "outputs": [],
   "source": [
    "sample_submission = pd.read_csv('./Data/sample_submission.csv')\n",
    "sample_submission['probability'] = pred_proba"
   ]
  },
  {
   "cell_type": "code",
   "execution_count": 19,
   "metadata": {},
   "outputs": [],
   "source": [
    "sample_submission.to_csv('./Catboost_Weighted_optimization_submit.csv', index=False)"
   ]
  }
 ],
 "metadata": {
  "kernelspec": {
   "display_name": "Catboost",
   "language": "python",
   "name": "python3"
  },
  "language_info": {
   "codemirror_mode": {
    "name": "ipython",
    "version": 3
   },
   "file_extension": ".py",
   "mimetype": "text/x-python",
   "name": "python",
   "nbconvert_exporter": "python",
   "pygments_lexer": "ipython3",
   "version": "3.11.11"
  }
 },
 "nbformat": 4,
 "nbformat_minor": 2
}
